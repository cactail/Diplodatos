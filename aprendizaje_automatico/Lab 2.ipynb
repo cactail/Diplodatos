{
 "cells": [
  {
   "cell_type": "markdown",
   "metadata": {},
   "source": [
    "# Laboratorio 2: Armado de un esquema de aprendizaje automático\n",
    "\n",
    "En el laboratorio final se espera que puedan poner en práctica los conocimientos adquiridos en el curso, trabajando con un conjunto de datos de clasificación.\n",
    "\n",
    "El objetivo es que se introduzcan en el desarrollo de un esquema para hacer tareas de aprendizaje automático: selección de un modelo, ajuste de hiperparámetros y evaluación.\n",
    "\n",
    "El conjunto de datos a utilizar está en `./data/loan_data.csv`. Si abren el archivo verán que al principio (las líneas que empiezan con `#`) describen el conjunto de datos y sus atributos (incluyendo el atributo de etiqueta o clase).\n",
    "\n",
    "Se espera que hagan uso de las herramientas vistas en el curso. Se espera que hagan uso especialmente de las herramientas brindadas por `scikit-learn`."
   ]
  },
  {
   "cell_type": "code",
   "execution_count": 26,
   "metadata": {},
   "outputs": [],
   "source": [
    "import numpy as np\n",
    "import pandas as pd\n",
    "\n",
    "# TODO: Agregar las librerías que hagan falta\n",
    "from sklearn.model_selection import train_test_split"
   ]
  },
  {
   "cell_type": "markdown",
   "metadata": {},
   "source": [
    "## Carga de datos y división en entrenamiento y evaluación\n",
    "\n",
    "La celda siguiente se encarga de la carga de datos (haciendo uso de pandas). Estos serán los que se trabajarán en el resto del laboratorio."
   ]
  },
  {
   "cell_type": "code",
   "execution_count": 27,
   "metadata": {},
   "outputs": [],
   "source": [
    "dataset = pd.read_csv(\"./data/loan_data.csv\", comment=\"#\")\n",
    "\n",
    "# División entre instancias y etiquetas\n",
    "X, y = dataset.iloc[:, 1:], dataset.TARGET\n",
    "\n",
    "# división entre entrenamiento y evaluación\n",
    "X_train, X_test, y_train, y_test = train_test_split(X, y, test_size=0.2, random_state=0 )"
   ]
  },
  {
   "cell_type": "markdown",
   "metadata": {},
   "source": [
    "\n",
    "Documentación:\n",
    "\n",
    "- https://scikit-learn.org/stable/modules/generated/sklearn.model_selection.train_test_split.html"
   ]
  },
  {
   "cell_type": "markdown",
   "metadata": {},
   "source": [
    "## Ejercicio 1: Descripción de los Datos y la Tarea\n",
    "\n",
    "Responder las siguientes preguntas:\n",
    "\n",
    "1. ¿De qué se trata el conjunto de datos?\n",
    "2. ¿Cuál es la variable objetivo que hay que predecir? ¿Qué significado tiene?\n",
    "3. ¿Qué información (atributos) hay disponible para hacer la predicción?\n",
    "4. ¿Qué atributos imagina ud. que son los más determinantes para la predicción?\n",
    "\n",
    "**No hace falta escribir código para responder estas preguntas.**"
   ]
  },
  {
   "cell_type": "raw",
   "metadata": {},
   "source": [
    "El data set de datos contiene información respecto a 5960 casos de prestamos realizados. Entre la información que se tiene, se indica si el prestamos se pago o no. Se pretende usar este data set para entrenar algún modelo y que este modelo indique el scoring (riesgo crediticio) de la persona que pretende tomar el crédito \n",
    "\n",
    "La variable objetivo, es BAD, que aparce como TARGET en el dataset, indica que la persona que tomo el crédito entro en default o en mora\n",
    "\n",
    "Los atributos que hay disponible, son los siguientes:\n",
    "\n",
    "# TARGET  Label: 1 = client defaulted on loan - 0 = loan repaid\n",
    "# LOAN    Amount of the loan request\n",
    "# MORTDUE Amount due on existing mortgage\n",
    "# VALUE   Value of current property\n",
    "# YOJ     Years at present job\n",
    "# DEROG   Number of major derogatory reports\n",
    "# DELINQ  Number of delinquent credit lines\n",
    "# CLAGE   Age of oldest trade line in months\n",
    "# NINQ    Number of recent credit lines\n",
    "# CLNO    Number of credit lines\n",
    "# DEBTINC Debt-to-income ratio\n",
    "\n",
    "\n",
    "Los atributos que entendemos son los mas determinantes para realizar la predicción son: \n",
    "DELINQ  , DEROG  , CLNO    y DEBTINC"
   ]
  },
  {
   "cell_type": "markdown",
   "metadata": {},
   "source": [
    "## Ejercicio 2: Predicción con Modelos Lineales\n",
    "\n",
    "En este ejercicio se entrenarán modelos lineales de clasificación para predecir la variable objetivo.\n",
    "\n",
    "Para ello, deberán utilizar la clase SGDClassifier de scikit-learn.\n",
    "\n",
    "Documentación:\n",
    "- https://scikit-learn.org/stable/modules/sgd.html\n",
    "- https://scikit-learn.org/stable/modules/generated/sklearn.linear_model.SGDClassifier.html\n"
   ]
  },
  {
   "cell_type": "markdown",
   "metadata": {},
   "source": [
    "### Ejercicio 2.1: SGDClassifier con hiperparámetros por defecto\n",
    "\n",
    "Entrenar y evaluar el clasificador SGDClassifier usando los valores por omisión de scikit-learn para todos los parámetros. Únicamente **fijar la semilla aleatoria** para hacer repetible el experimento.\n",
    "\n",
    "Evaluar sobre el conjunto de **entrenamiento** y sobre el conjunto de **evaluación**, reportando:\n",
    "- Accuracy\n",
    "- Precision\n",
    "- Recall\n",
    "- F1\n",
    "- matriz de confusión"
   ]
  },
  {
   "cell_type": "code",
   "execution_count": 78,
   "metadata": {},
   "outputs": [],
   "source": [
    "from sklearn.linear_model import SGDClassifier\n",
    "from sklearn.metrics import confusion_matrix\n",
    "from sklearn.metrics import plot_confusion_matrix\n",
    "from sklearn.preprocessing import StandardScaler\n",
    "from sklearn.pipeline import make_pipeline\n",
    "\n",
    "from sklearn.metrics import precision_score\n",
    "from sklearn.metrics import recall_score\n",
    "from sklearn.metrics import f1_score\n",
    "from sklearn.metrics import accuracy_score"
   ]
  },
  {
   "cell_type": "code",
   "execution_count": 79,
   "metadata": {},
   "outputs": [],
   "source": [
    "def get_metrics(y_true, y_pred):\n",
    "    \n",
    "    result = {\n",
    "        'precision_score' : precision_score(y_true, y_pred) ,\n",
    "        'recall_score': recall_score(y_true, y_pred),\n",
    "        'f1_score' : f1_score(y_true, y_pred),\n",
    "        'accuracy_score': accuracy_score(y_true, y_pred)\n",
    "    }\n",
    "    \n",
    "    return result"
   ]
  },
  {
   "cell_type": "code",
   "execution_count": 80,
   "metadata": {},
   "outputs": [],
   "source": [
    "model = make_pipeline(StandardScaler(),SGDClassifier(random_state=0))"
   ]
  },
  {
   "cell_type": "code",
   "execution_count": 81,
   "metadata": {},
   "outputs": [
    {
     "data": {
      "text/plain": [
       "Pipeline(steps=[('standardscaler', StandardScaler()),\n",
       "                ('sgdclassifier', SGDClassifier(random_state=0))])"
      ]
     },
     "execution_count": 81,
     "metadata": {},
     "output_type": "execute_result"
    }
   ],
   "source": [
    "model.fit(X_train,y_train)"
   ]
  },
  {
   "cell_type": "code",
   "execution_count": 82,
   "metadata": {},
   "outputs": [
    {
     "data": {
      "text/plain": [
       "array([0, 0, 0, 1, 0, 0, 0, 0, 0, 0, 0, 0, 0, 0, 0, 0, 0, 0, 1, 0, 0, 1,\n",
       "       0, 0, 0, 0, 0, 0, 0, 0, 0, 1, 1, 0, 0, 0, 0, 0, 0, 0, 0, 1, 0, 0,\n",
       "       0, 0, 0, 0, 0, 0, 0, 0, 0, 0, 0, 0, 0, 0, 0, 0, 0, 0, 0, 0, 0, 0,\n",
       "       0, 0, 0, 0, 0, 0, 0, 0, 0, 0, 1, 1, 0, 0, 0, 0, 1, 0, 0, 0, 0, 0,\n",
       "       0, 0, 0, 0, 1, 0, 0, 0, 0, 0, 0, 0, 0, 0, 0, 0, 0, 0, 0, 0, 0, 0,\n",
       "       1, 0, 0, 0, 0, 0, 0, 1, 0, 0, 0, 0, 0, 0, 0, 0, 0, 0, 0, 0, 0, 0,\n",
       "       0, 0, 0, 0, 1, 0, 0, 0, 0, 0, 0, 0, 0, 0, 0, 0, 0, 0, 0, 0, 0, 0,\n",
       "       0, 0, 0, 0, 0, 0, 0, 0, 0, 0, 0, 0, 0, 1, 0, 0, 0, 0, 0, 0, 0, 0,\n",
       "       0, 0, 0, 0, 0, 0, 0, 0, 0, 0, 0, 0, 0, 0, 0, 0, 0, 0, 0, 0, 0, 0,\n",
       "       0, 0, 0, 0, 0, 0, 0, 0, 0, 0, 0, 1, 0, 0, 0, 0, 0, 1, 0, 0, 0, 0,\n",
       "       0, 0, 0, 1, 1, 1, 0, 0, 0, 0, 0, 0, 0, 0, 0, 0, 0, 0, 0, 0, 0, 0,\n",
       "       0, 1, 0, 0, 0, 0, 0, 1, 1, 0, 0, 0, 0, 0, 0, 1, 0, 0, 0, 0, 0, 0,\n",
       "       0, 0, 0, 0, 0, 0, 0, 0, 0, 1, 0, 1, 0, 0, 0, 0, 0, 0, 0, 0, 0, 0,\n",
       "       0, 0, 0, 0, 0, 0, 0, 0, 0, 0, 0, 0, 0, 0, 0, 0, 0, 0, 0, 0, 0, 0,\n",
       "       0, 1, 0, 0, 0, 0, 0, 0, 0, 0, 0, 0, 0, 0, 0, 0, 0, 0, 0, 0, 1, 0,\n",
       "       0, 0, 0, 1, 0, 0, 1, 0, 0, 0, 1, 0, 0, 0, 0, 0, 0, 0, 0, 0, 1, 0,\n",
       "       0, 0, 0, 0, 0, 0, 0, 0, 0, 0, 0, 0, 0, 0, 0, 0, 0, 0, 0])"
      ]
     },
     "execution_count": 82,
     "metadata": {},
     "output_type": "execute_result"
    }
   ],
   "source": [
    "y_pred = model.predict(X_test)\n",
    "y_pred"
   ]
  },
  {
   "cell_type": "code",
   "execution_count": 83,
   "metadata": {},
   "outputs": [
    {
     "name": "stderr",
     "output_type": "stream",
     "text": [
      "/Users/coviedo/opt/anaconda3/envs/diplodatos-ayvd/lib/python3.6/site-packages/sklearn/utils/validation.py:72: FutureWarning: Pass labels=[0, 1] as keyword args. From version 1.0 (renaming of 0.25) passing these as positional arguments will result in an error\n",
      "  \"will result in an error\", FutureWarning)\n"
     ]
    }
   ],
   "source": [
    "cm = confusion_matrix(y_test, y_pred , [0 , 1])"
   ]
  },
  {
   "cell_type": "code",
   "execution_count": 85,
   "metadata": {},
   "outputs": [],
   "source": [
    "res_metrics = get_metrics(y_test, y_pred)"
   ]
  },
  {
   "cell_type": "code",
   "execution_count": 86,
   "metadata": {},
   "outputs": [
    {
     "data": {
      "text/plain": [
       "{'precision_score': 0.6451612903225806,\n",
       " 'recall_score': 0.3448275862068966,\n",
       " 'f1_score': 0.44943820224719105,\n",
       " 'accuracy_score': 0.8679245283018868}"
      ]
     },
     "execution_count": 86,
     "metadata": {},
     "output_type": "execute_result"
    }
   ],
   "source": [
    "res_metrics"
   ]
  },
  {
   "cell_type": "code",
   "execution_count": 88,
   "metadata": {},
   "outputs": [
    {
     "data": {
      "text/plain": [
       "<sklearn.metrics._plot.confusion_matrix.ConfusionMatrixDisplay at 0x1a2576b2b0>"
      ]
     },
     "execution_count": 88,
     "metadata": {},
     "output_type": "execute_result"
    },
    {
     "data": {
      "image/png": "[encoded data removed]",
      "text/plain": [
       "<Figure size 432x288 with 2 Axes>"
      ]
     },
     "metadata": {
      "needs_background": "light"
     },
     "output_type": "display_data"
    }
   ],
   "source": [
    "plot_confusion_matrix(model, X_test, y_test)  "
   ]
  },
  {
   "cell_type": "code",
   "execution_count": 90,
   "metadata": {},
   "outputs": [
    {
     "data": {
      "text/plain": [
       "31"
      ]
     },
     "execution_count": 90,
     "metadata": {},
     "output_type": "execute_result"
    }
   ],
   "source": [
    "y_pred.sum()"
   ]
  },
  {
   "cell_type": "code",
   "execution_count": 93,
   "metadata": {},
   "outputs": [
    {
     "data": {
      "text/plain": [
       "58"
      ]
     },
     "execution_count": 93,
     "metadata": {},
     "output_type": "execute_result"
    }
   ],
   "source": [
    "y_test.sum()"
   ]
  },
  {
   "cell_type": "code",
   "execution_count": 95,
   "metadata": {},
   "outputs": [
    {
     "data": {
      "text/plain": [
       "313"
      ]
     },
     "execution_count": 95,
     "metadata": {},
     "output_type": "execute_result"
    }
   ],
   "source": [
    "len(y_test) - y_test.sum()"
   ]
  },
  {
   "cell_type": "markdown",
   "metadata": {},
   "source": [
    "### Ejercicio 2.2: Ajuste de Hiperparámetros\n",
    "\n",
    "Seleccionar valores para los hiperparámetros principales del SGDClassifier. Como mínimo, probar diferentes funciones de loss, tasas de entrenamiento y tasas de regularización.\n",
    "\n",
    "Para ello, usar grid-search y 5-fold cross-validation sobre el conjunto de entrenamiento para explorar muchas combinaciones posibles de valores.\n",
    "\n",
    "Reportar accuracy promedio y varianza para todas las configuraciones.\n",
    "\n",
    "Para la mejor configuración encontrada, evaluar sobre el conjunto de **entrenamiento** y sobre el conjunto de **evaluación**, reportando:\n",
    "- Accuracy\n",
    "- Precision\n",
    "- Recall\n",
    "- F1\n",
    "- matriz de confusión\n",
    "\n",
    "Documentación:\n",
    "- https://scikit-learn.org/stable/modules/grid_search.html\n",
    "- https://scikit-learn.org/stable/modules/generated/sklearn.model_selection.GridSearchCV.html"
   ]
  },
  {
   "cell_type": "code",
   "execution_count": 123,
   "metadata": {},
   "outputs": [],
   "source": [
    "from sklearn.model_selection import GridSearchCV\n",
    "from sklearn.utils.fixes import loguniform\n",
    "from sklearn.pipeline import Pipeline"
   ]
  },
  {
   "cell_type": "code",
   "execution_count": 141,
   "metadata": {},
   "outputs": [],
   "source": [
    "param_dist = {\n",
    "    'sgdc__loss': ['hinge', 'log', 'modified_huber', 'squared_hinge','perceptron'],\n",
    "    'sgdc__alpha': [0.1,0.01,0.001,0.0001],\n",
    "    'sgdc__penalty' : ['l2' , 'l1' , 'elasticnet']\n",
    "}"
   ]
  },
  {
   "cell_type": "code",
   "execution_count": 142,
   "metadata": {},
   "outputs": [
    {
     "data": {
      "text/plain": [
       "{'sgdc__loss': ['hinge',\n",
       "  'log',\n",
       "  'modified_huber',\n",
       "  'squared_hinge',\n",
       "  'perceptron'],\n",
       " 'sgdc__alpha': [0.1, 0.01, 0.001, 0.0001],\n",
       " 'sgdc__penalty': ['l2', 'l1', 'elasticnet']}"
      ]
     },
     "execution_count": 142,
     "metadata": {},
     "output_type": "execute_result"
    }
   ],
   "source": [
    "param_dist"
   ]
  },
  {
   "cell_type": "code",
   "execution_count": 143,
   "metadata": {},
   "outputs": [],
   "source": [
    "test_model = Pipeline(steps = [('standard', StandardScaler()),('sgdc', SGDClassifier(random_state=0))])\n",
    "cv = GridSearchCV(test_model, param_dist, scoring='accuracy', cv=5 ,verbose=10)"
   ]
  },
  {
   "cell_type": "code",
   "execution_count": 145,
   "metadata": {},
   "outputs": [
    {
     "name": "stdout",
     "output_type": "stream",
     "text": [
      "Fitting 5 folds for each of 60 candidates, totalling 300 fits\n",
      "[CV 1/5; 1/60] START sgdc__alpha=0.1, sgdc__loss=hinge, sgdc__penalty=l2........\n",
      "[CV 1/5; 1/60] END sgdc__alpha=0.1, sgdc__loss=hinge, sgdc__penalty=l2;, score=0.852 total time=   0.0s\n",
      "[CV 2/5; 1/60] START sgdc__alpha=0.1, sgdc__loss=hinge, sgdc__penalty=l2........\n",
      "[CV 2/5; 1/60] END sgdc__alpha=0.1, sgdc__loss=hinge, sgdc__penalty=l2;, score=0.855 total time=   0.0s\n",
      "[CV 3/5; 1/60] START sgdc__alpha=0.1, sgdc__loss=hinge, sgdc__penalty=l2........\n",
      "[CV 3/5; 1/60] END sgdc__alpha=0.1, sgdc__loss=hinge, sgdc__penalty=l2;, score=0.845 total time=   0.0s\n",
      "[CV 4/5; 1/60] START sgdc__alpha=0.1, sgdc__loss=hinge, sgdc__penalty=l2........\n",
      "[CV 4/5; 1/60] END sgdc__alpha=0.1, sgdc__loss=hinge, sgdc__penalty=l2;, score=0.851 total time=   0.0s\n",
      "[CV 5/5; 1/60] START sgdc__alpha=0.1, sgdc__loss=hinge, sgdc__penalty=l2........\n",
      "[CV 5/5; 1/60] END sgdc__alpha=0.1, sgdc__loss=hinge, sgdc__penalty=l2;, score=0.855 total time=   0.0s\n",
      "[CV 1/5; 2/60] START sgdc__alpha=0.1, sgdc__loss=hinge, sgdc__penalty=l1........\n",
      "[CV 1/5; 2/60] END sgdc__alpha=0.1, sgdc__loss=hinge, sgdc__penalty=l1;, score=0.832 total time=   0.0s\n",
      "[CV 2/5; 2/60] START sgdc__alpha=0.1, sgdc__loss=hinge, sgdc__penalty=l1........\n",
      "[CV 2/5; 2/60] END sgdc__alpha=0.1, sgdc__loss=hinge, sgdc__penalty=l1;, score=0.832 total time=   0.0s\n",
      "[CV 3/5; 2/60] START sgdc__alpha=0.1, sgdc__loss=hinge, sgdc__penalty=l1........\n",
      "[CV 3/5; 2/60] END sgdc__alpha=0.1, sgdc__loss=hinge, sgdc__penalty=l1;, score=0.828 total time=   0.0s\n",
      "[CV 4/5; 2/60] START sgdc__alpha=0.1, sgdc__loss=hinge, sgdc__penalty=l1........\n",
      "[CV 4/5; 2/60] END sgdc__alpha=0.1, sgdc__loss=hinge, sgdc__penalty=l1;, score=0.831 total time=   0.0s\n",
      "[CV 5/5; 2/60] START sgdc__alpha=0.1, sgdc__loss=hinge, sgdc__penalty=l1........\n",
      "[CV 5/5; 2/60] END sgdc__alpha=0.1, sgdc__loss=hinge, sgdc__penalty=l1;, score=0.831 total time=   0.0s\n",
      "[CV 1/5; 3/60] START sgdc__alpha=0.1, sgdc__loss=hinge, sgdc__penalty=elasticnet\n",
      "[CV 1/5; 3/60] END sgdc__alpha=0.1, sgdc__loss=hinge, sgdc__penalty=elasticnet;, score=0.848 total time=   0.0s\n",
      "[CV 2/5; 3/60] START sgdc__alpha=0.1, sgdc__loss=hinge, sgdc__penalty=elasticnet\n",
      "[CV 2/5; 3/60] END sgdc__alpha=0.1, sgdc__loss=hinge, sgdc__penalty=elasticnet;, score=0.848 total time=   0.0s\n",
      "[CV 3/5; 3/60] START sgdc__alpha=0.1, sgdc__loss=hinge, sgdc__penalty=elasticnet\n",
      "[CV 3/5; 3/60] END sgdc__alpha=0.1, sgdc__loss=hinge, sgdc__penalty=elasticnet;, score=0.848 total time=   0.0s\n",
      "[CV 4/5; 3/60] START sgdc__alpha=0.1, sgdc__loss=hinge, sgdc__penalty=elasticnet\n",
      "[CV 4/5; 3/60] END sgdc__alpha=0.1, sgdc__loss=hinge, sgdc__penalty=elasticnet;, score=0.848 total time=   0.0s\n",
      "[CV 5/5; 3/60] START sgdc__alpha=0.1, sgdc__loss=hinge, sgdc__penalty=elasticnet\n",
      "[CV 5/5; 3/60] END sgdc__alpha=0.1, sgdc__loss=hinge, sgdc__penalty=elasticnet;, score=0.848 total time=   0.0s\n",
      "[CV 1/5; 4/60] START sgdc__alpha=0.1, sgdc__loss=log, sgdc__penalty=l2..........\n",
      "[CV 1/5; 4/60] END sgdc__alpha=0.1, sgdc__loss=log, sgdc__penalty=l2;, score=0.855 total time=   0.0s\n",
      "[CV 2/5; 4/60] START sgdc__alpha=0.1, sgdc__loss=log, sgdc__penalty=l2..........\n",
      "[CV 2/5; 4/60] END sgdc__alpha=0.1, sgdc__loss=log, sgdc__penalty=l2;, score=0.859 total time=   0.0s\n",
      "[CV 3/5; 4/60] START sgdc__alpha=0.1, sgdc__loss=log, sgdc__penalty=l2..........\n",
      "[CV 3/5; 4/60] END sgdc__alpha=0.1, sgdc__loss=log, sgdc__penalty=l2;, score=0.845 total time=   0.0s\n",
      "[CV 4/5; 4/60] START sgdc__alpha=0.1, sgdc__loss=log, sgdc__penalty=l2..........\n",
      "[CV 4/5; 4/60] END sgdc__alpha=0.1, sgdc__loss=log, sgdc__penalty=l2;, score=0.855 total time=   0.0s\n",
      "[CV 5/5; 4/60] START sgdc__alpha=0.1, sgdc__loss=log, sgdc__penalty=l2..........\n",
      "[CV 5/5; 4/60] END sgdc__alpha=0.1, sgdc__loss=log, sgdc__penalty=l2;, score=0.855 total time=   0.0s\n",
      "[CV 1/5; 5/60] START sgdc__alpha=0.1, sgdc__loss=log, sgdc__penalty=l1..........\n",
      "[CV 1/5; 5/60] END sgdc__alpha=0.1, sgdc__loss=log, sgdc__penalty=l1;, score=0.832 total time=   0.0s\n",
      "[CV 2/5; 5/60] START sgdc__alpha=0.1, sgdc__loss=log, sgdc__penalty=l1..........\n",
      "[CV 2/5; 5/60] END sgdc__alpha=0.1, sgdc__loss=log, sgdc__penalty=l1;, score=0.832 total time=   0.0s\n",
      "[CV 3/5; 5/60] START sgdc__alpha=0.1, sgdc__loss=log, sgdc__penalty=l1..........\n",
      "[CV 3/5; 5/60] END sgdc__alpha=0.1, sgdc__loss=log, sgdc__penalty=l1;, score=0.828 total time=   0.0s\n",
      "[CV 4/5; 5/60] START sgdc__alpha=0.1, sgdc__loss=log, sgdc__penalty=l1..........\n",
      "[CV 4/5; 5/60] END sgdc__alpha=0.1, sgdc__loss=log, sgdc__penalty=l1;, score=0.831 total time=   0.0s\n",
      "[CV 5/5; 5/60] START sgdc__alpha=0.1, sgdc__loss=log, sgdc__penalty=l1..........\n",
      "[CV 5/5; 5/60] END sgdc__alpha=0.1, sgdc__loss=log, sgdc__penalty=l1;, score=0.831 total time=   0.0s\n",
      "[CV 1/5; 6/60] START sgdc__alpha=0.1, sgdc__loss=log, sgdc__penalty=elasticnet..\n",
      "[CV 1/5; 6/60] END sgdc__alpha=0.1, sgdc__loss=log, sgdc__penalty=elasticnet;, score=0.852 total time=   0.0s\n",
      "[CV 2/5; 6/60] START sgdc__alpha=0.1, sgdc__loss=log, sgdc__penalty=elasticnet..\n",
      "[CV 2/5; 6/60] END sgdc__alpha=0.1, sgdc__loss=log, sgdc__penalty=elasticnet;, score=0.852 total time=   0.0s\n",
      "[CV 3/5; 6/60] START sgdc__alpha=0.1, sgdc__loss=log, sgdc__penalty=elasticnet..\n",
      "[CV 3/5; 6/60] END sgdc__alpha=0.1, sgdc__loss=log, sgdc__penalty=elasticnet;, score=0.845 total time=   0.0s\n",
      "[CV 4/5; 6/60] START sgdc__alpha=0.1, sgdc__loss=log, sgdc__penalty=elasticnet..\n",
      "[CV 4/5; 6/60] END sgdc__alpha=0.1, sgdc__loss=log, sgdc__penalty=elasticnet;, score=0.851 total time=   0.0s\n",
      "[CV 5/5; 6/60] START sgdc__alpha=0.1, sgdc__loss=log, sgdc__penalty=elasticnet..\n",
      "[CV 5/5; 6/60] END sgdc__alpha=0.1, sgdc__loss=log, sgdc__penalty=elasticnet;, score=0.851 total time=   0.0s\n",
      "[CV 1/5; 7/60] START sgdc__alpha=0.1, sgdc__loss=modified_huber, sgdc__penalty=l2\n",
      "[CV 1/5; 7/60] END sgdc__alpha=0.1, sgdc__loss=modified_huber, sgdc__penalty=l2;, score=0.875 total time=   0.0s\n",
      "[CV 2/5; 7/60] START sgdc__alpha=0.1, sgdc__loss=modified_huber, sgdc__penalty=l2\n",
      "[CV 2/5; 7/60] END sgdc__alpha=0.1, sgdc__loss=modified_huber, sgdc__penalty=l2;, score=0.862 total time=   0.0s\n",
      "[CV 3/5; 7/60] START sgdc__alpha=0.1, sgdc__loss=modified_huber, sgdc__penalty=l2\n",
      "[CV 3/5; 7/60] END sgdc__alpha=0.1, sgdc__loss=modified_huber, sgdc__penalty=l2;, score=0.852 total time=   0.0s\n",
      "[CV 4/5; 7/60] START sgdc__alpha=0.1, sgdc__loss=modified_huber, sgdc__penalty=l2\n",
      "[CV 4/5; 7/60] END sgdc__alpha=0.1, sgdc__loss=modified_huber, sgdc__penalty=l2;, score=0.868 total time=   0.0s\n",
      "[CV 5/5; 7/60] START sgdc__alpha=0.1, sgdc__loss=modified_huber, sgdc__penalty=l2\n",
      "[CV 5/5; 7/60] END sgdc__alpha=0.1, sgdc__loss=modified_huber, sgdc__penalty=l2;, score=0.858 total time=   0.0s\n",
      "[CV 1/5; 8/60] START sgdc__alpha=0.1, sgdc__loss=modified_huber, sgdc__penalty=l1\n",
      "[CV 1/5; 8/60] END sgdc__alpha=0.1, sgdc__loss=modified_huber, sgdc__penalty=l1;, score=0.859 total time=   0.0s\n",
      "[CV 2/5; 8/60] START sgdc__alpha=0.1, sgdc__loss=modified_huber, sgdc__penalty=l1\n",
      "[CV 2/5; 8/60] END sgdc__alpha=0.1, sgdc__loss=modified_huber, sgdc__penalty=l1;, score=0.862 total time=   0.0s\n",
      "[CV 3/5; 8/60] START sgdc__alpha=0.1, sgdc__loss=modified_huber, sgdc__penalty=l1\n",
      "[CV 3/5; 8/60] END sgdc__alpha=0.1, sgdc__loss=modified_huber, sgdc__penalty=l1;, score=0.848 total time=   0.0s\n",
      "[CV 4/5; 8/60] START sgdc__alpha=0.1, sgdc__loss=modified_huber, sgdc__penalty=l1\n",
      "[CV 4/5; 8/60] END sgdc__alpha=0.1, sgdc__loss=modified_huber, sgdc__penalty=l1;, score=0.855 total time=   0.0s\n",
      "[CV 5/5; 8/60] START sgdc__alpha=0.1, sgdc__loss=modified_huber, sgdc__penalty=l1\n",
      "[CV 5/5; 8/60] END sgdc__alpha=0.1, sgdc__loss=modified_huber, sgdc__penalty=l1;, score=0.855 total time=   0.0s\n",
      "[CV 1/5; 9/60] START sgdc__alpha=0.1, sgdc__loss=modified_huber, sgdc__penalty=elasticnet\n",
      "[CV 1/5; 9/60] END sgdc__alpha=0.1, sgdc__loss=modified_huber, sgdc__penalty=elasticnet;, score=0.872 total time=   0.0s\n",
      "[CV 2/5; 9/60] START sgdc__alpha=0.1, sgdc__loss=modified_huber, sgdc__penalty=elasticnet\n",
      "[CV 2/5; 9/60] END sgdc__alpha=0.1, sgdc__loss=modified_huber, sgdc__penalty=elasticnet;, score=0.862 total time=   0.0s\n",
      "[CV 3/5; 9/60] START sgdc__alpha=0.1, sgdc__loss=modified_huber, sgdc__penalty=elasticnet\n",
      "[CV 3/5; 9/60] END sgdc__alpha=0.1, sgdc__loss=modified_huber, sgdc__penalty=elasticnet;, score=0.855 total time=   0.0s\n",
      "[CV 4/5; 9/60] START sgdc__alpha=0.1, sgdc__loss=modified_huber, sgdc__penalty=elasticnet\n",
      "[CV 4/5; 9/60] END sgdc__alpha=0.1, sgdc__loss=modified_huber, sgdc__penalty=elasticnet;, score=0.865 total time=   0.0s\n",
      "[CV 5/5; 9/60] START sgdc__alpha=0.1, sgdc__loss=modified_huber, sgdc__penalty=elasticnet\n",
      "[CV 5/5; 9/60] END sgdc__alpha=0.1, sgdc__loss=modified_huber, sgdc__penalty=elasticnet;, score=0.858 total time=   0.0s\n",
      "[CV 1/5; 10/60] START sgdc__alpha=0.1, sgdc__loss=squared_hinge, sgdc__penalty=l2\n",
      "[CV 1/5; 10/60] END sgdc__alpha=0.1, sgdc__loss=squared_hinge, sgdc__penalty=l2;, score=0.855 total time=   0.0s\n",
      "[CV 2/5; 10/60] START sgdc__alpha=0.1, sgdc__loss=squared_hinge, sgdc__penalty=l2\n",
      "[CV 2/5; 10/60] END sgdc__alpha=0.1, sgdc__loss=squared_hinge, sgdc__penalty=l2;, score=0.855 total time=   0.0s\n",
      "[CV 3/5; 10/60] START sgdc__alpha=0.1, sgdc__loss=squared_hinge, sgdc__penalty=l2\n",
      "[CV 3/5; 10/60] END sgdc__alpha=0.1, sgdc__loss=squared_hinge, sgdc__penalty=l2;, score=0.852 total time=   0.0s\n",
      "[CV 4/5; 10/60] START sgdc__alpha=0.1, sgdc__loss=squared_hinge, sgdc__penalty=l2\n",
      "[CV 4/5; 10/60] END sgdc__alpha=0.1, sgdc__loss=squared_hinge, sgdc__penalty=l2;, score=0.868 total time=   0.0s\n",
      "[CV 5/5; 10/60] START sgdc__alpha=0.1, sgdc__loss=squared_hinge, sgdc__penalty=l2\n",
      "[CV 5/5; 10/60] END sgdc__alpha=0.1, sgdc__loss=squared_hinge, sgdc__penalty=l2;, score=0.851 total time=   0.0s\n",
      "[CV 1/5; 11/60] START sgdc__alpha=0.1, sgdc__loss=squared_hinge, sgdc__penalty=l1\n"
     ]
    },
    {
     "name": "stderr",
     "output_type": "stream",
     "text": [
      "/Users/coviedo/opt/anaconda3/envs/diplodatos-ayvd/lib/python3.6/site-packages/sklearn/linear_model/_stochastic_gradient.py:577: ConvergenceWarning: Maximum number of iteration reached before convergence. Consider increasing max_iter to improve the fit.\n",
      "  ConvergenceWarning)\n",
      "/Users/coviedo/opt/anaconda3/envs/diplodatos-ayvd/lib/python3.6/site-packages/sklearn/linear_model/_stochastic_gradient.py:577: ConvergenceWarning: Maximum number of iteration reached before convergence. Consider increasing max_iter to improve the fit.\n",
      "  ConvergenceWarning)\n",
      "/Users/coviedo/opt/anaconda3/envs/diplodatos-ayvd/lib/python3.6/site-packages/sklearn/linear_model/_stochastic_gradient.py:577: ConvergenceWarning: Maximum number of iteration reached before convergence. Consider increasing max_iter to improve the fit.\n",
      "  ConvergenceWarning)\n"
     ]
    },
    {
     "name": "stdout",
     "output_type": "stream",
     "text": [
      "[CV 1/5; 11/60] END sgdc__alpha=0.1, sgdc__loss=squared_hinge, sgdc__penalty=l1;, score=0.818 total time=   0.1s\n",
      "[CV 2/5; 11/60] START sgdc__alpha=0.1, sgdc__loss=squared_hinge, sgdc__penalty=l1\n",
      "[CV 2/5; 11/60] END sgdc__alpha=0.1, sgdc__loss=squared_hinge, sgdc__penalty=l1;, score=0.754 total time=   0.1s\n",
      "[CV 3/5; 11/60] START sgdc__alpha=0.1, sgdc__loss=squared_hinge, sgdc__penalty=l1\n",
      "[CV 3/5; 11/60] END sgdc__alpha=0.1, sgdc__loss=squared_hinge, sgdc__penalty=l1;, score=0.741 total time=   0.1s\n",
      "[CV 4/5; 11/60] START sgdc__alpha=0.1, sgdc__loss=squared_hinge, sgdc__penalty=l1\n"
     ]
    },
    {
     "name": "stderr",
     "output_type": "stream",
     "text": [
      "/Users/coviedo/opt/anaconda3/envs/diplodatos-ayvd/lib/python3.6/site-packages/sklearn/linear_model/_stochastic_gradient.py:577: ConvergenceWarning: Maximum number of iteration reached before convergence. Consider increasing max_iter to improve the fit.\n",
      "  ConvergenceWarning)\n",
      "/Users/coviedo/opt/anaconda3/envs/diplodatos-ayvd/lib/python3.6/site-packages/sklearn/linear_model/_stochastic_gradient.py:577: ConvergenceWarning: Maximum number of iteration reached before convergence. Consider increasing max_iter to improve the fit.\n",
      "  ConvergenceWarning)\n"
     ]
    },
    {
     "name": "stdout",
     "output_type": "stream",
     "text": [
      "[CV 4/5; 11/60] END sgdc__alpha=0.1, sgdc__loss=squared_hinge, sgdc__penalty=l1;, score=0.824 total time=   0.1s\n",
      "[CV 5/5; 11/60] START sgdc__alpha=0.1, sgdc__loss=squared_hinge, sgdc__penalty=l1\n",
      "[CV 5/5; 11/60] END sgdc__alpha=0.1, sgdc__loss=squared_hinge, sgdc__penalty=l1;, score=0.794 total time=   0.1s\n",
      "[CV 1/5; 12/60] START sgdc__alpha=0.1, sgdc__loss=squared_hinge, sgdc__penalty=elasticnet\n",
      "[CV 1/5; 12/60] END sgdc__alpha=0.1, sgdc__loss=squared_hinge, sgdc__penalty=elasticnet;, score=0.842 total time=   0.0s\n",
      "[CV 2/5; 12/60] START sgdc__alpha=0.1, sgdc__loss=squared_hinge, sgdc__penalty=elasticnet\n",
      "[CV 2/5; 12/60] END sgdc__alpha=0.1, sgdc__loss=squared_hinge, sgdc__penalty=elasticnet;, score=0.859 total time=   0.0s\n",
      "[CV 3/5; 12/60] START sgdc__alpha=0.1, sgdc__loss=squared_hinge, sgdc__penalty=elasticnet\n",
      "[CV 3/5; 12/60] END sgdc__alpha=0.1, sgdc__loss=squared_hinge, sgdc__penalty=elasticnet;, score=0.835 total time=   0.0s\n",
      "[CV 4/5; 12/60] START sgdc__alpha=0.1, sgdc__loss=squared_hinge, sgdc__penalty=elasticnet\n",
      "[CV 4/5; 12/60] END sgdc__alpha=0.1, sgdc__loss=squared_hinge, sgdc__penalty=elasticnet;, score=0.861 total time=   0.0s\n",
      "[CV 5/5; 12/60] START sgdc__alpha=0.1, sgdc__loss=squared_hinge, sgdc__penalty=elasticnet\n",
      "[CV 5/5; 12/60] END sgdc__alpha=0.1, sgdc__loss=squared_hinge, sgdc__penalty=elasticnet;, score=0.841 total time=   0.1s\n",
      "[CV 1/5; 13/60] START sgdc__alpha=0.1, sgdc__loss=perceptron, sgdc__penalty=l2..\n",
      "[CV 1/5; 13/60] END sgdc__alpha=0.1, sgdc__loss=perceptron, sgdc__penalty=l2;, score=0.785 total time=   0.0s\n",
      "[CV 2/5; 13/60] START sgdc__alpha=0.1, sgdc__loss=perceptron, sgdc__penalty=l2..\n",
      "[CV 2/5; 13/60] END sgdc__alpha=0.1, sgdc__loss=perceptron, sgdc__penalty=l2;, score=0.828 total time=   0.0s\n",
      "[CV 3/5; 13/60] START sgdc__alpha=0.1, sgdc__loss=perceptron, sgdc__penalty=l2..\n",
      "[CV 3/5; 13/60] END sgdc__alpha=0.1, sgdc__loss=perceptron, sgdc__penalty=l2;, score=0.798 total time=   0.0s\n",
      "[CV 4/5; 13/60] START sgdc__alpha=0.1, sgdc__loss=perceptron, sgdc__penalty=l2..\n",
      "[CV 4/5; 13/60] END sgdc__alpha=0.1, sgdc__loss=perceptron, sgdc__penalty=l2;, score=0.818 total time=   0.0s\n",
      "[CV 5/5; 13/60] START sgdc__alpha=0.1, sgdc__loss=perceptron, sgdc__penalty=l2..\n",
      "[CV 5/5; 13/60] END sgdc__alpha=0.1, sgdc__loss=perceptron, sgdc__penalty=l2;, score=0.875 total time=   0.0s\n",
      "[CV 1/5; 14/60] START sgdc__alpha=0.1, sgdc__loss=perceptron, sgdc__penalty=l1..\n",
      "[CV 1/5; 14/60] END sgdc__alpha=0.1, sgdc__loss=perceptron, sgdc__penalty=l1;, score=0.832 total time=   0.0s\n",
      "[CV 2/5; 14/60] START sgdc__alpha=0.1, sgdc__loss=perceptron, sgdc__penalty=l1..\n",
      "[CV 2/5; 14/60] END sgdc__alpha=0.1, sgdc__loss=perceptron, sgdc__penalty=l1;, score=0.168 total time=   0.0s\n",
      "[CV 3/5; 14/60] START sgdc__alpha=0.1, sgdc__loss=perceptron, sgdc__penalty=l1..\n",
      "[CV 3/5; 14/60] END sgdc__alpha=0.1, sgdc__loss=perceptron, sgdc__penalty=l1;, score=0.172 total time=   0.0s\n",
      "[CV 4/5; 14/60] START sgdc__alpha=0.1, sgdc__loss=perceptron, sgdc__penalty=l1..\n",
      "[CV 4/5; 14/60] END sgdc__alpha=0.1, sgdc__loss=perceptron, sgdc__penalty=l1;, score=0.851 total time=   0.0s\n",
      "[CV 5/5; 14/60] START sgdc__alpha=0.1, sgdc__loss=perceptron, sgdc__penalty=l1..\n",
      "[CV 5/5; 14/60] END sgdc__alpha=0.1, sgdc__loss=perceptron, sgdc__penalty=l1;, score=0.831 total time=   0.0s\n",
      "[CV 1/5; 15/60] START sgdc__alpha=0.1, sgdc__loss=perceptron, sgdc__penalty=elasticnet\n",
      "[CV 1/5; 15/60] END sgdc__alpha=0.1, sgdc__loss=perceptron, sgdc__penalty=elasticnet;, score=0.758 total time=   0.0s\n",
      "[CV 2/5; 15/60] START sgdc__alpha=0.1, sgdc__loss=perceptron, sgdc__penalty=elasticnet\n",
      "[CV 2/5; 15/60] END sgdc__alpha=0.1, sgdc__loss=perceptron, sgdc__penalty=elasticnet;, score=0.842 total time=   0.0s\n",
      "[CV 3/5; 15/60] START sgdc__alpha=0.1, sgdc__loss=perceptron, sgdc__penalty=elasticnet\n",
      "[CV 3/5; 15/60] END sgdc__alpha=0.1, sgdc__loss=perceptron, sgdc__penalty=elasticnet;, score=0.744 total time=   0.0s\n",
      "[CV 4/5; 15/60] START sgdc__alpha=0.1, sgdc__loss=perceptron, sgdc__penalty=elasticnet\n",
      "[CV 4/5; 15/60] END sgdc__alpha=0.1, sgdc__loss=perceptron, sgdc__penalty=elasticnet;, score=0.770 total time=   0.0s\n",
      "[CV 5/5; 15/60] START sgdc__alpha=0.1, sgdc__loss=perceptron, sgdc__penalty=elasticnet\n",
      "[CV 5/5; 15/60] END sgdc__alpha=0.1, sgdc__loss=perceptron, sgdc__penalty=elasticnet;, score=0.784 total time=   0.0s\n",
      "[CV 1/5; 16/60] START sgdc__alpha=0.01, sgdc__loss=hinge, sgdc__penalty=l2......\n",
      "[CV 1/5; 16/60] END sgdc__alpha=0.01, sgdc__loss=hinge, sgdc__penalty=l2;, score=0.872 total time=   0.0s\n",
      "[CV 2/5; 16/60] START sgdc__alpha=0.01, sgdc__loss=hinge, sgdc__penalty=l2......\n",
      "[CV 2/5; 16/60] END sgdc__alpha=0.01, sgdc__loss=hinge, sgdc__penalty=l2;, score=0.862 total time=   0.0s\n",
      "[CV 3/5; 16/60] START sgdc__alpha=0.01, sgdc__loss=hinge, sgdc__penalty=l2......\n",
      "[CV 3/5; 16/60] END sgdc__alpha=0.01, sgdc__loss=hinge, sgdc__penalty=l2;, score=0.865 total time=   0.0s\n",
      "[CV 4/5; 16/60] START sgdc__alpha=0.01, sgdc__loss=hinge, sgdc__penalty=l2......\n",
      "[CV 4/5; 16/60] END sgdc__alpha=0.01, sgdc__loss=hinge, sgdc__penalty=l2;, score=0.872 total time=   0.0s\n",
      "[CV 5/5; 16/60] START sgdc__alpha=0.01, sgdc__loss=hinge, sgdc__penalty=l2......\n",
      "[CV 5/5; 16/60] END sgdc__alpha=0.01, sgdc__loss=hinge, sgdc__penalty=l2;, score=0.861 total time=   0.0s\n",
      "[CV 1/5; 17/60] START sgdc__alpha=0.01, sgdc__loss=hinge, sgdc__penalty=l1......\n",
      "[CV 1/5; 17/60] END sgdc__alpha=0.01, sgdc__loss=hinge, sgdc__penalty=l1;, score=0.875 total time=   0.0s\n",
      "[CV 2/5; 17/60] START sgdc__alpha=0.01, sgdc__loss=hinge, sgdc__penalty=l1......\n",
      "[CV 2/5; 17/60] END sgdc__alpha=0.01, sgdc__loss=hinge, sgdc__penalty=l1;, score=0.865 total time=   0.0s\n",
      "[CV 3/5; 17/60] START sgdc__alpha=0.01, sgdc__loss=hinge, sgdc__penalty=l1......\n",
      "[CV 3/5; 17/60] END sgdc__alpha=0.01, sgdc__loss=hinge, sgdc__penalty=l1;, score=0.855 total time=   0.0s\n",
      "[CV 4/5; 17/60] START sgdc__alpha=0.01, sgdc__loss=hinge, sgdc__penalty=l1......\n",
      "[CV 4/5; 17/60] END sgdc__alpha=0.01, sgdc__loss=hinge, sgdc__penalty=l1;, score=0.858 total time=   0.0s\n",
      "[CV 5/5; 17/60] START sgdc__alpha=0.01, sgdc__loss=hinge, sgdc__penalty=l1......\n",
      "[CV 5/5; 17/60] END sgdc__alpha=0.01, sgdc__loss=hinge, sgdc__penalty=l1;, score=0.858 total time=   0.0s\n",
      "[CV 1/5; 18/60] START sgdc__alpha=0.01, sgdc__loss=hinge, sgdc__penalty=elasticnet\n",
      "[CV 1/5; 18/60] END sgdc__alpha=0.01, sgdc__loss=hinge, sgdc__penalty=elasticnet;, score=0.879 total time=   0.0s\n",
      "[CV 2/5; 18/60] START sgdc__alpha=0.01, sgdc__loss=hinge, sgdc__penalty=elasticnet\n",
      "[CV 2/5; 18/60] END sgdc__alpha=0.01, sgdc__loss=hinge, sgdc__penalty=elasticnet;, score=0.865 total time=   0.0s\n",
      "[CV 3/5; 18/60] START sgdc__alpha=0.01, sgdc__loss=hinge, sgdc__penalty=elasticnet\n",
      "[CV 3/5; 18/60] END sgdc__alpha=0.01, sgdc__loss=hinge, sgdc__penalty=elasticnet;, score=0.865 total time=   0.0s\n",
      "[CV 4/5; 18/60] START sgdc__alpha=0.01, sgdc__loss=hinge, sgdc__penalty=elasticnet\n",
      "[CV 4/5; 18/60] END sgdc__alpha=0.01, sgdc__loss=hinge, sgdc__penalty=elasticnet;, score=0.878 total time=   0.0s\n",
      "[CV 5/5; 18/60] START sgdc__alpha=0.01, sgdc__loss=hinge, sgdc__penalty=elasticnet\n",
      "[CV 5/5; 18/60] END sgdc__alpha=0.01, sgdc__loss=hinge, sgdc__penalty=elasticnet;, score=0.861 total time=   0.0s\n",
      "[CV 1/5; 19/60] START sgdc__alpha=0.01, sgdc__loss=log, sgdc__penalty=l2........\n",
      "[CV 1/5; 19/60] END sgdc__alpha=0.01, sgdc__loss=log, sgdc__penalty=l2;, score=0.865 total time=   0.0s\n",
      "[CV 2/5; 19/60] START sgdc__alpha=0.01, sgdc__loss=log, sgdc__penalty=l2........\n",
      "[CV 2/5; 19/60] END sgdc__alpha=0.01, sgdc__loss=log, sgdc__penalty=l2;, score=0.869 total time=   0.0s\n",
      "[CV 3/5; 19/60] START sgdc__alpha=0.01, sgdc__loss=log, sgdc__penalty=l2........\n",
      "[CV 3/5; 19/60] END sgdc__alpha=0.01, sgdc__loss=log, sgdc__penalty=l2;, score=0.865 total time=   0.0s\n",
      "[CV 4/5; 19/60] START sgdc__alpha=0.01, sgdc__loss=log, sgdc__penalty=l2........\n",
      "[CV 4/5; 19/60] END sgdc__alpha=0.01, sgdc__loss=log, sgdc__penalty=l2;, score=0.885 total time=   0.0s\n",
      "[CV 5/5; 19/60] START sgdc__alpha=0.01, sgdc__loss=log, sgdc__penalty=l2........\n",
      "[CV 5/5; 19/60] END sgdc__alpha=0.01, sgdc__loss=log, sgdc__penalty=l2;, score=0.855 total time=   0.0s\n",
      "[CV 1/5; 20/60] START sgdc__alpha=0.01, sgdc__loss=log, sgdc__penalty=l1........\n",
      "[CV 1/5; 20/60] END sgdc__alpha=0.01, sgdc__loss=log, sgdc__penalty=l1;, score=0.872 total time=   0.0s\n",
      "[CV 2/5; 20/60] START sgdc__alpha=0.01, sgdc__loss=log, sgdc__penalty=l1........\n",
      "[CV 2/5; 20/60] END sgdc__alpha=0.01, sgdc__loss=log, sgdc__penalty=l1;, score=0.862 total time=   0.0s\n",
      "[CV 3/5; 20/60] START sgdc__alpha=0.01, sgdc__loss=log, sgdc__penalty=l1........\n",
      "[CV 3/5; 20/60] END sgdc__alpha=0.01, sgdc__loss=log, sgdc__penalty=l1;, score=0.862 total time=   0.0s\n",
      "[CV 4/5; 20/60] START sgdc__alpha=0.01, sgdc__loss=log, sgdc__penalty=l1........\n",
      "[CV 4/5; 20/60] END sgdc__alpha=0.01, sgdc__loss=log, sgdc__penalty=l1;, score=0.872 total time=   0.0s\n",
      "[CV 5/5; 20/60] START sgdc__alpha=0.01, sgdc__loss=log, sgdc__penalty=l1........\n",
      "[CV 5/5; 20/60] END sgdc__alpha=0.01, sgdc__loss=log, sgdc__penalty=l1;, score=0.861 total time=   0.0s\n",
      "[CV 1/5; 21/60] START sgdc__alpha=0.01, sgdc__loss=log, sgdc__penalty=elasticnet\n",
      "[CV 1/5; 21/60] END sgdc__alpha=0.01, sgdc__loss=log, sgdc__penalty=elasticnet;, score=0.869 total time=   0.0s\n",
      "[CV 2/5; 21/60] START sgdc__alpha=0.01, sgdc__loss=log, sgdc__penalty=elasticnet\n",
      "[CV 2/5; 21/60] END sgdc__alpha=0.01, sgdc__loss=log, sgdc__penalty=elasticnet;, score=0.869 total time=   0.0s\n",
      "[CV 3/5; 21/60] START sgdc__alpha=0.01, sgdc__loss=log, sgdc__penalty=elasticnet\n",
      "[CV 3/5; 21/60] END sgdc__alpha=0.01, sgdc__loss=log, sgdc__penalty=elasticnet;, score=0.865 total time=   0.0s\n",
      "[CV 4/5; 21/60] START sgdc__alpha=0.01, sgdc__loss=log, sgdc__penalty=elasticnet\n",
      "[CV 4/5; 21/60] END sgdc__alpha=0.01, sgdc__loss=log, sgdc__penalty=elasticnet;, score=0.885 total time=   0.0s\n",
      "[CV 5/5; 21/60] START sgdc__alpha=0.01, sgdc__loss=log, sgdc__penalty=elasticnet\n",
      "[CV 5/5; 21/60] END sgdc__alpha=0.01, sgdc__loss=log, sgdc__penalty=elasticnet;, score=0.855 total time=   0.0s\n",
      "[CV 1/5; 22/60] START sgdc__alpha=0.01, sgdc__loss=modified_huber, sgdc__penalty=l2\n"
     ]
    },
    {
     "name": "stdout",
     "output_type": "stream",
     "text": [
      "[CV 1/5; 22/60] END sgdc__alpha=0.01, sgdc__loss=modified_huber, sgdc__penalty=l2;, score=0.865 total time=   0.0s\n",
      "[CV 2/5; 22/60] START sgdc__alpha=0.01, sgdc__loss=modified_huber, sgdc__penalty=l2\n",
      "[CV 2/5; 22/60] END sgdc__alpha=0.01, sgdc__loss=modified_huber, sgdc__penalty=l2;, score=0.865 total time=   0.0s\n",
      "[CV 3/5; 22/60] START sgdc__alpha=0.01, sgdc__loss=modified_huber, sgdc__penalty=l2\n",
      "[CV 3/5; 22/60] END sgdc__alpha=0.01, sgdc__loss=modified_huber, sgdc__penalty=l2;, score=0.862 total time=   0.0s\n",
      "[CV 4/5; 22/60] START sgdc__alpha=0.01, sgdc__loss=modified_huber, sgdc__penalty=l2\n",
      "[CV 4/5; 22/60] END sgdc__alpha=0.01, sgdc__loss=modified_huber, sgdc__penalty=l2;, score=0.878 total time=   0.0s\n",
      "[CV 5/5; 22/60] START sgdc__alpha=0.01, sgdc__loss=modified_huber, sgdc__penalty=l2\n",
      "[CV 5/5; 22/60] END sgdc__alpha=0.01, sgdc__loss=modified_huber, sgdc__penalty=l2;, score=0.858 total time=   0.0s\n",
      "[CV 1/5; 23/60] START sgdc__alpha=0.01, sgdc__loss=modified_huber, sgdc__penalty=l1\n",
      "[CV 1/5; 23/60] END sgdc__alpha=0.01, sgdc__loss=modified_huber, sgdc__penalty=l1;, score=0.859 total time=   0.0s\n",
      "[CV 2/5; 23/60] START sgdc__alpha=0.01, sgdc__loss=modified_huber, sgdc__penalty=l1\n",
      "[CV 2/5; 23/60] END sgdc__alpha=0.01, sgdc__loss=modified_huber, sgdc__penalty=l1;, score=0.865 total time=   0.0s\n",
      "[CV 3/5; 23/60] START sgdc__alpha=0.01, sgdc__loss=modified_huber, sgdc__penalty=l1\n",
      "[CV 3/5; 23/60] END sgdc__alpha=0.01, sgdc__loss=modified_huber, sgdc__penalty=l1;, score=0.852 total time=   0.0s\n",
      "[CV 4/5; 23/60] START sgdc__alpha=0.01, sgdc__loss=modified_huber, sgdc__penalty=l1\n",
      "[CV 4/5; 23/60] END sgdc__alpha=0.01, sgdc__loss=modified_huber, sgdc__penalty=l1;, score=0.878 total time=   0.0s\n",
      "[CV 5/5; 23/60] START sgdc__alpha=0.01, sgdc__loss=modified_huber, sgdc__penalty=l1\n",
      "[CV 5/5; 23/60] END sgdc__alpha=0.01, sgdc__loss=modified_huber, sgdc__penalty=l1;, score=0.845 total time=   0.0s\n",
      "[CV 1/5; 24/60] START sgdc__alpha=0.01, sgdc__loss=modified_huber, sgdc__penalty=elasticnet\n",
      "[CV 1/5; 24/60] END sgdc__alpha=0.01, sgdc__loss=modified_huber, sgdc__penalty=elasticnet;, score=0.859 total time=   0.0s\n",
      "[CV 2/5; 24/60] START sgdc__alpha=0.01, sgdc__loss=modified_huber, sgdc__penalty=elasticnet\n",
      "[CV 2/5; 24/60] END sgdc__alpha=0.01, sgdc__loss=modified_huber, sgdc__penalty=elasticnet;, score=0.865 total time=   0.0s\n",
      "[CV 3/5; 24/60] START sgdc__alpha=0.01, sgdc__loss=modified_huber, sgdc__penalty=elasticnet\n",
      "[CV 3/5; 24/60] END sgdc__alpha=0.01, sgdc__loss=modified_huber, sgdc__penalty=elasticnet;, score=0.865 total time=   0.0s\n",
      "[CV 4/5; 24/60] START sgdc__alpha=0.01, sgdc__loss=modified_huber, sgdc__penalty=elasticnet\n",
      "[CV 4/5; 24/60] END sgdc__alpha=0.01, sgdc__loss=modified_huber, sgdc__penalty=elasticnet;, score=0.889 total time=   0.0s\n",
      "[CV 5/5; 24/60] START sgdc__alpha=0.01, sgdc__loss=modified_huber, sgdc__penalty=elasticnet\n",
      "[CV 5/5; 24/60] END sgdc__alpha=0.01, sgdc__loss=modified_huber, sgdc__penalty=elasticnet;, score=0.845 total time=   0.0s\n",
      "[CV 1/5; 25/60] START sgdc__alpha=0.01, sgdc__loss=squared_hinge, sgdc__penalty=l2\n",
      "[CV 1/5; 25/60] END sgdc__alpha=0.01, sgdc__loss=squared_hinge, sgdc__penalty=l2;, score=0.872 total time=   0.0s\n",
      "[CV 2/5; 25/60] START sgdc__alpha=0.01, sgdc__loss=squared_hinge, sgdc__penalty=l2\n",
      "[CV 2/5; 25/60] END sgdc__alpha=0.01, sgdc__loss=squared_hinge, sgdc__penalty=l2;, score=0.865 total time=   0.0s\n",
      "[CV 3/5; 25/60] START sgdc__alpha=0.01, sgdc__loss=squared_hinge, sgdc__penalty=l2\n",
      "[CV 3/5; 25/60] END sgdc__alpha=0.01, sgdc__loss=squared_hinge, sgdc__penalty=l2;, score=0.862 total time=   0.0s\n",
      "[CV 4/5; 25/60] START sgdc__alpha=0.01, sgdc__loss=squared_hinge, sgdc__penalty=l2\n",
      "[CV 4/5; 25/60] END sgdc__alpha=0.01, sgdc__loss=squared_hinge, sgdc__penalty=l2;, score=0.882 total time=   0.0s\n",
      "[CV 5/5; 25/60] START sgdc__alpha=0.01, sgdc__loss=squared_hinge, sgdc__penalty=l2\n",
      "[CV 5/5; 25/60] END sgdc__alpha=0.01, sgdc__loss=squared_hinge, sgdc__penalty=l2;, score=0.865 total time=   0.0s\n",
      "[CV 1/5; 26/60] START sgdc__alpha=0.01, sgdc__loss=squared_hinge, sgdc__penalty=l1\n",
      "[CV 1/5; 26/60] END sgdc__alpha=0.01, sgdc__loss=squared_hinge, sgdc__penalty=l1;, score=0.869 total time=   0.1s\n",
      "[CV 2/5; 26/60] START sgdc__alpha=0.01, sgdc__loss=squared_hinge, sgdc__penalty=l1\n",
      "[CV 2/5; 26/60] END sgdc__alpha=0.01, sgdc__loss=squared_hinge, sgdc__penalty=l1;, score=0.855 total time=   0.1s\n",
      "[CV 3/5; 26/60] START sgdc__alpha=0.01, sgdc__loss=squared_hinge, sgdc__penalty=l1\n",
      "[CV 3/5; 26/60] END sgdc__alpha=0.01, sgdc__loss=squared_hinge, sgdc__penalty=l1;, score=0.744 total time=   0.1s\n",
      "[CV 4/5; 26/60] START sgdc__alpha=0.01, sgdc__loss=squared_hinge, sgdc__penalty=l1\n",
      "[CV 4/5; 26/60] END sgdc__alpha=0.01, sgdc__loss=squared_hinge, sgdc__penalty=l1;, score=0.875 total time=   0.0s\n",
      "[CV 5/5; 26/60] START sgdc__alpha=0.01, sgdc__loss=squared_hinge, sgdc__penalty=l1\n"
     ]
    },
    {
     "name": "stderr",
     "output_type": "stream",
     "text": [
      "/Users/coviedo/opt/anaconda3/envs/diplodatos-ayvd/lib/python3.6/site-packages/sklearn/linear_model/_stochastic_gradient.py:577: ConvergenceWarning: Maximum number of iteration reached before convergence. Consider increasing max_iter to improve the fit.\n",
      "  ConvergenceWarning)\n"
     ]
    },
    {
     "name": "stdout",
     "output_type": "stream",
     "text": [
      "[CV 5/5; 26/60] END sgdc__alpha=0.01, sgdc__loss=squared_hinge, sgdc__penalty=l1;, score=0.865 total time=   0.1s\n",
      "[CV 1/5; 27/60] START sgdc__alpha=0.01, sgdc__loss=squared_hinge, sgdc__penalty=elasticnet\n",
      "[CV 1/5; 27/60] END sgdc__alpha=0.01, sgdc__loss=squared_hinge, sgdc__penalty=elasticnet;, score=0.879 total time=   0.1s\n",
      "[CV 2/5; 27/60] START sgdc__alpha=0.01, sgdc__loss=squared_hinge, sgdc__penalty=elasticnet\n",
      "[CV 2/5; 27/60] END sgdc__alpha=0.01, sgdc__loss=squared_hinge, sgdc__penalty=elasticnet;, score=0.859 total time=   0.0s\n",
      "[CV 3/5; 27/60] START sgdc__alpha=0.01, sgdc__loss=squared_hinge, sgdc__penalty=elasticnet\n",
      "[CV 3/5; 27/60] END sgdc__alpha=0.01, sgdc__loss=squared_hinge, sgdc__penalty=elasticnet;, score=0.862 total time=   0.1s\n",
      "[CV 4/5; 27/60] START sgdc__alpha=0.01, sgdc__loss=squared_hinge, sgdc__penalty=elasticnet\n",
      "[CV 4/5; 27/60] END sgdc__alpha=0.01, sgdc__loss=squared_hinge, sgdc__penalty=elasticnet;, score=0.875 total time=   0.0s\n",
      "[CV 5/5; 27/60] START sgdc__alpha=0.01, sgdc__loss=squared_hinge, sgdc__penalty=elasticnet\n",
      "[CV 5/5; 27/60] END sgdc__alpha=0.01, sgdc__loss=squared_hinge, sgdc__penalty=elasticnet;, score=0.865 total time=   0.0s\n",
      "[CV 1/5; 28/60] START sgdc__alpha=0.01, sgdc__loss=perceptron, sgdc__penalty=l2.\n",
      "[CV 1/5; 28/60] END sgdc__alpha=0.01, sgdc__loss=perceptron, sgdc__penalty=l2;, score=0.872 total time=   0.0s\n",
      "[CV 2/5; 28/60] START sgdc__alpha=0.01, sgdc__loss=perceptron, sgdc__penalty=l2.\n",
      "[CV 2/5; 28/60] END sgdc__alpha=0.01, sgdc__loss=perceptron, sgdc__penalty=l2;, score=0.815 total time=   0.0s\n",
      "[CV 3/5; 28/60] START sgdc__alpha=0.01, sgdc__loss=perceptron, sgdc__penalty=l2.\n",
      "[CV 3/5; 28/60] END sgdc__alpha=0.01, sgdc__loss=perceptron, sgdc__penalty=l2;, score=0.838 total time=   0.0s\n",
      "[CV 4/5; 28/60] START sgdc__alpha=0.01, sgdc__loss=perceptron, sgdc__penalty=l2.\n",
      "[CV 4/5; 28/60] END sgdc__alpha=0.01, sgdc__loss=perceptron, sgdc__penalty=l2;, score=0.861 total time=   0.0s\n",
      "[CV 5/5; 28/60] START sgdc__alpha=0.01, sgdc__loss=perceptron, sgdc__penalty=l2.\n",
      "[CV 5/5; 28/60] END sgdc__alpha=0.01, sgdc__loss=perceptron, sgdc__penalty=l2;, score=0.814 total time=   0.0s\n",
      "[CV 1/5; 29/60] START sgdc__alpha=0.01, sgdc__loss=perceptron, sgdc__penalty=l1.\n",
      "[CV 1/5; 29/60] END sgdc__alpha=0.01, sgdc__loss=perceptron, sgdc__penalty=l1;, score=0.811 total time=   0.0s\n",
      "[CV 2/5; 29/60] START sgdc__alpha=0.01, sgdc__loss=perceptron, sgdc__penalty=l1.\n",
      "[CV 2/5; 29/60] END sgdc__alpha=0.01, sgdc__loss=perceptron, sgdc__penalty=l1;, score=0.859 total time=   0.0s\n",
      "[CV 3/5; 29/60] START sgdc__alpha=0.01, sgdc__loss=perceptron, sgdc__penalty=l1.\n",
      "[CV 3/5; 29/60] END sgdc__alpha=0.01, sgdc__loss=perceptron, sgdc__penalty=l1;, score=0.471 total time=   0.0s\n",
      "[CV 4/5; 29/60] START sgdc__alpha=0.01, sgdc__loss=perceptron, sgdc__penalty=l1.\n",
      "[CV 4/5; 29/60] END sgdc__alpha=0.01, sgdc__loss=perceptron, sgdc__penalty=l1;, score=0.882 total time=   0.0s\n",
      "[CV 5/5; 29/60] START sgdc__alpha=0.01, sgdc__loss=perceptron, sgdc__penalty=l1.\n",
      "[CV 5/5; 29/60] END sgdc__alpha=0.01, sgdc__loss=perceptron, sgdc__penalty=l1;, score=0.767 total time=   0.0s\n",
      "[CV 1/5; 30/60] START sgdc__alpha=0.01, sgdc__loss=perceptron, sgdc__penalty=elasticnet\n",
      "[CV 1/5; 30/60] END sgdc__alpha=0.01, sgdc__loss=perceptron, sgdc__penalty=elasticnet;, score=0.855 total time=   0.0s\n",
      "[CV 2/5; 30/60] START sgdc__alpha=0.01, sgdc__loss=perceptron, sgdc__penalty=elasticnet\n",
      "[CV 2/5; 30/60] END sgdc__alpha=0.01, sgdc__loss=perceptron, sgdc__penalty=elasticnet;, score=0.822 total time=   0.0s\n",
      "[CV 3/5; 30/60] START sgdc__alpha=0.01, sgdc__loss=perceptron, sgdc__penalty=elasticnet\n",
      "[CV 3/5; 30/60] END sgdc__alpha=0.01, sgdc__loss=perceptron, sgdc__penalty=elasticnet;, score=0.811 total time=   0.0s\n",
      "[CV 4/5; 30/60] START sgdc__alpha=0.01, sgdc__loss=perceptron, sgdc__penalty=elasticnet\n",
      "[CV 4/5; 30/60] END sgdc__alpha=0.01, sgdc__loss=perceptron, sgdc__penalty=elasticnet;, score=0.807 total time=   0.0s\n",
      "[CV 5/5; 30/60] START sgdc__alpha=0.01, sgdc__loss=perceptron, sgdc__penalty=elasticnet\n",
      "[CV 5/5; 30/60] END sgdc__alpha=0.01, sgdc__loss=perceptron, sgdc__penalty=elasticnet;, score=0.753 total time=   0.0s\n",
      "[CV 1/5; 31/60] START sgdc__alpha=0.001, sgdc__loss=hinge, sgdc__penalty=l2.....\n",
      "[CV 1/5; 31/60] END sgdc__alpha=0.001, sgdc__loss=hinge, sgdc__penalty=l2;, score=0.859 total time=   0.0s\n",
      "[CV 2/5; 31/60] START sgdc__alpha=0.001, sgdc__loss=hinge, sgdc__penalty=l2.....\n",
      "[CV 2/5; 31/60] END sgdc__alpha=0.001, sgdc__loss=hinge, sgdc__penalty=l2;, score=0.862 total time=   0.0s\n",
      "[CV 3/5; 31/60] START sgdc__alpha=0.001, sgdc__loss=hinge, sgdc__penalty=l2.....\n",
      "[CV 3/5; 31/60] END sgdc__alpha=0.001, sgdc__loss=hinge, sgdc__penalty=l2;, score=0.869 total time=   0.0s\n",
      "[CV 4/5; 31/60] START sgdc__alpha=0.001, sgdc__loss=hinge, sgdc__penalty=l2.....\n",
      "[CV 4/5; 31/60] END sgdc__alpha=0.001, sgdc__loss=hinge, sgdc__penalty=l2;, score=0.878 total time=   0.0s\n",
      "[CV 5/5; 31/60] START sgdc__alpha=0.001, sgdc__loss=hinge, sgdc__penalty=l2.....\n",
      "[CV 5/5; 31/60] END sgdc__alpha=0.001, sgdc__loss=hinge, sgdc__penalty=l2;, score=0.861 total time=   0.0s\n",
      "[CV 1/5; 32/60] START sgdc__alpha=0.001, sgdc__loss=hinge, sgdc__penalty=l1.....\n",
      "[CV 1/5; 32/60] END sgdc__alpha=0.001, sgdc__loss=hinge, sgdc__penalty=l1;, score=0.859 total time=   0.0s\n",
      "[CV 2/5; 32/60] START sgdc__alpha=0.001, sgdc__loss=hinge, sgdc__penalty=l1.....\n",
      "[CV 2/5; 32/60] END sgdc__alpha=0.001, sgdc__loss=hinge, sgdc__penalty=l1;, score=0.865 total time=   0.0s\n",
      "[CV 3/5; 32/60] START sgdc__alpha=0.001, sgdc__loss=hinge, sgdc__penalty=l1.....\n",
      "[CV 3/5; 32/60] END sgdc__alpha=0.001, sgdc__loss=hinge, sgdc__penalty=l1;, score=0.872 total time=   0.0s\n",
      "[CV 4/5; 32/60] START sgdc__alpha=0.001, sgdc__loss=hinge, sgdc__penalty=l1.....\n",
      "[CV 4/5; 32/60] END sgdc__alpha=0.001, sgdc__loss=hinge, sgdc__penalty=l1;, score=0.882 total time=   0.0s\n",
      "[CV 5/5; 32/60] START sgdc__alpha=0.001, sgdc__loss=hinge, sgdc__penalty=l1.....\n",
      "[CV 5/5; 32/60] END sgdc__alpha=0.001, sgdc__loss=hinge, sgdc__penalty=l1;, score=0.858 total time=   0.0s\n",
      "[CV 1/5; 33/60] START sgdc__alpha=0.001, sgdc__loss=hinge, sgdc__penalty=elasticnet\n",
      "[CV 1/5; 33/60] END sgdc__alpha=0.001, sgdc__loss=hinge, sgdc__penalty=elasticnet;, score=0.865 total time=   0.0s\n",
      "[CV 2/5; 33/60] START sgdc__alpha=0.001, sgdc__loss=hinge, sgdc__penalty=elasticnet\n",
      "[CV 2/5; 33/60] END sgdc__alpha=0.001, sgdc__loss=hinge, sgdc__penalty=elasticnet;, score=0.862 total time=   0.0s\n",
      "[CV 3/5; 33/60] START sgdc__alpha=0.001, sgdc__loss=hinge, sgdc__penalty=elasticnet\n",
      "[CV 3/5; 33/60] END sgdc__alpha=0.001, sgdc__loss=hinge, sgdc__penalty=elasticnet;, score=0.862 total time=   0.0s\n",
      "[CV 4/5; 33/60] START sgdc__alpha=0.001, sgdc__loss=hinge, sgdc__penalty=elasticnet\n",
      "[CV 4/5; 33/60] END sgdc__alpha=0.001, sgdc__loss=hinge, sgdc__penalty=elasticnet;, score=0.882 total time=   0.0s\n",
      "[CV 5/5; 33/60] START sgdc__alpha=0.001, sgdc__loss=hinge, sgdc__penalty=elasticnet\n",
      "[CV 5/5; 33/60] END sgdc__alpha=0.001, sgdc__loss=hinge, sgdc__penalty=elasticnet;, score=0.868 total time=   0.0s\n",
      "[CV 1/5; 34/60] START sgdc__alpha=0.001, sgdc__loss=log, sgdc__penalty=l2.......\n",
      "[CV 1/5; 34/60] END sgdc__alpha=0.001, sgdc__loss=log, sgdc__penalty=l2;, score=0.862 total time=   0.0s\n",
      "[CV 2/5; 34/60] START sgdc__alpha=0.001, sgdc__loss=log, sgdc__penalty=l2.......\n",
      "[CV 2/5; 34/60] END sgdc__alpha=0.001, sgdc__loss=log, sgdc__penalty=l2;, score=0.862 total time=   0.0s\n",
      "[CV 3/5; 34/60] START sgdc__alpha=0.001, sgdc__loss=log, sgdc__penalty=l2.......\n",
      "[CV 3/5; 34/60] END sgdc__alpha=0.001, sgdc__loss=log, sgdc__penalty=l2;, score=0.862 total time=   0.0s\n",
      "[CV 4/5; 34/60] START sgdc__alpha=0.001, sgdc__loss=log, sgdc__penalty=l2.......\n",
      "[CV 4/5; 34/60] END sgdc__alpha=0.001, sgdc__loss=log, sgdc__penalty=l2;, score=0.892 total time=   0.0s\n",
      "[CV 5/5; 34/60] START sgdc__alpha=0.001, sgdc__loss=log, sgdc__penalty=l2.......\n",
      "[CV 5/5; 34/60] END sgdc__alpha=0.001, sgdc__loss=log, sgdc__penalty=l2;, score=0.868 total time=   0.0s\n",
      "[CV 1/5; 35/60] START sgdc__alpha=0.001, sgdc__loss=log, sgdc__penalty=l1.......\n",
      "[CV 1/5; 35/60] END sgdc__alpha=0.001, sgdc__loss=log, sgdc__penalty=l1;, score=0.865 total time=   0.0s\n",
      "[CV 2/5; 35/60] START sgdc__alpha=0.001, sgdc__loss=log, sgdc__penalty=l1.......\n",
      "[CV 2/5; 35/60] END sgdc__alpha=0.001, sgdc__loss=log, sgdc__penalty=l1;, score=0.862 total time=   0.0s\n",
      "[CV 3/5; 35/60] START sgdc__alpha=0.001, sgdc__loss=log, sgdc__penalty=l1.......\n",
      "[CV 3/5; 35/60] END sgdc__alpha=0.001, sgdc__loss=log, sgdc__penalty=l1;, score=0.862 total time=   0.0s\n",
      "[CV 4/5; 35/60] START sgdc__alpha=0.001, sgdc__loss=log, sgdc__penalty=l1.......\n",
      "[CV 4/5; 35/60] END sgdc__alpha=0.001, sgdc__loss=log, sgdc__penalty=l1;, score=0.892 total time=   0.0s\n",
      "[CV 5/5; 35/60] START sgdc__alpha=0.001, sgdc__loss=log, sgdc__penalty=l1.......\n",
      "[CV 5/5; 35/60] END sgdc__alpha=0.001, sgdc__loss=log, sgdc__penalty=l1;, score=0.851 total time=   0.0s\n",
      "[CV 1/5; 36/60] START sgdc__alpha=0.001, sgdc__loss=log, sgdc__penalty=elasticnet\n",
      "[CV 1/5; 36/60] END sgdc__alpha=0.001, sgdc__loss=log, sgdc__penalty=elasticnet;, score=0.855 total time=   0.0s\n",
      "[CV 2/5; 36/60] START sgdc__alpha=0.001, sgdc__loss=log, sgdc__penalty=elasticnet\n",
      "[CV 2/5; 36/60] END sgdc__alpha=0.001, sgdc__loss=log, sgdc__penalty=elasticnet;, score=0.862 total time=   0.0s\n",
      "[CV 3/5; 36/60] START sgdc__alpha=0.001, sgdc__loss=log, sgdc__penalty=elasticnet\n",
      "[CV 3/5; 36/60] END sgdc__alpha=0.001, sgdc__loss=log, sgdc__penalty=elasticnet;, score=0.862 total time=   0.0s\n",
      "[CV 4/5; 36/60] START sgdc__alpha=0.001, sgdc__loss=log, sgdc__penalty=elasticnet\n",
      "[CV 4/5; 36/60] END sgdc__alpha=0.001, sgdc__loss=log, sgdc__penalty=elasticnet;, score=0.892 total time=   0.0s\n",
      "[CV 5/5; 36/60] START sgdc__alpha=0.001, sgdc__loss=log, sgdc__penalty=elasticnet\n",
      "[CV 5/5; 36/60] END sgdc__alpha=0.001, sgdc__loss=log, sgdc__penalty=elasticnet;, score=0.848 total time=   0.0s\n",
      "[CV 1/5; 37/60] START sgdc__alpha=0.001, sgdc__loss=modified_huber, sgdc__penalty=l2\n",
      "[CV 1/5; 37/60] END sgdc__alpha=0.001, sgdc__loss=modified_huber, sgdc__penalty=l2;, score=0.862 total time=   0.0s\n",
      "[CV 2/5; 37/60] START sgdc__alpha=0.001, sgdc__loss=modified_huber, sgdc__penalty=l2\n"
     ]
    },
    {
     "name": "stdout",
     "output_type": "stream",
     "text": [
      "[CV 2/5; 37/60] END sgdc__alpha=0.001, sgdc__loss=modified_huber, sgdc__penalty=l2;, score=0.865 total time=   0.0s\n",
      "[CV 3/5; 37/60] START sgdc__alpha=0.001, sgdc__loss=modified_huber, sgdc__penalty=l2\n",
      "[CV 3/5; 37/60] END sgdc__alpha=0.001, sgdc__loss=modified_huber, sgdc__penalty=l2;, score=0.862 total time=   0.0s\n",
      "[CV 4/5; 37/60] START sgdc__alpha=0.001, sgdc__loss=modified_huber, sgdc__penalty=l2\n",
      "[CV 4/5; 37/60] END sgdc__alpha=0.001, sgdc__loss=modified_huber, sgdc__penalty=l2;, score=0.892 total time=   0.0s\n",
      "[CV 5/5; 37/60] START sgdc__alpha=0.001, sgdc__loss=modified_huber, sgdc__penalty=l2\n",
      "[CV 5/5; 37/60] END sgdc__alpha=0.001, sgdc__loss=modified_huber, sgdc__penalty=l2;, score=0.845 total time=   0.0s\n",
      "[CV 1/5; 38/60] START sgdc__alpha=0.001, sgdc__loss=modified_huber, sgdc__penalty=l1\n",
      "[CV 1/5; 38/60] END sgdc__alpha=0.001, sgdc__loss=modified_huber, sgdc__penalty=l1;, score=0.828 total time=   0.0s\n",
      "[CV 2/5; 38/60] START sgdc__alpha=0.001, sgdc__loss=modified_huber, sgdc__penalty=l1\n",
      "[CV 2/5; 38/60] END sgdc__alpha=0.001, sgdc__loss=modified_huber, sgdc__penalty=l1;, score=0.865 total time=   0.0s\n",
      "[CV 3/5; 38/60] START sgdc__alpha=0.001, sgdc__loss=modified_huber, sgdc__penalty=l1\n",
      "[CV 3/5; 38/60] END sgdc__alpha=0.001, sgdc__loss=modified_huber, sgdc__penalty=l1;, score=0.872 total time=   0.0s\n",
      "[CV 4/5; 38/60] START sgdc__alpha=0.001, sgdc__loss=modified_huber, sgdc__penalty=l1\n",
      "[CV 4/5; 38/60] END sgdc__alpha=0.001, sgdc__loss=modified_huber, sgdc__penalty=l1;, score=0.872 total time=   0.0s\n",
      "[CV 5/5; 38/60] START sgdc__alpha=0.001, sgdc__loss=modified_huber, sgdc__penalty=l1\n",
      "[CV 5/5; 38/60] END sgdc__alpha=0.001, sgdc__loss=modified_huber, sgdc__penalty=l1;, score=0.875 total time=   0.0s\n",
      "[CV 1/5; 39/60] START sgdc__alpha=0.001, sgdc__loss=modified_huber, sgdc__penalty=elasticnet\n",
      "[CV 1/5; 39/60] END sgdc__alpha=0.001, sgdc__loss=modified_huber, sgdc__penalty=elasticnet;, score=0.828 total time=   0.0s\n",
      "[CV 2/5; 39/60] START sgdc__alpha=0.001, sgdc__loss=modified_huber, sgdc__penalty=elasticnet\n",
      "[CV 2/5; 39/60] END sgdc__alpha=0.001, sgdc__loss=modified_huber, sgdc__penalty=elasticnet;, score=0.845 total time=   0.0s\n",
      "[CV 3/5; 39/60] START sgdc__alpha=0.001, sgdc__loss=modified_huber, sgdc__penalty=elasticnet\n",
      "[CV 3/5; 39/60] END sgdc__alpha=0.001, sgdc__loss=modified_huber, sgdc__penalty=elasticnet;, score=0.872 total time=   0.0s\n",
      "[CV 4/5; 39/60] START sgdc__alpha=0.001, sgdc__loss=modified_huber, sgdc__penalty=elasticnet\n",
      "[CV 4/5; 39/60] END sgdc__alpha=0.001, sgdc__loss=modified_huber, sgdc__penalty=elasticnet;, score=0.868 total time=   0.0s\n",
      "[CV 5/5; 39/60] START sgdc__alpha=0.001, sgdc__loss=modified_huber, sgdc__penalty=elasticnet\n",
      "[CV 5/5; 39/60] END sgdc__alpha=0.001, sgdc__loss=modified_huber, sgdc__penalty=elasticnet;, score=0.872 total time=   0.0s\n",
      "[CV 1/5; 40/60] START sgdc__alpha=0.001, sgdc__loss=squared_hinge, sgdc__penalty=l2\n",
      "[CV 1/5; 40/60] END sgdc__alpha=0.001, sgdc__loss=squared_hinge, sgdc__penalty=l2;, score=0.835 total time=   0.0s\n",
      "[CV 2/5; 40/60] START sgdc__alpha=0.001, sgdc__loss=squared_hinge, sgdc__penalty=l2\n",
      "[CV 2/5; 40/60] END sgdc__alpha=0.001, sgdc__loss=squared_hinge, sgdc__penalty=l2;, score=0.845 total time=   0.0s\n",
      "[CV 3/5; 40/60] START sgdc__alpha=0.001, sgdc__loss=squared_hinge, sgdc__penalty=l2\n",
      "[CV 3/5; 40/60] END sgdc__alpha=0.001, sgdc__loss=squared_hinge, sgdc__penalty=l2;, score=0.862 total time=   0.0s\n",
      "[CV 4/5; 40/60] START sgdc__alpha=0.001, sgdc__loss=squared_hinge, sgdc__penalty=l2\n",
      "[CV 4/5; 40/60] END sgdc__alpha=0.001, sgdc__loss=squared_hinge, sgdc__penalty=l2;, score=0.895 total time=   0.0s\n",
      "[CV 5/5; 40/60] START sgdc__alpha=0.001, sgdc__loss=squared_hinge, sgdc__penalty=l2\n",
      "[CV 5/5; 40/60] END sgdc__alpha=0.001, sgdc__loss=squared_hinge, sgdc__penalty=l2;, score=0.834 total time=   0.0s\n",
      "[CV 1/5; 41/60] START sgdc__alpha=0.001, sgdc__loss=squared_hinge, sgdc__penalty=l1\n",
      "[CV 1/5; 41/60] END sgdc__alpha=0.001, sgdc__loss=squared_hinge, sgdc__penalty=l1;, score=0.838 total time=   0.0s\n",
      "[CV 2/5; 41/60] START sgdc__alpha=0.001, sgdc__loss=squared_hinge, sgdc__penalty=l1\n",
      "[CV 2/5; 41/60] END sgdc__alpha=0.001, sgdc__loss=squared_hinge, sgdc__penalty=l1;, score=0.855 total time=   0.0s\n",
      "[CV 3/5; 41/60] START sgdc__alpha=0.001, sgdc__loss=squared_hinge, sgdc__penalty=l1\n",
      "[CV 3/5; 41/60] END sgdc__alpha=0.001, sgdc__loss=squared_hinge, sgdc__penalty=l1;, score=0.838 total time=   0.0s\n",
      "[CV 4/5; 41/60] START sgdc__alpha=0.001, sgdc__loss=squared_hinge, sgdc__penalty=l1\n",
      "[CV 4/5; 41/60] END sgdc__alpha=0.001, sgdc__loss=squared_hinge, sgdc__penalty=l1;, score=0.858 total time=   0.0s\n",
      "[CV 5/5; 41/60] START sgdc__alpha=0.001, sgdc__loss=squared_hinge, sgdc__penalty=l1\n",
      "[CV 5/5; 41/60] END sgdc__alpha=0.001, sgdc__loss=squared_hinge, sgdc__penalty=l1;, score=0.855 total time=   0.0s\n",
      "[CV 1/5; 42/60] START sgdc__alpha=0.001, sgdc__loss=squared_hinge, sgdc__penalty=elasticnet\n",
      "[CV 1/5; 42/60] END sgdc__alpha=0.001, sgdc__loss=squared_hinge, sgdc__penalty=elasticnet;, score=0.838 total time=   0.0s\n",
      "[CV 2/5; 42/60] START sgdc__alpha=0.001, sgdc__loss=squared_hinge, sgdc__penalty=elasticnet\n",
      "[CV 2/5; 42/60] END sgdc__alpha=0.001, sgdc__loss=squared_hinge, sgdc__penalty=elasticnet;, score=0.855 total time=   0.0s\n",
      "[CV 3/5; 42/60] START sgdc__alpha=0.001, sgdc__loss=squared_hinge, sgdc__penalty=elasticnet\n",
      "[CV 3/5; 42/60] END sgdc__alpha=0.001, sgdc__loss=squared_hinge, sgdc__penalty=elasticnet;, score=0.859 total time=   0.0s\n",
      "[CV 4/5; 42/60] START sgdc__alpha=0.001, sgdc__loss=squared_hinge, sgdc__penalty=elasticnet\n",
      "[CV 4/5; 42/60] END sgdc__alpha=0.001, sgdc__loss=squared_hinge, sgdc__penalty=elasticnet;, score=0.861 total time=   0.0s\n",
      "[CV 5/5; 42/60] START sgdc__alpha=0.001, sgdc__loss=squared_hinge, sgdc__penalty=elasticnet\n",
      "[CV 5/5; 42/60] END sgdc__alpha=0.001, sgdc__loss=squared_hinge, sgdc__penalty=elasticnet;, score=0.855 total time=   0.0s\n",
      "[CV 1/5; 43/60] START sgdc__alpha=0.001, sgdc__loss=perceptron, sgdc__penalty=l2\n",
      "[CV 1/5; 43/60] END sgdc__alpha=0.001, sgdc__loss=perceptron, sgdc__penalty=l2;, score=0.778 total time=   0.0s\n",
      "[CV 2/5; 43/60] START sgdc__alpha=0.001, sgdc__loss=perceptron, sgdc__penalty=l2\n",
      "[CV 2/5; 43/60] END sgdc__alpha=0.001, sgdc__loss=perceptron, sgdc__penalty=l2;, score=0.727 total time=   0.0s\n",
      "[CV 3/5; 43/60] START sgdc__alpha=0.001, sgdc__loss=perceptron, sgdc__penalty=l2\n",
      "[CV 3/5; 43/60] END sgdc__alpha=0.001, sgdc__loss=perceptron, sgdc__penalty=l2;, score=0.771 total time=   0.0s\n",
      "[CV 4/5; 43/60] START sgdc__alpha=0.001, sgdc__loss=perceptron, sgdc__penalty=l2\n",
      "[CV 4/5; 43/60] END sgdc__alpha=0.001, sgdc__loss=perceptron, sgdc__penalty=l2;, score=0.811 total time=   0.0s\n",
      "[CV 5/5; 43/60] START sgdc__alpha=0.001, sgdc__loss=perceptron, sgdc__penalty=l2\n",
      "[CV 5/5; 43/60] END sgdc__alpha=0.001, sgdc__loss=perceptron, sgdc__penalty=l2;, score=0.730 total time=   0.0s\n",
      "[CV 1/5; 44/60] START sgdc__alpha=0.001, sgdc__loss=perceptron, sgdc__penalty=l1\n",
      "[CV 1/5; 44/60] END sgdc__alpha=0.001, sgdc__loss=perceptron, sgdc__penalty=l1;, score=0.801 total time=   0.0s\n",
      "[CV 2/5; 44/60] START sgdc__alpha=0.001, sgdc__loss=perceptron, sgdc__penalty=l1\n",
      "[CV 2/5; 44/60] END sgdc__alpha=0.001, sgdc__loss=perceptron, sgdc__penalty=l1;, score=0.842 total time=   0.0s\n",
      "[CV 3/5; 44/60] START sgdc__alpha=0.001, sgdc__loss=perceptron, sgdc__penalty=l1\n",
      "[CV 3/5; 44/60] END sgdc__alpha=0.001, sgdc__loss=perceptron, sgdc__penalty=l1;, score=0.785 total time=   0.0s\n",
      "[CV 4/5; 44/60] START sgdc__alpha=0.001, sgdc__loss=perceptron, sgdc__penalty=l1\n",
      "[CV 4/5; 44/60] END sgdc__alpha=0.001, sgdc__loss=perceptron, sgdc__penalty=l1;, score=0.865 total time=   0.0s\n",
      "[CV 5/5; 44/60] START sgdc__alpha=0.001, sgdc__loss=perceptron, sgdc__penalty=l1\n",
      "[CV 5/5; 44/60] END sgdc__alpha=0.001, sgdc__loss=perceptron, sgdc__penalty=l1;, score=0.804 total time=   0.0s\n",
      "[CV 1/5; 45/60] START sgdc__alpha=0.001, sgdc__loss=perceptron, sgdc__penalty=elasticnet\n",
      "[CV 1/5; 45/60] END sgdc__alpha=0.001, sgdc__loss=perceptron, sgdc__penalty=elasticnet;, score=0.805 total time=   0.0s\n",
      "[CV 2/5; 45/60] START sgdc__alpha=0.001, sgdc__loss=perceptron, sgdc__penalty=elasticnet\n",
      "[CV 2/5; 45/60] END sgdc__alpha=0.001, sgdc__loss=perceptron, sgdc__penalty=elasticnet;, score=0.680 total time=   0.0s\n",
      "[CV 3/5; 45/60] START sgdc__alpha=0.001, sgdc__loss=perceptron, sgdc__penalty=elasticnet\n",
      "[CV 3/5; 45/60] END sgdc__alpha=0.001, sgdc__loss=perceptron, sgdc__penalty=elasticnet;, score=0.842 total time=   0.0s\n",
      "[CV 4/5; 45/60] START sgdc__alpha=0.001, sgdc__loss=perceptron, sgdc__penalty=elasticnet\n",
      "[CV 4/5; 45/60] END sgdc__alpha=0.001, sgdc__loss=perceptron, sgdc__penalty=elasticnet;, score=0.767 total time=   0.0s\n",
      "[CV 5/5; 45/60] START sgdc__alpha=0.001, sgdc__loss=perceptron, sgdc__penalty=elasticnet\n",
      "[CV 5/5; 45/60] END sgdc__alpha=0.001, sgdc__loss=perceptron, sgdc__penalty=elasticnet;, score=0.794 total time=   0.0s\n",
      "[CV 1/5; 46/60] START sgdc__alpha=0.0001, sgdc__loss=hinge, sgdc__penalty=l2....\n",
      "[CV 1/5; 46/60] END sgdc__alpha=0.0001, sgdc__loss=hinge, sgdc__penalty=l2;, score=0.815 total time=   0.0s\n",
      "[CV 2/5; 46/60] START sgdc__alpha=0.0001, sgdc__loss=hinge, sgdc__penalty=l2....\n"
     ]
    },
    {
     "name": "stdout",
     "output_type": "stream",
     "text": [
      "[CV 2/5; 46/60] END sgdc__alpha=0.0001, sgdc__loss=hinge, sgdc__penalty=l2;, score=0.835 total time=   0.0s\n",
      "[CV 3/5; 46/60] START sgdc__alpha=0.0001, sgdc__loss=hinge, sgdc__penalty=l2....\n",
      "[CV 3/5; 46/60] END sgdc__alpha=0.0001, sgdc__loss=hinge, sgdc__penalty=l2;, score=0.862 total time=   0.0s\n",
      "[CV 4/5; 46/60] START sgdc__alpha=0.0001, sgdc__loss=hinge, sgdc__penalty=l2....\n",
      "[CV 4/5; 46/60] END sgdc__alpha=0.0001, sgdc__loss=hinge, sgdc__penalty=l2;, score=0.865 total time=   0.0s\n",
      "[CV 5/5; 46/60] START sgdc__alpha=0.0001, sgdc__loss=hinge, sgdc__penalty=l2....\n",
      "[CV 5/5; 46/60] END sgdc__alpha=0.0001, sgdc__loss=hinge, sgdc__penalty=l2;, score=0.784 total time=   0.0s\n",
      "[CV 1/5; 47/60] START sgdc__alpha=0.0001, sgdc__loss=hinge, sgdc__penalty=l1....\n",
      "[CV 1/5; 47/60] END sgdc__alpha=0.0001, sgdc__loss=hinge, sgdc__penalty=l1;, score=0.808 total time=   0.0s\n",
      "[CV 2/5; 47/60] START sgdc__alpha=0.0001, sgdc__loss=hinge, sgdc__penalty=l1....\n",
      "[CV 2/5; 47/60] END sgdc__alpha=0.0001, sgdc__loss=hinge, sgdc__penalty=l1;, score=0.855 total time=   0.0s\n",
      "[CV 3/5; 47/60] START sgdc__alpha=0.0001, sgdc__loss=hinge, sgdc__penalty=l1....\n",
      "[CV 3/5; 47/60] END sgdc__alpha=0.0001, sgdc__loss=hinge, sgdc__penalty=l1;, score=0.822 total time=   0.0s\n",
      "[CV 4/5; 47/60] START sgdc__alpha=0.0001, sgdc__loss=hinge, sgdc__penalty=l1....\n",
      "[CV 4/5; 47/60] END sgdc__alpha=0.0001, sgdc__loss=hinge, sgdc__penalty=l1;, score=0.834 total time=   0.0s\n",
      "[CV 5/5; 47/60] START sgdc__alpha=0.0001, sgdc__loss=hinge, sgdc__penalty=l1....\n",
      "[CV 5/5; 47/60] END sgdc__alpha=0.0001, sgdc__loss=hinge, sgdc__penalty=l1;, score=0.855 total time=   0.0s\n",
      "[CV 1/5; 48/60] START sgdc__alpha=0.0001, sgdc__loss=hinge, sgdc__penalty=elasticnet\n",
      "[CV 1/5; 48/60] END sgdc__alpha=0.0001, sgdc__loss=hinge, sgdc__penalty=elasticnet;, score=0.835 total time=   0.0s\n",
      "[CV 2/5; 48/60] START sgdc__alpha=0.0001, sgdc__loss=hinge, sgdc__penalty=elasticnet\n",
      "[CV 2/5; 48/60] END sgdc__alpha=0.0001, sgdc__loss=hinge, sgdc__penalty=elasticnet;, score=0.848 total time=   0.0s\n",
      "[CV 3/5; 48/60] START sgdc__alpha=0.0001, sgdc__loss=hinge, sgdc__penalty=elasticnet\n",
      "[CV 3/5; 48/60] END sgdc__alpha=0.0001, sgdc__loss=hinge, sgdc__penalty=elasticnet;, score=0.872 total time=   0.0s\n",
      "[CV 4/5; 48/60] START sgdc__alpha=0.0001, sgdc__loss=hinge, sgdc__penalty=elasticnet\n",
      "[CV 4/5; 48/60] END sgdc__alpha=0.0001, sgdc__loss=hinge, sgdc__penalty=elasticnet;, score=0.841 total time=   0.0s\n",
      "[CV 5/5; 48/60] START sgdc__alpha=0.0001, sgdc__loss=hinge, sgdc__penalty=elasticnet\n",
      "[CV 5/5; 48/60] END sgdc__alpha=0.0001, sgdc__loss=hinge, sgdc__penalty=elasticnet;, score=0.824 total time=   0.0s\n",
      "[CV 1/5; 49/60] START sgdc__alpha=0.0001, sgdc__loss=log, sgdc__penalty=l2......\n",
      "[CV 1/5; 49/60] END sgdc__alpha=0.0001, sgdc__loss=log, sgdc__penalty=l2;, score=0.852 total time=   0.0s\n",
      "[CV 2/5; 49/60] START sgdc__alpha=0.0001, sgdc__loss=log, sgdc__penalty=l2......\n",
      "[CV 2/5; 49/60] END sgdc__alpha=0.0001, sgdc__loss=log, sgdc__penalty=l2;, score=0.859 total time=   0.0s\n",
      "[CV 3/5; 49/60] START sgdc__alpha=0.0001, sgdc__loss=log, sgdc__penalty=l2......\n",
      "[CV 3/5; 49/60] END sgdc__alpha=0.0001, sgdc__loss=log, sgdc__penalty=l2;, score=0.855 total time=   0.0s\n",
      "[CV 4/5; 49/60] START sgdc__alpha=0.0001, sgdc__loss=log, sgdc__penalty=l2......\n",
      "[CV 4/5; 49/60] END sgdc__alpha=0.0001, sgdc__loss=log, sgdc__penalty=l2;, score=0.861 total time=   0.0s\n",
      "[CV 5/5; 49/60] START sgdc__alpha=0.0001, sgdc__loss=log, sgdc__penalty=l2......\n",
      "[CV 5/5; 49/60] END sgdc__alpha=0.0001, sgdc__loss=log, sgdc__penalty=l2;, score=0.848 total time=   0.0s\n",
      "[CV 1/5; 50/60] START sgdc__alpha=0.0001, sgdc__loss=log, sgdc__penalty=l1......\n",
      "[CV 1/5; 50/60] END sgdc__alpha=0.0001, sgdc__loss=log, sgdc__penalty=l1;, score=0.825 total time=   0.0s\n",
      "[CV 2/5; 50/60] START sgdc__alpha=0.0001, sgdc__loss=log, sgdc__penalty=l1......\n",
      "[CV 2/5; 50/60] END sgdc__alpha=0.0001, sgdc__loss=log, sgdc__penalty=l1;, score=0.852 total time=   0.0s\n",
      "[CV 3/5; 50/60] START sgdc__alpha=0.0001, sgdc__loss=log, sgdc__penalty=l1......\n",
      "[CV 3/5; 50/60] END sgdc__alpha=0.0001, sgdc__loss=log, sgdc__penalty=l1;, score=0.869 total time=   0.0s\n",
      "[CV 4/5; 50/60] START sgdc__alpha=0.0001, sgdc__loss=log, sgdc__penalty=l1......\n",
      "[CV 4/5; 50/60] END sgdc__alpha=0.0001, sgdc__loss=log, sgdc__penalty=l1;, score=0.868 total time=   0.0s\n",
      "[CV 5/5; 50/60] START sgdc__alpha=0.0001, sgdc__loss=log, sgdc__penalty=l1......\n",
      "[CV 5/5; 50/60] END sgdc__alpha=0.0001, sgdc__loss=log, sgdc__penalty=l1;, score=0.851 total time=   0.0s\n",
      "[CV 1/5; 51/60] START sgdc__alpha=0.0001, sgdc__loss=log, sgdc__penalty=elasticnet\n",
      "[CV 1/5; 51/60] END sgdc__alpha=0.0001, sgdc__loss=log, sgdc__penalty=elasticnet;, score=0.825 total time=   0.0s\n",
      "[CV 2/5; 51/60] START sgdc__alpha=0.0001, sgdc__loss=log, sgdc__penalty=elasticnet\n",
      "[CV 2/5; 51/60] END sgdc__alpha=0.0001, sgdc__loss=log, sgdc__penalty=elasticnet;, score=0.852 total time=   0.0s\n",
      "[CV 3/5; 51/60] START sgdc__alpha=0.0001, sgdc__loss=log, sgdc__penalty=elasticnet\n",
      "[CV 3/5; 51/60] END sgdc__alpha=0.0001, sgdc__loss=log, sgdc__penalty=elasticnet;, score=0.838 total time=   0.0s\n",
      "[CV 4/5; 51/60] START sgdc__alpha=0.0001, sgdc__loss=log, sgdc__penalty=elasticnet\n",
      "[CV 4/5; 51/60] END sgdc__alpha=0.0001, sgdc__loss=log, sgdc__penalty=elasticnet;, score=0.868 total time=   0.0s\n",
      "[CV 5/5; 51/60] START sgdc__alpha=0.0001, sgdc__loss=log, sgdc__penalty=elasticnet\n",
      "[CV 5/5; 51/60] END sgdc__alpha=0.0001, sgdc__loss=log, sgdc__penalty=elasticnet;, score=0.861 total time=   0.0s\n",
      "[CV 1/5; 52/60] START sgdc__alpha=0.0001, sgdc__loss=modified_huber, sgdc__penalty=l2\n",
      "[CV 1/5; 52/60] END sgdc__alpha=0.0001, sgdc__loss=modified_huber, sgdc__penalty=l2;, score=0.788 total time=   0.0s\n",
      "[CV 2/5; 52/60] START sgdc__alpha=0.0001, sgdc__loss=modified_huber, sgdc__penalty=l2\n",
      "[CV 2/5; 52/60] END sgdc__alpha=0.0001, sgdc__loss=modified_huber, sgdc__penalty=l2;, score=0.798 total time=   0.0s\n",
      "[CV 3/5; 52/60] START sgdc__alpha=0.0001, sgdc__loss=modified_huber, sgdc__penalty=l2\n",
      "[CV 3/5; 52/60] END sgdc__alpha=0.0001, sgdc__loss=modified_huber, sgdc__penalty=l2;, score=0.825 total time=   0.0s\n",
      "[CV 4/5; 52/60] START sgdc__alpha=0.0001, sgdc__loss=modified_huber, sgdc__penalty=l2\n",
      "[CV 4/5; 52/60] END sgdc__alpha=0.0001, sgdc__loss=modified_huber, sgdc__penalty=l2;, score=0.872 total time=   0.0s\n",
      "[CV 5/5; 52/60] START sgdc__alpha=0.0001, sgdc__loss=modified_huber, sgdc__penalty=l2\n",
      "[CV 5/5; 52/60] END sgdc__alpha=0.0001, sgdc__loss=modified_huber, sgdc__penalty=l2;, score=0.713 total time=   0.0s\n",
      "[CV 1/5; 53/60] START sgdc__alpha=0.0001, sgdc__loss=modified_huber, sgdc__penalty=l1\n",
      "[CV 1/5; 53/60] END sgdc__alpha=0.0001, sgdc__loss=modified_huber, sgdc__penalty=l1;, score=0.670 total time=   0.0s\n",
      "[CV 2/5; 53/60] START sgdc__alpha=0.0001, sgdc__loss=modified_huber, sgdc__penalty=l1\n",
      "[CV 2/5; 53/60] END sgdc__alpha=0.0001, sgdc__loss=modified_huber, sgdc__penalty=l1;, score=0.842 total time=   0.0s\n",
      "[CV 3/5; 53/60] START sgdc__alpha=0.0001, sgdc__loss=modified_huber, sgdc__penalty=l1\n",
      "[CV 3/5; 53/60] END sgdc__alpha=0.0001, sgdc__loss=modified_huber, sgdc__penalty=l1;, score=0.842 total time=   0.0s\n",
      "[CV 4/5; 53/60] START sgdc__alpha=0.0001, sgdc__loss=modified_huber, sgdc__penalty=l1\n",
      "[CV 4/5; 53/60] END sgdc__alpha=0.0001, sgdc__loss=modified_huber, sgdc__penalty=l1;, score=0.868 total time=   0.0s\n",
      "[CV 5/5; 53/60] START sgdc__alpha=0.0001, sgdc__loss=modified_huber, sgdc__penalty=l1\n",
      "[CV 5/5; 53/60] END sgdc__alpha=0.0001, sgdc__loss=modified_huber, sgdc__penalty=l1;, score=0.838 total time=   0.0s\n",
      "[CV 1/5; 54/60] START sgdc__alpha=0.0001, sgdc__loss=modified_huber, sgdc__penalty=elasticnet\n",
      "[CV 1/5; 54/60] END sgdc__alpha=0.0001, sgdc__loss=modified_huber, sgdc__penalty=elasticnet;, score=0.855 total time=   0.0s\n",
      "[CV 2/5; 54/60] START sgdc__alpha=0.0001, sgdc__loss=modified_huber, sgdc__penalty=elasticnet\n",
      "[CV 2/5; 54/60] END sgdc__alpha=0.0001, sgdc__loss=modified_huber, sgdc__penalty=elasticnet;, score=0.842 total time=   0.0s\n",
      "[CV 3/5; 54/60] START sgdc__alpha=0.0001, sgdc__loss=modified_huber, sgdc__penalty=elasticnet\n",
      "[CV 3/5; 54/60] END sgdc__alpha=0.0001, sgdc__loss=modified_huber, sgdc__penalty=elasticnet;, score=0.835 total time=   0.0s\n",
      "[CV 4/5; 54/60] START sgdc__alpha=0.0001, sgdc__loss=modified_huber, sgdc__penalty=elasticnet\n"
     ]
    },
    {
     "name": "stdout",
     "output_type": "stream",
     "text": [
      "[CV 4/5; 54/60] END sgdc__alpha=0.0001, sgdc__loss=modified_huber, sgdc__penalty=elasticnet;, score=0.780 total time=   0.0s\n",
      "[CV 5/5; 54/60] START sgdc__alpha=0.0001, sgdc__loss=modified_huber, sgdc__penalty=elasticnet\n",
      "[CV 5/5; 54/60] END sgdc__alpha=0.0001, sgdc__loss=modified_huber, sgdc__penalty=elasticnet;, score=0.824 total time=   0.0s\n",
      "[CV 1/5; 55/60] START sgdc__alpha=0.0001, sgdc__loss=squared_hinge, sgdc__penalty=l2\n",
      "[CV 1/5; 55/60] END sgdc__alpha=0.0001, sgdc__loss=squared_hinge, sgdc__penalty=l2;, score=0.690 total time=   0.0s\n",
      "[CV 2/5; 55/60] START sgdc__alpha=0.0001, sgdc__loss=squared_hinge, sgdc__penalty=l2\n",
      "[CV 2/5; 55/60] END sgdc__alpha=0.0001, sgdc__loss=squared_hinge, sgdc__penalty=l2;, score=0.744 total time=   0.0s\n",
      "[CV 3/5; 55/60] START sgdc__alpha=0.0001, sgdc__loss=squared_hinge, sgdc__penalty=l2\n",
      "[CV 3/5; 55/60] END sgdc__alpha=0.0001, sgdc__loss=squared_hinge, sgdc__penalty=l2;, score=0.818 total time=   0.0s\n",
      "[CV 4/5; 55/60] START sgdc__alpha=0.0001, sgdc__loss=squared_hinge, sgdc__penalty=l2\n",
      "[CV 4/5; 55/60] END sgdc__alpha=0.0001, sgdc__loss=squared_hinge, sgdc__penalty=l2;, score=0.757 total time=   0.0s\n",
      "[CV 5/5; 55/60] START sgdc__alpha=0.0001, sgdc__loss=squared_hinge, sgdc__penalty=l2\n",
      "[CV 5/5; 55/60] END sgdc__alpha=0.0001, sgdc__loss=squared_hinge, sgdc__penalty=l2;, score=0.801 total time=   0.0s\n",
      "[CV 1/5; 56/60] START sgdc__alpha=0.0001, sgdc__loss=squared_hinge, sgdc__penalty=l1\n",
      "[CV 1/5; 56/60] END sgdc__alpha=0.0001, sgdc__loss=squared_hinge, sgdc__penalty=l1;, score=0.805 total time=   0.0s\n",
      "[CV 2/5; 56/60] START sgdc__alpha=0.0001, sgdc__loss=squared_hinge, sgdc__penalty=l1\n",
      "[CV 2/5; 56/60] END sgdc__alpha=0.0001, sgdc__loss=squared_hinge, sgdc__penalty=l1;, score=0.798 total time=   0.0s\n",
      "[CV 3/5; 56/60] START sgdc__alpha=0.0001, sgdc__loss=squared_hinge, sgdc__penalty=l1\n",
      "[CV 3/5; 56/60] END sgdc__alpha=0.0001, sgdc__loss=squared_hinge, sgdc__penalty=l1;, score=0.808 total time=   0.0s\n",
      "[CV 4/5; 56/60] START sgdc__alpha=0.0001, sgdc__loss=squared_hinge, sgdc__penalty=l1\n",
      "[CV 4/5; 56/60] END sgdc__alpha=0.0001, sgdc__loss=squared_hinge, sgdc__penalty=l1;, score=0.797 total time=   0.0s\n",
      "[CV 5/5; 56/60] START sgdc__alpha=0.0001, sgdc__loss=squared_hinge, sgdc__penalty=l1\n",
      "[CV 5/5; 56/60] END sgdc__alpha=0.0001, sgdc__loss=squared_hinge, sgdc__penalty=l1;, score=0.696 total time=   0.0s\n",
      "[CV 1/5; 57/60] START sgdc__alpha=0.0001, sgdc__loss=squared_hinge, sgdc__penalty=elasticnet\n",
      "[CV 1/5; 57/60] END sgdc__alpha=0.0001, sgdc__loss=squared_hinge, sgdc__penalty=elasticnet;, score=0.667 total time=   0.0s\n",
      "[CV 2/5; 57/60] START sgdc__alpha=0.0001, sgdc__loss=squared_hinge, sgdc__penalty=elasticnet\n",
      "[CV 2/5; 57/60] END sgdc__alpha=0.0001, sgdc__loss=squared_hinge, sgdc__penalty=elasticnet;, score=0.774 total time=   0.0s\n",
      "[CV 3/5; 57/60] START sgdc__alpha=0.0001, sgdc__loss=squared_hinge, sgdc__penalty=elasticnet\n",
      "[CV 3/5; 57/60] END sgdc__alpha=0.0001, sgdc__loss=squared_hinge, sgdc__penalty=elasticnet;, score=0.761 total time=   0.0s\n",
      "[CV 4/5; 57/60] START sgdc__alpha=0.0001, sgdc__loss=squared_hinge, sgdc__penalty=elasticnet\n",
      "[CV 4/5; 57/60] END sgdc__alpha=0.0001, sgdc__loss=squared_hinge, sgdc__penalty=elasticnet;, score=0.736 total time=   0.0s\n",
      "[CV 5/5; 57/60] START sgdc__alpha=0.0001, sgdc__loss=squared_hinge, sgdc__penalty=elasticnet\n",
      "[CV 5/5; 57/60] END sgdc__alpha=0.0001, sgdc__loss=squared_hinge, sgdc__penalty=elasticnet;, score=0.625 total time=   0.0s\n",
      "[CV 1/5; 58/60] START sgdc__alpha=0.0001, sgdc__loss=perceptron, sgdc__penalty=l2\n",
      "[CV 1/5; 58/60] END sgdc__alpha=0.0001, sgdc__loss=perceptron, sgdc__penalty=l2;, score=0.795 total time=   0.0s\n",
      "[CV 2/5; 58/60] START sgdc__alpha=0.0001, sgdc__loss=perceptron, sgdc__penalty=l2\n",
      "[CV 2/5; 58/60] END sgdc__alpha=0.0001, sgdc__loss=perceptron, sgdc__penalty=l2;, score=0.791 total time=   0.0s\n",
      "[CV 3/5; 58/60] START sgdc__alpha=0.0001, sgdc__loss=perceptron, sgdc__penalty=l2\n",
      "[CV 3/5; 58/60] END sgdc__alpha=0.0001, sgdc__loss=perceptron, sgdc__penalty=l2;, score=0.815 total time=   0.0s\n",
      "[CV 4/5; 58/60] START sgdc__alpha=0.0001, sgdc__loss=perceptron, sgdc__penalty=l2\n",
      "[CV 4/5; 58/60] END sgdc__alpha=0.0001, sgdc__loss=perceptron, sgdc__penalty=l2;, score=0.855 total time=   0.0s\n",
      "[CV 5/5; 58/60] START sgdc__alpha=0.0001, sgdc__loss=perceptron, sgdc__penalty=l2\n",
      "[CV 5/5; 58/60] END sgdc__alpha=0.0001, sgdc__loss=perceptron, sgdc__penalty=l2;, score=0.845 total time=   0.0s\n",
      "[CV 1/5; 59/60] START sgdc__alpha=0.0001, sgdc__loss=perceptron, sgdc__penalty=l1\n",
      "[CV 1/5; 59/60] END sgdc__alpha=0.0001, sgdc__loss=perceptron, sgdc__penalty=l1;, score=0.737 total time=   0.0s\n",
      "[CV 2/5; 59/60] START sgdc__alpha=0.0001, sgdc__loss=perceptron, sgdc__penalty=l1\n",
      "[CV 2/5; 59/60] END sgdc__alpha=0.0001, sgdc__loss=perceptron, sgdc__penalty=l1;, score=0.801 total time=   0.0s\n",
      "[CV 3/5; 59/60] START sgdc__alpha=0.0001, sgdc__loss=perceptron, sgdc__penalty=l1\n",
      "[CV 3/5; 59/60] END sgdc__alpha=0.0001, sgdc__loss=perceptron, sgdc__penalty=l1;, score=0.717 total time=   0.0s\n",
      "[CV 4/5; 59/60] START sgdc__alpha=0.0001, sgdc__loss=perceptron, sgdc__penalty=l1\n",
      "[CV 4/5; 59/60] END sgdc__alpha=0.0001, sgdc__loss=perceptron, sgdc__penalty=l1;, score=0.848 total time=   0.0s\n",
      "[CV 5/5; 59/60] START sgdc__alpha=0.0001, sgdc__loss=perceptron, sgdc__penalty=l1\n",
      "[CV 5/5; 59/60] END sgdc__alpha=0.0001, sgdc__loss=perceptron, sgdc__penalty=l1;, score=0.848 total time=   0.0s\n",
      "[CV 1/5; 60/60] START sgdc__alpha=0.0001, sgdc__loss=perceptron, sgdc__penalty=elasticnet\n",
      "[CV 1/5; 60/60] END sgdc__alpha=0.0001, sgdc__loss=perceptron, sgdc__penalty=elasticnet;, score=0.848 total time=   0.0s\n",
      "[CV 2/5; 60/60] START sgdc__alpha=0.0001, sgdc__loss=perceptron, sgdc__penalty=elasticnet\n",
      "[CV 2/5; 60/60] END sgdc__alpha=0.0001, sgdc__loss=perceptron, sgdc__penalty=elasticnet;, score=0.842 total time=   0.0s\n",
      "[CV 3/5; 60/60] START sgdc__alpha=0.0001, sgdc__loss=perceptron, sgdc__penalty=elasticnet\n",
      "[CV 3/5; 60/60] END sgdc__alpha=0.0001, sgdc__loss=perceptron, sgdc__penalty=elasticnet;, score=0.825 total time=   0.0s\n",
      "[CV 4/5; 60/60] START sgdc__alpha=0.0001, sgdc__loss=perceptron, sgdc__penalty=elasticnet\n",
      "[CV 4/5; 60/60] END sgdc__alpha=0.0001, sgdc__loss=perceptron, sgdc__penalty=elasticnet;, score=0.861 total time=   0.0s\n",
      "[CV 5/5; 60/60] START sgdc__alpha=0.0001, sgdc__loss=perceptron, sgdc__penalty=elasticnet\n",
      "[CV 5/5; 60/60] END sgdc__alpha=0.0001, sgdc__loss=perceptron, sgdc__penalty=elasticnet;, score=0.635 total time=   0.0s\n"
     ]
    }
   ],
   "source": [
    "cv.fit(X_train,y_train);"
   ]
  },
  {
   "cell_type": "code",
   "execution_count": 175,
   "metadata": {},
   "outputs": [],
   "source": [
    "def print_results(cv):\n",
    "    results = cv.cv_results_\n",
    "    params = results['params']\n",
    "    mean = results['mean_test_score']\n",
    "    std = results['std_test_score']\n",
    "    rank = results['rank_test_score']\n",
    "    \n",
    "    #print(\"crit.\\tdepth\\t| mean\\tstd\\trank\")\n",
    "    print(\"mean\\tstd\\trank\")\n",
    "    \n",
    "    for m, s, r in zip( mean, std, rank):\n",
    "        #print(f\"{p['criterion']}\\t{p['max_depth']}\\t| {m:0.2f}\\t{s:0.2f}\\t{r}\")\n",
    "        print(f\"{m:0.2f}\\t{s:0.2f}\\t{r}\")\n",
    "\n",
    "    for param in params:\n",
    "        print (param)"
   ]
  },
  {
   "cell_type": "code",
   "execution_count": 176,
   "metadata": {},
   "outputs": [
    {
     "name": "stdout",
     "output_type": "stream",
     "text": [
      "mean\tstd\trank\n",
      "0.85\t0.00\t30\n",
      "0.83\t0.00\t41\n",
      "0.85\t0.00\t34\n",
      "0.85\t0.00\t28\n",
      "0.83\t0.00\t41\n",
      "0.85\t0.00\t31\n",
      "0.86\t0.01\t17\n",
      "0.86\t0.00\t24\n",
      "0.86\t0.01\t19\n",
      "0.86\t0.01\t23\n",
      "0.79\t0.03\t52\n",
      "0.85\t0.01\t35\n",
      "0.82\t0.03\t44\n",
      "0.57\t0.33\t60\n",
      "0.78\t0.03\t54\n",
      "0.87\t0.00\t10\n",
      "0.86\t0.01\t20\n",
      "0.87\t0.01\t1\n",
      "0.87\t0.01\t6\n",
      "0.87\t0.00\t13\n",
      "0.87\t0.01\t4\n",
      "0.87\t0.01\t12\n",
      "0.86\t0.01\t21\n",
      "0.86\t0.01\t15\n",
      "0.87\t0.01\t3\n",
      "0.84\t0.05\t37\n",
      "0.87\t0.01\t6\n",
      "0.84\t0.02\t38\n",
      "0.76\t0.15\t58\n",
      "0.81\t0.03\t48\n",
      "0.87\t0.01\t11\n",
      "0.87\t0.01\t8\n",
      "0.87\t0.01\t5\n",
      "0.87\t0.01\t2\n",
      "0.87\t0.01\t9\n",
      "0.86\t0.01\t16\n",
      "0.87\t0.02\t14\n",
      "0.86\t0.02\t18\n",
      "0.86\t0.02\t22\n",
      "0.85\t0.02\t26\n",
      "0.85\t0.01\t33\n",
      "0.85\t0.01\t27\n",
      "0.76\t0.03\t56\n",
      "0.82\t0.03\t46\n",
      "0.78\t0.05\t55\n",
      "0.83\t0.03\t40\n",
      "0.83\t0.02\t39\n",
      "0.84\t0.02\t36\n",
      "0.86\t0.00\t25\n",
      "0.85\t0.02\t29\n",
      "0.85\t0.02\t32\n",
      "0.80\t0.05\t50\n",
      "0.81\t0.07\t47\n",
      "0.83\t0.03\t43\n",
      "0.76\t0.05\t57\n",
      "0.78\t0.04\t53\n",
      "0.71\t0.06\t59\n",
      "0.82\t0.03\t45\n",
      "0.79\t0.05\t51\n",
      "0.80\t0.08\t49\n",
      "{'sgdc__alpha': 0.1, 'sgdc__loss': 'hinge', 'sgdc__penalty': 'l2'}\n",
      "{'sgdc__alpha': 0.1, 'sgdc__loss': 'hinge', 'sgdc__penalty': 'l1'}\n",
      "{'sgdc__alpha': 0.1, 'sgdc__loss': 'hinge', 'sgdc__penalty': 'elasticnet'}\n",
      "{'sgdc__alpha': 0.1, 'sgdc__loss': 'log', 'sgdc__penalty': 'l2'}\n",
      "{'sgdc__alpha': 0.1, 'sgdc__loss': 'log', 'sgdc__penalty': 'l1'}\n",
      "{'sgdc__alpha': 0.1, 'sgdc__loss': 'log', 'sgdc__penalty': 'elasticnet'}\n",
      "{'sgdc__alpha': 0.1, 'sgdc__loss': 'modified_huber', 'sgdc__penalty': 'l2'}\n",
      "{'sgdc__alpha': 0.1, 'sgdc__loss': 'modified_huber', 'sgdc__penalty': 'l1'}\n",
      "{'sgdc__alpha': 0.1, 'sgdc__loss': 'modified_huber', 'sgdc__penalty': 'elasticnet'}\n",
      "{'sgdc__alpha': 0.1, 'sgdc__loss': 'squared_hinge', 'sgdc__penalty': 'l2'}\n",
      "{'sgdc__alpha': 0.1, 'sgdc__loss': 'squared_hinge', 'sgdc__penalty': 'l1'}\n",
      "{'sgdc__alpha': 0.1, 'sgdc__loss': 'squared_hinge', 'sgdc__penalty': 'elasticnet'}\n",
      "{'sgdc__alpha': 0.1, 'sgdc__loss': 'perceptron', 'sgdc__penalty': 'l2'}\n",
      "{'sgdc__alpha': 0.1, 'sgdc__loss': 'perceptron', 'sgdc__penalty': 'l1'}\n",
      "{'sgdc__alpha': 0.1, 'sgdc__loss': 'perceptron', 'sgdc__penalty': 'elasticnet'}\n",
      "{'sgdc__alpha': 0.01, 'sgdc__loss': 'hinge', 'sgdc__penalty': 'l2'}\n",
      "{'sgdc__alpha': 0.01, 'sgdc__loss': 'hinge', 'sgdc__penalty': 'l1'}\n",
      "{'sgdc__alpha': 0.01, 'sgdc__loss': 'hinge', 'sgdc__penalty': 'elasticnet'}\n",
      "{'sgdc__alpha': 0.01, 'sgdc__loss': 'log', 'sgdc__penalty': 'l2'}\n",
      "{'sgdc__alpha': 0.01, 'sgdc__loss': 'log', 'sgdc__penalty': 'l1'}\n",
      "{'sgdc__alpha': 0.01, 'sgdc__loss': 'log', 'sgdc__penalty': 'elasticnet'}\n",
      "{'sgdc__alpha': 0.01, 'sgdc__loss': 'modified_huber', 'sgdc__penalty': 'l2'}\n",
      "{'sgdc__alpha': 0.01, 'sgdc__loss': 'modified_huber', 'sgdc__penalty': 'l1'}\n",
      "{'sgdc__alpha': 0.01, 'sgdc__loss': 'modified_huber', 'sgdc__penalty': 'elasticnet'}\n",
      "{'sgdc__alpha': 0.01, 'sgdc__loss': 'squared_hinge', 'sgdc__penalty': 'l2'}\n",
      "{'sgdc__alpha': 0.01, 'sgdc__loss': 'squared_hinge', 'sgdc__penalty': 'l1'}\n",
      "{'sgdc__alpha': 0.01, 'sgdc__loss': 'squared_hinge', 'sgdc__penalty': 'elasticnet'}\n",
      "{'sgdc__alpha': 0.01, 'sgdc__loss': 'perceptron', 'sgdc__penalty': 'l2'}\n",
      "{'sgdc__alpha': 0.01, 'sgdc__loss': 'perceptron', 'sgdc__penalty': 'l1'}\n",
      "{'sgdc__alpha': 0.01, 'sgdc__loss': 'perceptron', 'sgdc__penalty': 'elasticnet'}\n",
      "{'sgdc__alpha': 0.001, 'sgdc__loss': 'hinge', 'sgdc__penalty': 'l2'}\n",
      "{'sgdc__alpha': 0.001, 'sgdc__loss': 'hinge', 'sgdc__penalty': 'l1'}\n",
      "{'sgdc__alpha': 0.001, 'sgdc__loss': 'hinge', 'sgdc__penalty': 'elasticnet'}\n",
      "{'sgdc__alpha': 0.001, 'sgdc__loss': 'log', 'sgdc__penalty': 'l2'}\n",
      "{'sgdc__alpha': 0.001, 'sgdc__loss': 'log', 'sgdc__penalty': 'l1'}\n",
      "{'sgdc__alpha': 0.001, 'sgdc__loss': 'log', 'sgdc__penalty': 'elasticnet'}\n",
      "{'sgdc__alpha': 0.001, 'sgdc__loss': 'modified_huber', 'sgdc__penalty': 'l2'}\n",
      "{'sgdc__alpha': 0.001, 'sgdc__loss': 'modified_huber', 'sgdc__penalty': 'l1'}\n",
      "{'sgdc__alpha': 0.001, 'sgdc__loss': 'modified_huber', 'sgdc__penalty': 'elasticnet'}\n",
      "{'sgdc__alpha': 0.001, 'sgdc__loss': 'squared_hinge', 'sgdc__penalty': 'l2'}\n",
      "{'sgdc__alpha': 0.001, 'sgdc__loss': 'squared_hinge', 'sgdc__penalty': 'l1'}\n",
      "{'sgdc__alpha': 0.001, 'sgdc__loss': 'squared_hinge', 'sgdc__penalty': 'elasticnet'}\n",
      "{'sgdc__alpha': 0.001, 'sgdc__loss': 'perceptron', 'sgdc__penalty': 'l2'}\n",
      "{'sgdc__alpha': 0.001, 'sgdc__loss': 'perceptron', 'sgdc__penalty': 'l1'}\n",
      "{'sgdc__alpha': 0.001, 'sgdc__loss': 'perceptron', 'sgdc__penalty': 'elasticnet'}\n",
      "{'sgdc__alpha': 0.0001, 'sgdc__loss': 'hinge', 'sgdc__penalty': 'l2'}\n",
      "{'sgdc__alpha': 0.0001, 'sgdc__loss': 'hinge', 'sgdc__penalty': 'l1'}\n",
      "{'sgdc__alpha': 0.0001, 'sgdc__loss': 'hinge', 'sgdc__penalty': 'elasticnet'}\n",
      "{'sgdc__alpha': 0.0001, 'sgdc__loss': 'log', 'sgdc__penalty': 'l2'}\n",
      "{'sgdc__alpha': 0.0001, 'sgdc__loss': 'log', 'sgdc__penalty': 'l1'}\n",
      "{'sgdc__alpha': 0.0001, 'sgdc__loss': 'log', 'sgdc__penalty': 'elasticnet'}\n",
      "{'sgdc__alpha': 0.0001, 'sgdc__loss': 'modified_huber', 'sgdc__penalty': 'l2'}\n",
      "{'sgdc__alpha': 0.0001, 'sgdc__loss': 'modified_huber', 'sgdc__penalty': 'l1'}\n",
      "{'sgdc__alpha': 0.0001, 'sgdc__loss': 'modified_huber', 'sgdc__penalty': 'elasticnet'}\n",
      "{'sgdc__alpha': 0.0001, 'sgdc__loss': 'squared_hinge', 'sgdc__penalty': 'l2'}\n",
      "{'sgdc__alpha': 0.0001, 'sgdc__loss': 'squared_hinge', 'sgdc__penalty': 'l1'}\n",
      "{'sgdc__alpha': 0.0001, 'sgdc__loss': 'squared_hinge', 'sgdc__penalty': 'elasticnet'}\n",
      "{'sgdc__alpha': 0.0001, 'sgdc__loss': 'perceptron', 'sgdc__penalty': 'l2'}\n",
      "{'sgdc__alpha': 0.0001, 'sgdc__loss': 'perceptron', 'sgdc__penalty': 'l1'}\n",
      "{'sgdc__alpha': 0.0001, 'sgdc__loss': 'perceptron', 'sgdc__penalty': 'elasticnet'}\n"
     ]
    }
   ],
   "source": [
    "print_results(cv)"
   ]
  },
  {
   "cell_type": "markdown",
   "metadata": {},
   "source": [
    "## Ejercicio 3: Árboles de Decisión\n",
    "\n",
    "En este ejercicio se entrenarán árboles de decisión para predecir la variable objetivo.\n",
    "\n",
    "Para ello, deberán utilizar la clase DecisionTreeClassifier de scikit-learn.\n",
    "\n",
    "Documentación:\n",
    "- https://scikit-learn.org/stable/modules/tree.html\n",
    "  - https://scikit-learn.org/stable/modules/tree.html#tips-on-practical-use\n",
    "- https://scikit-learn.org/stable/modules/generated/sklearn.tree.DecisionTreeClassifier.html\n",
    "- https://scikit-learn.org/stable/auto_examples/tree/plot_unveil_tree_structure.html"
   ]
  },
  {
   "cell_type": "markdown",
   "metadata": {},
   "source": [
    "### Ejercicio 3.1: DecisionTreeClassifier con hiperparámetros por defecto\n",
    "\n",
    "Entrenar y evaluar el clasificador DecisionTreeClassifier usando los valores por omisión de scikit-learn para todos los parámetros. Únicamente **fijar la semilla aleatoria** para hacer repetible el experimento.\n",
    "\n",
    "Evaluar sobre el conjunto de **entrenamiento** y sobre el conjunto de **evaluación**, reportando:\n",
    "- Accuracy\n",
    "- Precision\n",
    "- Recall\n",
    "- F1\n",
    "- matriz de confusión\n"
   ]
  },
  {
   "cell_type": "code",
   "execution_count": 177,
   "metadata": {},
   "outputs": [],
   "source": [
    "from sklearn.tree import DecisionTreeClassifier"
   ]
  },
  {
   "cell_type": "code",
   "execution_count": 178,
   "metadata": {},
   "outputs": [
    {
     "data": {
      "text/plain": [
       "DecisionTreeClassifier(random_state=0)"
      ]
     },
     "execution_count": 178,
     "metadata": {},
     "output_type": "execute_result"
    }
   ],
   "source": [
    "clf = DecisionTreeClassifier(random_state=0)\n",
    "clf.fit(X_train, y_train)"
   ]
  },
  {
   "cell_type": "code",
   "execution_count": 179,
   "metadata": {},
   "outputs": [],
   "source": [
    "y_train_pred = clf.predict(X_train)\n",
    "y_test_pred = clf.predict(X_test)"
   ]
  },
  {
   "cell_type": "code",
   "execution_count": 181,
   "metadata": {},
   "outputs": [
    {
     "name": "stdout",
     "output_type": "stream",
     "text": [
      "Train accuracy: 1.0\n",
      "Test accuracy: 0.88\n"
     ]
    }
   ],
   "source": [
    "train_acc = accuracy_score(y_train, y_train_pred)\n",
    "test_acc = accuracy_score(y_test, y_test_pred)\n",
    "print(f'Train accuracy: {train_acc:0.2}')\n",
    "print(f'Test accuracy: {test_acc:0.2}')"
   ]
  },
  {
   "cell_type": "code",
   "execution_count": 183,
   "metadata": {},
   "outputs": [
    {
     "data": {
      "text/plain": [
       "{'precision_score': 0.6166666666666667,\n",
       " 'recall_score': 0.6379310344827587,\n",
       " 'f1_score': 0.6271186440677966,\n",
       " 'accuracy_score': 0.8814016172506739}"
      ]
     },
     "execution_count": 183,
     "metadata": {},
     "output_type": "execute_result"
    }
   ],
   "source": [
    "get_metrics(y_test, y_test_pred)"
   ]
  },
  {
   "cell_type": "code",
   "execution_count": 184,
   "metadata": {},
   "outputs": [
    {
     "data": {
      "text/plain": [
       "{'precision_score': 1.0,\n",
       " 'recall_score': 1.0,\n",
       " 'f1_score': 1.0,\n",
       " 'accuracy_score': 1.0}"
      ]
     },
     "execution_count": 184,
     "metadata": {},
     "output_type": "execute_result"
    }
   ],
   "source": [
    "get_metrics(y_train, y_train_pred)"
   ]
  },
  {
   "cell_type": "markdown",
   "metadata": {},
   "source": [
    "### Ejercicio 3.2: Ajuste de Hiperparámetros\n",
    "\n",
    "Seleccionar valores para los hiperparámetros principales del DecisionTreeClassifier. Como mínimo, probar diferentes criterios de partición (criterion), profundidad máxima del árbol (max_depth), y cantidad mínima de samples por hoja (min_samples_leaf).\n",
    "\n",
    "Para ello, usar grid-search y 5-fold cross-validation sobre el conjunto de entrenamiento para explorar muchas combinaciones posibles de valores.\n",
    "\n",
    "Reportar accuracy promedio y varianza para todas las configuraciones.\n",
    "\n",
    "Para la mejor configuración encontrada, evaluar sobre el conjunto de **entrenamiento** y sobre el conjunto de **evaluación**, reportando:\n",
    "- Accuracy\n",
    "- Precision\n",
    "- Recall\n",
    "- F1\n",
    "- matriz de confusión\n",
    "\n",
    "\n",
    "Documentación:\n",
    "- https://scikit-learn.org/stable/modules/grid_search.html\n",
    "- https://scikit-learn.org/stable/modules/generated/sklearn.model_selection.GridSearchCV.html"
   ]
  }
 ],
 "metadata": {
  "kernelspec": {
   "display_name": "Python 3",
   "language": "python",
   "name": "python3"
  },
  "language_info": {
   "codemirror_mode": {
    "name": "ipython",
    "version": 3
   },
   "file_extension": ".py",
   "mimetype": "text/x-python",
   "name": "python",
   "nbconvert_exporter": "python",
   "pygments_lexer": "ipython3",
   "version": "3.6.13"
  }
 },
 "nbformat": 4,
 "nbformat_minor": 4
}
