{
 "cells": [
  {
   "cell_type": "markdown",
   "metadata": {
    "id": "LYvAOR2VzHmW"
   },
   "source": [
    "\n",
    "**Diplomatura en Ciencia de Datos, Aprendizaje Automático y sus Aplicaciones**\n",
    "\n",
    "**Edición 2021**\n",
    "\n",
    "---\n",
    "\n",
    "# Trabajo práctico entregable - Parte 2"
   ]
  },
  {
   "cell_type": "code",
   "execution_count": 4,
   "metadata": {
    "id": "Xwdfo7z20TUK"
   },
   "outputs": [],
   "source": [
    "import io\n",
    "import matplotlib\n",
    "import matplotlib.pyplot as plt\n",
    "import numpy\n",
    "import pandas as pd\n",
    "import seaborn\n",
    "\n",
    "seaborn.set_context('talk')"
   ]
  },
  {
   "cell_type": "markdown",
   "metadata": {
    "id": "XY2Hl-Ma07Nn"
   },
   "source": [
    "## Lectura del dataset\n",
    "\n",
    "En la notebook 00 se explican los detalles de la siguiente sección."
   ]
  },
  {
   "cell_type": "code",
   "execution_count": 5,
   "metadata": {
    "id": "Vviv_sqXdR5W"
   },
   "outputs": [],
   "source": [
    "url = 'https://cs.famaf.unc.edu.ar/~mteruel/datasets/diplodatos/sysarmy_survey_2020_processed.csv'\n",
    "df = pd.read_csv(url)"
   ]
  },
  {
   "cell_type": "code",
   "execution_count": 6,
   "metadata": {
    "colab": {
     "base_uri": "https://localhost:8080/",
     "height": 297
    },
    "id": "gckNHXXLktJ4",
    "outputId": "8a359f96-42c3-442d-b73f-dbd453369435"
   },
   "outputs": [
    {
     "data": {
      "text/html": [
       "<div>\n",
       "<style scoped>\n",
       "    .dataframe tbody tr th:only-of-type {\n",
       "        vertical-align: middle;\n",
       "    }\n",
       "\n",
       "    .dataframe tbody tr th {\n",
       "        vertical-align: top;\n",
       "    }\n",
       "\n",
       "    .dataframe thead th {\n",
       "        text-align: right;\n",
       "    }\n",
       "</style>\n",
       "<table border=\"1\" class=\"dataframe\">\n",
       "  <thead>\n",
       "    <tr style=\"text-align: right;\">\n",
       "      <th></th>\n",
       "      <th>profile_gender</th>\n",
       "      <th>profile_age</th>\n",
       "      <th>work_country</th>\n",
       "      <th>work_province</th>\n",
       "      <th>profile_years_experience</th>\n",
       "      <th>work_years_in_company</th>\n",
       "      <th>work_years_in_current_position</th>\n",
       "      <th>work_people_in_charge_of</th>\n",
       "      <th>profile_studies_level</th>\n",
       "      <th>profile_studies_level_state</th>\n",
       "      <th>...</th>\n",
       "      <th>work_has_violence_situations</th>\n",
       "      <th>profile_sexual_orientation</th>\n",
       "      <th>profile_has_disabilities</th>\n",
       "      <th>profile_has_disabilities_hiring_difficulties</th>\n",
       "      <th>company_employee_number</th>\n",
       "      <th>company_main_activity</th>\n",
       "      <th>company_recommended</th>\n",
       "      <th>company_diversity_policies</th>\n",
       "      <th>company_extra_benefits</th>\n",
       "      <th>company_best_companies_city</th>\n",
       "    </tr>\n",
       "  </thead>\n",
       "  <tbody>\n",
       "    <tr>\n",
       "      <th>0</th>\n",
       "      <td>Mujer</td>\n",
       "      <td>26</td>\n",
       "      <td>Argentina</td>\n",
       "      <td>Ciudad Autónoma de Buenos Aires</td>\n",
       "      <td>3.0</td>\n",
       "      <td>3.0</td>\n",
       "      <td>3.0</td>\n",
       "      <td>0</td>\n",
       "      <td>Universitario</td>\n",
       "      <td>En curso</td>\n",
       "      <td>...</td>\n",
       "      <td>En mi trabajo actual</td>\n",
       "      <td>Homosexual</td>\n",
       "      <td>NaN</td>\n",
       "      <td>NaN</td>\n",
       "      <td>501-1000</td>\n",
       "      <td>Servicios / Consultoría de Software / Digital</td>\n",
       "      <td>7</td>\n",
       "      <td>2</td>\n",
       "      <td>Capacitaciones y/o cursos, Comidas pagas / sub...</td>\n",
       "      <td>NaN</td>\n",
       "    </tr>\n",
       "    <tr>\n",
       "      <th>1</th>\n",
       "      <td>Hombre</td>\n",
       "      <td>29</td>\n",
       "      <td>Argentina</td>\n",
       "      <td>Corrientes</td>\n",
       "      <td>5.0</td>\n",
       "      <td>2.0</td>\n",
       "      <td>2.0</td>\n",
       "      <td>4</td>\n",
       "      <td>Universitario</td>\n",
       "      <td>En curso</td>\n",
       "      <td>...</td>\n",
       "      <td>Jamás</td>\n",
       "      <td>Heterosexual</td>\n",
       "      <td>Visual</td>\n",
       "      <td>No</td>\n",
       "      <td>201-500</td>\n",
       "      <td>Otras industrias</td>\n",
       "      <td>8</td>\n",
       "      <td>9</td>\n",
       "      <td>Horarios flexibles, Stock options / RSUs, Viát...</td>\n",
       "      <td>NaN</td>\n",
       "    </tr>\n",
       "    <tr>\n",
       "      <th>2</th>\n",
       "      <td>Mujer</td>\n",
       "      <td>22</td>\n",
       "      <td>Argentina</td>\n",
       "      <td>Ciudad Autónoma de Buenos Aires</td>\n",
       "      <td>2.0</td>\n",
       "      <td>0.0</td>\n",
       "      <td>0.0</td>\n",
       "      <td>0</td>\n",
       "      <td>Secundario</td>\n",
       "      <td>Completado</td>\n",
       "      <td>...</td>\n",
       "      <td>En un trabajo anterior</td>\n",
       "      <td>Bisexual o queer</td>\n",
       "      <td>NaN</td>\n",
       "      <td>No</td>\n",
       "      <td>2001-5000</td>\n",
       "      <td>Otras industrias</td>\n",
       "      <td>6</td>\n",
       "      <td>9</td>\n",
       "      <td>Clases de gimnasia online, Comidas pagas / sub...</td>\n",
       "      <td>NaN</td>\n",
       "    </tr>\n",
       "  </tbody>\n",
       "</table>\n",
       "<p>3 rows × 48 columns</p>\n",
       "</div>"
      ],
      "text/plain": [
       "  profile_gender  profile_age work_country                    work_province  \\\n",
       "0          Mujer           26    Argentina  Ciudad Autónoma de Buenos Aires   \n",
       "1         Hombre           29    Argentina                       Corrientes   \n",
       "2          Mujer           22    Argentina  Ciudad Autónoma de Buenos Aires   \n",
       "\n",
       "   profile_years_experience  work_years_in_company  \\\n",
       "0                       3.0                    3.0   \n",
       "1                       5.0                    2.0   \n",
       "2                       2.0                    0.0   \n",
       "\n",
       "   work_years_in_current_position  work_people_in_charge_of  \\\n",
       "0                             3.0                         0   \n",
       "1                             2.0                         4   \n",
       "2                             0.0                         0   \n",
       "\n",
       "  profile_studies_level profile_studies_level_state  ...  \\\n",
       "0         Universitario                    En curso  ...   \n",
       "1         Universitario                    En curso  ...   \n",
       "2            Secundario                  Completado  ...   \n",
       "\n",
       "  work_has_violence_situations profile_sexual_orientation  \\\n",
       "0         En mi trabajo actual                 Homosexual   \n",
       "1                        Jamás               Heterosexual   \n",
       "2       En un trabajo anterior           Bisexual o queer   \n",
       "\n",
       "  profile_has_disabilities profile_has_disabilities_hiring_difficulties  \\\n",
       "0                      NaN                                          NaN   \n",
       "1                   Visual                                           No   \n",
       "2                      NaN                                           No   \n",
       "\n",
       "  company_employee_number                          company_main_activity  \\\n",
       "0                501-1000  Servicios / Consultoría de Software / Digital   \n",
       "1                 201-500                               Otras industrias   \n",
       "2               2001-5000                               Otras industrias   \n",
       "\n",
       "  company_recommended company_diversity_policies  \\\n",
       "0                   7                          2   \n",
       "1                   8                          9   \n",
       "2                   6                          9   \n",
       "\n",
       "                              company_extra_benefits  \\\n",
       "0  Capacitaciones y/o cursos, Comidas pagas / sub...   \n",
       "1  Horarios flexibles, Stock options / RSUs, Viát...   \n",
       "2  Clases de gimnasia online, Comidas pagas / sub...   \n",
       "\n",
       "  company_best_companies_city  \n",
       "0                         NaN  \n",
       "1                         NaN  \n",
       "2                         NaN  \n",
       "\n",
       "[3 rows x 48 columns]"
      ]
     },
     "execution_count": 6,
     "metadata": {},
     "output_type": "execute_result"
    }
   ],
   "source": [
    "df[:3]"
   ]
  },
  {
   "cell_type": "code",
   "execution_count": 7,
   "metadata": {
    "colab": {
     "base_uri": "https://localhost:8080/",
     "height": 203
    },
    "id": "2lzmzK1NuPNT",
    "outputId": "41e0e478-b95b-4dc4-a390-902bd50a8ce3"
   },
   "outputs": [
    {
     "data": {
      "text/html": [
       "<div>\n",
       "<style scoped>\n",
       "    .dataframe tbody tr th:only-of-type {\n",
       "        vertical-align: middle;\n",
       "    }\n",
       "\n",
       "    .dataframe tbody tr th {\n",
       "        vertical-align: top;\n",
       "    }\n",
       "\n",
       "    .dataframe thead tr th {\n",
       "        text-align: left;\n",
       "    }\n",
       "\n",
       "    .dataframe thead tr:last-of-type th {\n",
       "        text-align: right;\n",
       "    }\n",
       "</style>\n",
       "<table border=\"1\" class=\"dataframe\">\n",
       "  <thead>\n",
       "    <tr>\n",
       "      <th></th>\n",
       "      <th colspan=\"8\" halign=\"left\">salary_monthly_NETO</th>\n",
       "    </tr>\n",
       "    <tr>\n",
       "      <th></th>\n",
       "      <th>count</th>\n",
       "      <th>mean</th>\n",
       "      <th>std</th>\n",
       "      <th>min</th>\n",
       "      <th>25%</th>\n",
       "      <th>50%</th>\n",
       "      <th>75%</th>\n",
       "      <th>max</th>\n",
       "    </tr>\n",
       "    <tr>\n",
       "      <th>profile_gender</th>\n",
       "      <th></th>\n",
       "      <th></th>\n",
       "      <th></th>\n",
       "      <th></th>\n",
       "      <th></th>\n",
       "      <th></th>\n",
       "      <th></th>\n",
       "      <th></th>\n",
       "    </tr>\n",
       "  </thead>\n",
       "  <tbody>\n",
       "    <tr>\n",
       "      <th>Hombre</th>\n",
       "      <td>4944.0</td>\n",
       "      <td>98836.063558</td>\n",
       "      <td>102159.664237</td>\n",
       "      <td>1.0</td>\n",
       "      <td>53285.0</td>\n",
       "      <td>80000.0</td>\n",
       "      <td>110000.0</td>\n",
       "      <td>2080000.0</td>\n",
       "    </tr>\n",
       "    <tr>\n",
       "      <th>Mujer</th>\n",
       "      <td>908.0</td>\n",
       "      <td>73501.414465</td>\n",
       "      <td>56256.880181</td>\n",
       "      <td>2.0</td>\n",
       "      <td>43818.0</td>\n",
       "      <td>65000.0</td>\n",
       "      <td>92000.0</td>\n",
       "      <td>800000.0</td>\n",
       "    </tr>\n",
       "    <tr>\n",
       "      <th>Otros</th>\n",
       "      <td>31.0</td>\n",
       "      <td>95441.354839</td>\n",
       "      <td>88635.674358</td>\n",
       "      <td>40.0</td>\n",
       "      <td>39500.0</td>\n",
       "      <td>74000.0</td>\n",
       "      <td>117500.0</td>\n",
       "      <td>380000.0</td>\n",
       "    </tr>\n",
       "  </tbody>\n",
       "</table>\n",
       "</div>"
      ],
      "text/plain": [
       "               salary_monthly_NETO                                     \\\n",
       "                             count          mean            std   min   \n",
       "profile_gender                                                          \n",
       "Hombre                      4944.0  98836.063558  102159.664237   1.0   \n",
       "Mujer                        908.0  73501.414465   56256.880181   2.0   \n",
       "Otros                         31.0  95441.354839   88635.674358  40.0   \n",
       "\n",
       "                                                       \n",
       "                    25%      50%       75%        max  \n",
       "profile_gender                                         \n",
       "Hombre          53285.0  80000.0  110000.0  2080000.0  \n",
       "Mujer           43818.0  65000.0   92000.0   800000.0  \n",
       "Otros           39500.0  74000.0  117500.0   380000.0  "
      ]
     },
     "execution_count": 7,
     "metadata": {},
     "output_type": "execute_result"
    }
   ],
   "source": [
    "df[['profile_gender', 'salary_monthly_NETO']].groupby('profile_gender').describe()"
   ]
  },
  {
   "cell_type": "code",
   "execution_count": 8,
   "metadata": {
    "colab": {
     "base_uri": "https://localhost:8080/",
     "height": 203
    },
    "id": "pycKJ5jWkShW",
    "outputId": "39835943-cb56-417f-cac7-d7068b0d12f9"
   },
   "outputs": [
    {
     "data": {
      "text/html": [
       "<div>\n",
       "<style scoped>\n",
       "    .dataframe tbody tr th:only-of-type {\n",
       "        vertical-align: middle;\n",
       "    }\n",
       "\n",
       "    .dataframe tbody tr th {\n",
       "        vertical-align: top;\n",
       "    }\n",
       "\n",
       "    .dataframe thead tr th {\n",
       "        text-align: left;\n",
       "    }\n",
       "\n",
       "    .dataframe thead tr:last-of-type th {\n",
       "        text-align: right;\n",
       "    }\n",
       "</style>\n",
       "<table border=\"1\" class=\"dataframe\">\n",
       "  <thead>\n",
       "    <tr>\n",
       "      <th></th>\n",
       "      <th colspan=\"8\" halign=\"left\">salary_monthly_NETO</th>\n",
       "    </tr>\n",
       "    <tr>\n",
       "      <th></th>\n",
       "      <th>count</th>\n",
       "      <th>mean</th>\n",
       "      <th>std</th>\n",
       "      <th>min</th>\n",
       "      <th>25%</th>\n",
       "      <th>50%</th>\n",
       "      <th>75%</th>\n",
       "      <th>max</th>\n",
       "    </tr>\n",
       "    <tr>\n",
       "      <th>profile_gender</th>\n",
       "      <th></th>\n",
       "      <th></th>\n",
       "      <th></th>\n",
       "      <th></th>\n",
       "      <th></th>\n",
       "      <th></th>\n",
       "      <th></th>\n",
       "      <th></th>\n",
       "    </tr>\n",
       "  </thead>\n",
       "  <tbody>\n",
       "    <tr>\n",
       "      <th>Hombre</th>\n",
       "      <td>4815.0</td>\n",
       "      <td>101481.624343</td>\n",
       "      <td>102215.304684</td>\n",
       "      <td>1100.0</td>\n",
       "      <td>55000.0</td>\n",
       "      <td>80000.0</td>\n",
       "      <td>110000.0</td>\n",
       "      <td>2080000.0</td>\n",
       "    </tr>\n",
       "    <tr>\n",
       "      <th>Mujer</th>\n",
       "      <td>863.0</td>\n",
       "      <td>77328.913778</td>\n",
       "      <td>55082.760570</td>\n",
       "      <td>2000.0</td>\n",
       "      <td>47850.0</td>\n",
       "      <td>67200.0</td>\n",
       "      <td>93000.0</td>\n",
       "      <td>800000.0</td>\n",
       "    </tr>\n",
       "    <tr>\n",
       "      <th>Otros</th>\n",
       "      <td>28.0</td>\n",
       "      <td>105660.714286</td>\n",
       "      <td>87235.710235</td>\n",
       "      <td>34000.0</td>\n",
       "      <td>43750.0</td>\n",
       "      <td>78900.0</td>\n",
       "      <td>122750.0</td>\n",
       "      <td>380000.0</td>\n",
       "    </tr>\n",
       "  </tbody>\n",
       "</table>\n",
       "</div>"
      ],
      "text/plain": [
       "               salary_monthly_NETO                                         \\\n",
       "                             count           mean            std      min   \n",
       "profile_gender                                                              \n",
       "Hombre                      4815.0  101481.624343  102215.304684   1100.0   \n",
       "Mujer                        863.0   77328.913778   55082.760570   2000.0   \n",
       "Otros                         28.0  105660.714286   87235.710235  34000.0   \n",
       "\n",
       "                                                       \n",
       "                    25%      50%       75%        max  \n",
       "profile_gender                                         \n",
       "Hombre          55000.0  80000.0  110000.0  2080000.0  \n",
       "Mujer           47850.0  67200.0   93000.0   800000.0  \n",
       "Otros           43750.0  78900.0  122750.0   380000.0  "
      ]
     },
     "execution_count": 8,
     "metadata": {},
     "output_type": "execute_result"
    }
   ],
   "source": [
    "df[df.salary_monthly_NETO > 1000]\\\n",
    "  [['profile_gender', 'salary_monthly_NETO']].groupby('profile_gender').describe()"
   ]
  },
  {
   "cell_type": "code",
   "execution_count": 9,
   "metadata": {
    "id": "uZ1GxkLylHx0"
   },
   "outputs": [],
   "source": [
    "alpha = 0.05"
   ]
  },
  {
   "cell_type": "markdown",
   "metadata": {},
   "source": [
    "Para poder calcular el intervalo de confianza entre la media de dos muestras se debe cumplir lo siguiente:\n",
    "\n",
    "1. Ambas poblaciones deben tener una distribución nomrmal o simil normal\n",
    "2. Ambas poblaciones deben tener varianza diferente \n",
    "3. Se deben tomar una muestra de cada poblacion y cada muestra debe ser independiente"
   ]
  },
  {
   "cell_type": "code",
   "execution_count": 10,
   "metadata": {
    "id": "OfzFpDO-lYxk"
   },
   "outputs": [],
   "source": [
    "is_man = df.profile_gender == 'Hombre'\n",
    "\n",
    "groupA = df[(df.salary_monthly_NETO > 1000) & is_man].salary_monthly_NETO\n",
    "groupB = df[(df.salary_monthly_NETO > 1000) & ~is_man].salary_monthly_NETO\n",
    "\n",
    "muestra_hombre = df[(df.salary_monthly_NETO > 1000) & is_man]\n",
    "muestra_no_hombre = df[(df.salary_monthly_NETO > 1000) & ~is_man]"
   ]
  },
  {
   "cell_type": "code",
   "execution_count": 11,
   "metadata": {},
   "outputs": [],
   "source": [
    "import statistics"
   ]
  },
  {
   "cell_type": "code",
   "execution_count": 12,
   "metadata": {},
   "outputs": [
    {
     "data": {
      "text/plain": [
       "0"
      ]
     },
     "execution_count": 12,
     "metadata": {},
     "output_type": "execute_result"
    }
   ],
   "source": [
    "groupA.isna().sum()"
   ]
  },
  {
   "cell_type": "code",
   "execution_count": 54,
   "metadata": {},
   "outputs": [
    {
     "data": {
      "text/plain": [
       "0"
      ]
     },
     "execution_count": 54,
     "metadata": {},
     "output_type": "execute_result"
    }
   ],
   "source": [
    "groupB.isna().sum()"
   ]
  },
  {
   "cell_type": "code",
   "execution_count": 56,
   "metadata": {},
   "outputs": [
    {
     "name": "stdout",
     "output_type": "stream",
     "text": [
      " GroupA Var 10445798632.50067 GroupB Var 3190397506.1833463\n"
     ]
    }
   ],
   "source": [
    "groupAVar = statistics.pvariance(groupA)\n",
    "groupBVar = statistics.pvariance(groupB)\n",
    "\n",
    "print (f\" GroupA Var {groupAVar} GroupB Var {groupBVar}\")"
   ]
  },
  {
   "cell_type": "code",
   "execution_count": 60,
   "metadata": {},
   "outputs": [
    {
     "name": "stdout",
     "output_type": "stream",
     "text": [
      " Se  Rechaza H0 (Varianzas Iguales), pvalue = 1.3285372646647198e-06 \n"
     ]
    }
   ],
   "source": [
    "import scipy\n",
    "alpha = 0.05 / 2\n",
    "#H0 varianzas iguales\n",
    "(_, pvalue) = scipy.stats.levene(groupA, groupB)\n",
    "print (f\" Se  {'Rechaza' if pvalue < alpha else 'Acepta'} H0 (Varianzas Iguales), pvalue = {pvalue} \")"
   ]
  },
  {
   "cell_type": "code",
   "execution_count": 14,
   "metadata": {},
   "outputs": [],
   "source": [
    "#!conda install -y -c  conda-forge statsmodels"
   ]
  },
  {
   "cell_type": "code",
   "execution_count": 63,
   "metadata": {},
   "outputs": [],
   "source": [
    "diferencia_medias = statistics.mean(groupA) - statistics.mean(groupB)"
   ]
  },
  {
   "cell_type": "markdown",
   "metadata": {
    "id": "co_0M_ojtmUh"
   },
   "source": [
    "## Ejercicio 1: Estimación\n",
    "\n",
    "**Consigna:**  Calcular una estimación puntual y un intervalo de confianza de nivel (1-alpha) para la resta entre la media del salario Neto para Hombres menos la media del salario Neto para otros géneros(diferencia de las medias entre el grupoA y grupoB). \n",
    "¿Cómo se relaciona este intervalo de confianza con el test de hipótesis?"
   ]
  },
  {
   "cell_type": "code",
   "execution_count": 64,
   "metadata": {},
   "outputs": [
    {
     "name": "stdout",
     "output_type": "stream",
     "text": [
      "Asumiendo varianzas distintas (se asume esto por prueba de hipotesis usando metodo scipy.stats.levene)\n",
      "Diferencia medias: 23262.373399918186\n",
      "Intervalo de confianza : (17881.75892729061,28642.987872545702)\n"
     ]
    }
   ],
   "source": [
    "import numpy as np, statsmodels.stats.api as sms\n",
    "\n",
    "cm = sms.CompareMeans(sms.DescrStatsW(groupA.values), sms.DescrStatsW(groupB.values))\n",
    "cm.tconfint_diff(usevar='unequal')\n",
    "li,ls = cm.tconfint_diff(usevar='unequal' , alpha =alpha )\n",
    "print (f\"Asumiendo varianzas distintas (se asume esto por prueba de hipotesis usando metodo scipy.stats.levene)\")\n",
    "print (f\"Diferencia medias: {diferencia_medias}\")\n",
    "print (f\"Intervalo de confianza : ({li},{ls})\" )\n",
    "\n",
    "\n",
    "\n",
    "# Referencia paquete python https://stackoverflow.com/questions/31768464/confidence-interval-for-t-test-difference-between-means-in-python\n",
    "# Referencia teoria https://www.youtube.com/watch?v=YIImQIRDGMg"
   ]
  },
  {
   "cell_type": "code",
   "execution_count": 66,
   "metadata": {},
   "outputs": [],
   "source": [
    "\n",
    "# Esto no iria debido a que las varianzas son diferentes\n",
    "\n",
    "#cm = sms.CompareMeans(sms.DescrStatsW(groupA.values), sms.DescrStatsW(groupB.values))\n",
    "#cm.tconfint_diff(usevar='pooled')\n",
    "#li,ls = cm.tconfint_diff(usevar='pooled' , alpha =alpha )\n",
    "#print (f\"Asumiendo varianzas iguales\")\n",
    "#print (f\"Diferencia medias: {diferencia_medias}\")\n",
    "#print (f\"Intervalo de confianza : ({li},{ls})\" )\n"
   ]
  },
  {
   "cell_type": "markdown",
   "metadata": {
    "id": "IFi2T7Y6nM92"
   },
   "source": [
    "## Ejercicio 2: Test de hipótesis\n"
   ]
  },
  {
   "cell_type": "markdown",
   "metadata": {
    "id": "Rzxe8UYU6EfJ"
   },
   "source": [
    "\n",
    "### 2.1 Formalización\n",
    "\n",
    "Describir formalmente los distintos compenentes de un test de hipótesis para comprobar si la distribución de los salarios es distinta entre los grupos A y B.\n",
    "\n",
    "**Hipótesis Nula**\n",
    "\n",
    "$H_0=...$\n",
    "\n",
    "**Estadístico (Pivote)**\n",
    "  * Identificar el estadístico\n",
    "  * Escribir qué distribución tiene bajo $H_0$\n"
   ]
  },
  {
   "cell_type": "markdown",
   "metadata": {},
   "source": [
    "https://www.youtube.com/watch?v=ZO2RmSkXK3c este test permite determinar si las muestas provienen de la misma distribución. Para ello buscar la mayor diferencia entre la funcion acumulativa de distribucion de ambas muestras.\n",
    "\n",
    "Como dibujar la funcion acumultiva de destribucion CDF (comulative distribution function)\n",
    "\n"
   ]
  },
  {
   "cell_type": "markdown",
   "metadata": {
    "id": "3Ip_5YdenC8u"
   },
   "source": [
    "### 2.2 P-valor\n",
    "\n",
    "1. Calcule el p-valor y decida si rechazar o no la hipótesis nula.\n",
    "2. Interprete el resultado.\n",
    "3. Los dos grupos de nuestra muestra tienen tamaños muy distintos. ¿Esto afecta al tests?\n",
    "\n",
    "Links útiles:\n",
    "* [Test de hipótesis usando scipy](https://docs.scipy.org/doc/scipy/reference/generated/scipy.stats.ttest_ind.html)\n",
    "* [Test de Welch](http://daniellakens.blogspot.com/2015/01/always-use-welchs-t-test-instead-of.html)"
   ]
  },
  {
   "cell_type": "code",
   "execution_count": 81,
   "metadata": {},
   "outputs": [],
   "source": [
    "import numpy as np\n",
    "countA, bins_countA = np.histogram(groupA, bins=100)\n",
    "countB, bins_countB = np.histogram(groupB, bins=100)"
   ]
  },
  {
   "cell_type": "code",
   "execution_count": 82,
   "metadata": {},
   "outputs": [],
   "source": [
    "pdfA = countA / sum(countA)\n",
    "pdfB = countB / sum(countB)"
   ]
  },
  {
   "cell_type": "code",
   "execution_count": 83,
   "metadata": {},
   "outputs": [],
   "source": [
    "cdfA = np.cumsum(pdfA)\n",
    "cdfB = np.cumsum(pdfB)"
   ]
  },
  {
   "cell_type": "code",
   "execution_count": 84,
   "metadata": {},
   "outputs": [
    {
     "data": {
      "text/plain": [
       "array([0.003367  , 0.01683502, 0.03142536, 0.07631874, 0.18181818,\n",
       "       0.2704826 , 0.38608305, 0.48035915, 0.55780022, 0.64758698,\n",
       "       0.70707071, 0.77777778, 0.83164983, 0.8630752 , 0.89337823,\n",
       "       0.90909091, 0.93041526, 0.94163861, 0.95398429, 0.95847363,\n",
       "       0.96632997, 0.96969697, 0.97194164, 0.97418631, 0.98092031,\n",
       "       0.98204265, 0.98204265, 0.98204265, 0.98316498, 0.98316498,\n",
       "       0.98316498, 0.98428732, 0.98653199, 0.98877666, 0.98989899,\n",
       "       0.98989899, 0.98989899, 0.99102132, 0.99214366, 0.99326599,\n",
       "       0.99326599, 0.99326599, 0.99438833, 0.99438833, 0.99438833,\n",
       "       0.99438833, 0.99438833, 0.99551066, 0.99551066, 0.996633  ,\n",
       "       0.996633  , 0.996633  , 0.996633  , 0.996633  , 0.996633  ,\n",
       "       0.99775533, 0.99775533, 0.99775533, 0.99775533, 0.99775533,\n",
       "       0.99775533, 0.99775533, 0.99775533, 0.99775533, 0.99775533,\n",
       "       0.99775533, 0.99775533, 0.99775533, 0.99775533, 0.99775533,\n",
       "       0.99775533, 0.99775533, 0.99775533, 0.99775533, 0.99775533,\n",
       "       0.99775533, 0.99775533, 0.99775533, 0.99775533, 0.99775533,\n",
       "       0.99775533, 0.99775533, 0.99775533, 0.99775533, 0.99775533,\n",
       "       0.99775533, 0.99775533, 0.99775533, 0.99775533, 0.99775533,\n",
       "       0.99775533, 0.99775533, 0.99775533, 0.99887767, 0.99887767,\n",
       "       0.99887767, 0.99887767, 0.99887767, 0.99887767, 1.        ])"
      ]
     },
     "execution_count": 84,
     "metadata": {},
     "output_type": "execute_result"
    }
   ],
   "source": [
    "cdfB"
   ]
  },
  {
   "cell_type": "code",
   "execution_count": 74,
   "metadata": {},
   "outputs": [
    {
     "data": {
      "text/plain": [
       "[<matplotlib.lines.Line2D at 0x1a1cb96be0>]"
      ]
     },
     "execution_count": 74,
     "metadata": {},
     "output_type": "execute_result"
    },
    {
     "data": {
      "image/png": "[encoded data removed]",
      "text/plain": [
       "<Figure size 432x288 with 1 Axes>"
      ]
     },
     "metadata": {
      "needs_background": "light"
     },
     "output_type": "display_data"
    }
   ],
   "source": [
    "# Graficamos la función de distribución acumulado CDF y la la función de densidad PDF.\n",
    "\n",
    "plt.plot(bins_countA[1:], cdfA, label=\"CDF\" , color=\"red\" , linewidth=\"1\")\n",
    "plt.plot(bins_countB[1:], cdfB, label=\"CDF\" , color=\"blue\" , linewidth=\"1\")\n",
    "\n",
    "plt.plot(bins_countA[1:], pdfA, color=\"red\", label=\"PDF\", linestyle=\"dashed\" , linewidth=\"1\")\n",
    "plt.plot(bins_countB[1:], pdfB, color=\"blue\", label=\"PDF\", linestyle=\"dashed\" , linewidth=\"1\")"
   ]
  },
  {
   "cell_type": "code",
   "execution_count": 49,
   "metadata": {},
   "outputs": [],
   "source": [
    "from scipy.stats import ks_2samp"
   ]
  },
  {
   "cell_type": "code",
   "execution_count": 76,
   "metadata": {},
   "outputs": [
    {
     "name": "stdout",
     "output_type": "stream",
     "text": [
      " Se  Rechaza H0 (misma distribución) , pvalue = 1.5432100042289676e-14 \n"
     ]
    }
   ],
   "source": [
    "(_ , pvalue) = ks_2samp(groupA, groupB)\n",
    "alpha = 0.05/2\n",
    "\n",
    "print (f\" Se  {'Rechaza' if pvalue < alpha else 'Acepta'} H0 (misma distribución) , pvalue = {pvalue} \")\n",
    "#https://stackoverflow.com/questions/10884668/two-sample-kolmogorov-smirnov-test-in-python-scipy\n",
    "\n",
    "#https://sparky.rice.edu//astr360/kstest.pdf\n",
    "\n",
    "# Como calcular el critical value\n",
    "#https://www.real-statistics.com/non-parametric-tests/goodness-of-fit-tests/two-sample-kolmogorov-smirnov-test/"
   ]
  },
  {
   "cell_type": "code",
   "execution_count": 53,
   "metadata": {},
   "outputs": [],
   "source": [
    "#El pvalue es muy chico, con lo cual rechazamos que las muestras provienen de la misma distribución"
   ]
  },
  {
   "cell_type": "markdown",
   "metadata": {},
   "source": [
    "![tt](images/kolmogorov-Smirnov-test.png)"
   ]
  },
  {
   "cell_type": "markdown",
   "metadata": {
    "tags": []
   },
   "source": [
    "Estadistico seleccionado: No parametrico, se usa la máxima diferencia entre las funciones de distribución acumuladas\n",
    "\n",
    "$H_0$=Las dos muestras tienen la misma distribución\n"
   ]
  },
  {
   "cell_type": "code",
   "execution_count": 77,
   "metadata": {},
   "outputs": [],
   "source": [
    "alpha = 0.05 / 2\n",
    "#Controlar que el test sea doble cola"
   ]
  },
  {
   "cell_type": "code",
   "execution_count": 80,
   "metadata": {},
   "outputs": [
    {
     "name": "stdout",
     "output_type": "stream",
     "text": [
      " Se  Rechaza H0 (misma distribución), pvalue = 8.605197322133209e-22 \n"
     ]
    }
   ],
   "source": [
    "(_,pvalue) = scipy.stats.ttest_ind(groupA, groupB , equal_var=False)\n",
    "\n",
    "print (f\" Se  {'Rechaza' if pvalue < alpha else 'Acepta'} H0 (misma distribución), pvalue = {pvalue} \")\n",
    "\n"
   ]
  },
  {
   "cell_type": "markdown",
   "metadata": {
    "id": "8VxiQr5YrQYR"
   },
   "source": [
    "### [Opcional] 2.3 Potencia del test\n",
    "\n",
    "Nuestra muestra, ¿era lo suficientemente grande para detectar si existe o no una diferencia entre los grupos?\n",
    "\n",
    "1. Utilice la función `tt_ind_solve_power` para calcular el tamaño necesario de la muestra para un poder estadístico de 0.8, 0.9 y 0.95, asumiendo una significancia estadística de 0.05.\n",
    "2. ¿Cómo intepretan el poder estadístico de un test? Dado su conocimiento de dominio sobre los datos, ¿les parece que esta muestra es lo suficientemente grande para ser representativo de la tendencia general? ¿y para utilizarlo en un juicio penal contra una empresa XX por una causa de discriminación?\n",
    "\n",
    "[Documentación](https://www.statsmodels.org/stable/generated/statsmodels.stats.power.tt_ind_solve_power.html)\n",
    "\n",
    "NOTA: este análisis debería hacerse ANTES de recolectar los datos."
   ]
  },
  {
   "cell_type": "code",
   "execution_count": 86,
   "metadata": {
    "colab": {
     "base_uri": "https://localhost:8080/"
    },
    "id": "_IiqGfo4t6Db",
    "outputId": "30acabed-46e2-476d-ec27-fec5823af98c"
   },
   "outputs": [],
   "source": [
    "from statsmodels.stats.power import tt_ind_solve_power"
   ]
  },
  {
   "cell_type": "code",
   "execution_count": 87,
   "metadata": {
    "id": "LUQ7MA2Apj9x"
   },
   "outputs": [],
   "source": [
    "effect_size = (groupA.mean() - groupB.mean()) / groupB.std()\n",
    "# nobs1=None  - What we want to know\n",
    "alpha = 0.05\n",
    "ratio = len(groupB) / len(groupA)"
   ]
  },
  {
   "cell_type": "code",
   "execution_count": 90,
   "metadata": {
    "colab": {
     "base_uri": "https://localhost:8080/"
    },
    "id": "cvHcpY-3ty8Q",
    "outputId": "52cc1464-e94b-45df-9610-0592399001b9"
   },
   "outputs": [
    {
     "name": "stdout",
     "output_type": "stream",
     "text": [
      "298.3073379956589\n",
      "341.0013436655071\n",
      "398.7961001403289\n",
      "492.8117730249174\n"
     ]
    }
   ],
   "source": [
    " for x in range(80,100,5):\n",
    "    result = tt_ind_solve_power(effect_size=effect_size, alpha=alpha, power=x/100, ratio=ratio)\n",
    "    print (result)"
   ]
  },
  {
   "cell_type": "code",
   "execution_count": 96,
   "metadata": {},
   "outputs": [
    {
     "name": "stdout",
     "output_type": "stream",
     "text": [
      "GroupB 891 GroupA 4815 Ration 0.18504672897196262\n"
     ]
    }
   ],
   "source": [
    "\n",
    "print (f\"GroupB {len(groupB)} GroupA {len(groupA)} Ration {ratio}\")\n"
   ]
  },
  {
   "cell_type": "markdown",
   "metadata": {
    "id": "useKMdPyMod5"
   },
   "source": [
    "## Ejercicio 3: Comunicación y visualización\n",
    "\n",
    "**Consigna:** Seleccionen un resultado que les parezca relevante a partir de alguno de los ejercicios del entregable. Diseñe e implemente una comunicación en base a este mensaje, en un archivo PDF.\n",
    "\n",
    "Elija las palabras y visualización más adecuada para que la comunicación sea entendible, efectiva y se dapte a UNA de las siguientes situaciones:\n",
    "\n",
    "1. Una sección en un artículo de difusión a presentar como parte de una organización sin fines de lucro.\n",
    "No más de 1 página A4 (o dos si los gráficos son muy grandes).\n",
    "  1. Ejemplo: Alguna de las secciones [Los ecosistemas de emprendimiento de América Latina y el Caribe frente al COVID-19: Impactos, necesidades y recomendaciones](https://publications.iadb.org/es/los-ecosistemas-de-emprendimiento-de-america-latina-y-el-caribe-frente-al-covid-19-impactos-necesidades-y-recomendaciones), por ejemplo la sección *2.2. Reacciones de los emprendedores*.\n",
    "  2. Ejemplo: Alguna de las secciones de [The state of gender pay gap in 2021](https://www.payscale.com/data/gender-pay-gap?tk=carousel-ps-rc-job)\n",
    "  3. Puntos clave: \n",
    "    1. Simpleza de los gráficos.\n",
    "    2. Comunicación en lenguaje simple a personas que no son necesariamente expertos de dominio.\n",
    "    2. Selección de UNA oración sobre la que se hace énfasis.\n",
    "    3. No es necesario que mencionen objetivos ni descripciones del conjunto de datos, se supone que eso ya estaría explicado en otras secciones del informe.\n",
    "\n",
    "2. Una publicación científica o reporte técnico interno. No más de una página A4:\n",
    "  2. Ejemplo: La sección de resultados de [IZA DP No. 12914: The Impact of a Minimum Wage Change on the Distribution of Wages and Household Income](https://www.iza.org/publications/dp/12914/the-impact-of-a-minimum-wage-change-on-the-distribution-of-wages-and-household-income).\n",
    "  2. Ejemplo: Alguna de las secciones de [Temporary reduction in daily global CO2 emissions during the COVID-19 forced confinement](https://www.nature.com/articles/s41558-020-0797-x)\n",
    "  3. Puntos clave:\n",
    "    3. Nivel de detalle técnico requerido. Es necesario justificar la validez del análisis.\n",
    "    4. La idea presentada puede ser más compleja. Pueden asumir que la audiencia tiene conocimiento técnico y va a analizar las visualizaciones en detalle. \n",
    "    5. Pueden presentar más en detalle las limitaciones del análisis (significancia estadística, etc.)\n",
    "    2. No es necesario que mencionen objetivos ni descripciones del conjunto de datos, se supone que eso ya estaría explicado en otras secciones del informe.\n",
    "\n",
    "3. Un tweet (o post de LinkedIn) para la cuenta de su empresa consultora que hace análisis de datos. El objetivo es promocionar un análisis de datos abiertos que van a incluir en su portfolio:\n",
    "  1. Ejemplo: [Comparación vacunas covid](https://twitter.com/infobeautiful/status/1381577746527236098?s=20)\n",
    "  2. Ejemplo: [Tweet del BID](https://twitter.com/el_BID/status/1388508583944507396?s=20). Lo valioso de este tweet es que usaron un único número para transmitir un mensaje. Puede ser algo así, o con un gráfico muy simple.\n",
    "  3. Ejemplo: [Cambio climático](https://twitter.com/UNFCCC/status/1387732156190011394?s=20) Es un muy buen ejemplo, excepto que el gráfico no se lee nada y hay que entrar a la publicación original.\n",
    "  3. Ejemplo: [¿Cuánto están los programadores en las empresas?](https://www.linkedin.com/posts/denis-rothman-0b034043_tech-career-work-activity-6793861923269054464-gS6y) (No verificamos la veracidad o seriedad de la fuente).\n",
    "  4. Puntos clave:\n",
    "    1. Su audiencia no va a mirar la visualización por más de unos segundos, y no tiene conocimiento técnico.\n",
    "  3. Tienen que incluir además una *breve* descripción de cómo obtuvieron los datos que están presentando, que no entraría en el tweet.\n"
   ]
  },
  {
   "cell_type": "code",
   "execution_count": null,
   "metadata": {
    "id": "twwYHUztt45L"
   },
   "outputs": [],
   "source": []
  }
 ],
 "metadata": {
  "colab": {
   "collapsed_sections": [],
   "name": "Entregable - Parte 2.ipynb",
   "provenance": [],
   "toc_visible": true
  },
  "kernelspec": {
   "display_name": "Python 3",
   "language": "python",
   "name": "python3"
  },
  "language_info": {
   "codemirror_mode": {
    "name": "ipython",
    "version": 3
   },
   "file_extension": ".py",
   "mimetype": "text/x-python",
   "name": "python",
   "nbconvert_exporter": "python",
   "pygments_lexer": "ipython3",
   "version": "3.6.13"
  }
 },
 "nbformat": 4,
 "nbformat_minor": 4
}
