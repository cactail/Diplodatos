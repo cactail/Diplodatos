{
 "cells": [
  {
   "cell_type": "markdown",
   "metadata": {
    "id": "IbIXgJg_cSMY"
   },
   "source": [
    "Trabajo Practico - Ejercicio 3\n",
    "Seleccionen un resultado que les parezca relevante a partir de alguno de los ejercicios del entregable. Diseñe e implemente una comunicación en base a este mensaje, en un archivo PDF.\n",
    "\n",
    "Elija las palabras y visualización más adecuada para que la comunicación sea entendible, efectiva para: \n",
    "2. Una publicación científica o reporte técnico interno. No más de una página A4:\n",
    "  2. Ejemplo: La sección de resultados de [IZA DP No. 12914: The Impact of a Minimum Wage Change on the Distribution of Wages and Household Income](https://www.iza.org/publications/dp/12914/the-impact-of-a-minimum-wage-change-on-the-distribution-of-wages-and-household-income).\n",
    "  2. Ejemplo: Alguna de las secciones de [Temporary reduction in daily global CO2 emissions during the COVID-19 forced confinement](https://www.nature.com/articles/s41558-020-0797-x)\n",
    "  3. Puntos clave:\n",
    "    3. Nivel de detalle técnico requerido. Es necesario justificar la validez del análisis.\n",
    "    4. La idea presentada puede ser más compleja. Pueden asumir que la audiencia tiene conocimiento técnico y va a analizar las visualizaciones en detalle. \n",
    "    5. Pueden presentar más en detalle las limitaciones del análisis (significancia estadística, etc.)\n",
    "    2. No es necesario que mencionen objetivos ni descripciones del conjunto de datos, se supone que eso ya estaría explicado en otras secciones del informe.\n"
   ]
  },
  {
   "cell_type": "markdown",
   "metadata": {
    "id": "UbzoNUOddgt_"
   },
   "source": [
    "Definir Población\n",
    "\n",
    "Definir metodología que se va a emplear/Potencia/Distribuciones/Teorema Central del límite\n",
    "\n",
    "Caracterizar Muestra/Muestreo\n",
    "\n",
    "Estadística descriptiva/BoxPlot-Violin Plot\n",
    "\n",
    "Estimación puntual y por intervalo\n",
    "\n",
    "Prueba de Hipótesis t de Student \n",
    "\n",
    "Estimación de Error Tipo I, Significancia Estadística vs Tamaño Muestral Exagerado\n",
    "\n",
    "Prueba de Hipótesis Kolmogorov-Smirnov\n",
    "\n",
    "Discusión de resultados\n"
   ]
  },
  {
   "cell_type": "code",
   "execution_count": 1,
   "metadata": {
    "id": "Rnvloajub7og"
   },
   "outputs": [],
   "source": [
    "import io\n",
    "import matplotlib\n",
    "import matplotlib.pyplot as plt\n",
    "import numpy as np\n",
    "import pandas as pd\n",
    "import seaborn\n",
    "\n",
    "seaborn.set_context('talk')"
   ]
  },
  {
   "cell_type": "markdown",
   "metadata": {
    "id": "J91VOTI4cPD2"
   },
   "source": [
    "##Descripción del DataSet\n",
    "Para analizar la distribución de los salarios entre las personas que trabajan en el rubro de IT en Argentina con una perspectiva de género, partimos de la base de datos de la encuesta de salarios realizada por Open Qube y publicada en el blog de SysArmy[$^1$](https://sysarmy.com/blog/) para el año 2020[$^2$](https://sueldos.openqube.io/encuesta-sueldos-2020.01/#Introduccion).\n",
    "\n",
    "La descripción de la metodología de muestreo empleada para la construcción y la representatividad ha sido publicada por OpenQube en ($^2$).\n",
    "\n",
    "La base de datos fue exportada a un archivo .csv, cargada en un objeto tipo data.frame de Pandas en Python 3.9.5. El data set final contiene unicamente las series de datos de salario mensual neto y la categoría de género. La descriptiva del dataset puede consultarse en la Tabla I."
   ]
  },
  {
   "cell_type": "markdown",
   "metadata": {
    "id": "1s25ekNsEhb8"
   },
   "source": [
    "###TABLA I"
   ]
  },
  {
   "cell_type": "code",
   "execution_count": 2,
   "metadata": {
    "colab": {
     "base_uri": "https://localhost:8080/",
     "height": 219
    },
    "id": "EbKSmLM3T8O_",
    "outputId": "ba4efae8-b46a-4c2b-8001-89a43beccc81"
   },
   "outputs": [
    {
     "name": "stdout",
     "output_type": "stream",
     "text": [
      "La base de datos cuenta con 48 columnas y 6095 filas\n"
     ]
    },
    {
     "data": {
      "text/html": [
       "<div>\n",
       "<style scoped>\n",
       "    .dataframe tbody tr th:only-of-type {\n",
       "        vertical-align: middle;\n",
       "    }\n",
       "\n",
       "    .dataframe tbody tr th {\n",
       "        vertical-align: top;\n",
       "    }\n",
       "\n",
       "    .dataframe thead tr th {\n",
       "        text-align: left;\n",
       "    }\n",
       "\n",
       "    .dataframe thead tr:last-of-type th {\n",
       "        text-align: right;\n",
       "    }\n",
       "</style>\n",
       "<table border=\"1\" class=\"dataframe\">\n",
       "  <thead>\n",
       "    <tr>\n",
       "      <th></th>\n",
       "      <th colspan=\"8\" halign=\"left\">salary_monthly_NETO</th>\n",
       "    </tr>\n",
       "    <tr>\n",
       "      <th></th>\n",
       "      <th>count</th>\n",
       "      <th>mean</th>\n",
       "      <th>std</th>\n",
       "      <th>min</th>\n",
       "      <th>25%</th>\n",
       "      <th>50%</th>\n",
       "      <th>75%</th>\n",
       "      <th>max</th>\n",
       "    </tr>\n",
       "    <tr>\n",
       "      <th>profile_gender</th>\n",
       "      <th></th>\n",
       "      <th></th>\n",
       "      <th></th>\n",
       "      <th></th>\n",
       "      <th></th>\n",
       "      <th></th>\n",
       "      <th></th>\n",
       "      <th></th>\n",
       "    </tr>\n",
       "  </thead>\n",
       "  <tbody>\n",
       "    <tr>\n",
       "      <th>Hombre</th>\n",
       "      <td>4944.0</td>\n",
       "      <td>98836.063558</td>\n",
       "      <td>102159.664237</td>\n",
       "      <td>1.0</td>\n",
       "      <td>53285.0</td>\n",
       "      <td>80000.0</td>\n",
       "      <td>110000.0</td>\n",
       "      <td>2080000.0</td>\n",
       "    </tr>\n",
       "    <tr>\n",
       "      <th>Mujer</th>\n",
       "      <td>908.0</td>\n",
       "      <td>73501.414465</td>\n",
       "      <td>56256.880181</td>\n",
       "      <td>2.0</td>\n",
       "      <td>43818.0</td>\n",
       "      <td>65000.0</td>\n",
       "      <td>92000.0</td>\n",
       "      <td>800000.0</td>\n",
       "    </tr>\n",
       "    <tr>\n",
       "      <th>Otros</th>\n",
       "      <td>31.0</td>\n",
       "      <td>95441.354839</td>\n",
       "      <td>88635.674358</td>\n",
       "      <td>40.0</td>\n",
       "      <td>39500.0</td>\n",
       "      <td>74000.0</td>\n",
       "      <td>117500.0</td>\n",
       "      <td>380000.0</td>\n",
       "    </tr>\n",
       "  </tbody>\n",
       "</table>\n",
       "</div>"
      ],
      "text/plain": [
       "               salary_monthly_NETO                                     \\\n",
       "                             count          mean            std   min   \n",
       "profile_gender                                                          \n",
       "Hombre                      4944.0  98836.063558  102159.664237   1.0   \n",
       "Mujer                        908.0  73501.414465   56256.880181   2.0   \n",
       "Otros                         31.0  95441.354839   88635.674358  40.0   \n",
       "\n",
       "                                                       \n",
       "                    25%      50%       75%        max  \n",
       "profile_gender                                         \n",
       "Hombre          53285.0  80000.0  110000.0  2080000.0  \n",
       "Mujer           43818.0  65000.0   92000.0   800000.0  \n",
       "Otros           39500.0  74000.0  117500.0   380000.0  "
      ]
     },
     "execution_count": 2,
     "metadata": {},
     "output_type": "execute_result"
    }
   ],
   "source": [
    "url = 'https://cs.famaf.unc.edu.ar/~mteruel/datasets/diplodatos/sysarmy_survey_2020_processed.csv'\n",
    "df = pd.read_csv(url)\n",
    "filas = df.shape[0] \n",
    "columnas = df.shape[1] \n",
    "print (f\"La base de datos cuenta con {columnas} columnas y {filas} filas\")\n",
    "df[['profile_gender', 'salary_monthly_NETO']].groupby('profile_gender').describe()\n"
   ]
  },
  {
   "cell_type": "markdown",
   "metadata": {
    "id": "IKDMc5t3VHQk"
   },
   "source": [
    "##Exploración y Curación\n",
    "No se cuenta con valores faltantes. Para el presente analisis se consideraron valores atipicos salarios netos declarados menores a ARS 1000. La descriptiva del nuevo dataset puede visualizarse en la Tabla II.\n",
    "\n",
    "Los data sets curados a emplear se denominan Grupo A para los datos provenientes de individuos de género masculino y Grupo B para otros géneros, incluyendo el género femenino."
   ]
  },
  {
   "cell_type": "markdown",
   "metadata": {
    "id": "7vCNbT0xE2SF"
   },
   "source": [
    "###TABLA II"
   ]
  },
  {
   "cell_type": "code",
   "execution_count": 3,
   "metadata": {
    "colab": {
     "base_uri": "https://localhost:8080/",
     "height": 202
    },
    "id": "r20xLhGXWBzN",
    "outputId": "dd9c3ece-ae2d-4d35-bc50-17c8f0595507"
   },
   "outputs": [
    {
     "data": {
      "text/html": [
       "<div>\n",
       "<style scoped>\n",
       "    .dataframe tbody tr th:only-of-type {\n",
       "        vertical-align: middle;\n",
       "    }\n",
       "\n",
       "    .dataframe tbody tr th {\n",
       "        vertical-align: top;\n",
       "    }\n",
       "\n",
       "    .dataframe thead tr th {\n",
       "        text-align: left;\n",
       "    }\n",
       "\n",
       "    .dataframe thead tr:last-of-type th {\n",
       "        text-align: right;\n",
       "    }\n",
       "</style>\n",
       "<table border=\"1\" class=\"dataframe\">\n",
       "  <thead>\n",
       "    <tr>\n",
       "      <th></th>\n",
       "      <th colspan=\"8\" halign=\"left\">salary_monthly_NETO</th>\n",
       "    </tr>\n",
       "    <tr>\n",
       "      <th></th>\n",
       "      <th>count</th>\n",
       "      <th>mean</th>\n",
       "      <th>std</th>\n",
       "      <th>min</th>\n",
       "      <th>25%</th>\n",
       "      <th>50%</th>\n",
       "      <th>75%</th>\n",
       "      <th>max</th>\n",
       "    </tr>\n",
       "    <tr>\n",
       "      <th>profile_gender</th>\n",
       "      <th></th>\n",
       "      <th></th>\n",
       "      <th></th>\n",
       "      <th></th>\n",
       "      <th></th>\n",
       "      <th></th>\n",
       "      <th></th>\n",
       "      <th></th>\n",
       "    </tr>\n",
       "  </thead>\n",
       "  <tbody>\n",
       "    <tr>\n",
       "      <th>Hombre</th>\n",
       "      <td>4815.0</td>\n",
       "      <td>101481.624343</td>\n",
       "      <td>102215.304684</td>\n",
       "      <td>1100.0</td>\n",
       "      <td>55000.0</td>\n",
       "      <td>80000.0</td>\n",
       "      <td>110000.0</td>\n",
       "      <td>2080000.0</td>\n",
       "    </tr>\n",
       "    <tr>\n",
       "      <th>Mujer</th>\n",
       "      <td>863.0</td>\n",
       "      <td>77328.913778</td>\n",
       "      <td>55082.760570</td>\n",
       "      <td>2000.0</td>\n",
       "      <td>47850.0</td>\n",
       "      <td>67200.0</td>\n",
       "      <td>93000.0</td>\n",
       "      <td>800000.0</td>\n",
       "    </tr>\n",
       "    <tr>\n",
       "      <th>Otros</th>\n",
       "      <td>28.0</td>\n",
       "      <td>105660.714286</td>\n",
       "      <td>87235.710235</td>\n",
       "      <td>34000.0</td>\n",
       "      <td>43750.0</td>\n",
       "      <td>78900.0</td>\n",
       "      <td>122750.0</td>\n",
       "      <td>380000.0</td>\n",
       "    </tr>\n",
       "  </tbody>\n",
       "</table>\n",
       "</div>"
      ],
      "text/plain": [
       "               salary_monthly_NETO                                         \\\n",
       "                             count           mean            std      min   \n",
       "profile_gender                                                              \n",
       "Hombre                      4815.0  101481.624343  102215.304684   1100.0   \n",
       "Mujer                        863.0   77328.913778   55082.760570   2000.0   \n",
       "Otros                         28.0  105660.714286   87235.710235  34000.0   \n",
       "\n",
       "                                                       \n",
       "                    25%      50%       75%        max  \n",
       "profile_gender                                         \n",
       "Hombre          55000.0  80000.0  110000.0  2080000.0  \n",
       "Mujer           47850.0  67200.0   93000.0   800000.0  \n",
       "Otros           43750.0  78900.0  122750.0   380000.0  "
      ]
     },
     "execution_count": 3,
     "metadata": {},
     "output_type": "execute_result"
    }
   ],
   "source": [
    "df[df.salary_monthly_NETO > 1000][['profile_gender', 'salary_monthly_NETO']].groupby('profile_gender').describe()"
   ]
  },
  {
   "cell_type": "code",
   "execution_count": 4,
   "metadata": {
    "colab": {
     "base_uri": "https://localhost:8080/"
    },
    "id": "xEK8s8HwWCq0",
    "outputId": "43f41823-ef17-4da9-902f-fe6d0e6385aa"
   },
   "outputs": [
    {
     "name": "stdout",
     "output_type": "stream",
     "text": [
      "Salarios Mensuales Netos < 1000AR$\n",
      "389 Entradas Eliminadas (6%)\n",
      "129 entradas de género masculino\n",
      "47 entradas de otros géneros\n"
     ]
    }
   ],
   "source": [
    "n_total = sum(df.salary_monthly_NETO > 1000)\n",
    "print (\"Salarios Mensuales Netos < 1000AR$\")\n",
    "print (f\"{filas - n_total} Entradas Eliminadas ({round((filas-n_total)*100/filas)}%)\")\n",
    "\n",
    "is_man = df.profile_gender == 'Hombre'\n",
    "\n",
    "o_submil = sum((df.salary_monthly_NETO < 1000) & is_man)\n",
    "h_submil = sum((df.salary_monthly_NETO < 1000) & ~is_man)\n",
    "\n",
    "muestra_hombre = df[(df.salary_monthly_NETO > 1000) & is_man]\n",
    "muestra_no_hombre = df[(df.salary_monthly_NETO > 1000) & ~is_man]\n",
    "\n",
    "print (f\"{o_submil} entradas de género masculino\")\n",
    "print (f\"{h_submil} entradas de otros géneros\")"
   ]
  },
  {
   "cell_type": "code",
   "execution_count": 5,
   "metadata": {
    "colab": {
     "base_uri": "https://localhost:8080/",
     "height": 294
    },
    "id": "OA1pYJOX2dFx",
    "outputId": "3f00c297-3e32-4c15-f6da-624ae37d5177"
   },
   "outputs": [
    {
     "data": {
      "text/html": [
       "<div>\n",
       "<style scoped>\n",
       "    .dataframe tbody tr th:only-of-type {\n",
       "        vertical-align: middle;\n",
       "    }\n",
       "\n",
       "    .dataframe tbody tr th {\n",
       "        vertical-align: top;\n",
       "    }\n",
       "\n",
       "    .dataframe thead th {\n",
       "        text-align: right;\n",
       "    }\n",
       "</style>\n",
       "<table border=\"1\" class=\"dataframe\">\n",
       "  <thead>\n",
       "    <tr style=\"text-align: right;\">\n",
       "      <th></th>\n",
       "      <th>salary_monthly_NETO</th>\n",
       "    </tr>\n",
       "  </thead>\n",
       "  <tbody>\n",
       "    <tr>\n",
       "      <th>count</th>\n",
       "      <td>4.815000e+03</td>\n",
       "    </tr>\n",
       "    <tr>\n",
       "      <th>mean</th>\n",
       "      <td>1.014816e+05</td>\n",
       "    </tr>\n",
       "    <tr>\n",
       "      <th>std</th>\n",
       "      <td>1.022153e+05</td>\n",
       "    </tr>\n",
       "    <tr>\n",
       "      <th>min</th>\n",
       "      <td>1.100000e+03</td>\n",
       "    </tr>\n",
       "    <tr>\n",
       "      <th>25%</th>\n",
       "      <td>5.500000e+04</td>\n",
       "    </tr>\n",
       "    <tr>\n",
       "      <th>50%</th>\n",
       "      <td>8.000000e+04</td>\n",
       "    </tr>\n",
       "    <tr>\n",
       "      <th>75%</th>\n",
       "      <td>1.100000e+05</td>\n",
       "    </tr>\n",
       "    <tr>\n",
       "      <th>max</th>\n",
       "      <td>2.080000e+06</td>\n",
       "    </tr>\n",
       "  </tbody>\n",
       "</table>\n",
       "</div>"
      ],
      "text/plain": [
       "       salary_monthly_NETO\n",
       "count         4.815000e+03\n",
       "mean          1.014816e+05\n",
       "std           1.022153e+05\n",
       "min           1.100000e+03\n",
       "25%           5.500000e+04\n",
       "50%           8.000000e+04\n",
       "75%           1.100000e+05\n",
       "max           2.080000e+06"
      ]
     },
     "execution_count": 5,
     "metadata": {},
     "output_type": "execute_result"
    }
   ],
   "source": [
    "muestra_hombre[['profile_gender', 'salary_monthly_NETO']].describe()"
   ]
  },
  {
   "cell_type": "code",
   "execution_count": 6,
   "metadata": {
    "colab": {
     "base_uri": "https://localhost:8080/",
     "height": 294
    },
    "id": "Lj-7_cBn2cCI",
    "outputId": "42f8cc5a-c8ab-4925-eaee-af18282ea63f"
   },
   "outputs": [
    {
     "data": {
      "text/html": [
       "<div>\n",
       "<style scoped>\n",
       "    .dataframe tbody tr th:only-of-type {\n",
       "        vertical-align: middle;\n",
       "    }\n",
       "\n",
       "    .dataframe tbody tr th {\n",
       "        vertical-align: top;\n",
       "    }\n",
       "\n",
       "    .dataframe thead th {\n",
       "        text-align: right;\n",
       "    }\n",
       "</style>\n",
       "<table border=\"1\" class=\"dataframe\">\n",
       "  <thead>\n",
       "    <tr style=\"text-align: right;\">\n",
       "      <th></th>\n",
       "      <th>salary_monthly_NETO</th>\n",
       "    </tr>\n",
       "  </thead>\n",
       "  <tbody>\n",
       "    <tr>\n",
       "      <th>count</th>\n",
       "      <td>891.000000</td>\n",
       "    </tr>\n",
       "    <tr>\n",
       "      <th>mean</th>\n",
       "      <td>78219.250943</td>\n",
       "    </tr>\n",
       "    <tr>\n",
       "      <th>std</th>\n",
       "      <td>56515.327324</td>\n",
       "    </tr>\n",
       "    <tr>\n",
       "      <th>min</th>\n",
       "      <td>2000.000000</td>\n",
       "    </tr>\n",
       "    <tr>\n",
       "      <th>25%</th>\n",
       "      <td>47600.000000</td>\n",
       "    </tr>\n",
       "    <tr>\n",
       "      <th>50%</th>\n",
       "      <td>67310.000000</td>\n",
       "    </tr>\n",
       "    <tr>\n",
       "      <th>75%</th>\n",
       "      <td>94000.000000</td>\n",
       "    </tr>\n",
       "    <tr>\n",
       "      <th>max</th>\n",
       "      <td>800000.000000</td>\n",
       "    </tr>\n",
       "  </tbody>\n",
       "</table>\n",
       "</div>"
      ],
      "text/plain": [
       "       salary_monthly_NETO\n",
       "count           891.000000\n",
       "mean          78219.250943\n",
       "std           56515.327324\n",
       "min            2000.000000\n",
       "25%           47600.000000\n",
       "50%           67310.000000\n",
       "75%           94000.000000\n",
       "max          800000.000000"
      ]
     },
     "execution_count": 6,
     "metadata": {},
     "output_type": "execute_result"
    }
   ],
   "source": [
    "muestra_no_hombre[['profile_gender', 'salary_monthly_NETO']].describe()"
   ]
  },
  {
   "cell_type": "code",
   "execution_count": 7,
   "metadata": {
    "colab": {
     "base_uri": "https://localhost:8080/"
    },
    "id": "52bHK3s4Z7SR",
    "outputId": "0a424725-297c-422c-9cdc-709f31071f24"
   },
   "outputs": [
    {
     "name": "stdout",
     "output_type": "stream",
     "text": [
      "El número de valores NA en Group A es 0\n",
      "El número de valores NA en Group B es 0\n"
     ]
    }
   ],
   "source": [
    "groupA = muestra_hombre.salary_monthly_NETO\n",
    "groupB = muestra_no_hombre.salary_monthly_NETO\n",
    "\n",
    "print (f\"El número de valores NA en Group A es {groupA.isna().sum()}\")\n",
    "print (f\"El número de valores NA en Group B es {groupB.isna().sum()}\")"
   ]
  },
  {
   "cell_type": "markdown",
   "metadata": {
    "id": "FJEq0Ru84jNs"
   },
   "source": [
    "##Metodología\n",
    "###Variable Aleatoria\n",
    "La variable aleatoria para la que deseamos hacer la estimación es la diferencia de las medias muestrales de los salarios netos mensuales entre aquellos individuos del genero másculino ($A$) y de otros géneros ($B$), que denominaremos $\\overline{X}_a - \\overline{X}_b$.\n",
    "\n",
    "Dado el tamaño de las muestras por el *Teorema Central del Límite*, independientemente de la distribución de las variables aleatorias de origen las medias muestrales $\\overline{X}_a,\\overline{X}_b$ ~ $N(\\mu,\\sigma)$. Para la diferencia de las medias muestrales es posible demostrar que:\n",
    "\n",
    "$\\overline{X}_a - \\overline{X}_b$~ $N(\\mu_a-\\mu_b,\\sigma_p^2)$\n",
    "\n",
    "Para el análisis supondremos la independencia de ambas muestras de acuerdo a la metodología empleada por Open Qube.\n",
    "\n",
    "###Diferencia Estadísticamente Significativa\n",
    "Para descartar efectos aleatorios en la estimación de la diferencia de las medias muestrales se emplea una Prueba de Hipótesis para Diferencia de Medias Muestrales, para dos muestras independientes.\n",
    " \n",
    "**Hipótesis Nula**\n",
    "\n",
    "$H_0 \\rightarrow \\mu_a - \\mu_b = 0 $\n",
    "\n",
    "**Estadístico**\n",
    "\n",
    "$T(n_p-1)=\\frac{(\\overline{X}_a - \\overline{X}_b)-(\\mu_a-\\mu_b)}{\\sqrt{\\sigma_p^2/n_p}}$\n",
    "\n",
    "La expresión para el estimador insesgado de la varianza poblacional $\\sigma_p^2=V(\\overline{X}_a - \\overline{X}_b)$ depende de si podemos suponer varianzas iguales o diferentes. Igualmente la estimación del tamaño muestral ponderado $n_p$ depende de esta diferencia. \n",
    "\n",
    "Se realiza una prueba de hipótesis sobre el supuesto de homogeneidad de varianzas, puntualmente el Test de Levene, bajo $H_0 \\rightarrow \\sigma_a^2 = \\sigma_b^2$\n",
    "\n",
    "En caso de verificarse dicho supuesto se empleara un Test T de Student. En caso contrario se emplea Test T de Welch para varianzas no homogeneas. Se realiza un análisis de potencia para la prueba seleccionada, con el objetivo de asegurar $\\beta>0.95$.\n",
    "\n"
   ]
  },
  {
   "cell_type": "markdown",
   "metadata": {
    "id": "uAb5BHdK9nV1"
   },
   "source": [
    "Adicionalmente, atendiendo a las recomendaciones de la Sociedad Americana de Estadística[$^3$](https://amstat.tandfonline.com/doi/full/10.1080/00031305.2016.1154108#.Vt2XIOaE2MN) que indica que en casos de conclusiones que puedan dar forma a políticas socioeconómicas de alto alcance, como por ejemplo las políticas de género, es importante no basar las conclusiones en un único test y/o p-valor.\n",
    "\n",
    "Para reforzar las conclusiones se realizó Test de Smirnov-Kolmogorov para dos muestras independientes, donde:\n",
    "\n",
    "$H_0 \\rightarrow F(X_a) = F(X_b)$\n",
    "\n",
    "i.e. la distribuciones de probabilidad acumulada de las variables aleatorias $\\overline{X}_a,\\overline{X}_b$ son la misma función. \n",
    "\n",
    "Este test no paramétrico emplea el estadístico:\n",
    "\n",
    "$D_n = sup|F(X_a) - F(X_b)|$\n",
    "\n",
    "Definiendo la zona de rechazo como,\n",
    "\n",
    "$P(D_n \\sqrt{\\frac{n_a+n_b}{n_an_b}}>K_\\alpha)=\\alpha$\n",
    "\n",
    "Donde $K_\\alpha$ es el valor crítico en la distribución de Kolmogorov, que define la zona de rechazo en una prueba unilateral izquierda.  \n",
    "\n",
    "En todos los casos el nivel de significancia empleado es $\\alpha=0.05$."
   ]
  },
  {
   "cell_type": "markdown",
   "metadata": {
    "id": "74MraQrs_EAa"
   },
   "source": [
    "###Estimación\n",
    "En caso de existir evidencias de una diferencia estadísticamente significativa para las dos subpoblaciones se procede a realizar una estimación.\n",
    "\n",
    "Por las propiedades de la función Esperanza $E(X)$ la esperanza de la diferencia entre dos variables aleatorias es la diferencia de sus esperanzas marginales i.e. $E(\\overline{X}_a - \\overline{X}_b)=E(\\overline{X}_a)-E(\\overline{X}_b)=\\mu_a -\\mu_b$. \n",
    "\n",
    "El estimador puntual de $E(X)$ es la media muestral,\n",
    "por lo que un estimador puntual para este caso es la diferencia de las medias muestrales.\n",
    "\n",
    "Se realiza una estimación por intervalos de confianza. Cumpliendose que i) ambas muestras son independientes y ii) las distribuciones marginales de las medias muestrales son normales, para la construcción del intervalos de confianza podemos emplear el estadístico\n",
    "\n",
    " $T_{(n_p-1)}=\\frac{(\\overline{X}_a - \\overline{X}_b)-(\\mu_a-\\mu_b)}{\\sqrt{\\sigma_p^2/n_p}}$. \n",
    "\n",
    " El intervalo de confianza tendrá la forma:\n",
    "\n",
    " $P[(\\mu_a - \\mu_b) \\in [(\\overline{X}_a - \\overline{X}_b)\\pm t_{(n_p-1,\\alpha/2)}\\sqrt{\\sigma_p^2/n_p}]]=1-\\alpha$\n",
    "\n",
    "Con $\\alpha = 0.05$ se obtiene un intervalo con un $95$% de confianza."
   ]
  },
  {
   "cell_type": "markdown",
   "metadata": {
    "id": "1umgQu4zA921"
   },
   "source": [
    "##Resultados\n",
    "###Análisis de Potencia"
   ]
  },
  {
   "cell_type": "code",
   "execution_count": 8,
   "metadata": {
    "colab": {
     "base_uri": "https://localhost:8080/"
    },
    "id": "j0pMA7by2LY1",
    "outputId": "2526774b-35b9-49c3-b910-a91cb58f9b82"
   },
   "outputs": [
    {
     "name": "stdout",
     "output_type": "stream",
     "text": [
      "Potencia 95.0%, n = 493\n"
     ]
    }
   ],
   "source": [
    "alpha = 0.05\n",
    "\n",
    "beta = 0.95\n",
    "\n",
    "from statsmodels.stats.power import tt_ind_solve_power\n",
    "\n",
    "effect_size = (groupA.mean() - groupB.mean()) / groupB.std()\n",
    "\n",
    "ratio = len(groupB) / len(groupA)\n",
    "\n",
    "print (f\"Potencia {beta*100}%, n = {round(tt_ind_solve_power(effect_size=effect_size, alpha=alpha, power=beta, ratio=ratio))}\")"
   ]
  },
  {
   "cell_type": "markdown",
   "metadata": {
    "id": "Ketfav6mBVxY"
   },
   "source": [
    "Para una potencia del $95$% bajo la distribución supuesta se requiere un tamaño muestral $n>493$. Siendo $n_a$ y $n_b$ mayores que este valor se deduce que $n_p>493$ con lo que la prueba propuesta tiene la potencia suficiente."
   ]
  },
  {
   "cell_type": "markdown",
   "metadata": {
    "id": "RIqXX_rdIPHd"
   },
   "source": [
    "###Test de Levene"
   ]
  },
  {
   "cell_type": "code",
   "execution_count": 9,
   "metadata": {
    "colab": {
     "base_uri": "https://localhost:8080/"
    },
    "id": "NjIuO-V0BK6-",
    "outputId": "502cfbea-2b4b-4b64-b3c5-a895420b4a45"
   },
   "outputs": [
    {
     "name": "stdout",
     "output_type": "stream",
     "text": [
      "Se rechaza H0 (Varianzas Iguales) para una significancia del 5% con pvalue = 1.3e-06 \n"
     ]
    }
   ],
   "source": [
    "import scipy\n",
    "\n",
    "(_, pvalue) = scipy.stats.levene(groupA, groupB)\n",
    "\n",
    "print (f\"Se {'rechaza' if pvalue < alpha else 'Acepta'} H0 (Varianzas Iguales) para una significancia del 5% con pvalue = {round(pvalue, ndigits=7)} \")"
   ]
  },
  {
   "cell_type": "markdown",
   "metadata": {
    "id": "3Iugs354HlEG"
   },
   "source": [
    "Para el Prueba de Hipótesis de diferencia de medias empleamos el Test T de Welch. Los estimadores insesgados empleados tienen la siguiente forma:\n",
    "\n",
    "$\\sigma_p^2 = \\frac{\\sigma_a^2}{n_a} + \\frac{\\sigma_b^2}{n_b}$\n",
    "\n",
    "$n_p = \\frac\n",
    "{(\\frac{\\sigma_a^2}{n_a} + \\frac{\\sigma_b^2}{n_b})^2}\n",
    "{\n",
    "  \\frac{(\\sigma_a^2/n_a)^2}{n_a -1} +\n",
    "  \\frac{(\\sigma_b^2/n_b)^2}{n_b -1}\n",
    "  }$\n",
    "\n",
    " Definimos la zona de rechazo para una prueba bilateral tal que $H_0$ se acepta para \n",
    "  \n",
    "  $t_{(\\alpha/2,n_p-1)}<T_{(n_p-1)}<t_{(1-\\alpha/2,n_p-1)}$"
   ]
  },
  {
   "cell_type": "code",
   "execution_count": 10,
   "metadata": {
    "colab": {
     "base_uri": "https://localhost:8080/"
    },
    "id": "o1XDSECWHltu",
    "outputId": "b4f004db-5c96-4a40-e962-cd36bc96a1cd"
   },
   "outputs": [
    {
     "name": "stdout",
     "output_type": "stream",
     "text": [
      "Según lo descrito aplicando el Test de Welch: pvalue = 8.605197322133209e-22.\n",
      "Tomando un nivel de significancia del 5% se rechaza H0.\n"
     ]
    }
   ],
   "source": [
    "(_,pvalue) = scipy.stats.ttest_ind(groupA, groupB , equal_var=False)\n",
    "\n",
    "print (f\"Según lo descrito aplicando el Test de Welch: pvalue = {pvalue}.\\nTomando un nivel de significancia del 5% se {'rechaza' if pvalue < alpha else 'Acepta'} H0.\")"
   ]
  },
  {
   "cell_type": "markdown",
   "metadata": {
    "id": "LUdft2G2J63o"
   },
   "source": [
    "###Test de Kolmogorov_Smirnov\n",
    "Graficamos los percentiles de la función de distribución acumulada (CDF) y los perncentiles de la función de densidad (PDF).\n"
   ]
  },
  {
   "cell_type": "code",
   "execution_count": 11,
   "metadata": {
    "colab": {
     "base_uri": "https://localhost:8080/",
     "height": 317
    },
    "id": "DnGZWvlTJ2um",
    "outputId": "df3c2ea4-ad46-44e9-b8a7-667af2c441aa"
   },
   "outputs": [
    {
     "data": {
      "text/plain": [
       "[<matplotlib.lines.Line2D at 0x1a25737198>]"
      ]
     },
     "execution_count": 11,
     "metadata": {},
     "output_type": "execute_result"
    },
    {
     "data": {
      "image/png": "[encoded data removed]",
      "text/plain": [
       "<Figure size 432x288 with 1 Axes>"
      ]
     },
     "metadata": {
      "needs_background": "light"
     },
     "output_type": "display_data"
    }
   ],
   "source": [
    "countA, bins_countA = np.histogram(groupA, bins=100)\n",
    "countB, bins_countB = np.histogram(groupB, bins=100)\n",
    "\n",
    "pdfA = countA / sum(countA)\n",
    "pdfB = countB / sum(countB)\n",
    "\n",
    "cdfA = np.cumsum(pdfA)\n",
    "cdfB = np.cumsum(pdfB)\n",
    "\n",
    "plt.plot(bins_countA[1:], cdfA, label=\"CDF\" , color=\"red\" , linewidth=\"1\")\n",
    "plt.plot(bins_countB[1:], cdfB, label=\"CDF\" , color=\"blue\" , linewidth=\"1\")\n",
    "\n",
    "plt.plot(bins_countA[1:], pdfA, color=\"red\", label=\"PDF\", linestyle=\"dashed\" , linewidth=\"1\")\n",
    "plt.plot(bins_countB[1:], pdfB, color=\"blue\", label=\"PDF\", linestyle=\"dashed\" , linewidth=\"1\")"
   ]
  },
  {
   "cell_type": "code",
   "execution_count": 12,
   "metadata": {
    "colab": {
     "base_uri": "https://localhost:8080/"
    },
    "id": "NYHiKrW5KW6T",
    "outputId": "77a0ba19-3216-4ab7-bcfb-e0c510d392bb"
   },
   "outputs": [
    {
     "name": "stdout",
     "output_type": "stream",
     "text": [
      " Se  Rechaza H0 (misma distribución) , pvalue = 1.5432100042289676e-14 \n"
     ]
    }
   ],
   "source": [
    "from scipy.stats import ks_2samp\n",
    "\n",
    "(_ , pvalue) = ks_2samp(groupA, groupB)\n",
    "print (f\" Se  {'Rechaza' if pvalue < alpha else 'Acepta'} H0 (misma distribución) , pvalue = {pvalue} \")"
   ]
  },
  {
   "cell_type": "markdown",
   "metadata": {
    "id": "JyBgpGwFKrf0"
   },
   "source": [
    "El resultado nos indica que aún sin hacer ninguna asunción respecto de las distribuciones de las variables originales, podemos afirmar que $X_a$ y $X_b$ provienen de distribuciones distintas."
   ]
  },
  {
   "cell_type": "markdown",
   "metadata": {
    "id": "5DcnQtyRKl7T"
   },
   "source": [
    "###Estimación\n",
    "Las evidencias presentadas apuntan a que existe en efecto una diferencia significativa en los salarios mensaules netos, que atiende a diferencias de género. \n",
    "\n",
    "Suponiendo no homogeneidad de varianzas obtenemos el intervalo de confianza para $\\sigma_p^2, n_p$ como:\n"
   ]
  },
  {
   "cell_type": "code",
   "execution_count": 13,
   "metadata": {
    "colab": {
     "base_uri": "https://localhost:8080/"
    },
    "id": "1fue138DKjZj",
    "outputId": "aeca0e5b-813a-4043-aa5f-13cf2e7c8359"
   },
   "outputs": [
    {
     "name": "stdout",
     "output_type": "stream",
     "text": [
      "Asumiendo varianzas distintas\n",
      "Diferencia medias muestrales: ARS 23262\n",
      "Intervalo de confianza 95% (IC95): ARS (18558,27967)\n"
     ]
    }
   ],
   "source": [
    "import statsmodels.stats.api as sms\n",
    "\n",
    "cm = sms.CompareMeans(sms.DescrStatsW(groupA.values), sms.DescrStatsW(groupB.values))\n",
    "cm.tconfint_diff(usevar='unequal')\n",
    "li,ls = cm.tconfint_diff(usevar='unequal' , alpha = alpha )\n",
    "\n",
    "print (f\"Asumiendo varianzas distintas\")\n",
    "print (f\"Diferencia medias muestrales: ARS {round(groupA.mean()-groupB.mean())}\")\n",
    "print (f\"Intervalo de confianza 95% (IC95): ARS ({round(li)},{round(ls)})\" )"
   ]
  },
  {
   "cell_type": "markdown",
   "metadata": {
    "id": "EpPhKFbsMQf9"
   },
   "source": [
    "La estimación de dicha diferencia según los datos del año 2020 en Argentina es:\n",
    "\n",
    "$IC_{95}: (LI,LS) = ARS(18558,27967)$ \n",
    "\n",
    "La diferencia favorece a aquellos individuos de género másculino, quienes en promedio ganan $ARS 23262$ más que individuos de otros géneros."
   ]
  }
 ],
 "metadata": {
  "colab": {
   "collapsed_sections": [],
   "name": "Entregable - Parte 2 - Ejercicio 3.ipynb",
   "provenance": []
  },
  "kernelspec": {
   "display_name": "Python 3",
   "language": "python",
   "name": "python3"
  },
  "language_info": {
   "codemirror_mode": {
    "name": "ipython",
    "version": 3
   },
   "file_extension": ".py",
   "mimetype": "text/x-python",
   "name": "python",
   "nbconvert_exporter": "python",
   "pygments_lexer": "ipython3",
   "version": "3.6.13"
  }
 },
 "nbformat": 4,
 "nbformat_minor": 4
}
