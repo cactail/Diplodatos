{
 "cells": [
  {
   "cell_type": "markdown",
   "metadata": {
    "colab_type": "text",
    "id": "view-in-github"
   },
   "source": [
    "<a href=\"https://colab.research.google.com/github/DiploDatos/AnalisisyVisualizacion/blob/master/Entregable_Parte_1.ipynb\" target=\"_parent\"><img src=\"https://colab.research.google.com/assets/colab-badge.svg\" alt=\"Open In Colab\"/></a>"
   ]
  },
  {
   "cell_type": "markdown",
   "metadata": {
    "id": "LYvAOR2VzHmW"
   },
   "source": [
    "\n",
    "**Diplomatura en Ciencia de Datos, Aprendizaje Automático y sus Aplicaciones**\n",
    "\n",
    "**Edición 2021**\n",
    "\n",
    "---\n",
    "## Trabajo práctico entregable - Parte 1"
   ]
  },
  {
   "cell_type": "code",
   "execution_count": 1,
   "metadata": {
    "id": "Xwdfo7z20TUK"
   },
   "outputs": [],
   "source": [
    "import io\n",
    "import matplotlib\n",
    "import matplotlib.pyplot as plt\n",
    "import numpy\n",
    "import pandas as pd\n",
    "import seaborn\n",
    "import math\n",
    "from IPython.display import HTML, display\n",
    "\n",
    "seaborn.set_context('talk')"
   ]
  },
  {
   "cell_type": "code",
   "execution_count": 2,
   "metadata": {},
   "outputs": [],
   "source": [
    "def set_background(color):    \n",
    "    script = (\n",
    "        \"var cell = this.closest('.jp-CodeCell');\"\n",
    "        \"var editor = cell.querySelector('.jp-Editor');\"\n",
    "        \"editor.style.background='{}';\"\n",
    "        \"this.parentNode.removeChild(this)\"\n",
    "    ).format(color)\n",
    "    \n",
    "    display(HTML('<img src onerror=\"{}\" style=\"display:none\">'.format(script)))"
   ]
  },
  {
   "cell_type": "code",
   "execution_count": 3,
   "metadata": {},
   "outputs": [
    {
     "data": {
      "text/html": [
       "<img src onerror=\"var cell = this.closest('.jp-CodeCell');var editor = cell.querySelector('.jp-Editor');editor.style.background='#e6b530';this.parentNode.removeChild(this)\" style=\"display:none\">"
      ],
      "text/plain": [
       "<IPython.core.display.HTML object>"
      ]
     },
     "metadata": {},
     "output_type": "display_data"
    }
   ],
   "source": [
    "cell_color = '#e6b530'\n",
    "set_background(cell_color)\n",
    "\n",
    "import math\n",
    "import time"
   ]
  },
  {
   "cell_type": "markdown",
   "metadata": {
    "id": "XY2Hl-Ma07Nn"
   },
   "source": [
    "## Lectura del dataset\n",
    "\n",
    "En la notebook 00 se explican los detalles de la siguiente sección."
   ]
  },
  {
   "cell_type": "code",
   "execution_count": 4,
   "metadata": {
    "id": "Vviv_sqXdR5W"
   },
   "outputs": [],
   "source": [
    "url = 'https://cs.famaf.unc.edu.ar/~mteruel/datasets/diplodatos/sysarmy_survey_2020_processed.csv'\n",
    "df = pd.read_csv(url)"
   ]
  },
  {
   "cell_type": "code",
   "execution_count": 5,
   "metadata": {
    "colab": {
     "base_uri": "https://localhost:8080/",
     "height": 297
    },
    "id": "gckNHXXLktJ4",
    "outputId": "66c64637-de04-4239-a158-ce88d604511d"
   },
   "outputs": [
    {
     "data": {
      "text/html": [
       "<div>\n",
       "<style scoped>\n",
       "    .dataframe tbody tr th:only-of-type {\n",
       "        vertical-align: middle;\n",
       "    }\n",
       "\n",
       "    .dataframe tbody tr th {\n",
       "        vertical-align: top;\n",
       "    }\n",
       "\n",
       "    .dataframe thead th {\n",
       "        text-align: right;\n",
       "    }\n",
       "</style>\n",
       "<table border=\"1\" class=\"dataframe\">\n",
       "  <thead>\n",
       "    <tr style=\"text-align: right;\">\n",
       "      <th></th>\n",
       "      <th>profile_gender</th>\n",
       "      <th>profile_age</th>\n",
       "      <th>work_country</th>\n",
       "      <th>work_province</th>\n",
       "      <th>profile_years_experience</th>\n",
       "      <th>work_years_in_company</th>\n",
       "      <th>work_years_in_current_position</th>\n",
       "      <th>work_people_in_charge_of</th>\n",
       "      <th>profile_studies_level</th>\n",
       "      <th>profile_studies_level_state</th>\n",
       "      <th>...</th>\n",
       "      <th>work_has_violence_situations</th>\n",
       "      <th>profile_sexual_orientation</th>\n",
       "      <th>profile_has_disabilities</th>\n",
       "      <th>profile_has_disabilities_hiring_difficulties</th>\n",
       "      <th>company_employee_number</th>\n",
       "      <th>company_main_activity</th>\n",
       "      <th>company_recommended</th>\n",
       "      <th>company_diversity_policies</th>\n",
       "      <th>company_extra_benefits</th>\n",
       "      <th>company_best_companies_city</th>\n",
       "    </tr>\n",
       "  </thead>\n",
       "  <tbody>\n",
       "    <tr>\n",
       "      <th>0</th>\n",
       "      <td>Mujer</td>\n",
       "      <td>26</td>\n",
       "      <td>Argentina</td>\n",
       "      <td>Ciudad Autónoma de Buenos Aires</td>\n",
       "      <td>3.0</td>\n",
       "      <td>3.0</td>\n",
       "      <td>3.0</td>\n",
       "      <td>0</td>\n",
       "      <td>Universitario</td>\n",
       "      <td>En curso</td>\n",
       "      <td>...</td>\n",
       "      <td>En mi trabajo actual</td>\n",
       "      <td>Homosexual</td>\n",
       "      <td>NaN</td>\n",
       "      <td>NaN</td>\n",
       "      <td>501-1000</td>\n",
       "      <td>Servicios / Consultoría de Software / Digital</td>\n",
       "      <td>7</td>\n",
       "      <td>2</td>\n",
       "      <td>Capacitaciones y/o cursos, Comidas pagas / sub...</td>\n",
       "      <td>NaN</td>\n",
       "    </tr>\n",
       "    <tr>\n",
       "      <th>1</th>\n",
       "      <td>Hombre</td>\n",
       "      <td>29</td>\n",
       "      <td>Argentina</td>\n",
       "      <td>Corrientes</td>\n",
       "      <td>5.0</td>\n",
       "      <td>2.0</td>\n",
       "      <td>2.0</td>\n",
       "      <td>4</td>\n",
       "      <td>Universitario</td>\n",
       "      <td>En curso</td>\n",
       "      <td>...</td>\n",
       "      <td>Jamás</td>\n",
       "      <td>Heterosexual</td>\n",
       "      <td>Visual</td>\n",
       "      <td>No</td>\n",
       "      <td>201-500</td>\n",
       "      <td>Otras industrias</td>\n",
       "      <td>8</td>\n",
       "      <td>9</td>\n",
       "      <td>Horarios flexibles, Stock options / RSUs, Viát...</td>\n",
       "      <td>NaN</td>\n",
       "    </tr>\n",
       "    <tr>\n",
       "      <th>2</th>\n",
       "      <td>Mujer</td>\n",
       "      <td>22</td>\n",
       "      <td>Argentina</td>\n",
       "      <td>Ciudad Autónoma de Buenos Aires</td>\n",
       "      <td>2.0</td>\n",
       "      <td>0.0</td>\n",
       "      <td>0.0</td>\n",
       "      <td>0</td>\n",
       "      <td>Secundario</td>\n",
       "      <td>Completado</td>\n",
       "      <td>...</td>\n",
       "      <td>En un trabajo anterior</td>\n",
       "      <td>Bisexual o queer</td>\n",
       "      <td>NaN</td>\n",
       "      <td>No</td>\n",
       "      <td>2001-5000</td>\n",
       "      <td>Otras industrias</td>\n",
       "      <td>6</td>\n",
       "      <td>9</td>\n",
       "      <td>Clases de gimnasia online, Comidas pagas / sub...</td>\n",
       "      <td>NaN</td>\n",
       "    </tr>\n",
       "  </tbody>\n",
       "</table>\n",
       "<p>3 rows × 48 columns</p>\n",
       "</div>"
      ],
      "text/plain": [
       "  profile_gender  profile_age work_country                    work_province  \\\n",
       "0          Mujer           26    Argentina  Ciudad Autónoma de Buenos Aires   \n",
       "1         Hombre           29    Argentina                       Corrientes   \n",
       "2          Mujer           22    Argentina  Ciudad Autónoma de Buenos Aires   \n",
       "\n",
       "   profile_years_experience  work_years_in_company  \\\n",
       "0                       3.0                    3.0   \n",
       "1                       5.0                    2.0   \n",
       "2                       2.0                    0.0   \n",
       "\n",
       "   work_years_in_current_position  work_people_in_charge_of  \\\n",
       "0                             3.0                         0   \n",
       "1                             2.0                         4   \n",
       "2                             0.0                         0   \n",
       "\n",
       "  profile_studies_level profile_studies_level_state  ...  \\\n",
       "0         Universitario                    En curso  ...   \n",
       "1         Universitario                    En curso  ...   \n",
       "2            Secundario                  Completado  ...   \n",
       "\n",
       "  work_has_violence_situations profile_sexual_orientation  \\\n",
       "0         En mi trabajo actual                 Homosexual   \n",
       "1                        Jamás               Heterosexual   \n",
       "2       En un trabajo anterior           Bisexual o queer   \n",
       "\n",
       "  profile_has_disabilities profile_has_disabilities_hiring_difficulties  \\\n",
       "0                      NaN                                          NaN   \n",
       "1                   Visual                                           No   \n",
       "2                      NaN                                           No   \n",
       "\n",
       "  company_employee_number                          company_main_activity  \\\n",
       "0                501-1000  Servicios / Consultoría de Software / Digital   \n",
       "1                 201-500                               Otras industrias   \n",
       "2               2001-5000                               Otras industrias   \n",
       "\n",
       "  company_recommended company_diversity_policies  \\\n",
       "0                   7                          2   \n",
       "1                   8                          9   \n",
       "2                   6                          9   \n",
       "\n",
       "                              company_extra_benefits  \\\n",
       "0  Capacitaciones y/o cursos, Comidas pagas / sub...   \n",
       "1  Horarios flexibles, Stock options / RSUs, Viát...   \n",
       "2  Clases de gimnasia online, Comidas pagas / sub...   \n",
       "\n",
       "  company_best_companies_city  \n",
       "0                         NaN  \n",
       "1                         NaN  \n",
       "2                         NaN  \n",
       "\n",
       "[3 rows x 48 columns]"
      ]
     },
     "execution_count": 5,
     "metadata": {},
     "output_type": "execute_result"
    }
   ],
   "source": [
    "df[:3]"
   ]
  },
  {
   "cell_type": "markdown",
   "metadata": {
    "id": "-ZSQYANFHHgV"
   },
   "source": [
    "# Ejercicio 1 - Análisis descriptivo\n",
    "\n",
    "Responder a la pregunta: **¿Cuáles son los lenguajes de programación asociados a los mejores salarios?**\n",
    "\n",
    "Para ello:\n",
    "1. Seleccionar las columnas relevantes para analizar.\n",
    "2. Seleccionar las filas relevantes para analizar. Esto incluye la eliminación de valores extremos y erróneos, pero también puede enfocar el análisis en una sub-población. Por ejemplo, se pueden limitar a personas con un salario mayor que 10000 pesos, o a las personas que trabajan sólo en \"Data Science\", pero deben justificar su elección y reformular la pregunta inicial de ser necesario.\n",
    "  * Obtener una lista de los lenguajes de programación más populares. Decidir cuántos y cuáles seleccionan para incluir en el análisis.\n",
    "  * Para cada una de las otras columnas del punto anterior, elegir los rangos o valores seleccionan para incluir en el análisis.\n",
    "3. Seleccionar métricas que ayuden a responder la pregunta, y los métodos para analizarlas. Elegir UNA de las siguientes opciones:\n",
    "  * Comparar las distribuciones de salario para cada lenguaje utilizando visualizaciones. Como la visualización es el producto final, debe ser clara y mostrar información relevante.\n",
    "  * Comparar medidas de estadística descriptiva sobre la distribución de salario para cada lenguaje. Sean creativos, la estadística descriptiva nos permite decir cosas como: \"el 10% de los mejores sueldos los ganan, en su mayoría, programadores que saben kotlin!\" (donde *mayoría* es un término medio engañoso que sólo significa más del 50%). Para comparar múltiples lenguajes, les recomendamos usar también visualizaciones.\n",
    "  * Comparar probabilidades. Por ejemplo: \"Si sabés Python o Java, tenés un 30% más de chances de ganar arriba de 100K\".\n",
    "\n",
    "Si lo consideran necesario, realicen varias iteraciones. Es decir, si encuentran que las distribuciones de los lenguajes de programación que seleccionaron inicialmente no son muy diferentes, pueden re-hacer el análisis usando sólo los lenguajes de programación que son diferentes."
   ]
  },
  {
   "cell_type": "markdown",
   "metadata": {},
   "source": [
    "<span style='background:#e6b530'> Limpieza de datos  </span>\n"
   ]
  },
  {
   "cell_type": "code",
   "execution_count": 6,
   "metadata": {},
   "outputs": [
    {
     "data": {
      "text/html": [
       "<img src onerror=\"var cell = this.closest('.jp-CodeCell');var editor = cell.querySelector('.jp-Editor');editor.style.background='#e6b530';this.parentNode.removeChild(this)\" style=\"display:none\">"
      ],
      "text/plain": [
       "<IPython.core.display.HTML object>"
      ]
     },
     "metadata": {},
     "output_type": "display_data"
    },
    {
     "data": {
      "text/plain": [
       "profile_gender                                     0\n",
       "profile_age                                        0\n",
       "work_country                                       0\n",
       "work_province                                      0\n",
       "profile_years_experience                           0\n",
       "work_years_in_company                              0\n",
       "work_years_in_current_position                     0\n",
       "work_people_in_charge_of                           0\n",
       "profile_studies_level                              0\n",
       "profile_studies_level_state                        0\n",
       "profile_career                                   299\n",
       "profile_university                               534\n",
       "profile_specialization_courses                     0\n",
       "profile_open_source_contributions                  0\n",
       "profile_programming_as_hobby                       0\n",
       "work_role                                          0\n",
       "tools_platform                                     2\n",
       "tools_programming_languages                        1\n",
       "tools_frameworks                                   1\n",
       "tools_data_bases                                   2\n",
       "tools_qa_testing                                   6\n",
       "tools_IDEs                                         1\n",
       "tools_work_pc_os                                   0\n",
       "tools_cellphone_os                                 0\n",
       "work_on_call_duty                                  0\n",
       "salary_on_call_duty_charge                         0\n",
       "work_on_call_duty_charge_type                      0\n",
       "work_contract_type                                 0\n",
       "salary_monthly_BRUTO                               0\n",
       "salary_monthly_NETO                              212\n",
       "salary_in_usd                                   5419\n",
       "salary_satisfaction                                0\n",
       "salary_comparison_last_semester                    0\n",
       "salary_has_bonus                                   0\n",
       "salary_bonus_tied_to                               0\n",
       "salary_inflation_adjustment_2020                   0\n",
       "salary_percentage_inflation_adjustment_2020        0\n",
       "salary_month_last_inflation_adjustment             0\n",
       "work_has_violence_situations                     141\n",
       "profile_sexual_orientation                       183\n",
       "profile_has_disabilities                        5495\n",
       "profile_has_disabilities_hiring_difficulties    3888\n",
       "company_employee_number                            0\n",
       "company_main_activity                              0\n",
       "company_recommended                                0\n",
       "company_diversity_policies                         0\n",
       "company_extra_benefits                             1\n",
       "company_best_companies_city                     4403\n",
       "dtype: int64"
      ]
     },
     "execution_count": 6,
     "metadata": {},
     "output_type": "execute_result"
    }
   ],
   "source": [
    "cell_color = '#e6b530'\n",
    "set_background(cell_color)\n",
    "df.isna().sum()"
   ]
  },
  {
   "cell_type": "markdown",
   "metadata": {},
   "source": [
    "<span style='background:#e6b530'>Se detecta que existen  filas que las cuales tienen el campo salary_monthly_NETO sin información (212 filas en esta condición)</span>"
   ]
  },
  {
   "cell_type": "code",
   "execution_count": 7,
   "metadata": {},
   "outputs": [
    {
     "data": {
      "text/html": [
       "<img src onerror=\"var cell = this.closest('.jp-CodeCell');var editor = cell.querySelector('.jp-Editor');editor.style.background='#e6b530';this.parentNode.removeChild(this)\" style=\"display:none\">"
      ],
      "text/plain": [
       "<IPython.core.display.HTML object>"
      ]
     },
     "metadata": {},
     "output_type": "display_data"
    },
    {
     "name": "stdout",
     "output_type": "stream",
     "text": [
      " Total de filas df: 6095, total de filas donde salary_monthly_NETO no tiene valoes: 212 , % 3.4782608695652173 \n"
     ]
    }
   ],
   "source": [
    "set_background(cell_color)\n",
    "cantidad_salary_monthly_NETO_nulos = df.salary_monthly_NETO.isna().sum()\n",
    "cantidad_filas_df = df.shape[0]\n",
    "print (\" Total de filas df: {0}, total de filas donde salary_monthly_NETO no tiene valoes: {1} , % {2} \".format(cantidad_filas_df, cantidad_salary_monthly_NETO_nulos ,   cantidad_salary_monthly_NETO_nulos / cantidad_filas_df * 100 ))"
   ]
  },
  {
   "cell_type": "markdown",
   "metadata": {},
   "source": [
    "<span style='background:#e6b530'> Corregimos las filas que no tiene salario NETO. Para ello tomamos el bruto y lo multiplicamos x 0,83 </span>"
   ]
  },
  {
   "cell_type": "code",
   "execution_count": 8,
   "metadata": {},
   "outputs": [
    {
     "data": {
      "text/html": [
       "<img src onerror=\"var cell = this.closest('.jp-CodeCell');var editor = cell.querySelector('.jp-Editor');editor.style.background='#e6b530';this.parentNode.removeChild(this)\" style=\"display:none\">"
      ],
      "text/plain": [
       "<IPython.core.display.HTML object>"
      ]
     },
     "metadata": {},
     "output_type": "display_data"
    }
   ],
   "source": [
    "set_background(cell_color)\n",
    "#Para las filas que no tienen neto, hacemos BRUTO * 0.83\n",
    "df['salary_monthly_NETO'] = df.apply(lambda x: x['salary_monthly_BRUTO'] * 0.83 if math.isnan(x.salary_monthly_NETO)   else x['salary_monthly_NETO'], axis=1)    "
   ]
  },
  {
   "cell_type": "markdown",
   "metadata": {},
   "source": [
    "<span style='background:#e6b530'>Controlamos que no existan más filas con NETO sin valores (debe ser 0 la cantidad de filas que no tienen salario neto) </span>"
   ]
  },
  {
   "cell_type": "code",
   "execution_count": 9,
   "metadata": {},
   "outputs": [
    {
     "data": {
      "text/html": [
       "<img src onerror=\"var cell = this.closest('.jp-CodeCell');var editor = cell.querySelector('.jp-Editor');editor.style.background='#e6b530';this.parentNode.removeChild(this)\" style=\"display:none\">"
      ],
      "text/plain": [
       "<IPython.core.display.HTML object>"
      ]
     },
     "metadata": {},
     "output_type": "display_data"
    },
    {
     "data": {
      "text/plain": [
       "0"
      ]
     },
     "execution_count": 9,
     "metadata": {},
     "output_type": "execute_result"
    }
   ],
   "source": [
    "set_background(cell_color)\n",
    "df['salary_monthly_BRUTO'].isna().sum()"
   ]
  },
  {
   "cell_type": "markdown",
   "metadata": {},
   "source": [
    "<span style='background:#e6b530'>Vemos cuantos casos tenemos de salarios Netos mayores a salarios brutos</span>"
   ]
  },
  {
   "cell_type": "code",
   "execution_count": 10,
   "metadata": {},
   "outputs": [
    {
     "data": {
      "text/html": [
       "<img src onerror=\"var cell = this.closest('.jp-CodeCell');var editor = cell.querySelector('.jp-Editor');editor.style.background='#e6b530';this.parentNode.removeChild(this)\" style=\"display:none\">"
      ],
      "text/plain": [
       "<IPython.core.display.HTML object>"
      ]
     },
     "metadata": {},
     "output_type": "display_data"
    },
    {
     "data": {
      "text/plain": [
       "156"
      ]
     },
     "execution_count": 10,
     "metadata": {},
     "output_type": "execute_result"
    }
   ],
   "source": [
    "set_background(cell_color)\n",
    "df[df.salary_monthly_BRUTO < df.salary_monthly_NETO ].shape[0]"
   ]
  },
  {
   "cell_type": "markdown",
   "metadata": {},
   "source": [
    "<span style='background:#e6b530'>Vamos a poner como bruto al neto, y luego recalculamos en neto (no se contempla descuento de ganancias, descontamos un 17% entre jub, obra soc y otros)\n",
    "</span>\n"
   ]
  },
  {
   "cell_type": "code",
   "execution_count": 11,
   "metadata": {},
   "outputs": [
    {
     "data": {
      "text/html": [
       "<img src onerror=\"var cell = this.closest('.jp-CodeCell');var editor = cell.querySelector('.jp-Editor');editor.style.background='#e6b530';this.parentNode.removeChild(this)\" style=\"display:none\">"
      ],
      "text/plain": [
       "<IPython.core.display.HTML object>"
      ]
     },
     "metadata": {},
     "output_type": "display_data"
    }
   ],
   "source": [
    "set_background(cell_color)\n",
    "df['recalculate_salary'] = df.apply(lambda x:  x['salary_monthly_NETO'] >  x['salary_monthly_BRUTO'], axis=1)    \n",
    "\n",
    "df['salary_monthly_BRUTO'] = df.apply(lambda x: x['salary_monthly_NETO'] if x['recalculate_salary']   else x['salary_monthly_BRUTO'], axis=1)    \n",
    "df['salary_monthly_NETO'] = df.apply(lambda x: x['salary_monthly_BRUTO'] * 0.83 if x['recalculate_salary']   else x['salary_monthly_NETO'], axis=1)    "
   ]
  },
  {
   "cell_type": "markdown",
   "metadata": {},
   "source": [
    "<span style='background:#e6b530'>Verificamos que no existan mas salarios netos matores a salarios brutos </span>"
   ]
  },
  {
   "cell_type": "code",
   "execution_count": 12,
   "metadata": {},
   "outputs": [
    {
     "data": {
      "text/html": [
       "<img src onerror=\"var cell = this.closest('.jp-CodeCell');var editor = cell.querySelector('.jp-Editor');editor.style.background='#e6b530';this.parentNode.removeChild(this)\" style=\"display:none\">"
      ],
      "text/plain": [
       "<IPython.core.display.HTML object>"
      ]
     },
     "metadata": {},
     "output_type": "display_data"
    },
    {
     "data": {
      "text/plain": [
       "0"
      ]
     },
     "execution_count": 12,
     "metadata": {},
     "output_type": "execute_result"
    }
   ],
   "source": [
    "set_background(cell_color)\n",
    "df[df.salary_monthly_BRUTO < df.salary_monthly_NETO ].shape[0]"
   ]
  },
  {
   "cell_type": "markdown",
   "metadata": {},
   "source": [
    "<span style='background:#e6b530'>Muchos sueldos están expresados en unidades de mil. Por ejemplo para 82000, ponen 82. Vamos a convertir esos sueldos al formato del resto </span>"
   ]
  },
  {
   "cell_type": "code",
   "execution_count": 13,
   "metadata": {},
   "outputs": [
    {
     "data": {
      "text/html": [
       "<img src onerror=\"var cell = this.closest('.jp-CodeCell');var editor = cell.querySelector('.jp-Editor');editor.style.background='#e6b530';this.parentNode.removeChild(this)\" style=\"display:none\">"
      ],
      "text/plain": [
       "<IPython.core.display.HTML object>"
      ]
     },
     "metadata": {},
     "output_type": "display_data"
    }
   ],
   "source": [
    "set_background(cell_color)\n",
    "limit = 200\n",
    "df['salary_monthly_BRUTO'] = df.apply(lambda x: x['salary_monthly_BRUTO'] * 1000 if x['salary_monthly_BRUTO'] < limit   else x['salary_monthly_BRUTO'], axis=1)    \n",
    "df['salary_monthly_NETO'] = df.apply(lambda x: x['salary_monthly_NETO'] * 1000 if x['salary_monthly_NETO'] < limit   else x['salary_monthly_NETO'], axis=1)    "
   ]
  },
  {
   "cell_type": "code",
   "execution_count": 14,
   "metadata": {},
   "outputs": [
    {
     "data": {
      "text/html": [
       "<img src onerror=\"var cell = this.closest('.jp-CodeCell');var editor = cell.querySelector('.jp-Editor');editor.style.background='#e6b530';this.parentNode.removeChild(this)\" style=\"display:none\">"
      ],
      "text/plain": [
       "<IPython.core.display.HTML object>"
      ]
     },
     "metadata": {},
     "output_type": "display_data"
    },
    {
     "name": "stdout",
     "output_type": "stream",
     "text": [
      "Cantidad de salarios <= 10000 : 17, % respecto al total 0.002789171452009844\n"
     ]
    }
   ],
   "source": [
    "set_background(cell_color)\n",
    "limit_us = 10000\n",
    "filtro_dolar = 'Mi sueldo está dolarizado'\n",
    "\n",
    "df_salary_to_convert = ((df.salary_monthly_NETO <= limit_us) & (df.salary_in_usd == filtro_dolar) )\n",
    "\n",
    "print(f\"Cantidad de salarios <= {limit_us} : {df_salary_to_convert.sum()}, % respecto al total {df_salary_to_convert.sum()  / df.shape[0] }\")\n",
    "\n"
   ]
  },
  {
   "cell_type": "code",
   "execution_count": 15,
   "metadata": {},
   "outputs": [
    {
     "data": {
      "text/html": [
       "<div>\n",
       "<style scoped>\n",
       "    .dataframe tbody tr th:only-of-type {\n",
       "        vertical-align: middle;\n",
       "    }\n",
       "\n",
       "    .dataframe tbody tr th {\n",
       "        vertical-align: top;\n",
       "    }\n",
       "\n",
       "    .dataframe thead th {\n",
       "        text-align: right;\n",
       "    }\n",
       "</style>\n",
       "<table border=\"1\" class=\"dataframe\">\n",
       "  <thead>\n",
       "    <tr style=\"text-align: right;\">\n",
       "      <th></th>\n",
       "      <th>salary_monthly_NETO</th>\n",
       "      <th>salary_in_usd</th>\n",
       "    </tr>\n",
       "  </thead>\n",
       "  <tbody>\n",
       "    <tr>\n",
       "      <th>224</th>\n",
       "      <td>5000.0</td>\n",
       "      <td>Mi sueldo está dolarizado</td>\n",
       "    </tr>\n",
       "    <tr>\n",
       "      <th>924</th>\n",
       "      <td>6000.0</td>\n",
       "      <td>Mi sueldo está dolarizado</td>\n",
       "    </tr>\n",
       "    <tr>\n",
       "      <th>1425</th>\n",
       "      <td>260.0</td>\n",
       "      <td>Mi sueldo está dolarizado</td>\n",
       "    </tr>\n",
       "    <tr>\n",
       "      <th>1701</th>\n",
       "      <td>307.1</td>\n",
       "      <td>Mi sueldo está dolarizado</td>\n",
       "    </tr>\n",
       "    <tr>\n",
       "      <th>1828</th>\n",
       "      <td>4000.0</td>\n",
       "      <td>Mi sueldo está dolarizado</td>\n",
       "    </tr>\n",
       "    <tr>\n",
       "      <th>2376</th>\n",
       "      <td>610.0</td>\n",
       "      <td>Mi sueldo está dolarizado</td>\n",
       "    </tr>\n",
       "    <tr>\n",
       "      <th>3563</th>\n",
       "      <td>373.5</td>\n",
       "      <td>Mi sueldo está dolarizado</td>\n",
       "    </tr>\n",
       "    <tr>\n",
       "      <th>3632</th>\n",
       "      <td>1311.0</td>\n",
       "      <td>Mi sueldo está dolarizado</td>\n",
       "    </tr>\n",
       "    <tr>\n",
       "      <th>3771</th>\n",
       "      <td>4300.0</td>\n",
       "      <td>Mi sueldo está dolarizado</td>\n",
       "    </tr>\n",
       "    <tr>\n",
       "      <th>3791</th>\n",
       "      <td>685.0</td>\n",
       "      <td>Mi sueldo está dolarizado</td>\n",
       "    </tr>\n",
       "    <tr>\n",
       "      <th>3821</th>\n",
       "      <td>1800.0</td>\n",
       "      <td>Mi sueldo está dolarizado</td>\n",
       "    </tr>\n",
       "    <tr>\n",
       "      <th>3873</th>\n",
       "      <td>2000.0</td>\n",
       "      <td>Mi sueldo está dolarizado</td>\n",
       "    </tr>\n",
       "    <tr>\n",
       "      <th>4217</th>\n",
       "      <td>540.0</td>\n",
       "      <td>Mi sueldo está dolarizado</td>\n",
       "    </tr>\n",
       "    <tr>\n",
       "      <th>5526</th>\n",
       "      <td>2000.0</td>\n",
       "      <td>Mi sueldo está dolarizado</td>\n",
       "    </tr>\n",
       "    <tr>\n",
       "      <th>5726</th>\n",
       "      <td>1100.0</td>\n",
       "      <td>Mi sueldo está dolarizado</td>\n",
       "    </tr>\n",
       "    <tr>\n",
       "      <th>5955</th>\n",
       "      <td>4150.0</td>\n",
       "      <td>Mi sueldo está dolarizado</td>\n",
       "    </tr>\n",
       "    <tr>\n",
       "      <th>5986</th>\n",
       "      <td>1000.0</td>\n",
       "      <td>Mi sueldo está dolarizado</td>\n",
       "    </tr>\n",
       "  </tbody>\n",
       "</table>\n",
       "</div>"
      ],
      "text/plain": [
       "      salary_monthly_NETO              salary_in_usd\n",
       "224                5000.0  Mi sueldo está dolarizado\n",
       "924                6000.0  Mi sueldo está dolarizado\n",
       "1425                260.0  Mi sueldo está dolarizado\n",
       "1701                307.1  Mi sueldo está dolarizado\n",
       "1828               4000.0  Mi sueldo está dolarizado\n",
       "2376                610.0  Mi sueldo está dolarizado\n",
       "3563                373.5  Mi sueldo está dolarizado\n",
       "3632               1311.0  Mi sueldo está dolarizado\n",
       "3771               4300.0  Mi sueldo está dolarizado\n",
       "3791                685.0  Mi sueldo está dolarizado\n",
       "3821               1800.0  Mi sueldo está dolarizado\n",
       "3873               2000.0  Mi sueldo está dolarizado\n",
       "4217                540.0  Mi sueldo está dolarizado\n",
       "5526               2000.0  Mi sueldo está dolarizado\n",
       "5726               1100.0  Mi sueldo está dolarizado\n",
       "5955               4150.0  Mi sueldo está dolarizado\n",
       "5986               1000.0  Mi sueldo está dolarizado"
      ]
     },
     "execution_count": 15,
     "metadata": {},
     "output_type": "execute_result"
    }
   ],
   "source": [
    "df[df_salary_to_convert][['salary_monthly_NETO','salary_in_usd']]"
   ]
  },
  {
   "cell_type": "markdown",
   "metadata": {},
   "source": [
    "<span style='background:#e6b530'>\n",
    "Convertimos a $ los sueldos dolarizados. Tomamos como fuente el valor reportado en https://www.cotizacion-dolar.com.ar/dolar-blue-historico-2020.php . Se toma fecha 25/08/2020, valor venta\n",
    "</span>"
   ]
  },
  {
   "cell_type": "code",
   "execution_count": 16,
   "metadata": {},
   "outputs": [
    {
     "data": {
      "text/html": [
       "<img src onerror=\"var cell = this.closest('.jp-CodeCell');var editor = cell.querySelector('.jp-Editor');editor.style.background='#e6b530';this.parentNode.removeChild(this)\" style=\"display:none\">"
      ],
      "text/plain": [
       "<IPython.core.display.HTML object>"
      ]
     },
     "metadata": {},
     "output_type": "display_data"
    }
   ],
   "source": [
    "set_background(cell_color)\n",
    "valor_dolar = 137\n",
    "\n",
    "df['salary_monthly_BRUTO'] = df.apply(lambda x: x['salary_monthly_BRUTO'] * valor_dolar if (( x['salary_monthly_BRUTO']  < limit_us) & (x['salary_in_usd'] == filtro_dolar ))   else x['salary_monthly_BRUTO'], axis=1)    \n",
    "df['salary_monthly_NETO']  = df.apply(lambda x: x['salary_monthly_NETO']  * valor_dolar if (( x['salary_monthly_NETO']  < limit_us) & (x['salary_in_usd'] == filtro_dolar ))  else x['salary_monthly_NETO'], axis=1)    \n"
   ]
  },
  {
   "cell_type": "markdown",
   "metadata": {},
   "source": [
    "<span style='background:#e6b530'> Controlamos que no queden sueldos en dolares menores a 10.000 </span>"
   ]
  },
  {
   "cell_type": "code",
   "execution_count": 17,
   "metadata": {},
   "outputs": [
    {
     "data": {
      "text/html": [
       "<img src onerror=\"var cell = this.closest('.jp-CodeCell');var editor = cell.querySelector('.jp-Editor');editor.style.background='#e6b530';this.parentNode.removeChild(this)\" style=\"display:none\">"
      ],
      "text/plain": [
       "<IPython.core.display.HTML object>"
      ]
     },
     "metadata": {},
     "output_type": "display_data"
    },
    {
     "name": "stdout",
     "output_type": "stream",
     "text": [
      "Cantidad de salarios <= 10000 : 17, % respecto al total 0.002789171452009844\n"
     ]
    }
   ],
   "source": [
    "set_background(cell_color)\n",
    "\n",
    "#df_salary_to_convert = ((df.salary_monthly_NETO <= limit_us) & (df.salary_in_usd == filtro_dolar) )\n",
    "\n",
    "print(f\"Cantidad de salarios <= {limit_us} : {df_salary_to_convert.sum()}, % respecto al total {df_salary_to_convert.sum()  / df.shape[0] }\")\n",
    "\n"
   ]
  },
  {
   "cell_type": "code",
   "execution_count": 18,
   "metadata": {},
   "outputs": [
    {
     "data": {
      "text/html": [
       "<img src onerror=\"var cell = this.closest('.jp-CodeCell');var editor = cell.querySelector('.jp-Editor');editor.style.background='#e6b530';this.parentNode.removeChild(this)\" style=\"display:none\">"
      ],
      "text/plain": [
       "<IPython.core.display.HTML object>"
      ]
     },
     "metadata": {},
     "output_type": "display_data"
    },
    {
     "data": {
      "text/html": [
       "<div>\n",
       "<style scoped>\n",
       "    .dataframe tbody tr th:only-of-type {\n",
       "        vertical-align: middle;\n",
       "    }\n",
       "\n",
       "    .dataframe tbody tr th {\n",
       "        vertical-align: top;\n",
       "    }\n",
       "\n",
       "    .dataframe thead th {\n",
       "        text-align: right;\n",
       "    }\n",
       "</style>\n",
       "<table border=\"1\" class=\"dataframe\">\n",
       "  <thead>\n",
       "    <tr style=\"text-align: right;\">\n",
       "      <th></th>\n",
       "      <th>salary_monthly_NETO</th>\n",
       "      <th>salary_in_usd</th>\n",
       "    </tr>\n",
       "  </thead>\n",
       "  <tbody>\n",
       "    <tr>\n",
       "      <th>14</th>\n",
       "      <td>80000.0</td>\n",
       "      <td>Mi sueldo está dolarizado</td>\n",
       "    </tr>\n",
       "    <tr>\n",
       "      <th>25</th>\n",
       "      <td>98700.0</td>\n",
       "      <td>Mi sueldo está dolarizado</td>\n",
       "    </tr>\n",
       "    <tr>\n",
       "      <th>41</th>\n",
       "      <td>280000.0</td>\n",
       "      <td>Mi sueldo está dolarizado</td>\n",
       "    </tr>\n",
       "    <tr>\n",
       "      <th>43</th>\n",
       "      <td>126500.0</td>\n",
       "      <td>Mi sueldo está dolarizado</td>\n",
       "    </tr>\n",
       "    <tr>\n",
       "      <th>60</th>\n",
       "      <td>345420.0</td>\n",
       "      <td>Mi sueldo está dolarizado</td>\n",
       "    </tr>\n",
       "    <tr>\n",
       "      <th>...</th>\n",
       "      <td>...</td>\n",
       "      <td>...</td>\n",
       "    </tr>\n",
       "    <tr>\n",
       "      <th>6021</th>\n",
       "      <td>210000.0</td>\n",
       "      <td>Mi sueldo está dolarizado</td>\n",
       "    </tr>\n",
       "    <tr>\n",
       "      <th>6024</th>\n",
       "      <td>400000.0</td>\n",
       "      <td>Mi sueldo está dolarizado</td>\n",
       "    </tr>\n",
       "    <tr>\n",
       "      <th>6079</th>\n",
       "      <td>80000.0</td>\n",
       "      <td>Mi sueldo está dolarizado</td>\n",
       "    </tr>\n",
       "    <tr>\n",
       "      <th>6080</th>\n",
       "      <td>391000.0</td>\n",
       "      <td>Mi sueldo está dolarizado</td>\n",
       "    </tr>\n",
       "    <tr>\n",
       "      <th>6084</th>\n",
       "      <td>77800.0</td>\n",
       "      <td>Mi sueldo está dolarizado</td>\n",
       "    </tr>\n",
       "  </tbody>\n",
       "</table>\n",
       "<p>676 rows × 2 columns</p>\n",
       "</div>"
      ],
      "text/plain": [
       "      salary_monthly_NETO              salary_in_usd\n",
       "14                80000.0  Mi sueldo está dolarizado\n",
       "25                98700.0  Mi sueldo está dolarizado\n",
       "41               280000.0  Mi sueldo está dolarizado\n",
       "43               126500.0  Mi sueldo está dolarizado\n",
       "60               345420.0  Mi sueldo está dolarizado\n",
       "...                   ...                        ...\n",
       "6021             210000.0  Mi sueldo está dolarizado\n",
       "6024             400000.0  Mi sueldo está dolarizado\n",
       "6079              80000.0  Mi sueldo está dolarizado\n",
       "6080             391000.0  Mi sueldo está dolarizado\n",
       "6084              77800.0  Mi sueldo está dolarizado\n",
       "\n",
       "[676 rows x 2 columns]"
      ]
     },
     "execution_count": 18,
     "metadata": {},
     "output_type": "execute_result"
    }
   ],
   "source": [
    "set_background(cell_color)\n",
    "df[df.salary_in_usd==filtro_dolar][['salary_monthly_NETO','salary_in_usd']]"
   ]
  },
  {
   "cell_type": "markdown",
   "metadata": {},
   "source": [
    "<span style='background:#e6b530'> Vemos la cantidad de salarios que queda por debajo de 10000. </span>"
   ]
  },
  {
   "cell_type": "code",
   "execution_count": 19,
   "metadata": {},
   "outputs": [
    {
     "data": {
      "text/html": [
       "<img src onerror=\"var cell = this.closest('.jp-CodeCell');var editor = cell.querySelector('.jp-Editor');editor.style.background='#e6b530';this.parentNode.removeChild(this)\" style=\"display:none\">"
      ],
      "text/plain": [
       "<IPython.core.display.HTML object>"
      ]
     },
     "metadata": {},
     "output_type": "display_data"
    },
    {
     "data": {
      "text/plain": [
       "(29, 49)"
      ]
     },
     "execution_count": 19,
     "metadata": {},
     "output_type": "execute_result"
    }
   ],
   "source": [
    "set_background(cell_color)\n",
    "df[df.salary_monthly_NETO <= limit_us].shape"
   ]
  },
  {
   "cell_type": "code",
   "execution_count": 20,
   "metadata": {},
   "outputs": [
    {
     "data": {
      "text/html": [
       "<img src onerror=\"var cell = this.closest('.jp-CodeCell');var editor = cell.querySelector('.jp-Editor');editor.style.background='#e6b530';this.parentNode.removeChild(this)\" style=\"display:none\">"
      ],
      "text/plain": [
       "<IPython.core.display.HTML object>"
      ]
     },
     "metadata": {},
     "output_type": "display_data"
    }
   ],
   "source": [
    "set_background(cell_color)\n",
    "index_to_drop = df[df.salary_monthly_NETO <= limit_us].index"
   ]
  },
  {
   "cell_type": "code",
   "execution_count": 21,
   "metadata": {},
   "outputs": [
    {
     "data": {
      "text/html": [
       "<img src onerror=\"var cell = this.closest('.jp-CodeCell');var editor = cell.querySelector('.jp-Editor');editor.style.background='#e6b530';this.parentNode.removeChild(this)\" style=\"display:none\">"
      ],
      "text/plain": [
       "<IPython.core.display.HTML object>"
      ]
     },
     "metadata": {},
     "output_type": "display_data"
    }
   ],
   "source": [
    "set_background(cell_color)\n",
    "df.drop(index_to_drop, inplace = True)"
   ]
  },
  {
   "cell_type": "code",
   "execution_count": 29,
   "metadata": {},
   "outputs": [
    {
     "data": {
      "text/html": [
       "<img src onerror=\"var cell = this.closest('.jp-CodeCell');var editor = cell.querySelector('.jp-Editor');editor.style.background='#e6b530';this.parentNode.removeChild(this)\" style=\"display:none\">"
      ],
      "text/plain": [
       "<IPython.core.display.HTML object>"
      ]
     },
     "metadata": {},
     "output_type": "display_data"
    },
    {
     "name": "stdout",
     "output_type": "stream",
     "text": [
      "Cantidad de salarios <= 10000 : 0, % respecto al total 0.0\n"
     ]
    }
   ],
   "source": [
    "set_background(cell_color)\n",
    "print(f\"Cantidad de salarios <= {limit_us} : {(df.salary_monthly_NETO <= limit_us).sum()}, % respecto al total {(df.salary_monthly_NETO <= limit_us).sum()  / df.shape[0] }\")\n"
   ]
  },
  {
   "cell_type": "code",
   "execution_count": 30,
   "metadata": {},
   "outputs": [
    {
     "data": {
      "text/plain": [
       "(6066, 50)"
      ]
     },
     "execution_count": 30,
     "metadata": {},
     "output_type": "execute_result"
    }
   ],
   "source": [
    "df.shape"
   ]
  },
  {
   "cell_type": "markdown",
   "metadata": {},
   "source": [
    "<span style='background:#e6b530'> Se buscan outliers y lenguajes más populares </span>"
   ]
  },
  {
   "cell_type": "code",
   "execution_count": 124,
   "metadata": {},
   "outputs": [
    {
     "name": "stderr",
     "output_type": "stream",
     "text": [
      "/Users/coviedo/opt/anaconda3/envs/diplodatos-ayvd/lib/python3.6/site-packages/seaborn/distributions.py:2557: FutureWarning: `distplot` is a deprecated function and will be removed in a future version. Please adapt your code to use either `displot` (a figure-level function with similar flexibility) or `histplot` (an axes-level function for histograms).\n",
      "  warnings.warn(msg, FutureWarning)\n",
      "/Users/coviedo/opt/anaconda3/envs/diplodatos-ayvd/lib/python3.6/site-packages/seaborn/distributions.py:2557: FutureWarning: `distplot` is a deprecated function and will be removed in a future version. Please adapt your code to use either `displot` (a figure-level function with similar flexibility) or `histplot` (an axes-level function for histograms).\n",
      "  warnings.warn(msg, FutureWarning)\n"
     ]
    },
    {
     "data": {
      "text/plain": [
       "<AxesSubplot:title={'center':'Sueldo Bruto'}, xlabel='salary_monthly_BRUTO', ylabel='Density'>"
      ]
     },
     "execution_count": 124,
     "metadata": {},
     "output_type": "execute_result"
    },
    {
     "data": {
      "image/png": "[encoded data removed]",
      "text/plain": [
       "<Figure size 1008x360 with 2 Axes>"
      ]
     },
     "metadata": {
      "needs_background": "light"
     },
     "output_type": "display_data"
    }
   ],
   "source": [
    "fig, axes = plt.subplots(1, 2 , sharex=True , figsize=(14,5))\n",
    "axes[salary_monthly_NETO_index].set_title('Sueldo Neto')\n",
    "axes[salary_monthly_BRUTO_index].set_title('Sueldo Bruto')\n",
    "\n",
    "seaborn.distplot(ax = axes[salary_monthly_NETO_index] , a = df.salary_monthly_NETO, bins=100)\n",
    "seaborn.distplot(ax = axes[salary_monthly_BRUTO_index] , a = df.salary_monthly_BRUTO, bins=100)"
   ]
  },
  {
   "cell_type": "markdown",
   "metadata": {},
   "source": [
    "# Búsqueda de outliers - Teorema del límite central\n",
    "\n",
    "1. Hacemos muestreo sobre df, cada muestreo toma 30 filas al azar, calcula la media. Luego hacemos el diagrama de distribucion de las medias calculadas. Asumimos que al hacer un muestro lo suficientemente grande, la distribuciones de las muestras va a ser normal, según lo indica el **teorema del limite central** "
   ]
  },
  {
   "cell_type": "code",
   "execution_count": 36,
   "metadata": {},
   "outputs": [],
   "source": [
    "def samplear_calcular_medias(cantidad_eventos_por_muestra, cantidad_muestras ,df_tmp , df):\n",
    "    \n",
    "    #column_names = [\"salary_monthly_NETO\", \"salary_monthly_BRUTO\"]\n",
    "    #df_tmp = pd.DataFrame(columns = column_names)\n",
    "    #df_tmp.shape\n",
    "\n",
    "    for x in range (cantidad_muestras):\n",
    "        if (x % 50  == 0):\n",
    "            print (f\" {x} \",end = \"\")\n",
    "        medias = df.sample(n=cantidad_eventos_por_muestra,replace=True).describe()[['salary_monthly_NETO' , 'salary_monthly_BRUTO']].loc['mean', :].values\n",
    "        df_tmp.loc[df_tmp.shape[0]] = [medias[0],medias[1]]\n",
    "        \n",
    "    return df_tmp    "
   ]
  },
  {
   "cell_type": "code",
   "execution_count": 49,
   "metadata": {},
   "outputs": [
    {
     "name": "stdout",
     "output_type": "stream",
     "text": [
      " Cantidad de medias generadas :  0  50  100  150  200  250  300  350  400  450  500  550  600  650  700  750  800  850  900  950  1000  1050  1100  1150  1200  1250  1300  1350  1400  1450  1500  1550  1600  1650  1700  1750  1800  1850  1900  1950  2000  2050  2100  2150  2200  2250  2300  2350  2400  2450  2500  2550  2600  2650  2700  2750  2800  2850  2900  2950  3000  3050  3100  3150  3200  3250  3300  3350  3400  3450  3500  3550  3600  3650  3700  3750  3800  3850  3900  3950  4000  4050  4100  4150  4200  4250  4300  4350  4400  4450  4500  4550  4600  4650  4700  4750  4800  4850  4900  4950 \n",
      "El proceso tardo 158.0668499469757 segundos\n"
     ]
    }
   ],
   "source": [
    "\n",
    "muestras_por_iteracion = 30\n",
    "cantidad_iteraciones = 5000\n",
    "\n",
    "\n",
    "\n",
    "start = time.time()\n",
    "\n",
    "\n",
    "column_names = [\"salary_monthly_NETO\", \"salary_monthly_BRUTO\"]\n",
    "df_tmp1 = pd.DataFrame(columns = column_names)\n",
    "\n",
    "print (\" Cantidad de medias generadas : \" , end=\"\")\n",
    "df_tmp = samplear_calcular_medias(muestras_por_iteracion, cantidad_iteraciones , df_tmp1, df)\n",
    "end = time.time()\n",
    "print(\"\")\n",
    "print(\"El proceso tardo {0} segundos\".format(end - start))\n",
    "\n"
   ]
  },
  {
   "cell_type": "code",
   "execution_count": 105,
   "metadata": {},
   "outputs": [],
   "source": [
    "mean_values = df_tmp.describe().loc['mean', :].values\n",
    "std_values = df_tmp.describe().loc['std', :].values\n",
    "\n",
    "median_values = [ df_tmp['salary_monthly_NETO'].median() , df_tmp['salary_monthly_BRUTO'].median() ]\n",
    "mode_values = [ df_tmp['salary_monthly_NETO'].mode().values[0] , df_tmp['salary_monthly_BRUTO'].mode().values[0] ]\n",
    "\n",
    "\n",
    "salary_monthly_NETO_index = 0\n",
    "salary_monthly_BRUTO_index = 1\n",
    "num_desviaciones_std = 3"
   ]
  },
  {
   "cell_type": "code",
   "execution_count": 90,
   "metadata": {
    "id": "6dqTEr7cZgvl"
   },
   "outputs": [],
   "source": [
    "# complete here if you want to include more columns\n",
    "relevant_columns = ['tools_programming_languages', 'salary_monthly_NETO']"
   ]
  },
  {
   "cell_type": "code",
   "execution_count": 91,
   "metadata": {},
   "outputs": [
    {
     "name": "stdout",
     "output_type": "stream",
     "text": [
      "Sueldo Neto\n",
      "Media: 99643.15364460133, Desviación standard: 17754.649918912666 Rango con 3 std = ( 46379.20388786333 , 152907.10340133932 )\n"
     ]
    }
   ],
   "source": [
    "print (\"Sueldo Neto\")\n",
    "\n",
    "\n",
    "print (f\"Media: {mean_values[salary_monthly_NETO_index]}, Desviación standard: {std_values[salary_monthly_NETO_index]} Rango con {num_desviaciones_std} std = ( {mean_values[salary_monthly_NETO_index] - std_values[salary_monthly_NETO_index] * num_desviaciones_std} , {mean_values[salary_monthly_NETO_index] + std_values[salary_monthly_NETO_index] * num_desviaciones_std } )\")\n",
    "\n"
   ]
  },
  {
   "cell_type": "code",
   "execution_count": 67,
   "metadata": {},
   "outputs": [
    {
     "name": "stdout",
     "output_type": "stream",
     "text": [
      "Sueldo Bruto\n",
      "Media: 128541.47548986669, Desviación standard: 22896.166929407602 Rango con 3 std = ( 59852.97470164388 , 197229.9762780895 )\n"
     ]
    }
   ],
   "source": [
    "print (\"Sueldo Bruto\")\n",
    "print (f\"Media: {mean_values[salary_monthly_BRUTO_index]}, Desviación standard: {std_values[salary_monthly_BRUTO_index]} Rango con {num_desviaciones_std} std = ( {mean_values[salary_monthly_BRUTO_index] - std_values[salary_monthly_BRUTO_index] * num_desviaciones_std} , {mean_values[salary_monthly_BRUTO_index] + std_values[salary_monthly_BRUTO_index] * num_desviaciones_std } )\")\n",
    "\n"
   ]
  },
  {
   "cell_type": "code",
   "execution_count": 109,
   "metadata": {},
   "outputs": [
    {
     "name": "stderr",
     "output_type": "stream",
     "text": [
      "/Users/coviedo/opt/anaconda3/envs/diplodatos-ayvd/lib/python3.6/site-packages/seaborn/distributions.py:2557: FutureWarning: `distplot` is a deprecated function and will be removed in a future version. Please adapt your code to use either `displot` (a figure-level function with similar flexibility) or `histplot` (an axes-level function for histograms).\n",
      "  warnings.warn(msg, FutureWarning)\n",
      "/Users/coviedo/opt/anaconda3/envs/diplodatos-ayvd/lib/python3.6/site-packages/seaborn/distributions.py:2557: FutureWarning: `distplot` is a deprecated function and will be removed in a future version. Please adapt your code to use either `displot` (a figure-level function with similar flexibility) or `histplot` (an axes-level function for histograms).\n",
      "  warnings.warn(msg, FutureWarning)\n"
     ]
    },
    {
     "data": {
      "text/plain": [
       "<matplotlib.lines.Line2D at 0x1a23e3fa58>"
      ]
     },
     "execution_count": 109,
     "metadata": {},
     "output_type": "execute_result"
    },
    {
     "data": {
      "image/png": "[encoded data removed]",
      "text/plain": [
       "<Figure size 1008x360 with 2 Axes>"
      ]
     },
     "metadata": {
      "needs_background": "light"
     },
     "output_type": "display_data"
    }
   ],
   "source": [
    "fig, axes = plt.subplots(1, 2 , sharex=True , figsize=(14,5))\n",
    "axes[salary_monthly_NETO_index].set_title('Sueldo Neto')\n",
    "axes[salary_monthly_BRUTO_index].set_title('Sueldo Bruto')\n",
    "\n",
    "seaborn.distplot(ax = axes[salary_monthly_NETO_index] , a = df_tmp.salary_monthly_NETO, bins=100)\n",
    "axes[salary_monthly_NETO_index].axvline(mean_values[salary_monthly_NETO_index], color='r', linestyle='--')\n",
    "axes[salary_monthly_NETO_index].axvline(median_values[salary_monthly_NETO_index], color='g', linestyle='--')\n",
    "axes[salary_monthly_NETO_index].axvline(mode_values[salary_monthly_NETO_index], color='y', linestyle='--')\n",
    "\n",
    "\n",
    "\n",
    "\n",
    "\n",
    "#axes[salary_monthly_NETO_index].axvline(median, color='g', linestyle='--')\n",
    "\n",
    "\n",
    "\n",
    "seaborn.distplot(ax = axes[salary_monthly_BRUTO_index] , a = df_tmp.salary_monthly_BRUTO, bins=100)\n",
    "axes[salary_monthly_BRUTO_index].axvline(mean_values[salary_monthly_BRUTO_index], color='r', linestyle='--')\n",
    "axes[salary_monthly_BRUTO_index].axvline(median_values[salary_monthly_BRUTO_index], color='g', linestyle='--')\n",
    "axes[salary_monthly_BRUTO_index].axvline(mode_values[salary_monthly_BRUTO_index], color='y', linestyle='--')\n",
    "\n",
    "\n",
    "\n"
   ]
  },
  {
   "cell_type": "markdown",
   "metadata": {},
   "source": [
    "Se puede observar que los sueldos brutos tiene una distribución que se ajusta mejor a la normal. Es por ello que es conveniente tomar como parametro los sueldos brutos"
   ]
  },
  {
   "cell_type": "code",
   "execution_count": 112,
   "metadata": {},
   "outputs": [],
   "source": [
    "sueldo_bruto_rango_inferior = mean_values[salary_monthly_BRUTO_index] - std_values[salary_monthly_BRUTO_index] * num_desviaciones_std \n",
    "sueldo_bruto_rango_superior = mean_values[salary_monthly_BRUTO_index] + std_values[salary_monthly_BRUTO_index] * num_desviaciones_std "
   ]
  },
  {
   "cell_type": "code",
   "execution_count": 121,
   "metadata": {},
   "outputs": [
    {
     "data": {
      "text/plain": [
       "'Cantidad de sueldos a eliminar limite infeerior: 0'"
      ]
     },
     "execution_count": 121,
     "metadata": {},
     "output_type": "execute_result"
    }
   ],
   "source": [
    "f\"Cantidad de sueldos a eliminar limite infeerior: {df_tmp[df_tmp.salary_monthly_BRUTO <=sueldo_bruto_rango_inferior]['salary_monthly_BRUTO'].count()}\""
   ]
  },
  {
   "cell_type": "code",
   "execution_count": 122,
   "metadata": {},
   "outputs": [
    {
     "data": {
      "text/plain": [
       "'Cantidad de sueldos a eliminar limite infeerior: 60'"
      ]
     },
     "execution_count": 122,
     "metadata": {},
     "output_type": "execute_result"
    }
   ],
   "source": [
    "f\"Cantidad de sueldos a eliminar limite infeerior: {df_tmp[df_tmp.salary_monthly_BRUTO >= sueldo_bruto_rango_superior]['salary_monthly_BRUTO'].count()}\""
   ]
  },
  {
   "cell_type": "markdown",
   "metadata": {},
   "source": [
    "Es muy alto el número de muestras que quedan fuera del estudio. Se busca otro método"
   ]
  },
  {
   "cell_type": "markdown",
   "metadata": {},
   "source": [
    "2. Excluimos percentiles bajos"
   ]
  },
  {
   "cell_type": "markdown",
   "metadata": {
    "id": "OoGgzMvuEocM"
   },
   "source": [
    "### Conteo de frecuencias de los lenguajes de programación\n",
    "\n",
    "La columna que contiene información sobre los lenguajes de programación utilizados es `tools_programming_languages`. Sus valores son strings con los lenguajes seleccionados separados por comas.\n",
    "\n"
   ]
  },
  {
   "cell_type": "code",
   "execution_count": 25,
   "metadata": {
    "colab": {
     "base_uri": "https://localhost:8080/"
    },
    "id": "J7AB2Ty8SvNl",
    "outputId": "cb0ee28d-5c7f-4ed5-cf32-f4fddce64eb7"
   },
   "outputs": [
    {
     "data": {
      "text/plain": [
       "0                     Ninguno\n",
       "1    HTML, Javascript, Python\n",
       "2                     Ninguno\n",
       "Name: tools_programming_languages, dtype: object"
      ]
     },
     "execution_count": 25,
     "metadata": {},
     "output_type": "execute_result"
    }
   ],
   "source": [
    "df.tools_programming_languages[:3]"
   ]
  },
  {
   "cell_type": "markdown",
   "metadata": {
    "id": "l8bYmvMhSroH"
   },
   "source": [
    "Las siguientes celdas de código separan estos lenguajes de programación y cuentan la frecuencia con la que aparecen.\n",
    "\n",
    "No es necesario entender este código en profundidad, aunque sí es un buen ejercicio."
   ]
  },
  {
   "cell_type": "code",
   "execution_count": 26,
   "metadata": {
    "colab": {
     "base_uri": "https://localhost:8080/",
     "height": 223
    },
    "id": "PAQ81x3iUP_N",
    "outputId": "690186ea-5c29-4fb8-b06c-2ff8c3de7c71"
   },
   "outputs": [
    {
     "data": {
      "text/html": [
       "<div>\n",
       "<style scoped>\n",
       "    .dataframe tbody tr th:only-of-type {\n",
       "        vertical-align: middle;\n",
       "    }\n",
       "\n",
       "    .dataframe tbody tr th {\n",
       "        vertical-align: top;\n",
       "    }\n",
       "\n",
       "    .dataframe thead th {\n",
       "        text-align: right;\n",
       "    }\n",
       "</style>\n",
       "<table border=\"1\" class=\"dataframe\">\n",
       "  <thead>\n",
       "    <tr style=\"text-align: right;\">\n",
       "      <th></th>\n",
       "      <th>programming_language</th>\n",
       "      <th>tools_programming_languages</th>\n",
       "      <th>salary_monthly_NETO</th>\n",
       "      <th>cured_programming_languages</th>\n",
       "    </tr>\n",
       "  </thead>\n",
       "  <tbody>\n",
       "    <tr>\n",
       "      <th>0</th>\n",
       "      <td>ninguno</td>\n",
       "      <td>Ninguno</td>\n",
       "      <td>43000.0</td>\n",
       "      <td>[ninguno]</td>\n",
       "    </tr>\n",
       "    <tr>\n",
       "      <th>1</th>\n",
       "      <td>html</td>\n",
       "      <td>HTML, Javascript, Python</td>\n",
       "      <td>63000.0</td>\n",
       "      <td>[html, javascript, python]</td>\n",
       "    </tr>\n",
       "    <tr>\n",
       "      <th>1</th>\n",
       "      <td>javascript</td>\n",
       "      <td>HTML, Javascript, Python</td>\n",
       "      <td>63000.0</td>\n",
       "      <td>[html, javascript, python]</td>\n",
       "    </tr>\n",
       "    <tr>\n",
       "      <th>1</th>\n",
       "      <td>python</td>\n",
       "      <td>HTML, Javascript, Python</td>\n",
       "      <td>63000.0</td>\n",
       "      <td>[html, javascript, python]</td>\n",
       "    </tr>\n",
       "    <tr>\n",
       "      <th>2</th>\n",
       "      <td>ninguno</td>\n",
       "      <td>Ninguno</td>\n",
       "      <td>127000.0</td>\n",
       "      <td>[ninguno]</td>\n",
       "    </tr>\n",
       "  </tbody>\n",
       "</table>\n",
       "</div>"
      ],
      "text/plain": [
       "  programming_language tools_programming_languages  salary_monthly_NETO  \\\n",
       "0              ninguno                     Ninguno              43000.0   \n",
       "1                 html    HTML, Javascript, Python              63000.0   \n",
       "1           javascript    HTML, Javascript, Python              63000.0   \n",
       "1               python    HTML, Javascript, Python              63000.0   \n",
       "2              ninguno                     Ninguno             127000.0   \n",
       "\n",
       "  cured_programming_languages  \n",
       "0                   [ninguno]  \n",
       "1  [html, javascript, python]  \n",
       "1  [html, javascript, python]  \n",
       "1  [html, javascript, python]  \n",
       "2                   [ninguno]  "
      ]
     },
     "execution_count": 26,
     "metadata": {},
     "output_type": "execute_result"
    }
   ],
   "source": [
    "# Convert the comma-separated string of languages to a list of string.\n",
    "# Remove 'ninguno de los anteriores' option, spaces and training commas.\n",
    "def split_languages(languages_str):\n",
    "  if not isinstance(languages_str, str):\n",
    "    return []\n",
    "  # Remove 'other' option\n",
    "  languages_str = languages_str.lower()\\\n",
    "    .replace('ninguno de los anteriores', '')\n",
    "  # Split string into list of items\n",
    "  # Remove spaces and commas for each item\n",
    "  return [lang.strip().replace(',', '')\n",
    "          for lang in languages_str.split()]\n",
    "\n",
    "# Create a new column with the list of languages\n",
    "df.loc[:, 'cured_programming_languages'] = df.tools_programming_languages\\\n",
    "    .apply(split_languages)\n",
    "if 'cured_programming_languages' not in relevant_columns:\n",
    "    relevant_columns.append('cured_programming_languages') \n",
    "\n",
    "# Duplicate each row of df for each programming language\n",
    "# mentioned in the response.\n",
    "# We only include in df_lang the columns we are going to analyze later, so we\n",
    "# don't duplicate innecesary information.\n",
    "df_lang = df.cured_programming_languages\\\n",
    "    .apply(pd.Series).stack()\\\n",
    "    .reset_index(level=-1, drop=True).to_frame()\\\n",
    "    .join(df[relevant_columns])\\\n",
    "    .rename(columns={0: 'programming_language'})\n",
    "# Horrible programming style! But a lot of data science code can be written with\n",
    "# as concatenations of functions (pipelines), and there's no elegant way of\n",
    "# doing that on Python.\n",
    "df_lang[:5]"
   ]
  },
  {
   "cell_type": "markdown",
   "metadata": {
    "id": "qm8NUg-7UEue"
   },
   "source": [
    "En la columna `programming_language` se encuentra cada lenguaje por separado. Notar que si una respuesta contenía 3 lenguajes, como `\"HTML, Javascript, Python\"`, la fila ha sido replicada 3 veces. Por ello, hay tres filas con índice 1."
   ]
  },
  {
   "cell_type": "code",
   "execution_count": 27,
   "metadata": {
    "colab": {
     "base_uri": "https://localhost:8080/",
     "height": 357
    },
    "id": "lNPb4tTvWCwv",
    "outputId": "02efa4bd-7d00-49c1-efee-d5d68f3eaf9f"
   },
   "outputs": [
    {
     "data": {
      "text/html": [
       "<div>\n",
       "<style scoped>\n",
       "    .dataframe tbody tr th:only-of-type {\n",
       "        vertical-align: middle;\n",
       "    }\n",
       "\n",
       "    .dataframe tbody tr th {\n",
       "        vertical-align: top;\n",
       "    }\n",
       "\n",
       "    .dataframe thead th {\n",
       "        text-align: right;\n",
       "    }\n",
       "</style>\n",
       "<table border=\"1\" class=\"dataframe\">\n",
       "  <thead>\n",
       "    <tr style=\"text-align: right;\">\n",
       "      <th></th>\n",
       "      <th>language</th>\n",
       "      <th>frequency</th>\n",
       "    </tr>\n",
       "  </thead>\n",
       "  <tbody>\n",
       "    <tr>\n",
       "      <th>0</th>\n",
       "      <td>javascript</td>\n",
       "      <td>2502</td>\n",
       "    </tr>\n",
       "    <tr>\n",
       "      <th>1</th>\n",
       "      <td>sql</td>\n",
       "      <td>2145</td>\n",
       "    </tr>\n",
       "    <tr>\n",
       "      <th>2</th>\n",
       "      <td>html</td>\n",
       "      <td>1852</td>\n",
       "    </tr>\n",
       "    <tr>\n",
       "      <th>3</th>\n",
       "      <td>python</td>\n",
       "      <td>1471</td>\n",
       "    </tr>\n",
       "    <tr>\n",
       "      <th>4</th>\n",
       "      <td>java</td>\n",
       "      <td>1445</td>\n",
       "    </tr>\n",
       "    <tr>\n",
       "      <th>5</th>\n",
       "      <td>css</td>\n",
       "      <td>1237</td>\n",
       "    </tr>\n",
       "    <tr>\n",
       "      <th>6</th>\n",
       "      <td>bash/shell</td>\n",
       "      <td>992</td>\n",
       "    </tr>\n",
       "    <tr>\n",
       "      <th>7</th>\n",
       "      <td>php</td>\n",
       "      <td>887</td>\n",
       "    </tr>\n",
       "    <tr>\n",
       "      <th>8</th>\n",
       "      <td>.net</td>\n",
       "      <td>819</td>\n",
       "    </tr>\n",
       "    <tr>\n",
       "      <th>9</th>\n",
       "      <td>typescript</td>\n",
       "      <td>778</td>\n",
       "    </tr>\n",
       "  </tbody>\n",
       "</table>\n",
       "</div>"
      ],
      "text/plain": [
       "     language  frequency\n",
       "0  javascript       2502\n",
       "1         sql       2145\n",
       "2        html       1852\n",
       "3      python       1471\n",
       "4        java       1445\n",
       "5         css       1237\n",
       "6  bash/shell        992\n",
       "7         php        887\n",
       "8        .net        819\n",
       "9  typescript        778"
      ]
     },
     "execution_count": 27,
     "metadata": {},
     "output_type": "execute_result"
    }
   ],
   "source": [
    "language_count = df_lang.programming_language.value_counts()\\\n",
    "    .reset_index()\\\n",
    "    .rename(columns={'index': 'language', 'programming_language': 'frequency'})\n",
    "language_count[:10]"
   ]
  },
  {
   "cell_type": "markdown",
   "metadata": {
    "id": "nThbJ1KeUgDo"
   },
   "source": [
    "## Filtrado de lenguajes relevantes\n",
    "\n",
    "El siguiente código permite seleccionar sólo las filas donde el valor de la columna `programming_language` se encuentre en la lista `interesting_languages`."
   ]
  },
  {
   "cell_type": "code",
   "execution_count": 28,
   "metadata": {
    "colab": {
     "base_uri": "https://localhost:8080/",
     "height": 223
    },
    "id": "DEpVptnLZUQU",
    "outputId": "dc2bdb53-1fe2-4f1d-b5ba-42a53efe6d4c"
   },
   "outputs": [
    {
     "data": {
      "text/html": [
       "<div>\n",
       "<style scoped>\n",
       "    .dataframe tbody tr th:only-of-type {\n",
       "        vertical-align: middle;\n",
       "    }\n",
       "\n",
       "    .dataframe tbody tr th {\n",
       "        vertical-align: top;\n",
       "    }\n",
       "\n",
       "    .dataframe thead th {\n",
       "        text-align: right;\n",
       "    }\n",
       "</style>\n",
       "<table border=\"1\" class=\"dataframe\">\n",
       "  <thead>\n",
       "    <tr style=\"text-align: right;\">\n",
       "      <th></th>\n",
       "      <th>programming_language</th>\n",
       "      <th>tools_programming_languages</th>\n",
       "      <th>salary_monthly_NETO</th>\n",
       "      <th>cured_programming_languages</th>\n",
       "    </tr>\n",
       "  </thead>\n",
       "  <tbody>\n",
       "  </tbody>\n",
       "</table>\n",
       "</div>"
      ],
      "text/plain": [
       "Empty DataFrame\n",
       "Columns: [programming_language, tools_programming_languages, salary_monthly_NETO, cured_programming_languages]\n",
       "Index: []"
      ]
     },
     "execution_count": 28,
     "metadata": {},
     "output_type": "execute_result"
    }
   ],
   "source": [
    "# Filter out languages that we want to exclude\n",
    "# Complete here with your selected list.\n",
    "interesting_languages = [\"Python\"]\n",
    "filtered_df_lang = df_lang[df_lang.programming_language.isin(interesting_languages)]\n",
    "filtered_df_lang[:5]"
   ]
  },
  {
   "cell_type": "markdown",
   "metadata": {
    "id": "tWo8SmmC9FAk"
   },
   "source": [
    "# Ejercicio 2 - Densidades y varias varialbes\n",
    "\n",
    "Responder a la pregunta general: **¿Que herramientas (prácticas y teóricas) són útiles para explorar la base, descubrir patrones, asociaciones?**\n",
    "\n",
    "Para ello considere (igual al ejercicio Anterior):\n",
    "1. Seleccionar las columnas relevantes para analizar.\n",
    "2. Seleccionar las filas relevantes para analizar. Esto incluye la eliminación de valores extremos y erróneos, pero también puede enfocar el análisis en sub-poblaciones. "
   ]
  },
  {
   "cell_type": "markdown",
   "metadata": {
    "id": "5baYhH0XHM3S"
   },
   "source": [
    "## a) Densidad conjunta\n",
    "\n",
    "Que herramientas visuales y modelos puede utilizar para estudiar la distribución y comportamiento de sus datos? \n",
    "\n",
    "Elija tres variables numéricas y 2 variables categóricas. Visualice la base según varias de las variables elegidas. Puede describir de alguna forma el comportamiento de sus datos? Que herramientas utilizaría? Describa\n",
    "\n",
    "\n"
   ]
  },
  {
   "cell_type": "markdown",
   "metadata": {
    "id": "lkuHE2aZGHMO"
   },
   "source": [
    "## b) Asociación\n",
    "\n",
    "* Necesitamos decidir si sacar o no la columna de salario bruto. Para hacer la encuesta más simple.\n",
    "¿Existe una correlación entre el salario bruto y el neto? Que abordaje y medidas usaría\n",
    "\n"
   ]
  },
  {
   "cell_type": "markdown",
   "metadata": {
    "id": "7MZrbRJCm-ae"
   },
   "source": [
    "## c) Densidad condicional \n",
    "\n",
    "Estudie la distribución del salario según el nivel de estudio.\n",
    "\n",
    "Separe la población según el nivel de estudio (elija dos subpoblaciones numerosas) y grafique de manera comparativa ambos histogramas de la variable `'salary_monthly_NETO'`\n",
    "¿Considera que ambas variables son independientes?\n",
    "¿Qué analizaría al respecto?\n",
    "\n",
    "Calcule medidas de centralización y dispersión para cada subpoblación\n",
    "\n",
    "\n",
    "\n",
    "\n"
   ]
  },
  {
   "cell_type": "markdown",
   "metadata": {
    "id": "u8wgYxNiqVpE"
   },
   "source": [
    "## d) Densidad Conjunta condicional\n",
    "\n",
    "Elija dos variables numéricas y una categórica. \n",
    "Estudie la dispersión (scatterplot) de las dos variables discriminando en color por la variable categórica (ayuda: hue en seaborn)\n"
   ]
  }
 ],
 "metadata": {
  "colab": {
   "collapsed_sections": [],
   "include_colab_link": true,
   "name": "Entregable - Parte 1.ipynb",
   "provenance": [],
   "toc_visible": true
  },
  "kernelspec": {
   "display_name": "Python 3",
   "language": "python",
   "name": "python3"
  },
  "language_info": {
   "codemirror_mode": {
    "name": "ipython",
    "version": 3
   },
   "file_extension": ".py",
   "mimetype": "text/x-python",
   "name": "python",
   "nbconvert_exporter": "python",
   "pygments_lexer": "ipython3",
   "version": "3.6.13"
  }
 },
 "nbformat": 4,
 "nbformat_minor": 4
}
