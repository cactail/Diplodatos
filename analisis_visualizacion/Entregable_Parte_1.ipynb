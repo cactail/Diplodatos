{
  "nbformat": 4,
  "nbformat_minor": 0,
  "metadata": {
    "colab": {
      "name": "Entregable_Parte_1.ipynb",
      "provenance": [],
      "collapsed_sections": [],
      "toc_visible": true
    },
    "kernelspec": {
      "display_name": "Python 3",
      "language": "python",
      "name": "python3"
    },
    "language_info": {
      "codemirror_mode": {
        "name": "ipython",
        "version": 3
      },
      "file_extension": ".py",
      "mimetype": "text/x-python",
      "name": "python",
      "nbconvert_exporter": "python",
      "pygments_lexer": "ipython3",
      "version": "3.6.13"
    }
  },
  "cells": [
    {
      "cell_type": "markdown",
      "metadata": {
        "id": "view-in-github"
      },
      "source": [
        "<a href=\"https://colab.research.google.com/github/DiploDatos/AnalisisyVisualizacion/blob/master/Entregable_Parte_1.ipynb\" target=\"_parent\"><img src=\"https://colab.research.google.com/assets/colab-badge.svg\" alt=\"Open In Colab\"/></a>"
      ]
    },
    {
      "cell_type": "markdown",
      "metadata": {
        "id": "LYvAOR2VzHmW"
      },
      "source": [
        "\n",
        "**Diplomatura en Ciencia de Datos, Aprendizaje Automático y sus Aplicaciones**\n",
        "\n",
        "**Edición 2021**\n",
        "\n",
        "---\n",
        "## Trabajo práctico entregable - Parte 1"
      ]
    },
    {
      "cell_type": "code",
      "metadata": {
        "id": "Xwdfo7z20TUK"
      },
      "source": [
        "import io\n",
        "import matplotlib\n",
        "import matplotlib.pyplot as plt\n",
        "import numpy\n",
        "import pandas as pd\n",
        "import seaborn\n",
        "import math\n",
        "from IPython.display import HTML, display\n",
        "\n",
        "seaborn.set_context('talk')"
      ],
      "execution_count": null,
      "outputs": []
    },
    {
      "cell_type": "code",
      "metadata": {
        "id": "Ix7YDXIxMl9E"
      },
      "source": [
        "def set_background(color):    \n",
        "    script = (\n",
        "        \"var cell = this.closest('.jp-CodeCell');\"\n",
        "        \"var editor = cell.querySelector('.jp-Editor');\"\n",
        "        \"editor.style.background='{}';\"\n",
        "        \"this.parentNode.removeChild(this)\"\n",
        "    ).format(color)\n",
        "    \n",
        "    display(HTML('<img src onerror=\"{}\" style=\"display:none\">'.format(script)))"
      ],
      "execution_count": null,
      "outputs": []
    },
    {
      "cell_type": "code",
      "metadata": {
        "colab": {
          "base_uri": "https://localhost:8080/",
          "height": 17
        },
        "id": "soEUJMuJMl9G",
        "outputId": "6574a94d-fd39-447a-b393-88f955e4c0bb"
      },
      "source": [
        "cell_color = 'black'\n",
        "set_background(cell_color)\n",
        "\n",
        "import math\n",
        "import time"
      ],
      "execution_count": null,
      "outputs": [
        {
          "output_type": "display_data",
          "data": {
            "text/html": [
              "<img src onerror=\"var cell = this.closest('.jp-CodeCell');var editor = cell.querySelector('.jp-Editor');editor.style.background='black';this.parentNode.removeChild(this)\" style=\"display:none\">"
            ],
            "text/plain": [
              "<IPython.core.display.HTML object>"
            ]
          },
          "metadata": {
            "tags": []
          }
        }
      ]
    },
    {
      "cell_type": "markdown",
      "metadata": {
        "id": "XY2Hl-Ma07Nn"
      },
      "source": [
        "## Lectura del dataset\n",
        "\n",
        "En la notebook 00 se explican los detalles de la siguiente sección."
      ]
    },
    {
      "cell_type": "code",
      "metadata": {
        "id": "Vviv_sqXdR5W"
      },
      "source": [
        "url = 'https://cs.famaf.unc.edu.ar/~mteruel/datasets/diplodatos/sysarmy_survey_2020_processed.csv'\n",
        "df = pd.read_csv(url)"
      ],
      "execution_count": null,
      "outputs": []
    },
    {
      "cell_type": "code",
      "metadata": {
        "colab": {
          "base_uri": "https://localhost:8080/",
          "height": 302
        },
        "id": "gckNHXXLktJ4",
        "outputId": "4e94f3e3-0d5d-4a05-8a52-2ea2e08478b1"
      },
      "source": [
        "df[:3]"
      ],
      "execution_count": null,
      "outputs": [
        {
          "output_type": "execute_result",
          "data": {
            "text/html": [
              "<div>\n",
              "<style scoped>\n",
              "    .dataframe tbody tr th:only-of-type {\n",
              "        vertical-align: middle;\n",
              "    }\n",
              "\n",
              "    .dataframe tbody tr th {\n",
              "        vertical-align: top;\n",
              "    }\n",
              "\n",
              "    .dataframe thead th {\n",
              "        text-align: right;\n",
              "    }\n",
              "</style>\n",
              "<table border=\"1\" class=\"dataframe\">\n",
              "  <thead>\n",
              "    <tr style=\"text-align: right;\">\n",
              "      <th></th>\n",
              "      <th>profile_gender</th>\n",
              "      <th>profile_age</th>\n",
              "      <th>work_country</th>\n",
              "      <th>work_province</th>\n",
              "      <th>profile_years_experience</th>\n",
              "      <th>work_years_in_company</th>\n",
              "      <th>work_years_in_current_position</th>\n",
              "      <th>work_people_in_charge_of</th>\n",
              "      <th>profile_studies_level</th>\n",
              "      <th>profile_studies_level_state</th>\n",
              "      <th>profile_career</th>\n",
              "      <th>profile_university</th>\n",
              "      <th>profile_specialization_courses</th>\n",
              "      <th>profile_open_source_contributions</th>\n",
              "      <th>profile_programming_as_hobby</th>\n",
              "      <th>work_role</th>\n",
              "      <th>tools_platform</th>\n",
              "      <th>tools_programming_languages</th>\n",
              "      <th>tools_frameworks</th>\n",
              "      <th>tools_data_bases</th>\n",
              "      <th>tools_qa_testing</th>\n",
              "      <th>tools_IDEs</th>\n",
              "      <th>tools_work_pc_os</th>\n",
              "      <th>tools_cellphone_os</th>\n",
              "      <th>work_on_call_duty</th>\n",
              "      <th>salary_on_call_duty_charge</th>\n",
              "      <th>work_on_call_duty_charge_type</th>\n",
              "      <th>work_contract_type</th>\n",
              "      <th>salary_monthly_BRUTO</th>\n",
              "      <th>salary_monthly_NETO</th>\n",
              "      <th>salary_in_usd</th>\n",
              "      <th>salary_satisfaction</th>\n",
              "      <th>salary_comparison_last_semester</th>\n",
              "      <th>salary_has_bonus</th>\n",
              "      <th>salary_bonus_tied_to</th>\n",
              "      <th>salary_inflation_adjustment_2020</th>\n",
              "      <th>salary_percentage_inflation_adjustment_2020</th>\n",
              "      <th>salary_month_last_inflation_adjustment</th>\n",
              "      <th>work_has_violence_situations</th>\n",
              "      <th>profile_sexual_orientation</th>\n",
              "      <th>profile_has_disabilities</th>\n",
              "      <th>profile_has_disabilities_hiring_difficulties</th>\n",
              "      <th>company_employee_number</th>\n",
              "      <th>company_main_activity</th>\n",
              "      <th>company_recommended</th>\n",
              "      <th>company_diversity_policies</th>\n",
              "      <th>company_extra_benefits</th>\n",
              "      <th>company_best_companies_city</th>\n",
              "    </tr>\n",
              "  </thead>\n",
              "  <tbody>\n",
              "    <tr>\n",
              "      <th>0</th>\n",
              "      <td>Mujer</td>\n",
              "      <td>26</td>\n",
              "      <td>Argentina</td>\n",
              "      <td>Ciudad Autónoma de Buenos Aires</td>\n",
              "      <td>3.0</td>\n",
              "      <td>3.0</td>\n",
              "      <td>3.0</td>\n",
              "      <td>0</td>\n",
              "      <td>Universitario</td>\n",
              "      <td>En curso</td>\n",
              "      <td>Ingeniería en Sistemas de Información</td>\n",
              "      <td>UTN - Universidad Tecnológica Nacional</td>\n",
              "      <td>Sí, los pagó un empleador</td>\n",
              "      <td>No</td>\n",
              "      <td>Sí</td>\n",
              "      <td>Consultant</td>\n",
              "      <td>Ninguna</td>\n",
              "      <td>Ninguno</td>\n",
              "      <td>Ninguno</td>\n",
              "      <td>Ninguna</td>\n",
              "      <td>Ninguna</td>\n",
              "      <td>Ninguno</td>\n",
              "      <td>GNU/Linux</td>\n",
              "      <td>Android</td>\n",
              "      <td>No</td>\n",
              "      <td>0.0</td>\n",
              "      <td>Bruto</td>\n",
              "      <td>Full-Time</td>\n",
              "      <td>53000.0</td>\n",
              "      <td>43000.0</td>\n",
              "      <td>NaN</td>\n",
              "      <td>1</td>\n",
              "      <td>1</td>\n",
              "      <td>No</td>\n",
              "      <td>No recibo bono</td>\n",
              "      <td>No</td>\n",
              "      <td>0.0</td>\n",
              "      <td>0</td>\n",
              "      <td>En mi trabajo actual</td>\n",
              "      <td>Homosexual</td>\n",
              "      <td>NaN</td>\n",
              "      <td>NaN</td>\n",
              "      <td>501-1000</td>\n",
              "      <td>Servicios / Consultoría de Software / Digital</td>\n",
              "      <td>7</td>\n",
              "      <td>2</td>\n",
              "      <td>Capacitaciones y/o cursos, Comidas pagas / sub...</td>\n",
              "      <td>NaN</td>\n",
              "    </tr>\n",
              "    <tr>\n",
              "      <th>1</th>\n",
              "      <td>Hombre</td>\n",
              "      <td>29</td>\n",
              "      <td>Argentina</td>\n",
              "      <td>Corrientes</td>\n",
              "      <td>5.0</td>\n",
              "      <td>2.0</td>\n",
              "      <td>2.0</td>\n",
              "      <td>4</td>\n",
              "      <td>Universitario</td>\n",
              "      <td>En curso</td>\n",
              "      <td>Ingeniería en Sistemas de Información</td>\n",
              "      <td>UTN - Universidad Tecnológica Nacional</td>\n",
              "      <td>Sí, de forma particular, Sí, los pagó un emple...</td>\n",
              "      <td>No</td>\n",
              "      <td>Sí</td>\n",
              "      <td>Developer</td>\n",
              "      <td>Docker, Google Cloud Platform/App Engine</td>\n",
              "      <td>HTML, Javascript, Python</td>\n",
              "      <td>Django, jQuery</td>\n",
              "      <td>Informix, MySQL, PostgreSQL</td>\n",
              "      <td>Ninguna</td>\n",
              "      <td>IPython / Jupyter, Sublime Text, Visual Studio...</td>\n",
              "      <td>GNU/Linux</td>\n",
              "      <td>Android</td>\n",
              "      <td>No</td>\n",
              "      <td>0.0</td>\n",
              "      <td>Bruto</td>\n",
              "      <td>Full-Time</td>\n",
              "      <td>79000.0</td>\n",
              "      <td>63000.0</td>\n",
              "      <td>NaN</td>\n",
              "      <td>2</td>\n",
              "      <td>2</td>\n",
              "      <td>Menos de un sueldo</td>\n",
              "      <td>Performance de la compañía</td>\n",
              "      <td>Uno</td>\n",
              "      <td>10.0</td>\n",
              "      <td>1</td>\n",
              "      <td>Jamás</td>\n",
              "      <td>Heterosexual</td>\n",
              "      <td>Visual</td>\n",
              "      <td>No</td>\n",
              "      <td>201-500</td>\n",
              "      <td>Otras industrias</td>\n",
              "      <td>8</td>\n",
              "      <td>9</td>\n",
              "      <td>Horarios flexibles, Stock options / RSUs, Viát...</td>\n",
              "      <td>NaN</td>\n",
              "    </tr>\n",
              "    <tr>\n",
              "      <th>2</th>\n",
              "      <td>Mujer</td>\n",
              "      <td>22</td>\n",
              "      <td>Argentina</td>\n",
              "      <td>Ciudad Autónoma de Buenos Aires</td>\n",
              "      <td>2.0</td>\n",
              "      <td>0.0</td>\n",
              "      <td>0.0</td>\n",
              "      <td>0</td>\n",
              "      <td>Secundario</td>\n",
              "      <td>Completado</td>\n",
              "      <td>NaN</td>\n",
              "      <td>NaN</td>\n",
              "      <td>Sí, de forma particular, Sí, los pagó un emple...</td>\n",
              "      <td>No</td>\n",
              "      <td>Sí</td>\n",
              "      <td>Infosec</td>\n",
              "      <td>Linux, VMWare</td>\n",
              "      <td>Ninguno</td>\n",
              "      <td>Ninguno</td>\n",
              "      <td>Ninguna</td>\n",
              "      <td>Ninguna</td>\n",
              "      <td>Ninguno</td>\n",
              "      <td>Windows</td>\n",
              "      <td>iOS</td>\n",
              "      <td>No</td>\n",
              "      <td>0.0</td>\n",
              "      <td>Porcentaje de mi sueldo</td>\n",
              "      <td>Full-Time</td>\n",
              "      <td>160000.0</td>\n",
              "      <td>127000.0</td>\n",
              "      <td>NaN</td>\n",
              "      <td>3</td>\n",
              "      <td>3</td>\n",
              "      <td>Un sueldo</td>\n",
              "      <td>Performance individual</td>\n",
              "      <td>No</td>\n",
              "      <td>0.0</td>\n",
              "      <td>0</td>\n",
              "      <td>En un trabajo anterior</td>\n",
              "      <td>Bisexual o queer</td>\n",
              "      <td>NaN</td>\n",
              "      <td>No</td>\n",
              "      <td>2001-5000</td>\n",
              "      <td>Otras industrias</td>\n",
              "      <td>6</td>\n",
              "      <td>9</td>\n",
              "      <td>Clases de gimnasia online, Comidas pagas / sub...</td>\n",
              "      <td>NaN</td>\n",
              "    </tr>\n",
              "  </tbody>\n",
              "</table>\n",
              "</div>"
            ],
            "text/plain": [
              "  profile_gender  ...  company_best_companies_city\n",
              "0          Mujer  ...                          NaN\n",
              "1         Hombre  ...                          NaN\n",
              "2          Mujer  ...                          NaN\n",
              "\n",
              "[3 rows x 48 columns]"
            ]
          },
          "metadata": {
            "tags": []
          },
          "execution_count": 286
        }
      ]
    },
    {
      "cell_type": "code",
      "metadata": {
        "colab": {
          "base_uri": "https://localhost:8080/"
        },
        "id": "C1eCxVeZMl9O",
        "outputId": "02ca1c9d-03c3-4703-b08d-042efad5de1c"
      },
      "source": [
        "df.dtypes"
      ],
      "execution_count": null,
      "outputs": [
        {
          "output_type": "execute_result",
          "data": {
            "text/plain": [
              "profile_gender                                   object\n",
              "profile_age                                       int64\n",
              "work_country                                     object\n",
              "work_province                                    object\n",
              "profile_years_experience                        float64\n",
              "work_years_in_company                           float64\n",
              "work_years_in_current_position                  float64\n",
              "work_people_in_charge_of                          int64\n",
              "profile_studies_level                            object\n",
              "profile_studies_level_state                      object\n",
              "profile_career                                   object\n",
              "profile_university                               object\n",
              "profile_specialization_courses                   object\n",
              "profile_open_source_contributions                object\n",
              "profile_programming_as_hobby                     object\n",
              "work_role                                        object\n",
              "tools_platform                                   object\n",
              "tools_programming_languages                      object\n",
              "tools_frameworks                                 object\n",
              "tools_data_bases                                 object\n",
              "tools_qa_testing                                 object\n",
              "tools_IDEs                                       object\n",
              "tools_work_pc_os                                 object\n",
              "tools_cellphone_os                               object\n",
              "work_on_call_duty                                object\n",
              "salary_on_call_duty_charge                      float64\n",
              "work_on_call_duty_charge_type                    object\n",
              "work_contract_type                               object\n",
              "salary_monthly_BRUTO                            float64\n",
              "salary_monthly_NETO                             float64\n",
              "salary_in_usd                                    object\n",
              "salary_satisfaction                               int64\n",
              "salary_comparison_last_semester                   int64\n",
              "salary_has_bonus                                 object\n",
              "salary_bonus_tied_to                             object\n",
              "salary_inflation_adjustment_2020                 object\n",
              "salary_percentage_inflation_adjustment_2020     float64\n",
              "salary_month_last_inflation_adjustment            int64\n",
              "work_has_violence_situations                     object\n",
              "profile_sexual_orientation                       object\n",
              "profile_has_disabilities                         object\n",
              "profile_has_disabilities_hiring_difficulties     object\n",
              "company_employee_number                          object\n",
              "company_main_activity                            object\n",
              "company_recommended                               int64\n",
              "company_diversity_policies                        int64\n",
              "company_extra_benefits                           object\n",
              "company_best_companies_city                      object\n",
              "dtype: object"
            ]
          },
          "metadata": {
            "tags": []
          },
          "execution_count": 287
        }
      ]
    },
    {
      "cell_type": "markdown",
      "metadata": {
        "id": "SJCk0T4QMl9Q"
      },
      "source": [
        "The correlation coefficient has values between -1 to 1\n",
        "— A value closer to 0 implies weaker correlation (exact 0 implying no correlation)\n",
        "— A value closer to 1 implies stronger positive correlation\n",
        "— A value closer to -1 implies stronger negative correlation"
      ]
    },
    {
      "cell_type": "markdown",
      "metadata": {
        "id": "BPhNPv9eMl9T"
      },
      "source": [
        "Vemos si existen correlaciones entre variables. De existir variables correlacionadas, podemos descartarlas"
      ]
    },
    {
      "cell_type": "code",
      "metadata": {
        "colab": {
          "base_uri": "https://localhost:8080/",
          "height": 668
        },
        "id": "d3udsbZ1Ml9a",
        "outputId": "5c0bb1b5-2439-4ae6-b9a1-19678be76b9c"
      },
      "source": [
        "\n",
        "\n",
        "correlations = df.corr().round(2)\n",
        "\n",
        "#Using Pearson Correlation\n",
        "plt.figure(figsize=(20,20))\n",
        "\n",
        "seaborn.heatmap(correlations, annot=True, cmap=plt.cm.Reds)\n",
        "plt.show()"
      ],
      "execution_count": null,
      "outputs": [
        {
          "output_type": "display_data",
          "data": {
            "image/png": "[encoded data removed]",
            "text/plain": [
              "<Figure size 1440x1440 with 2 Axes>"
            ]
          },
          "metadata": {
            "tags": [],
            "needs_background": "light"
          }
        }
      ]
    },
    {
      "cell_type": "markdown",
      "metadata": {
        "id": "-ZSQYANFHHgV"
      },
      "source": [
        "# Ejercicio 1 - Análisis descriptivo\n",
        "\n",
        "Responder a la pregunta: **¿Cuáles son los lenguajes de programación asociados a los mejores salarios?**\n",
        "\n",
        "Para ello:\n",
        "1. Seleccionar las columnas relevantes para analizar.\n",
        "2. Seleccionar las filas relevantes para analizar. Esto incluye la eliminación de valores extremos y erróneos, pero también puede enfocar el análisis en una sub-población. Por ejemplo, se pueden limitar a personas con un salario mayor que 10000 pesos, o a las personas que trabajan sólo en \"Data Science\", pero deben justificar su elección y reformular la pregunta inicial de ser necesario.\n",
        "  * Obtener una lista de los lenguajes de programación más populares. Decidir cuántos y cuáles seleccionan para incluir en el análisis.\n",
        "  * Para cada una de las otras columnas del punto anterior, elegir los rangos o valores seleccionan para incluir en el análisis.\n",
        "3. Seleccionar métricas que ayuden a responder la pregunta, y los métodos para analizarlas. Elegir UNA de las siguientes opciones:\n",
        "  * Comparar las distribuciones de salario para cada lenguaje utilizando visualizaciones. Como la visualización es el producto final, debe ser clara y mostrar información relevante.\n",
        "  * Comparar medidas de estadística descriptiva sobre la distribución de salario para cada lenguaje. Sean creativos, la estadística descriptiva nos permite decir cosas como: \"el 10% de los mejores sueldos los ganan, en su mayoría, programadores que saben kotlin!\" (donde *mayoría* es un término medio engañoso que sólo significa más del 50%). Para comparar múltiples lenguajes, les recomendamos usar también visualizaciones.\n",
        "  * Comparar probabilidades. Por ejemplo: \"Si sabés Python o Java, tenés un 30% más de chances de ganar arriba de 100K\".\n",
        "\n",
        "Si lo consideran necesario, realicen varias iteraciones. Es decir, si encuentran que las distribuciones de los lenguajes de programación que seleccionaron inicialmente no son muy diferentes, pueden re-hacer el análisis usando sólo los lenguajes de programación que son diferentes."
      ]
    },
    {
      "cell_type": "markdown",
      "metadata": {
        "id": "QFHm45xUMl9e"
      },
      "source": [
        "<span style='background:#e6b530'> Limpieza de datos  </span>\n"
      ]
    },
    {
      "cell_type": "markdown",
      "metadata": {
        "id": "V_6XCx-mMl9f"
      },
      "source": [
        "Identificamos las columnas que tienen faltantes de datos y las mangintudes de los faltantes"
      ]
    },
    {
      "cell_type": "code",
      "metadata": {
        "colab": {
          "base_uri": "https://localhost:8080/",
          "height": 868
        },
        "id": "G6geKO38Ml9g",
        "outputId": "37a9a834-a9c0-491b-884f-a009e77cb61a"
      },
      "source": [
        "cell_color = 'black'\n",
        "set_background(cell_color)\n",
        "df.isna().sum()"
      ],
      "execution_count": null,
      "outputs": [
        {
          "output_type": "display_data",
          "data": {
            "text/html": [
              "<img src onerror=\"var cell = this.closest('.jp-CodeCell');var editor = cell.querySelector('.jp-Editor');editor.style.background='black';this.parentNode.removeChild(this)\" style=\"display:none\">"
            ],
            "text/plain": [
              "<IPython.core.display.HTML object>"
            ]
          },
          "metadata": {
            "tags": []
          }
        },
        {
          "output_type": "execute_result",
          "data": {
            "text/plain": [
              "profile_gender                                     0\n",
              "profile_age                                        0\n",
              "work_country                                       0\n",
              "work_province                                      0\n",
              "profile_years_experience                           0\n",
              "work_years_in_company                              0\n",
              "work_years_in_current_position                     0\n",
              "work_people_in_charge_of                           0\n",
              "profile_studies_level                              0\n",
              "profile_studies_level_state                        0\n",
              "profile_career                                   299\n",
              "profile_university                               534\n",
              "profile_specialization_courses                     0\n",
              "profile_open_source_contributions                  0\n",
              "profile_programming_as_hobby                       0\n",
              "work_role                                          0\n",
              "tools_platform                                     2\n",
              "tools_programming_languages                        1\n",
              "tools_frameworks                                   1\n",
              "tools_data_bases                                   2\n",
              "tools_qa_testing                                   6\n",
              "tools_IDEs                                         1\n",
              "tools_work_pc_os                                   0\n",
              "tools_cellphone_os                                 0\n",
              "work_on_call_duty                                  0\n",
              "salary_on_call_duty_charge                         0\n",
              "work_on_call_duty_charge_type                      0\n",
              "work_contract_type                                 0\n",
              "salary_monthly_BRUTO                               0\n",
              "salary_monthly_NETO                              212\n",
              "salary_in_usd                                   5419\n",
              "salary_satisfaction                                0\n",
              "salary_comparison_last_semester                    0\n",
              "salary_has_bonus                                   0\n",
              "salary_bonus_tied_to                               0\n",
              "salary_inflation_adjustment_2020                   0\n",
              "salary_percentage_inflation_adjustment_2020        0\n",
              "salary_month_last_inflation_adjustment             0\n",
              "work_has_violence_situations                     141\n",
              "profile_sexual_orientation                       183\n",
              "profile_has_disabilities                        5495\n",
              "profile_has_disabilities_hiring_difficulties    3888\n",
              "company_employee_number                            0\n",
              "company_main_activity                              0\n",
              "company_recommended                                0\n",
              "company_diversity_policies                         0\n",
              "company_extra_benefits                             1\n",
              "company_best_companies_city                     4403\n",
              "dtype: int64"
            ]
          },
          "metadata": {
            "tags": []
          },
          "execution_count": 289
        }
      ]
    },
    {
      "cell_type": "markdown",
      "metadata": {
        "id": "dDRy3KA8Ml9h"
      },
      "source": [
        "<span style='background:black'>Se detecta que existen  filas  las cuales tienen el campo salary_monthly_NETO sin información (212 filas en esta condición)</span>"
      ]
    },
    {
      "cell_type": "code",
      "metadata": {
        "colab": {
          "base_uri": "https://localhost:8080/",
          "height": 54
        },
        "id": "uD5jxI2KMl9i",
        "outputId": "098ca501-b8c1-477c-ab86-a076ea512f63"
      },
      "source": [
        "set_background(cell_color)\n",
        "cantidad_salary_monthly_NETO_nulos = df.salary_monthly_NETO.isna().sum()\n",
        "cantidad_filas_df = df.shape[0]\n",
        "print (\" Total de filas df: {0}, total de filas donde salary_monthly_NETO no tiene valoes: {1} , % {2} \".format(cantidad_filas_df, cantidad_salary_monthly_NETO_nulos ,   cantidad_salary_monthly_NETO_nulos / cantidad_filas_df * 100 ))"
      ],
      "execution_count": null,
      "outputs": [
        {
          "output_type": "display_data",
          "data": {
            "text/html": [
              "<img src onerror=\"var cell = this.closest('.jp-CodeCell');var editor = cell.querySelector('.jp-Editor');editor.style.background='black';this.parentNode.removeChild(this)\" style=\"display:none\">"
            ],
            "text/plain": [
              "<IPython.core.display.HTML object>"
            ]
          },
          "metadata": {
            "tags": []
          }
        },
        {
          "output_type": "stream",
          "text": [
            " Total de filas df: 6095, total de filas donde salary_monthly_NETO no tiene valoes: 212 , % 3.4782608695652173 \n"
          ],
          "name": "stdout"
        }
      ]
    },
    {
      "cell_type": "markdown",
      "metadata": {
        "id": "PCqDPuBqMl9j"
      },
      "source": [
        "\n",
        "En el data set se encontro 'Ninguno' como lenguaje de programación. \n",
        "Eliminamos las filas que tienen como lenguaje a 'Ninguno'"
      ]
    },
    {
      "cell_type": "code",
      "metadata": {
        "id": "Dj5ARSLsMl9k"
      },
      "source": [
        "df = df[df['tools_programming_languages'] != 'Ninguno']"
      ],
      "execution_count": null,
      "outputs": []
    },
    {
      "cell_type": "code",
      "metadata": {
        "colab": {
          "base_uri": "https://localhost:8080/"
        },
        "id": "XN4IBd-jMl9l",
        "outputId": "99367aca-0714-4063-c663-fd39c31d12fc"
      },
      "source": [
        "# Obtenemos todos los roles informados\n",
        "df['work_role'].unique()"
      ],
      "execution_count": null,
      "outputs": [
        {
          "output_type": "execute_result",
          "data": {
            "text/plain": [
              "array(['Developer', 'SysAdmin / DevOps / SRE', 'Manager / Director',\n",
              "       'Technical Leader', 'Data Scientist / Data Engineer', 'DBA',\n",
              "       'QA / Tester', 'Architect', 'Product Manager', 'Designer',\n",
              "       'BI Analyst / Data Analyst', 'Middleware', 'VP / C-Level',\n",
              "       'Storage / Backup', 'Infosec', 'HelpDesk', 'Networking',\n",
              "       'Jefe de infraestructura ', 'Scrum Master', 'Project Manager',\n",
              "       'Consultant', 'Business Analyst', 'Team leader',\n",
              "       'Microinformatica', 'Technical Writer',\n",
              "       'Implementadora de software ', 'Desarrollador BI',\n",
              "       'Martech Specialist', 'Software Configuration Management',\n",
              "       'Maquetador/Diseño UI', 'Service manager', 'Release Manager',\n",
              "       'Access Management Analyst', 'DevOps Cloud Engineer', 'tecnico',\n",
              "       'Recruiter / HR', 'Data Visualization',\n",
              "       'Implementador de Software', 'back end', 'Software Engineer',\n",
              "       'NLP', 'NOC', 'QA automation Technical Leader', 'SOC', 'Cto',\n",
              "       'Instalación, puesta en marcha y servicio técnico de equipos electrónicos en la industria naval.',\n",
              "       'Networking / SysAdmin', 'Responsable BI', 'Data Quality Analyst',\n",
              "       'Technical Owner', 'Analista Programador', 'Sales / Pre-Sales',\n",
              "       'UX', 'soporte it', 'Fullstack', 'Frontend dev Jr ',\n",
              "       'Soporte Tecnico', 'Head of Engineering', 'Finance',\n",
              "       'Coordinadora proyectos educativos tech',\n",
              "       'Infrastructure Administrator',\n",
              "       'Analista técnico funcional/arquitecta', 'Integration Engineer',\n",
              "       'trabajo como desarrollador back, pero también tengo que estar haciendo de analista , DBA, dev frontend y a veces de helpdesk',\n",
              "       'devops', 'coordinador de soporte', 'Implementador IAM',\n",
              "       'Arquitecto de Seguridad', 'Lead Product Artist', 'IT Leader',\n",
              "       'Help Desk/software architect/developer', 'Analista Funcional',\n",
              "       'Gerente Operativo de Seguridad Informatica', 'Server admin',\n",
              "       'openstack SME', 'Blockchain Team', 'Administrador de sistemas',\n",
              "       'Production support', 'Hombre orquesta', 'Customer service',\n",
              "       'Frond-end coder / UI Designer', 'SOPORTE DE APP', 'frontend',\n",
              "       'Area de educacion', 'Analista de producto digital',\n",
              "       'Investigador', 'Programo y lidero al mismo tiempo',\n",
              "       'Mobile Engineer', 'Technical Account Manager',\n",
              "       'Un poco de todo, web, programación, Diseño, email marketing y redes 🤷🏻\\u200d♂️',\n",
              "       'Principal Engineer', 'full developer',\n",
              "       'Jefe de Sistemas / CIO / CTO', 'Security Researcher',\n",
              "       'Product Designer', 'Cloud Engineer', 'Team Lead',\n",
              "       'Technical Support (Level 2)', 'Analista programador',\n",
              "       'IT Responsible', 'front-end dev',\n",
              "       'Subject Matter Expert (simil a director pero sin el management)',\n",
              "       'Analista Técnico Funcional', 'Community Manager y Analista',\n",
              "       'QA Lead', 'Editor de contenidos - Proyectos editoriales',\n",
              "       'Tecnico instalador ', 'Incident Manager', 'UX/UI Designer',\n",
              "       'Functional Analyst', 'Reasercher', 'System Engineer',\n",
              "       'AV Technical Leader - Support', 'Technical Lead Devops',\n",
              "       'Respondable de departamento', 'Mantenimiento', 'SAP BASIS',\n",
              "       'Dewigb + sales +customer care', 'Application Analyst',\n",
              "       'Technical IT', 'DevOps', 'Implementacion de programas',\n",
              "       'Software Development Coordinator', 'Principal Software Engineer',\n",
              "       'cadete', 'servicio técnico', 'Maquetador', 'Analista de red ',\n",
              "       'Product Security', 'Técnico en automatización',\n",
              "       'Responsable de Marketing y Diseño', 'Analista de sistemas',\n",
              "       'Software engeniering', 'Implementador de software y dba',\n",
              "       'Ing. Operaciones IT', 'Analista de Monitoreo', 'Maxirest',\n",
              "       'Data Entry', 'jefe administrativo', 'Machine Learning Engineer',\n",
              "       'full stack developer y growth hacker', 'Security Architect',\n",
              "       'Field Support', 'Técnico', 'Analista Tecnico', 'CTO',\n",
              "       'Digitalizador',\n",
              "       'Gestora Particular y Data analyst, Administrativa',\n",
              "       'Project leader', 'Configuration Manager',\n",
              "       'Cibersecurity & Compliance Engineer', 'Security ',\n",
              "       'Responsable de IT', 'Cyber risk services', 'DevSecOps',\n",
              "       'Developer QA - Ambos roles', 'Administrativo', 'Auxiliar Portero',\n",
              "       'Jefe de desarrollo', 'Software engineer', 'Firmware Developer',\n",
              "       'R&D Engineer', 'Gastronomía', 'analista de aplicaciones',\n",
              "       'Software Developer- computer vision full stack', 'QA Automation',\n",
              "       'Service Management IT GRC', 'Senior software Developer',\n",
              "       'Sysadmin', 'Auditoría', 'application support', 'analista',\n",
              "       'Technical Support Analyst', 'Analista funcional ',\n",
              "       'Gerente de Sistemas', 'Communications Specialist',\n",
              "       'Security Admin', 'Jefe HR', 'Data QA', 'Resiliencia',\n",
              "       'Informatica forense', 'Analista funcional', 'Project Lead',\n",
              "       'PLC, HMI y Scada', 'Tecnico ', 'SAP Basid',\n",
              "       'Técnico, armador, reparador', 'Consultor de sistemas ',\n",
              "       'Project Leader', 'Teaching', 'Soporte a usuario / sitio',\n",
              "       'Customer service y Analista Funcional', 'Mobile ',\n",
              "       'technical analyst', 'Principal of Engineering', 'Becario',\n",
              "       'Internal Auditor', 'Infrastructure Specialist',\n",
              "       'Jefe de proyectos e infraestructura IT',\n",
              "       'Data Visualization Engineer', 'RPA', 'Integrations', 'UX/UI',\n",
              "       'Network Architect', ' buyer / commercial', 'Executive Assistant',\n",
              "       'Operador Datacenter', 'Seguridad IT', 'Operador', 'Seguridad',\n",
              "       'Jefe tecnologia y planificacion IT', 'Responsable de Compras ',\n",
              "       'Agile Coach',\n",
              "       'Founder/CEO/Developer/Designer/Product Manager... TODO',\n",
              "       'Digital Transformation Manager + KAM VIP',\n",
              "       'operario de kits de biomedicina', 'seguridad',\n",
              "       'Encargado tecnico', 'Private Security', 'incident manager',\n",
              "       'Seguridad informatica', 'Manager', 'servicios',\n",
              "       'Gerente de sistemas', 'Project Analyst', 'Job streaming',\n",
              "       'Auditor', 'pc helper', 'Mnt',\n",
              "       'Soporte de aplicaciones niv 1, 2 y 3', 'Administrador it',\n",
              "       'Job Streamer', 'Soporte Técnico', 'Analista',\n",
              "       'Administrador de servicios y servidores linux y windows',\n",
              "       'Field support specialist', 'Production support ',\n",
              "       'Empleado bancario', 'Coordinador ', 'Game developer', 'Devops',\n",
              "       'Analista de arquitectura y ciberseguridad',\n",
              "       'IT Field Support Technician', 'Tecnico', 'coordinador payroll',\n",
              "       'IT Team Leader', 'Hardware Engineer', 'Técnico de Desktop',\n",
              "       'Encargado de Sistemas', 'Analista seguridad información',\n",
              "       'End User Support', 'Soporte tecnico, redes y programación',\n",
              "       'Soporte técnico', 'Procesos de calidad ', 'Coordinador helpdesk',\n",
              "       'Service Availability Manager', 'Soporte tecnico', 'Funcional',\n",
              "       'Support specialist', 'system engineer', 'todos los de arriba',\n",
              "       'Help Desk', 'Pasante', 'Infraestructura Datacenter',\n",
              "       'Soporte / Mantenimiento',\n",
              "       'Dirección General de informática y Telecomunicaciones',\n",
              "       'Responsable TI', 'Seguridad informática ', 'técnico reparador',\n",
              "       'Helpdesk sysadmin networking', 'Técnico de Mantenimiento',\n",
              "       'Other', 'Repartidor, Construcción y atendedor', 'Engineer',\n",
              "       'full stack', 'Sap', 'Telecomunicaciones', 'CS', 'Front end',\n",
              "       'Varias opciones: data scientist, project manager, sysadmin.',\n",
              "       'Implementador', 'comunicación, redes sociales, otros',\n",
              "       'Administrativo de Facturacion', 'Security', 'Neurocirujano',\n",
              "       'Soporte técnico. Redes. ', 'Analista/desarrollador',\n",
              "       'Perito Forense', 'analista programafor', ',',\n",
              "       'Tecnico en reparacion', 'Networking, Storage / Backup, SysAdmin',\n",
              "       'Analista soporte aplicacioned', 'Trading', 'Product Owner',\n",
              "       'Security researcher', 'Bussines Developer',\n",
              "       'Seguridad Informatica',\n",
              "       'Infraestructura, Networking, SysAdmin, DBManager',\n",
              "       'Delivery Manager', 'Territory Manager Cloud', 'Admin',\n",
              "       'Application Support', 'It, desarrollo, sysadmin', 'Focal Point',\n",
              "       'Product Analyst',\n",
              "       'networkin, help desk, admin vmware, admin central ip...',\n",
              "       'Automation', 'Specialist',\n",
              "       'Desarrollador  / Líder Técnico / Analista Técnico Funcional'],\n",
              "      dtype=object)"
            ]
          },
          "metadata": {
            "tags": []
          },
          "execution_count": 292
        }
      ]
    },
    {
      "cell_type": "code",
      "metadata": {
        "colab": {
          "base_uri": "https://localhost:8080/"
        },
        "id": "P9f94pC1Ml9m",
        "outputId": "06a713cc-5479-45ef-aa92-78064503da10"
      },
      "source": [
        "# Se puede observar que existen roles que no hacen desarrollo. Como lo que se busca\n",
        "# es cuales son los lenguajes mejores pagos, se asume que se apunta a roles \n",
        "# vincualados al desarrollo / calidad / devops y NO a roles de gestión, RRHH\n",
        "\n",
        "# Vamos a elimiar todos los roles que tenga un string que contenga:\n",
        "# Manager, Product Owner,, Administrativo, Construcción y atendedor , \n",
        "# Repartido, Responsable, Coordinador, Encargado, Empleado bancario, Gerente, biomedicina, Jefe, Executive, Project Lead, Gastronomía\n",
        "\n",
        "\n",
        "result = df['work_role'].str.contains('Scrum Master|Manager|Product Owner|Administrativ|Repartidor|Responsable|Dirección|oordinador|Encargado|bancario|biomedicina|Coach|Jefe|jefe|Executive|Resiliencia|Gastronomía|Project|Maxirest|cadete|director|Finance|Cto|Writer|VP' )\n",
        "\n",
        "#~result\n",
        "\n",
        "df[result]['work_role'].count()\n"
      ],
      "execution_count": null,
      "outputs": [
        {
          "output_type": "execute_result",
          "data": {
            "text/plain": [
              "550"
            ]
          },
          "metadata": {
            "tags": []
          },
          "execution_count": 293
        }
      ]
    },
    {
      "cell_type": "code",
      "metadata": {
        "id": "ALRwuEgnMl9o"
      },
      "source": [
        "#df[result].to_csv('eliminados.csv'"
      ],
      "execution_count": null,
      "outputs": []
    },
    {
      "cell_type": "code",
      "metadata": {
        "colab": {
          "base_uri": "https://localhost:8080/"
        },
        "id": "0AYvWYFRMl9o",
        "outputId": "9f2f9b6a-07b9-4ee7-f35b-f9df00dcd902"
      },
      "source": [
        "#Controlamos que las filas se hayan elimandos del data frame. Para eso\n",
        "# verificamos que el tamñano del data frame resultante sea menor al df\n",
        "# original\n",
        "df = df[~result ]\n",
        "df.shape"
      ],
      "execution_count": null,
      "outputs": [
        {
          "output_type": "execute_result",
          "data": {
            "text/plain": [
              "(5219, 48)"
            ]
          },
          "metadata": {
            "tags": []
          },
          "execution_count": 295
        }
      ]
    },
    {
      "cell_type": "code",
      "metadata": {
        "colab": {
          "base_uri": "https://localhost:8080/"
        },
        "id": "I7uXO9bbMl9q",
        "outputId": "c1d2f3e8-6ac1-4013-e13a-27a67f58883f"
      },
      "source": [
        "\n",
        "df['work_contract_type'].unique()"
      ],
      "execution_count": null,
      "outputs": [
        {
          "output_type": "execute_result",
          "data": {
            "text/plain": [
              "array(['Full-Time', 'Freelance', 'Part-Time',\n",
              "       'Tercerizado (trabajo a través de consultora o agencia)',\n",
              "       'Remoto (empresa de otro país)'], dtype=object)"
            ]
          },
          "metadata": {
            "tags": []
          },
          "execution_count": 296
        }
      ]
    },
    {
      "cell_type": "code",
      "metadata": {
        "colab": {
          "base_uri": "https://localhost:8080/"
        },
        "id": "DPQVavPpMl9s",
        "outputId": "616a6c03-a066-4e36-fb2d-c56e6de6409e"
      },
      "source": [
        "#Buscamos y calculmanos la cantidad de filas tipo part-time\n",
        "partime_index = df['work_contract_type'].str.contains('Part-Time')\n",
        "partime_index.sum()"
      ],
      "execution_count": null,
      "outputs": [
        {
          "output_type": "execute_result",
          "data": {
            "text/plain": [
              "289"
            ]
          },
          "metadata": {
            "tags": []
          },
          "execution_count": 297
        }
      ]
    },
    {
      "cell_type": "code",
      "metadata": {
        "colab": {
          "base_uri": "https://localhost:8080/"
        },
        "id": "1grGJubMMl9t",
        "outputId": "ac8b30e6-4d87-4339-f60b-8fd5c0bff16c"
      },
      "source": [
        "#Eliminamos los part-time puesto que no sabe si el partime es medio dia, 2 horas, 3 horas ....\n",
        "\n",
        "df = df[~partime_index ]\n",
        "df.shape"
      ],
      "execution_count": null,
      "outputs": [
        {
          "output_type": "execute_result",
          "data": {
            "text/plain": [
              "(4930, 48)"
            ]
          },
          "metadata": {
            "tags": []
          },
          "execution_count": 298
        }
      ]
    },
    {
      "cell_type": "markdown",
      "metadata": {
        "id": "apqnQvG2Ml9u"
      },
      "source": [
        "<span style='background:#e6b530'> Corregimos las filas que no tiene salario NETO. Para ello tomamos el bruto y lo multiplicamos x 0,83 </span>"
      ]
    },
    {
      "cell_type": "code",
      "metadata": {
        "id": "ezHocBFGMl9v"
      },
      "source": [
        "#Para las filas que no tienen neto, calculamos el neto haciendo BRUTO * 0.83\n",
        "df['salary_monthly_NETO'] = df.apply(lambda x: x['salary_monthly_BRUTO'] * 0.83 if math.isnan(x.salary_monthly_NETO)   else x['salary_monthly_NETO'], axis=1)    "
      ],
      "execution_count": null,
      "outputs": []
    },
    {
      "cell_type": "markdown",
      "metadata": {
        "id": "vf25ZzhQMl9w"
      },
      "source": [
        "<span style='background:#e6b530'>Controlamos que no existan más filas con NETO sin valores (debe ser 0 la cantidad de filas que no tienen salario neto) </span>"
      ]
    },
    {
      "cell_type": "code",
      "metadata": {
        "colab": {
          "base_uri": "https://localhost:8080/",
          "height": 34
        },
        "id": "EduylLUhMl9x",
        "outputId": "9674f0d4-7f86-480e-bea7-4a2237e412e1"
      },
      "source": [
        "#C\n",
        "set_background(cell_color)\n",
        "df['salary_monthly_NETO'].isna().sum()"
      ],
      "execution_count": null,
      "outputs": [
        {
          "output_type": "display_data",
          "data": {
            "text/html": [
              "<img src onerror=\"var cell = this.closest('.jp-CodeCell');var editor = cell.querySelector('.jp-Editor');editor.style.background='black';this.parentNode.removeChild(this)\" style=\"display:none\">"
            ],
            "text/plain": [
              "<IPython.core.display.HTML object>"
            ]
          },
          "metadata": {
            "tags": []
          }
        },
        {
          "output_type": "execute_result",
          "data": {
            "text/plain": [
              "0"
            ]
          },
          "metadata": {
            "tags": []
          },
          "execution_count": 300
        }
      ]
    },
    {
      "cell_type": "markdown",
      "metadata": {
        "id": "wPepjfoKMl9z"
      },
      "source": [
        "<span style='background:#e6b530'>Vemos cuantos casos tenemos de salarios Netos mayores a salarios Brutos</span>"
      ]
    },
    {
      "cell_type": "code",
      "metadata": {
        "colab": {
          "base_uri": "https://localhost:8080/",
          "height": 34
        },
        "id": "p76bhczaMl9z",
        "outputId": "148172c5-d671-4717-8157-84560aa711a7"
      },
      "source": [
        "set_background(cell_color)\n",
        "df[df.salary_monthly_BRUTO < df.salary_monthly_NETO ].shape[0]"
      ],
      "execution_count": null,
      "outputs": [
        {
          "output_type": "display_data",
          "data": {
            "text/html": [
              "<img src onerror=\"var cell = this.closest('.jp-CodeCell');var editor = cell.querySelector('.jp-Editor');editor.style.background='black';this.parentNode.removeChild(this)\" style=\"display:none\">"
            ],
            "text/plain": [
              "<IPython.core.display.HTML object>"
            ]
          },
          "metadata": {
            "tags": []
          }
        },
        {
          "output_type": "execute_result",
          "data": {
            "text/plain": [
              "122"
            ]
          },
          "metadata": {
            "tags": []
          },
          "execution_count": 301
        }
      ]
    },
    {
      "cell_type": "markdown",
      "metadata": {
        "id": "1QAgKPz9Ml90"
      },
      "source": [
        "<span style='background:#e6b530'>Vamos a poner como bruto al neto, y luego recalculamos en neto (no se contempla descuento de ganancias, descontamos un 17% entre jub, obra soc y otros)\n",
        "</span>\n"
      ]
    },
    {
      "cell_type": "code",
      "metadata": {
        "colab": {
          "base_uri": "https://localhost:8080/",
          "height": 17
        },
        "id": "Ux-LeRoHMl91",
        "outputId": "deaa81b5-2729-4c2c-e425-c3c0660a0a31"
      },
      "source": [
        "set_background(cell_color)\n",
        "df['recalculate_salary'] = df.apply(lambda x:  x['salary_monthly_NETO'] >  x['salary_monthly_BRUTO'], axis=1)    \n",
        "\n",
        "df['salary_monthly_BRUTO'] = df.apply(lambda x: x['salary_monthly_NETO'] if x['recalculate_salary']   else x['salary_monthly_BRUTO'], axis=1)    \n",
        "df['salary_monthly_NETO'] = df.apply(lambda x: x['salary_monthly_BRUTO'] * 0.83 if x['recalculate_salary']   else x['salary_monthly_NETO'], axis=1)    "
      ],
      "execution_count": null,
      "outputs": [
        {
          "output_type": "display_data",
          "data": {
            "text/html": [
              "<img src onerror=\"var cell = this.closest('.jp-CodeCell');var editor = cell.querySelector('.jp-Editor');editor.style.background='black';this.parentNode.removeChild(this)\" style=\"display:none\">"
            ],
            "text/plain": [
              "<IPython.core.display.HTML object>"
            ]
          },
          "metadata": {
            "tags": []
          }
        }
      ]
    },
    {
      "cell_type": "markdown",
      "metadata": {
        "id": "PD4WkrTxMl92"
      },
      "source": [
        "<span style='background:black'>Verificamos que no existan mas salarios netos matores a salarios brutos </span>"
      ]
    },
    {
      "cell_type": "code",
      "metadata": {
        "colab": {
          "base_uri": "https://localhost:8080/",
          "height": 34
        },
        "id": "XHEvjgtxMl93",
        "outputId": "cf3af09a-4fdf-43f3-9631-2be9b0bad47f"
      },
      "source": [
        "set_background(cell_color)\n",
        "df[df.salary_monthly_BRUTO < df.salary_monthly_NETO ].shape[0]"
      ],
      "execution_count": null,
      "outputs": [
        {
          "output_type": "display_data",
          "data": {
            "text/html": [
              "<img src onerror=\"var cell = this.closest('.jp-CodeCell');var editor = cell.querySelector('.jp-Editor');editor.style.background='black';this.parentNode.removeChild(this)\" style=\"display:none\">"
            ],
            "text/plain": [
              "<IPython.core.display.HTML object>"
            ]
          },
          "metadata": {
            "tags": []
          }
        },
        {
          "output_type": "execute_result",
          "data": {
            "text/plain": [
              "0"
            ]
          },
          "metadata": {
            "tags": []
          },
          "execution_count": 303
        }
      ]
    },
    {
      "cell_type": "markdown",
      "metadata": {
        "id": "ALGVNlLcMl93"
      },
      "source": [
        "<span style='background:black'>Muchos sueldos están expresados en unidades de mil. Por ejemplo para 82000, ponen 82. Vamos a convertir esos sueldos al formato del resto </span>\n",
        "<span style='background:black'>Normalizamos el formato de los sueldos a unidades de mil (82 --> 82000) </span>"
      ]
    },
    {
      "cell_type": "code",
      "metadata": {
        "colab": {
          "base_uri": "https://localhost:8080/",
          "height": 17
        },
        "id": "XZRIrc21Ml94",
        "outputId": "482141bb-9289-4359-f31d-c1dc869c3980"
      },
      "source": [
        "set_background(cell_color)\n",
        "\n",
        "filtro_dolar = 'Mi sueldo está dolarizado'\n",
        "#Filtrar que no sean en dolares\n",
        "limit = 1000\n",
        "df['salary_monthly_BRUTO'] = df.apply(lambda x: x['salary_monthly_BRUTO'] * 1000 if ((x['salary_monthly_BRUTO'] < limit) & (x['salary_monthly_BRUTO'] == filtro_dolar ) )  else x['salary_monthly_BRUTO'], axis=1)    \n",
        "df['salary_monthly_NETO'] = df.apply(lambda x: x['salary_monthly_NETO'] * 1000 if ((x['salary_monthly_NETO'] < limit ) & (x['salary_monthly_BRUTO'] == filtro_dolar ) )  else x['salary_monthly_NETO'], axis=1)"
      ],
      "execution_count": null,
      "outputs": [
        {
          "output_type": "display_data",
          "data": {
            "text/html": [
              "<img src onerror=\"var cell = this.closest('.jp-CodeCell');var editor = cell.querySelector('.jp-Editor');editor.style.background='black';this.parentNode.removeChild(this)\" style=\"display:none\">"
            ],
            "text/plain": [
              "<IPython.core.display.HTML object>"
            ]
          },
          "metadata": {
            "tags": []
          }
        }
      ]
    },
    {
      "cell_type": "code",
      "metadata": {
        "colab": {
          "base_uri": "https://localhost:8080/",
          "height": 54
        },
        "id": "oFZsHcs_Ml95",
        "outputId": "102f81c6-176c-4d0b-cab3-253bc99a1ffd"
      },
      "source": [
        "set_background(cell_color)\n",
        "limit_us = 10000\n",
        "\n",
        "\n",
        "df_salary_to_convert = ((df.salary_monthly_NETO <= limit_us) & (df.salary_in_usd == filtro_dolar) )\n",
        "\n",
        "print(f\"Cantidad de salarios <= {limit_us} : {df_salary_to_convert.sum()}, % respecto al total {df_salary_to_convert.sum()  / df.shape[0] }\")"
      ],
      "execution_count": null,
      "outputs": [
        {
          "output_type": "display_data",
          "data": {
            "text/html": [
              "<img src onerror=\"var cell = this.closest('.jp-CodeCell');var editor = cell.querySelector('.jp-Editor');editor.style.background='black';this.parentNode.removeChild(this)\" style=\"display:none\">"
            ],
            "text/plain": [
              "<IPython.core.display.HTML object>"
            ]
          },
          "metadata": {
            "tags": []
          }
        },
        {
          "output_type": "stream",
          "text": [
            "Cantidad de salarios <= 10000 : 25, % respecto al total 0.005070993914807302\n"
          ],
          "name": "stdout"
        }
      ]
    },
    {
      "cell_type": "code",
      "metadata": {
        "colab": {
          "base_uri": "https://localhost:8080/",
          "height": 834
        },
        "id": "a18SpPcEMl96",
        "outputId": "e421d403-01bc-490b-b162-8a9de4d140d2"
      },
      "source": [
        "df[df_salary_to_convert][['salary_monthly_NETO','salary_in_usd']]"
      ],
      "execution_count": null,
      "outputs": [
        {
          "output_type": "execute_result",
          "data": {
            "text/html": [
              "<div>\n",
              "<style scoped>\n",
              "    .dataframe tbody tr th:only-of-type {\n",
              "        vertical-align: middle;\n",
              "    }\n",
              "\n",
              "    .dataframe tbody tr th {\n",
              "        vertical-align: top;\n",
              "    }\n",
              "\n",
              "    .dataframe thead th {\n",
              "        text-align: right;\n",
              "    }\n",
              "</style>\n",
              "<table border=\"1\" class=\"dataframe\">\n",
              "  <thead>\n",
              "    <tr style=\"text-align: right;\">\n",
              "      <th></th>\n",
              "      <th>salary_monthly_NETO</th>\n",
              "      <th>salary_in_usd</th>\n",
              "    </tr>\n",
              "  </thead>\n",
              "  <tbody>\n",
              "    <tr>\n",
              "      <th>224</th>\n",
              "      <td>5000.0</td>\n",
              "      <td>Mi sueldo está dolarizado</td>\n",
              "    </tr>\n",
              "    <tr>\n",
              "      <th>246</th>\n",
              "      <td>60.0</td>\n",
              "      <td>Mi sueldo está dolarizado</td>\n",
              "    </tr>\n",
              "    <tr>\n",
              "      <th>844</th>\n",
              "      <td>110.0</td>\n",
              "      <td>Mi sueldo está dolarizado</td>\n",
              "    </tr>\n",
              "    <tr>\n",
              "      <th>910</th>\n",
              "      <td>160.0</td>\n",
              "      <td>Mi sueldo está dolarizado</td>\n",
              "    </tr>\n",
              "    <tr>\n",
              "      <th>924</th>\n",
              "      <td>6000.0</td>\n",
              "      <td>Mi sueldo está dolarizado</td>\n",
              "    </tr>\n",
              "    <tr>\n",
              "      <th>982</th>\n",
              "      <td>185.0</td>\n",
              "      <td>Mi sueldo está dolarizado</td>\n",
              "    </tr>\n",
              "    <tr>\n",
              "      <th>1425</th>\n",
              "      <td>260.0</td>\n",
              "      <td>Mi sueldo está dolarizado</td>\n",
              "    </tr>\n",
              "    <tr>\n",
              "      <th>1701</th>\n",
              "      <td>307.1</td>\n",
              "      <td>Mi sueldo está dolarizado</td>\n",
              "    </tr>\n",
              "    <tr>\n",
              "      <th>1820</th>\n",
              "      <td>145.0</td>\n",
              "      <td>Mi sueldo está dolarizado</td>\n",
              "    </tr>\n",
              "    <tr>\n",
              "      <th>2212</th>\n",
              "      <td>125.0</td>\n",
              "      <td>Mi sueldo está dolarizado</td>\n",
              "    </tr>\n",
              "    <tr>\n",
              "      <th>2332</th>\n",
              "      <td>145.0</td>\n",
              "      <td>Mi sueldo está dolarizado</td>\n",
              "    </tr>\n",
              "    <tr>\n",
              "      <th>2376</th>\n",
              "      <td>610.0</td>\n",
              "      <td>Mi sueldo está dolarizado</td>\n",
              "    </tr>\n",
              "    <tr>\n",
              "      <th>3563</th>\n",
              "      <td>373.5</td>\n",
              "      <td>Mi sueldo está dolarizado</td>\n",
              "    </tr>\n",
              "    <tr>\n",
              "      <th>3632</th>\n",
              "      <td>1311.0</td>\n",
              "      <td>Mi sueldo está dolarizado</td>\n",
              "    </tr>\n",
              "    <tr>\n",
              "      <th>3771</th>\n",
              "      <td>4300.0</td>\n",
              "      <td>Mi sueldo está dolarizado</td>\n",
              "    </tr>\n",
              "    <tr>\n",
              "      <th>3791</th>\n",
              "      <td>685.0</td>\n",
              "      <td>Mi sueldo está dolarizado</td>\n",
              "    </tr>\n",
              "    <tr>\n",
              "      <th>3821</th>\n",
              "      <td>1800.0</td>\n",
              "      <td>Mi sueldo está dolarizado</td>\n",
              "    </tr>\n",
              "    <tr>\n",
              "      <th>3873</th>\n",
              "      <td>2.0</td>\n",
              "      <td>Mi sueldo está dolarizado</td>\n",
              "    </tr>\n",
              "    <tr>\n",
              "      <th>4217</th>\n",
              "      <td>540.0</td>\n",
              "      <td>Mi sueldo está dolarizado</td>\n",
              "    </tr>\n",
              "    <tr>\n",
              "      <th>4418</th>\n",
              "      <td>130.0</td>\n",
              "      <td>Mi sueldo está dolarizado</td>\n",
              "    </tr>\n",
              "    <tr>\n",
              "      <th>5526</th>\n",
              "      <td>2000.0</td>\n",
              "      <td>Mi sueldo está dolarizado</td>\n",
              "    </tr>\n",
              "    <tr>\n",
              "      <th>5698</th>\n",
              "      <td>100.0</td>\n",
              "      <td>Mi sueldo está dolarizado</td>\n",
              "    </tr>\n",
              "    <tr>\n",
              "      <th>5726</th>\n",
              "      <td>1100.0</td>\n",
              "      <td>Mi sueldo está dolarizado</td>\n",
              "    </tr>\n",
              "    <tr>\n",
              "      <th>5955</th>\n",
              "      <td>4150.0</td>\n",
              "      <td>Mi sueldo está dolarizado</td>\n",
              "    </tr>\n",
              "    <tr>\n",
              "      <th>5986</th>\n",
              "      <td>1000.0</td>\n",
              "      <td>Mi sueldo está dolarizado</td>\n",
              "    </tr>\n",
              "  </tbody>\n",
              "</table>\n",
              "</div>"
            ],
            "text/plain": [
              "      salary_monthly_NETO              salary_in_usd\n",
              "224                5000.0  Mi sueldo está dolarizado\n",
              "246                  60.0  Mi sueldo está dolarizado\n",
              "844                 110.0  Mi sueldo está dolarizado\n",
              "910                 160.0  Mi sueldo está dolarizado\n",
              "924                6000.0  Mi sueldo está dolarizado\n",
              "982                 185.0  Mi sueldo está dolarizado\n",
              "1425                260.0  Mi sueldo está dolarizado\n",
              "1701                307.1  Mi sueldo está dolarizado\n",
              "1820                145.0  Mi sueldo está dolarizado\n",
              "2212                125.0  Mi sueldo está dolarizado\n",
              "2332                145.0  Mi sueldo está dolarizado\n",
              "2376                610.0  Mi sueldo está dolarizado\n",
              "3563                373.5  Mi sueldo está dolarizado\n",
              "3632               1311.0  Mi sueldo está dolarizado\n",
              "3771               4300.0  Mi sueldo está dolarizado\n",
              "3791                685.0  Mi sueldo está dolarizado\n",
              "3821               1800.0  Mi sueldo está dolarizado\n",
              "3873                  2.0  Mi sueldo está dolarizado\n",
              "4217                540.0  Mi sueldo está dolarizado\n",
              "4418                130.0  Mi sueldo está dolarizado\n",
              "5526               2000.0  Mi sueldo está dolarizado\n",
              "5698                100.0  Mi sueldo está dolarizado\n",
              "5726               1100.0  Mi sueldo está dolarizado\n",
              "5955               4150.0  Mi sueldo está dolarizado\n",
              "5986               1000.0  Mi sueldo está dolarizado"
            ]
          },
          "metadata": {
            "tags": []
          },
          "execution_count": 306
        }
      ]
    },
    {
      "cell_type": "markdown",
      "metadata": {
        "id": "uoCvaWCFMl97"
      },
      "source": [
        "<span style='background:black'>\n",
        "Convertimos a $ los sueldos dolarizados. Tomamos como fuente el valor blue reportado en https://www.cotizacion-dolar.com.ar/dolar-blue-historico-2020.php . Se toma fecha 25/08/2020, valor compra\n",
        "</span>"
      ]
    },
    {
      "cell_type": "code",
      "metadata": {
        "colab": {
          "base_uri": "https://localhost:8080/",
          "height": 17
        },
        "id": "EUipfSeDMl98",
        "outputId": "d5ac306d-8d77-4525-c757-1ee7b2af457c"
      },
      "source": [
        "set_background(cell_color)\n",
        "valor_dolar = 133\n",
        "\n",
        "\n",
        "df['salary_monthly_BRUTO'] = df.apply(lambda x: x['salary_monthly_BRUTO'] * valor_dolar if (( x['salary_monthly_BRUTO']  < limit_us) & (x['salary_in_usd'] == filtro_dolar ))   else x['salary_monthly_BRUTO'], axis=1)    \n",
        "df['salary_monthly_NETO']  = df.apply(lambda x: x['salary_monthly_NETO']  * valor_dolar if (( x['salary_monthly_NETO']  < limit_us) & (x['salary_in_usd'] == filtro_dolar ))  else x['salary_monthly_NETO'], axis=1)"
      ],
      "execution_count": null,
      "outputs": [
        {
          "output_type": "display_data",
          "data": {
            "text/html": [
              "<img src onerror=\"var cell = this.closest('.jp-CodeCell');var editor = cell.querySelector('.jp-Editor');editor.style.background='black';this.parentNode.removeChild(this)\" style=\"display:none\">"
            ],
            "text/plain": [
              "<IPython.core.display.HTML object>"
            ]
          },
          "metadata": {
            "tags": []
          }
        }
      ]
    },
    {
      "cell_type": "code",
      "metadata": {
        "colab": {
          "base_uri": "https://localhost:8080/",
          "height": 34
        },
        "id": "3LZaVzTBMl9-",
        "outputId": "65929685-ca85-4995-9c08-47f35a13e692"
      },
      "source": [
        "set_background(cell_color)\n",
        "\n",
        "#df_salary_to_convert = ((df.salary_monthly_NETO <= limit_us) & (df.salary_in_usd == filtro_dolar) )\n",
        "(df.salary_monthly_BRUTO <= limit_us).sum()\n",
        "print(f\"Cantidad de salarios <= {limit_us} : {((df.salary_monthly_BRUTO <= limit_us) &  (df.salary_in_usd == filtro_dolar)).sum().round(2)}, % respecto al total {(df_salary_to_convert.sum()  / df.shape[0]).round(3) }\")"
      ],
      "execution_count": null,
      "outputs": [
        {
          "output_type": "display_data",
          "data": {
            "text/html": [
              "<img src onerror=\"var cell = this.closest('.jp-CodeCell');var editor = cell.querySelector('.jp-Editor');editor.style.background='black';this.parentNode.removeChild(this)\" style=\"display:none\">"
            ],
            "text/plain": [
              "<IPython.core.display.HTML object>"
            ]
          },
          "metadata": {
            "tags": []
          }
        },
        {
          "output_type": "stream",
          "text": [
            "Cantidad de salarios <= 10000 : 1, % respecto al total 0.005\n"
          ],
          "name": "stdout"
        }
      ]
    },
    {
      "cell_type": "markdown",
      "metadata": {
        "id": "KAtTEswDMl9_"
      },
      "source": [
        "Redondear VALORES!!!!"
      ]
    },
    {
      "cell_type": "code",
      "metadata": {
        "colab": {
          "base_uri": "https://localhost:8080/",
          "height": 17
        },
        "id": "G6N4oi0LMl9_",
        "outputId": "58d98c72-0fc4-4be3-ddd0-ee2e670989e0"
      },
      "source": [
        "set_background(cell_color)\n",
        "index_to_drop = df[df.salary_monthly_NETO <= 10000].index"
      ],
      "execution_count": null,
      "outputs": [
        {
          "output_type": "display_data",
          "data": {
            "text/html": [
              "<img src onerror=\"var cell = this.closest('.jp-CodeCell');var editor = cell.querySelector('.jp-Editor');editor.style.background='black';this.parentNode.removeChild(this)\" style=\"display:none\">"
            ],
            "text/plain": [
              "<IPython.core.display.HTML object>"
            ]
          },
          "metadata": {
            "tags": []
          }
        }
      ]
    },
    {
      "cell_type": "code",
      "metadata": {
        "colab": {
          "base_uri": "https://localhost:8080/",
          "height": 17
        },
        "id": "oh4ww2SGMl-A",
        "outputId": "a72c4557-3a5f-459e-a815-971b4993cb62"
      },
      "source": [
        "set_background(cell_color)\n",
        "df.drop(index_to_drop, inplace = True)"
      ],
      "execution_count": null,
      "outputs": [
        {
          "output_type": "display_data",
          "data": {
            "text/html": [
              "<img src onerror=\"var cell = this.closest('.jp-CodeCell');var editor = cell.querySelector('.jp-Editor');editor.style.background='black';this.parentNode.removeChild(this)\" style=\"display:none\">"
            ],
            "text/plain": [
              "<IPython.core.display.HTML object>"
            ]
          },
          "metadata": {
            "tags": []
          }
        }
      ]
    },
    {
      "cell_type": "code",
      "metadata": {
        "colab": {
          "base_uri": "https://localhost:8080/",
          "height": 34
        },
        "id": "pZVFMKwAMl-B",
        "outputId": "224a9583-521c-4056-ed75-5e4a246daa8f"
      },
      "source": [
        "set_background(cell_color)\n",
        "print(\"Cantidad de salarios <= 10000 : {0}, % respecto al total {1}\".format((df.salary_monthly_NETO <= 10000).sum() ,(df.salary_monthly_NETO <= 1000).sum()  / df.shape[0] ))"
      ],
      "execution_count": null,
      "outputs": [
        {
          "output_type": "display_data",
          "data": {
            "text/html": [
              "<img src onerror=\"var cell = this.closest('.jp-CodeCell');var editor = cell.querySelector('.jp-Editor');editor.style.background='black';this.parentNode.removeChild(this)\" style=\"display:none\">"
            ],
            "text/plain": [
              "<IPython.core.display.HTML object>"
            ]
          },
          "metadata": {
            "tags": []
          }
        },
        {
          "output_type": "stream",
          "text": [
            "Cantidad de salarios <= 10000 : 0, % respecto al total 0.0\n"
          ],
          "name": "stdout"
        }
      ]
    },
    {
      "cell_type": "code",
      "metadata": {
        "colab": {
          "base_uri": "https://localhost:8080/",
          "height": 275
        },
        "id": "Amr8Jh9YMl-C",
        "outputId": "87cdc601-3f7f-4727-c4a4-368f71b3b9c2"
      },
      "source": [
        "plt.figure(figsize=(12, 4))\n",
        "seaborn.boxplot(x=df['salary_monthly_BRUTO'])\n",
        "seaborn.despine()"
      ],
      "execution_count": null,
      "outputs": [
        {
          "output_type": "display_data",
          "data": {
            "image/png": "[encoded data removed]",
            "text/plain": [
              "<Figure size 864x288 with 1 Axes>"
            ]
          },
          "metadata": {
            "tags": [],
            "needs_background": "light"
          }
        }
      ]
    },
    {
      "cell_type": "code",
      "metadata": {
        "colab": {
          "base_uri": "https://localhost:8080/",
          "height": 473
        },
        "id": "DL5DI2ckMl-D",
        "outputId": "2ca27430-42c3-4d39-9bcc-820629394568"
      },
      "source": [
        "df_lang_clean_group_by_programming_language = df.groupby(['work_role'] , as_index=False).agg({'salary_monthly_BRUTO': ['mean', 'min', 'max' , 'count']})\n",
        "df_lang_clean_group_by_programming_language"
      ],
      "execution_count": null,
      "outputs": [
        {
          "output_type": "execute_result",
          "data": {
            "text/html": [
              "<div>\n",
              "<style scoped>\n",
              "    .dataframe tbody tr th:only-of-type {\n",
              "        vertical-align: middle;\n",
              "    }\n",
              "\n",
              "    .dataframe tbody tr th {\n",
              "        vertical-align: top;\n",
              "    }\n",
              "\n",
              "    .dataframe thead tr th {\n",
              "        text-align: left;\n",
              "    }\n",
              "</style>\n",
              "<table border=\"1\" class=\"dataframe\">\n",
              "  <thead>\n",
              "    <tr>\n",
              "      <th></th>\n",
              "      <th>work_role</th>\n",
              "      <th colspan=\"4\" halign=\"left\">salary_monthly_BRUTO</th>\n",
              "    </tr>\n",
              "    <tr>\n",
              "      <th></th>\n",
              "      <th></th>\n",
              "      <th>mean</th>\n",
              "      <th>min</th>\n",
              "      <th>max</th>\n",
              "      <th>count</th>\n",
              "    </tr>\n",
              "  </thead>\n",
              "  <tbody>\n",
              "    <tr>\n",
              "      <th>0</th>\n",
              "      <td>buyer / commercial</td>\n",
              "      <td>140000.00</td>\n",
              "      <td>140000.00</td>\n",
              "      <td>140000.00</td>\n",
              "      <td>1</td>\n",
              "    </tr>\n",
              "    <tr>\n",
              "      <th>1</th>\n",
              "      <td>,</td>\n",
              "      <td>40000.00</td>\n",
              "      <td>40000.00</td>\n",
              "      <td>40000.00</td>\n",
              "      <td>1</td>\n",
              "    </tr>\n",
              "    <tr>\n",
              "      <th>2</th>\n",
              "      <td>AV Technical Leader - Support</td>\n",
              "      <td>80300.00</td>\n",
              "      <td>80300.00</td>\n",
              "      <td>80300.00</td>\n",
              "      <td>1</td>\n",
              "    </tr>\n",
              "    <tr>\n",
              "      <th>3</th>\n",
              "      <td>Access Management Analyst</td>\n",
              "      <td>52400.00</td>\n",
              "      <td>52400.00</td>\n",
              "      <td>52400.00</td>\n",
              "      <td>1</td>\n",
              "    </tr>\n",
              "    <tr>\n",
              "      <th>4</th>\n",
              "      <td>Admin</td>\n",
              "      <td>35000.00</td>\n",
              "      <td>35000.00</td>\n",
              "      <td>35000.00</td>\n",
              "      <td>1</td>\n",
              "    </tr>\n",
              "    <tr>\n",
              "      <th>...</th>\n",
              "      <td>...</td>\n",
              "      <td>...</td>\n",
              "      <td>...</td>\n",
              "      <td>...</td>\n",
              "      <td>...</td>\n",
              "    </tr>\n",
              "    <tr>\n",
              "      <th>225</th>\n",
              "      <td>technical analyst</td>\n",
              "      <td>60000.00</td>\n",
              "      <td>60000.00</td>\n",
              "      <td>60000.00</td>\n",
              "      <td>1</td>\n",
              "    </tr>\n",
              "    <tr>\n",
              "      <th>226</th>\n",
              "      <td>tecnico</td>\n",
              "      <td>20000.00</td>\n",
              "      <td>20000.00</td>\n",
              "      <td>20000.00</td>\n",
              "      <td>1</td>\n",
              "    </tr>\n",
              "    <tr>\n",
              "      <th>227</th>\n",
              "      <td>todos los de arriba</td>\n",
              "      <td>180000.00</td>\n",
              "      <td>180000.00</td>\n",
              "      <td>180000.00</td>\n",
              "      <td>1</td>\n",
              "    </tr>\n",
              "    <tr>\n",
              "      <th>228</th>\n",
              "      <td>trabajo como desarrollador back, pero también ...</td>\n",
              "      <td>66714.38</td>\n",
              "      <td>66714.38</td>\n",
              "      <td>66714.38</td>\n",
              "      <td>1</td>\n",
              "    </tr>\n",
              "    <tr>\n",
              "      <th>229</th>\n",
              "      <td>técnico reparador</td>\n",
              "      <td>43500.00</td>\n",
              "      <td>43500.00</td>\n",
              "      <td>43500.00</td>\n",
              "      <td>1</td>\n",
              "    </tr>\n",
              "  </tbody>\n",
              "</table>\n",
              "<p>230 rows × 5 columns</p>\n",
              "</div>"
            ],
            "text/plain": [
              "                                             work_role  ... salary_monthly_BRUTO\n",
              "                                                        ...                count\n",
              "0                                   buyer / commercial  ...                    1\n",
              "1                                                    ,  ...                    1\n",
              "2                        AV Technical Leader - Support  ...                    1\n",
              "3                            Access Management Analyst  ...                    1\n",
              "4                                                Admin  ...                    1\n",
              "..                                                 ...  ...                  ...\n",
              "225                                  technical analyst  ...                    1\n",
              "226                                            tecnico  ...                    1\n",
              "227                                todos los de arriba  ...                    1\n",
              "228  trabajo como desarrollador back, pero también ...  ...                    1\n",
              "229                                  técnico reparador  ...                    1\n",
              "\n",
              "[230 rows x 5 columns]"
            ]
          },
          "metadata": {
            "tags": []
          },
          "execution_count": 313
        }
      ]
    },
    {
      "cell_type": "code",
      "metadata": {
        "colab": {
          "base_uri": "https://localhost:8080/",
          "height": 1000
        },
        "id": "eZx5wqMmMl-F",
        "outputId": "9404f291-0094-43e7-82e1-f28f53f4695f"
      },
      "source": [
        "#\n",
        "\n",
        "df_lang_clean_group_by_programming_language.sort_values(by=[('salary_monthly_BRUTO' , 'count')],ascending = False)[:30]\n",
        "\n",
        "\n"
      ],
      "execution_count": null,
      "outputs": [
        {
          "output_type": "execute_result",
          "data": {
            "text/html": [
              "<div>\n",
              "<style scoped>\n",
              "    .dataframe tbody tr th:only-of-type {\n",
              "        vertical-align: middle;\n",
              "    }\n",
              "\n",
              "    .dataframe tbody tr th {\n",
              "        vertical-align: top;\n",
              "    }\n",
              "\n",
              "    .dataframe thead tr th {\n",
              "        text-align: left;\n",
              "    }\n",
              "</style>\n",
              "<table border=\"1\" class=\"dataframe\">\n",
              "  <thead>\n",
              "    <tr>\n",
              "      <th></th>\n",
              "      <th>work_role</th>\n",
              "      <th colspan=\"4\" halign=\"left\">salary_monthly_BRUTO</th>\n",
              "    </tr>\n",
              "    <tr>\n",
              "      <th></th>\n",
              "      <th></th>\n",
              "      <th>mean</th>\n",
              "      <th>min</th>\n",
              "      <th>max</th>\n",
              "      <th>count</th>\n",
              "    </tr>\n",
              "  </thead>\n",
              "  <tbody>\n",
              "    <tr>\n",
              "      <th>59</th>\n",
              "      <td>Developer</td>\n",
              "      <td>126777.195344</td>\n",
              "      <td>17000.0</td>\n",
              "      <td>2180000.0</td>\n",
              "      <td>2165</td>\n",
              "    </tr>\n",
              "    <tr>\n",
              "      <th>180</th>\n",
              "      <td>SysAdmin / DevOps / SRE</td>\n",
              "      <td>131178.631862</td>\n",
              "      <td>25000.0</td>\n",
              "      <td>1680000.0</td>\n",
              "      <td>596</td>\n",
              "    </tr>\n",
              "    <tr>\n",
              "      <th>188</th>\n",
              "      <td>Technical Leader</td>\n",
              "      <td>198400.344059</td>\n",
              "      <td>17000.0</td>\n",
              "      <td>2080000.0</td>\n",
              "      <td>372</td>\n",
              "    </tr>\n",
              "    <tr>\n",
              "      <th>136</th>\n",
              "      <td>QA / Tester</td>\n",
              "      <td>105379.597545</td>\n",
              "      <td>25000.0</td>\n",
              "      <td>1033000.0</td>\n",
              "      <td>220</td>\n",
              "    </tr>\n",
              "    <tr>\n",
              "      <th>26</th>\n",
              "      <td>Architect</td>\n",
              "      <td>198119.072727</td>\n",
              "      <td>44480.0</td>\n",
              "      <td>1439100.0</td>\n",
              "      <td>165</td>\n",
              "    </tr>\n",
              "    <tr>\n",
              "      <th>80</th>\n",
              "      <td>HelpDesk</td>\n",
              "      <td>63173.352789</td>\n",
              "      <td>14000.0</td>\n",
              "      <td>508252.0</td>\n",
              "      <td>147</td>\n",
              "    </tr>\n",
              "    <tr>\n",
              "      <th>50</th>\n",
              "      <td>Data Scientist / Data Engineer</td>\n",
              "      <td>163330.423077</td>\n",
              "      <td>23000.0</td>\n",
              "      <td>1200000.0</td>\n",
              "      <td>130</td>\n",
              "    </tr>\n",
              "    <tr>\n",
              "      <th>32</th>\n",
              "      <td>BI Analyst / Data Analyst</td>\n",
              "      <td>95615.682823</td>\n",
              "      <td>21700.0</td>\n",
              "      <td>271802.0</td>\n",
              "      <td>124</td>\n",
              "    </tr>\n",
              "    <tr>\n",
              "      <th>42</th>\n",
              "      <td>Consultant</td>\n",
              "      <td>100868.535254</td>\n",
              "      <td>25000.0</td>\n",
              "      <td>700000.0</td>\n",
              "      <td>118</td>\n",
              "    </tr>\n",
              "    <tr>\n",
              "      <th>119</th>\n",
              "      <td>Networking</td>\n",
              "      <td>100947.698611</td>\n",
              "      <td>30000.0</td>\n",
              "      <td>1200000.0</td>\n",
              "      <td>108</td>\n",
              "    </tr>\n",
              "    <tr>\n",
              "      <th>35</th>\n",
              "      <td>Business Analyst</td>\n",
              "      <td>99971.726915</td>\n",
              "      <td>40000.0</td>\n",
              "      <td>250000.0</td>\n",
              "      <td>94</td>\n",
              "    </tr>\n",
              "    <tr>\n",
              "      <th>201</th>\n",
              "      <td>UX</td>\n",
              "      <td>98306.304348</td>\n",
              "      <td>35000.0</td>\n",
              "      <td>392000.0</td>\n",
              "      <td>69</td>\n",
              "    </tr>\n",
              "    <tr>\n",
              "      <th>93</th>\n",
              "      <td>Infosec</td>\n",
              "      <td>125442.611940</td>\n",
              "      <td>43930.0</td>\n",
              "      <td>312100.0</td>\n",
              "      <td>67</td>\n",
              "    </tr>\n",
              "    <tr>\n",
              "      <th>46</th>\n",
              "      <td>DBA</td>\n",
              "      <td>164170.020000</td>\n",
              "      <td>26000.0</td>\n",
              "      <td>1250000.0</td>\n",
              "      <td>50</td>\n",
              "    </tr>\n",
              "    <tr>\n",
              "      <th>55</th>\n",
              "      <td>Designer</td>\n",
              "      <td>65941.540541</td>\n",
              "      <td>13300.0</td>\n",
              "      <td>190000.0</td>\n",
              "      <td>37</td>\n",
              "    </tr>\n",
              "    <tr>\n",
              "      <th>143</th>\n",
              "      <td>Recruiter / HR</td>\n",
              "      <td>98555.718750</td>\n",
              "      <td>35900.0</td>\n",
              "      <td>200000.0</td>\n",
              "      <td>32</td>\n",
              "    </tr>\n",
              "    <tr>\n",
              "      <th>112</th>\n",
              "      <td>Middleware</td>\n",
              "      <td>117280.952381</td>\n",
              "      <td>36000.0</td>\n",
              "      <td>210000.0</td>\n",
              "      <td>21</td>\n",
              "    </tr>\n",
              "    <tr>\n",
              "      <th>148</th>\n",
              "      <td>Sales / Pre-Sales</td>\n",
              "      <td>176421.052632</td>\n",
              "      <td>33000.0</td>\n",
              "      <td>1000000.0</td>\n",
              "      <td>19</td>\n",
              "    </tr>\n",
              "    <tr>\n",
              "      <th>178</th>\n",
              "      <td>Storage / Backup</td>\n",
              "      <td>96222.222222</td>\n",
              "      <td>57000.0</td>\n",
              "      <td>145000.0</td>\n",
              "      <td>9</td>\n",
              "    </tr>\n",
              "    <tr>\n",
              "      <th>116</th>\n",
              "      <td>NLP</td>\n",
              "      <td>100233.000000</td>\n",
              "      <td>77000.0</td>\n",
              "      <td>118337.0</td>\n",
              "      <td>6</td>\n",
              "    </tr>\n",
              "    <tr>\n",
              "      <th>167</th>\n",
              "      <td>Software Engineer</td>\n",
              "      <td>171000.000000</td>\n",
              "      <td>122000.0</td>\n",
              "      <td>250000.0</td>\n",
              "      <td>5</td>\n",
              "    </tr>\n",
              "    <tr>\n",
              "      <th>9</th>\n",
              "      <td>Analista Funcional</td>\n",
              "      <td>75525.000000</td>\n",
              "      <td>45000.0</td>\n",
              "      <td>101000.0</td>\n",
              "      <td>4</td>\n",
              "    </tr>\n",
              "    <tr>\n",
              "      <th>71</th>\n",
              "      <td>Functional Analyst</td>\n",
              "      <td>99333.333333</td>\n",
              "      <td>60000.0</td>\n",
              "      <td>133000.0</td>\n",
              "      <td>3</td>\n",
              "    </tr>\n",
              "    <tr>\n",
              "      <th>56</th>\n",
              "      <td>DevOps</td>\n",
              "      <td>195666.666667</td>\n",
              "      <td>85000.0</td>\n",
              "      <td>325000.0</td>\n",
              "      <td>3</td>\n",
              "    </tr>\n",
              "    <tr>\n",
              "      <th>40</th>\n",
              "      <td>Cloud Engineer</td>\n",
              "      <td>107500.000000</td>\n",
              "      <td>100000.0</td>\n",
              "      <td>115000.0</td>\n",
              "      <td>2</td>\n",
              "    </tr>\n",
              "    <tr>\n",
              "      <th>70</th>\n",
              "      <td>Funcional</td>\n",
              "      <td>65500.000000</td>\n",
              "      <td>55000.0</td>\n",
              "      <td>76000.0</td>\n",
              "      <td>2</td>\n",
              "    </tr>\n",
              "    <tr>\n",
              "      <th>34</th>\n",
              "      <td>Blockchain Team</td>\n",
              "      <td>137000.000000</td>\n",
              "      <td>137000.0</td>\n",
              "      <td>137000.0</td>\n",
              "      <td>2</td>\n",
              "    </tr>\n",
              "    <tr>\n",
              "      <th>17</th>\n",
              "      <td>Analista funcional</td>\n",
              "      <td>64500.000000</td>\n",
              "      <td>45000.0</td>\n",
              "      <td>84000.0</td>\n",
              "      <td>2</td>\n",
              "    </tr>\n",
              "    <tr>\n",
              "      <th>29</th>\n",
              "      <td>Auditor</td>\n",
              "      <td>87500.000000</td>\n",
              "      <td>65000.0</td>\n",
              "      <td>110000.0</td>\n",
              "      <td>2</td>\n",
              "    </tr>\n",
              "    <tr>\n",
              "      <th>169</th>\n",
              "      <td>Software engineer</td>\n",
              "      <td>93800.000000</td>\n",
              "      <td>75000.0</td>\n",
              "      <td>112600.0</td>\n",
              "      <td>2</td>\n",
              "    </tr>\n",
              "  </tbody>\n",
              "</table>\n",
              "</div>"
            ],
            "text/plain": [
              "                          work_role salary_monthly_BRUTO  ...                 \n",
              "                                                    mean  ...        max count\n",
              "59                        Developer        126777.195344  ...  2180000.0  2165\n",
              "180         SysAdmin / DevOps / SRE        131178.631862  ...  1680000.0   596\n",
              "188                Technical Leader        198400.344059  ...  2080000.0   372\n",
              "136                     QA / Tester        105379.597545  ...  1033000.0   220\n",
              "26                        Architect        198119.072727  ...  1439100.0   165\n",
              "80                         HelpDesk         63173.352789  ...   508252.0   147\n",
              "50   Data Scientist / Data Engineer        163330.423077  ...  1200000.0   130\n",
              "32        BI Analyst / Data Analyst         95615.682823  ...   271802.0   124\n",
              "42                       Consultant        100868.535254  ...   700000.0   118\n",
              "119                      Networking        100947.698611  ...  1200000.0   108\n",
              "35                 Business Analyst         99971.726915  ...   250000.0    94\n",
              "201                              UX         98306.304348  ...   392000.0    69\n",
              "93                          Infosec        125442.611940  ...   312100.0    67\n",
              "46                              DBA        164170.020000  ...  1250000.0    50\n",
              "55                         Designer         65941.540541  ...   190000.0    37\n",
              "143                  Recruiter / HR         98555.718750  ...   200000.0    32\n",
              "112                      Middleware        117280.952381  ...   210000.0    21\n",
              "148               Sales / Pre-Sales        176421.052632  ...  1000000.0    19\n",
              "178                Storage / Backup         96222.222222  ...   145000.0     9\n",
              "116                             NLP        100233.000000  ...   118337.0     6\n",
              "167               Software Engineer        171000.000000  ...   250000.0     5\n",
              "9                Analista Funcional         75525.000000  ...   101000.0     4\n",
              "71               Functional Analyst         99333.333333  ...   133000.0     3\n",
              "56                           DevOps        195666.666667  ...   325000.0     3\n",
              "40                   Cloud Engineer        107500.000000  ...   115000.0     2\n",
              "70                        Funcional         65500.000000  ...    76000.0     2\n",
              "34                  Blockchain Team        137000.000000  ...   137000.0     2\n",
              "17               Analista funcional         64500.000000  ...    84000.0     2\n",
              "29                          Auditor         87500.000000  ...   110000.0     2\n",
              "169               Software engineer         93800.000000  ...   112600.0     2\n",
              "\n",
              "[30 rows x 5 columns]"
            ]
          },
          "metadata": {
            "tags": []
          },
          "execution_count": 314
        }
      ]
    },
    {
      "cell_type": "code",
      "metadata": {
        "id": "6dqTEr7cZgvl"
      },
      "source": [
        "# complete here if you want to include more columns\n",
        "relevant_columns = ['tools_programming_languages', 'salary_monthly_NETO' ,'salary_monthly_BRUTO', 'work_role']"
      ],
      "execution_count": null,
      "outputs": []
    },
    {
      "cell_type": "markdown",
      "metadata": {
        "id": "OoGgzMvuEocM"
      },
      "source": [
        "### Conteo de frecuencias de los lenguajes de programación\n",
        "\n",
        "La columna que contiene información sobre los lenguajes de programación utilizados es `tools_programming_languages`. Sus valores son strings con los lenguajes seleccionados separados por comas.\n",
        "\n"
      ]
    },
    {
      "cell_type": "code",
      "metadata": {
        "colab": {
          "base_uri": "https://localhost:8080/"
        },
        "id": "J7AB2Ty8SvNl",
        "outputId": "19e73c93-530a-45f9-d8e7-9e2c00cc77cb"
      },
      "source": [
        "df.tools_programming_languages[:3]"
      ],
      "execution_count": null,
      "outputs": [
        {
          "output_type": "execute_result",
          "data": {
            "text/plain": [
              "1                             HTML, Javascript, Python\n",
              "3    Bash/Shell, C, CSS, HTML, Java, Javascript, PH...\n",
              "4               CSS, HTML, Javascript, SQL, TypeScript\n",
              "Name: tools_programming_languages, dtype: object"
            ]
          },
          "metadata": {
            "tags": []
          },
          "execution_count": 316
        }
      ]
    },
    {
      "cell_type": "markdown",
      "metadata": {
        "id": "l8bYmvMhSroH"
      },
      "source": [
        "Las siguientes celdas de código separan estos lenguajes de programación y cuentan la frecuencia con la que aparecen.\n",
        "\n",
        "No es necesario entender este código en profundidad, aunque sí es un buen ejercicio."
      ]
    },
    {
      "cell_type": "markdown",
      "metadata": {
        "id": "FQnhi-mURmnL"
      },
      "source": [
        "Filtrando por edad:"
      ]
    },
    {
      "cell_type": "code",
      "metadata": {
        "id": "tZQ1CoCkRiG7"
      },
      "source": [
        "rows_to_delete = df[(df.profile_age < 19) | (df.profile_age > 70 ) ].index\n",
        "df_age_cleaned = df.drop(rows_to_delete)"
      ],
      "execution_count": null,
      "outputs": []
    },
    {
      "cell_type": "markdown",
      "metadata": {
        "id": "tNiE-0aTRRNa"
      },
      "source": [
        "Conteo de frecuencias de los lenguajes de programación\n",
        "\n",
        "La columna que contiene información sobre los lenguajes de programación utilizados es tools_programming_languages. Sus valores son strings con los lenguajes seleccionados separados por comas.\n",
        "\n",
        "Las siguientes celdas de código separan estos lenguajes de programación y cuentan la frecuencia con la que aparecen.\n",
        "\n",
        "No es necesario entender este código en profundidad, aunque sí es un buen ejercicio.\n"
      ]
    },
    {
      "cell_type": "code",
      "metadata": {
        "id": "PAQ81x3iUP_N"
      },
      "source": [
        "# Convert the comma-separated string of languages to a list of string.\n",
        "# Remove 'ninguno de los anteriores' option, spaces and training commas.\n",
        "def split_languages(languages_str):\n",
        "  if not isinstance(languages_str, str):\n",
        "    return []\n",
        "  # Remove 'other' option\n",
        "  languages_str = languages_str.lower()\\\n",
        "    .replace('ninguno de los anteriores', '')\n",
        "  # Split string into list of items\n",
        "  # Remove spaces and commas for each item\n",
        "  return [lang.strip().replace(',', '')\n",
        "          for lang in languages_str.split()]\n",
        "\n",
        "# Create a new column with the list of languages\n",
        "df.loc[:, 'cured_programming_languages'] = df.tools_programming_languages\\\n",
        "    .apply(split_languages)\n",
        "if 'cured_programming_languages' not in relevant_columns:\n",
        "    relevant_columns.append('cured_programming_languages') \n",
        "\n"
      ],
      "execution_count": null,
      "outputs": []
    },
    {
      "cell_type": "code",
      "metadata": {
        "id": "jhv-A4bdMl-M"
      },
      "source": [
        "# Duplicate each row of df for each programming language\n",
        "# mentioned in the response.\n",
        "# We only include in df_lang the columns we are going to analyze later, so we\n",
        "# don't duplicate innecesary information.\n",
        "\n",
        "def duplicate_rows(df, relevant_columns):\n",
        "\n",
        "    df_lang = df.cured_programming_languages\\\n",
        "        .apply(pd.Series).stack()\\\n",
        "        .reset_index(level=-1, drop=True).to_frame()\\\n",
        "        .join(df[relevant_columns])\\\n",
        "        .rename(columns={0: 'programming_language'})\n",
        "    # Horrible programming style! But a lot of data science code can be written with\n",
        "    # as concatenations of functions (pipelines), and there's no elegant way of\n",
        "    # doing that on Python.\n",
        "    \n",
        "    return df_lang\n"
      ],
      "execution_count": null,
      "outputs": []
    },
    {
      "cell_type": "code",
      "metadata": {
        "colab": {
          "base_uri": "https://localhost:8080/",
          "height": 296
        },
        "id": "b1QZxSQ8Ml-M",
        "outputId": "d45d8b80-005d-4b79-e4bc-635c5a835af7"
      },
      "source": [
        "df_lang = duplicate_rows(df, relevant_columns)\n",
        "df_lang[:5]"
      ],
      "execution_count": null,
      "outputs": [
        {
          "output_type": "execute_result",
          "data": {
            "text/html": [
              "<div>\n",
              "<style scoped>\n",
              "    .dataframe tbody tr th:only-of-type {\n",
              "        vertical-align: middle;\n",
              "    }\n",
              "\n",
              "    .dataframe tbody tr th {\n",
              "        vertical-align: top;\n",
              "    }\n",
              "\n",
              "    .dataframe thead th {\n",
              "        text-align: right;\n",
              "    }\n",
              "</style>\n",
              "<table border=\"1\" class=\"dataframe\">\n",
              "  <thead>\n",
              "    <tr style=\"text-align: right;\">\n",
              "      <th></th>\n",
              "      <th>programming_language</th>\n",
              "      <th>tools_programming_languages</th>\n",
              "      <th>salary_monthly_NETO</th>\n",
              "      <th>salary_monthly_BRUTO</th>\n",
              "      <th>work_role</th>\n",
              "      <th>cured_programming_languages</th>\n",
              "    </tr>\n",
              "  </thead>\n",
              "  <tbody>\n",
              "    <tr>\n",
              "      <th>1</th>\n",
              "      <td>html</td>\n",
              "      <td>HTML, Javascript, Python</td>\n",
              "      <td>63000.0</td>\n",
              "      <td>79000.0</td>\n",
              "      <td>Developer</td>\n",
              "      <td>[html, javascript, python]</td>\n",
              "    </tr>\n",
              "    <tr>\n",
              "      <th>1</th>\n",
              "      <td>javascript</td>\n",
              "      <td>HTML, Javascript, Python</td>\n",
              "      <td>63000.0</td>\n",
              "      <td>79000.0</td>\n",
              "      <td>Developer</td>\n",
              "      <td>[html, javascript, python]</td>\n",
              "    </tr>\n",
              "    <tr>\n",
              "      <th>1</th>\n",
              "      <td>python</td>\n",
              "      <td>HTML, Javascript, Python</td>\n",
              "      <td>63000.0</td>\n",
              "      <td>79000.0</td>\n",
              "      <td>Developer</td>\n",
              "      <td>[html, javascript, python]</td>\n",
              "    </tr>\n",
              "    <tr>\n",
              "      <th>3</th>\n",
              "      <td>bash/shell</td>\n",
              "      <td>Bash/Shell, C, CSS, HTML, Java, Javascript, PH...</td>\n",
              "      <td>102000.0</td>\n",
              "      <td>130000.0</td>\n",
              "      <td>SysAdmin / DevOps / SRE</td>\n",
              "      <td>[bash/shell, c, css, html, java, javascript, p...</td>\n",
              "    </tr>\n",
              "    <tr>\n",
              "      <th>3</th>\n",
              "      <td>c</td>\n",
              "      <td>Bash/Shell, C, CSS, HTML, Java, Javascript, PH...</td>\n",
              "      <td>102000.0</td>\n",
              "      <td>130000.0</td>\n",
              "      <td>SysAdmin / DevOps / SRE</td>\n",
              "      <td>[bash/shell, c, css, html, java, javascript, p...</td>\n",
              "    </tr>\n",
              "  </tbody>\n",
              "</table>\n",
              "</div>"
            ],
            "text/plain": [
              "  programming_language  ...                        cured_programming_languages\n",
              "1                 html  ...                         [html, javascript, python]\n",
              "1           javascript  ...                         [html, javascript, python]\n",
              "1               python  ...                         [html, javascript, python]\n",
              "3           bash/shell  ...  [bash/shell, c, css, html, java, javascript, p...\n",
              "3                    c  ...  [bash/shell, c, css, html, java, javascript, p...\n",
              "\n",
              "[5 rows x 6 columns]"
            ]
          },
          "metadata": {
            "tags": []
          },
          "execution_count": 320
        }
      ]
    },
    {
      "cell_type": "code",
      "metadata": {
        "colab": {
          "base_uri": "https://localhost:8080/",
          "height": 296
        },
        "id": "w2DEe_QjMl-N",
        "outputId": "1d58d208-51dc-4915-8641-5df772ef7fe7"
      },
      "source": [
        "cloumns_part_2 = relevant_columns + ['profile_studies_level_state','profile_studies_level', 'profile_years_experience', 'work_years_in_company' , 'work_years_in_current_position' , 'work_people_in_charge_of' , 'profile_gender' , 'salary_percentage_inflation_adjustment_2020' ]\n",
        "\n",
        "df_lang_part_2 = duplicate_rows(df, cloumns_part_2)\n",
        "df_lang_part_2[:5]"
      ],
      "execution_count": null,
      "outputs": [
        {
          "output_type": "execute_result",
          "data": {
            "text/html": [
              "<div>\n",
              "<style scoped>\n",
              "    .dataframe tbody tr th:only-of-type {\n",
              "        vertical-align: middle;\n",
              "    }\n",
              "\n",
              "    .dataframe tbody tr th {\n",
              "        vertical-align: top;\n",
              "    }\n",
              "\n",
              "    .dataframe thead th {\n",
              "        text-align: right;\n",
              "    }\n",
              "</style>\n",
              "<table border=\"1\" class=\"dataframe\">\n",
              "  <thead>\n",
              "    <tr style=\"text-align: right;\">\n",
              "      <th></th>\n",
              "      <th>programming_language</th>\n",
              "      <th>tools_programming_languages</th>\n",
              "      <th>salary_monthly_NETO</th>\n",
              "      <th>salary_monthly_BRUTO</th>\n",
              "      <th>work_role</th>\n",
              "      <th>cured_programming_languages</th>\n",
              "      <th>profile_studies_level_state</th>\n",
              "      <th>profile_studies_level</th>\n",
              "      <th>profile_years_experience</th>\n",
              "      <th>work_years_in_company</th>\n",
              "      <th>work_years_in_current_position</th>\n",
              "      <th>work_people_in_charge_of</th>\n",
              "      <th>profile_gender</th>\n",
              "      <th>salary_percentage_inflation_adjustment_2020</th>\n",
              "    </tr>\n",
              "  </thead>\n",
              "  <tbody>\n",
              "    <tr>\n",
              "      <th>1</th>\n",
              "      <td>html</td>\n",
              "      <td>HTML, Javascript, Python</td>\n",
              "      <td>63000.0</td>\n",
              "      <td>79000.0</td>\n",
              "      <td>Developer</td>\n",
              "      <td>[html, javascript, python]</td>\n",
              "      <td>En curso</td>\n",
              "      <td>Universitario</td>\n",
              "      <td>5.0</td>\n",
              "      <td>2.0</td>\n",
              "      <td>2.0</td>\n",
              "      <td>4</td>\n",
              "      <td>Hombre</td>\n",
              "      <td>10.0</td>\n",
              "    </tr>\n",
              "    <tr>\n",
              "      <th>1</th>\n",
              "      <td>javascript</td>\n",
              "      <td>HTML, Javascript, Python</td>\n",
              "      <td>63000.0</td>\n",
              "      <td>79000.0</td>\n",
              "      <td>Developer</td>\n",
              "      <td>[html, javascript, python]</td>\n",
              "      <td>En curso</td>\n",
              "      <td>Universitario</td>\n",
              "      <td>5.0</td>\n",
              "      <td>2.0</td>\n",
              "      <td>2.0</td>\n",
              "      <td>4</td>\n",
              "      <td>Hombre</td>\n",
              "      <td>10.0</td>\n",
              "    </tr>\n",
              "    <tr>\n",
              "      <th>1</th>\n",
              "      <td>python</td>\n",
              "      <td>HTML, Javascript, Python</td>\n",
              "      <td>63000.0</td>\n",
              "      <td>79000.0</td>\n",
              "      <td>Developer</td>\n",
              "      <td>[html, javascript, python]</td>\n",
              "      <td>En curso</td>\n",
              "      <td>Universitario</td>\n",
              "      <td>5.0</td>\n",
              "      <td>2.0</td>\n",
              "      <td>2.0</td>\n",
              "      <td>4</td>\n",
              "      <td>Hombre</td>\n",
              "      <td>10.0</td>\n",
              "    </tr>\n",
              "    <tr>\n",
              "      <th>3</th>\n",
              "      <td>bash/shell</td>\n",
              "      <td>Bash/Shell, C, CSS, HTML, Java, Javascript, PH...</td>\n",
              "      <td>102000.0</td>\n",
              "      <td>130000.0</td>\n",
              "      <td>SysAdmin / DevOps / SRE</td>\n",
              "      <td>[bash/shell, c, css, html, java, javascript, p...</td>\n",
              "      <td>Incompleto</td>\n",
              "      <td>Posgrado</td>\n",
              "      <td>15.0</td>\n",
              "      <td>15.0</td>\n",
              "      <td>13.0</td>\n",
              "      <td>5</td>\n",
              "      <td>Hombre</td>\n",
              "      <td>0.0</td>\n",
              "    </tr>\n",
              "    <tr>\n",
              "      <th>3</th>\n",
              "      <td>c</td>\n",
              "      <td>Bash/Shell, C, CSS, HTML, Java, Javascript, PH...</td>\n",
              "      <td>102000.0</td>\n",
              "      <td>130000.0</td>\n",
              "      <td>SysAdmin / DevOps / SRE</td>\n",
              "      <td>[bash/shell, c, css, html, java, javascript, p...</td>\n",
              "      <td>Incompleto</td>\n",
              "      <td>Posgrado</td>\n",
              "      <td>15.0</td>\n",
              "      <td>15.0</td>\n",
              "      <td>13.0</td>\n",
              "      <td>5</td>\n",
              "      <td>Hombre</td>\n",
              "      <td>0.0</td>\n",
              "    </tr>\n",
              "  </tbody>\n",
              "</table>\n",
              "</div>"
            ],
            "text/plain": [
              "  programming_language  ... salary_percentage_inflation_adjustment_2020\n",
              "1                 html  ...                                        10.0\n",
              "1           javascript  ...                                        10.0\n",
              "1               python  ...                                        10.0\n",
              "3           bash/shell  ...                                         0.0\n",
              "3                    c  ...                                         0.0\n",
              "\n",
              "[5 rows x 14 columns]"
            ]
          },
          "metadata": {
            "tags": []
          },
          "execution_count": 321
        }
      ]
    },
    {
      "cell_type": "markdown",
      "metadata": {
        "id": "qm8NUg-7UEue"
      },
      "source": [
        "En la columna `programming_language` se encuentra cada lenguaje por separado. Notar que si una respuesta contenía 3 lenguajes, como `\"HTML, Javascript, Python\"`, la fila ha sido replicada 3 veces. Por ello, hay tres filas con índice 1."
      ]
    },
    {
      "cell_type": "code",
      "metadata": {
        "colab": {
          "base_uri": "https://localhost:8080/",
          "height": 363
        },
        "id": "lNPb4tTvWCwv",
        "outputId": "a819c85c-34cf-4b22-9682-65d1cc104ad0"
      },
      "source": [
        "language_count = df_lang.programming_language.value_counts()\\\n",
        "    .reset_index()\\\n",
        "    .rename(columns={'index': 'language', 'programming_language': 'frequency'})\n",
        "language_count[:10]"
      ],
      "execution_count": null,
      "outputs": [
        {
          "output_type": "execute_result",
          "data": {
            "text/html": [
              "<div>\n",
              "<style scoped>\n",
              "    .dataframe tbody tr th:only-of-type {\n",
              "        vertical-align: middle;\n",
              "    }\n",
              "\n",
              "    .dataframe tbody tr th {\n",
              "        vertical-align: top;\n",
              "    }\n",
              "\n",
              "    .dataframe thead th {\n",
              "        text-align: right;\n",
              "    }\n",
              "</style>\n",
              "<table border=\"1\" class=\"dataframe\">\n",
              "  <thead>\n",
              "    <tr style=\"text-align: right;\">\n",
              "      <th></th>\n",
              "      <th>language</th>\n",
              "      <th>frequency</th>\n",
              "    </tr>\n",
              "  </thead>\n",
              "  <tbody>\n",
              "    <tr>\n",
              "      <th>0</th>\n",
              "      <td>javascript</td>\n",
              "      <td>2125</td>\n",
              "    </tr>\n",
              "    <tr>\n",
              "      <th>1</th>\n",
              "      <td>sql</td>\n",
              "      <td>1787</td>\n",
              "    </tr>\n",
              "    <tr>\n",
              "      <th>2</th>\n",
              "      <td>html</td>\n",
              "      <td>1549</td>\n",
              "    </tr>\n",
              "    <tr>\n",
              "      <th>3</th>\n",
              "      <td>python</td>\n",
              "      <td>1237</td>\n",
              "    </tr>\n",
              "    <tr>\n",
              "      <th>4</th>\n",
              "      <td>java</td>\n",
              "      <td>1198</td>\n",
              "    </tr>\n",
              "    <tr>\n",
              "      <th>5</th>\n",
              "      <td>css</td>\n",
              "      <td>1069</td>\n",
              "    </tr>\n",
              "    <tr>\n",
              "      <th>6</th>\n",
              "      <td>bash/shell</td>\n",
              "      <td>861</td>\n",
              "    </tr>\n",
              "    <tr>\n",
              "      <th>7</th>\n",
              "      <td>php</td>\n",
              "      <td>690</td>\n",
              "    </tr>\n",
              "    <tr>\n",
              "      <th>8</th>\n",
              "      <td>typescript</td>\n",
              "      <td>688</td>\n",
              "    </tr>\n",
              "    <tr>\n",
              "      <th>9</th>\n",
              "      <td>.net</td>\n",
              "      <td>672</td>\n",
              "    </tr>\n",
              "  </tbody>\n",
              "</table>\n",
              "</div>"
            ],
            "text/plain": [
              "     language  frequency\n",
              "0  javascript       2125\n",
              "1         sql       1787\n",
              "2        html       1549\n",
              "3      python       1237\n",
              "4        java       1198\n",
              "5         css       1069\n",
              "6  bash/shell        861\n",
              "7         php        690\n",
              "8  typescript        688\n",
              "9        .net        672"
            ]
          },
          "metadata": {
            "tags": []
          },
          "execution_count": 322
        }
      ]
    },
    {
      "cell_type": "code",
      "metadata": {
        "colab": {
          "base_uri": "https://localhost:8080/"
        },
        "id": "m9Q8Zdj-Ml-R",
        "outputId": "037e8e27-e741-4cef-8528-a034e1395f19"
      },
      "source": [
        "total_lenguajes = language_count['frequency'].sum()\n",
        "\n",
        "\n",
        "language_count['porc'] = language_count['frequency'] / total_lenguajes\n",
        "language_count[:17]['porc'].sum().round(2)"
      ],
      "execution_count": null,
      "outputs": [
        {
          "output_type": "execute_result",
          "data": {
            "text/plain": [
              "0.93"
            ]
          },
          "metadata": {
            "tags": []
          },
          "execution_count": 323
        }
      ]
    },
    {
      "cell_type": "markdown",
      "metadata": {
        "id": "nThbJ1KeUgDo"
      },
      "source": [
        "## Filtrado de lenguajes relevantes\n",
        "\n",
        "El siguiente código permite seleccionar sólo las filas donde el valor de la columna `programming_language` se encuentre en la lista `interesting_languages`."
      ]
    },
    {
      "cell_type": "code",
      "metadata": {
        "colab": {
          "base_uri": "https://localhost:8080/"
        },
        "id": "uW4eTNLWMl-S",
        "outputId": "6fb7a531-be87-4287-b7fc-6c4772ae7049"
      },
      "source": [
        "# Buscamos los lenguajes que formen el 90% de las muestras\n",
        "\n",
        "\n",
        "index = 1 \n",
        "porc_target = 0.91\n",
        "while language_count[:index]['porc'].sum()  <= porc_target:\n",
        "    print(\" Indice :\" , index , \" Total %\" ,  language_count[:index]['porc'].sum() , end = \"\")\n",
        "    index = index + 1\n",
        "\n"
      ],
      "execution_count": null,
      "outputs": [
        {
          "output_type": "stream",
          "text": [
            " Indice : 1  Total % 0.14420466883821934 Indice : 2  Total % 0.26547231270358307 Indice : 3  Total % 0.37058903365906626 Indice : 4  Total % 0.45453311617806735 Indice : 5  Total % 0.5358306188925082 Indice : 6  Total % 0.6083740499457112 Indice : 7  Total % 0.6668023887079262 Indice : 8  Total % 0.7136264929424538 Indice : 9  Total % 0.760314875135722 Indice : 10  Total % 0.8059174809989142 Indice : 11  Total % 0.8478555917480999 Indice : 12  Total % 0.865228013029316 Indice : 13  Total % 0.879071661237785 Indice : 14  Total % 0.8927117263843648 Indice : 15  Total % 0.9055374592833876"
          ],
          "name": "stdout"
        }
      ]
    },
    {
      "cell_type": "markdown",
      "metadata": {
        "id": "ZOiaLtqwNfq4"
      },
      "source": [
        "\n",
        "Indicar que se toman los lenguajes más representativos en base al punto de inflexión que se observa en el gráfico\n",
        "\n",
        " Hallazgo interesante: Tanto visualmente como porcentualmente, se llega a la misma \n",
        "conclusión que es tomar los 15 lenguajes más  frecuentes."
      ]
    },
    {
      "cell_type": "code",
      "metadata": {
        "id": "kniJL4QFMl-T",
        "colab": {
          "base_uri": "https://localhost:8080/",
          "height": 461
        },
        "outputId": "ccffe103-70b4-45bc-f61d-bd140716bd07"
      },
      "source": [
        "plt.figure(figsize=(20, 15))\n",
        "seaborn.boxplot(data=language_count[:index], y=language_count.language[:index], x=language_count.frequency,\n",
        "                 color='orangered')\n",
        "plt.ticklabel_format(style='plain', axis='x')"
      ],
      "execution_count": null,
      "outputs": [
        {
          "output_type": "display_data",
          "data": {
            "image/png": "[encoded data removed]",
            "text/plain": [
              "<Figure size 1440x1080 with 1 Axes>"
            ]
          },
          "metadata": {
            "tags": [],
            "needs_background": "light"
          }
        }
      ]
    },
    {
      "cell_type": "code",
      "metadata": {
        "colab": {
          "base_uri": "https://localhost:8080/",
          "height": 551
        },
        "id": "Rr0W92K8Ml-U",
        "outputId": "eca8ef6b-9ea2-4293-abdf-b7f1f0bd65fa"
      },
      "source": [
        "language_count[:index]"
      ],
      "execution_count": null,
      "outputs": [
        {
          "output_type": "execute_result",
          "data": {
            "text/html": [
              "<div>\n",
              "<style scoped>\n",
              "    .dataframe tbody tr th:only-of-type {\n",
              "        vertical-align: middle;\n",
              "    }\n",
              "\n",
              "    .dataframe tbody tr th {\n",
              "        vertical-align: top;\n",
              "    }\n",
              "\n",
              "    .dataframe thead th {\n",
              "        text-align: right;\n",
              "    }\n",
              "</style>\n",
              "<table border=\"1\" class=\"dataframe\">\n",
              "  <thead>\n",
              "    <tr style=\"text-align: right;\">\n",
              "      <th></th>\n",
              "      <th>language</th>\n",
              "      <th>frequency</th>\n",
              "      <th>porc</th>\n",
              "    </tr>\n",
              "  </thead>\n",
              "  <tbody>\n",
              "    <tr>\n",
              "      <th>0</th>\n",
              "      <td>javascript</td>\n",
              "      <td>2125</td>\n",
              "      <td>0.144205</td>\n",
              "    </tr>\n",
              "    <tr>\n",
              "      <th>1</th>\n",
              "      <td>sql</td>\n",
              "      <td>1787</td>\n",
              "      <td>0.121268</td>\n",
              "    </tr>\n",
              "    <tr>\n",
              "      <th>2</th>\n",
              "      <td>html</td>\n",
              "      <td>1549</td>\n",
              "      <td>0.105117</td>\n",
              "    </tr>\n",
              "    <tr>\n",
              "      <th>3</th>\n",
              "      <td>python</td>\n",
              "      <td>1237</td>\n",
              "      <td>0.083944</td>\n",
              "    </tr>\n",
              "    <tr>\n",
              "      <th>4</th>\n",
              "      <td>java</td>\n",
              "      <td>1198</td>\n",
              "      <td>0.081298</td>\n",
              "    </tr>\n",
              "    <tr>\n",
              "      <th>5</th>\n",
              "      <td>css</td>\n",
              "      <td>1069</td>\n",
              "      <td>0.072543</td>\n",
              "    </tr>\n",
              "    <tr>\n",
              "      <th>6</th>\n",
              "      <td>bash/shell</td>\n",
              "      <td>861</td>\n",
              "      <td>0.058428</td>\n",
              "    </tr>\n",
              "    <tr>\n",
              "      <th>7</th>\n",
              "      <td>php</td>\n",
              "      <td>690</td>\n",
              "      <td>0.046824</td>\n",
              "    </tr>\n",
              "    <tr>\n",
              "      <th>8</th>\n",
              "      <td>typescript</td>\n",
              "      <td>688</td>\n",
              "      <td>0.046688</td>\n",
              "    </tr>\n",
              "    <tr>\n",
              "      <th>9</th>\n",
              "      <td>.net</td>\n",
              "      <td>672</td>\n",
              "      <td>0.045603</td>\n",
              "    </tr>\n",
              "    <tr>\n",
              "      <th>10</th>\n",
              "      <td>c#</td>\n",
              "      <td>618</td>\n",
              "      <td>0.041938</td>\n",
              "    </tr>\n",
              "    <tr>\n",
              "      <th>11</th>\n",
              "      <td>go</td>\n",
              "      <td>256</td>\n",
              "      <td>0.017372</td>\n",
              "    </tr>\n",
              "    <tr>\n",
              "      <th>12</th>\n",
              "      <td>c++</td>\n",
              "      <td>204</td>\n",
              "      <td>0.013844</td>\n",
              "    </tr>\n",
              "    <tr>\n",
              "      <th>13</th>\n",
              "      <td>c</td>\n",
              "      <td>201</td>\n",
              "      <td>0.013640</td>\n",
              "    </tr>\n",
              "    <tr>\n",
              "      <th>14</th>\n",
              "      <td>vba</td>\n",
              "      <td>189</td>\n",
              "      <td>0.012826</td>\n",
              "    </tr>\n",
              "    <tr>\n",
              "      <th>15</th>\n",
              "      <td>kotlin</td>\n",
              "      <td>163</td>\n",
              "      <td>0.011061</td>\n",
              "    </tr>\n",
              "  </tbody>\n",
              "</table>\n",
              "</div>"
            ],
            "text/plain": [
              "      language  frequency      porc\n",
              "0   javascript       2125  0.144205\n",
              "1          sql       1787  0.121268\n",
              "2         html       1549  0.105117\n",
              "3       python       1237  0.083944\n",
              "4         java       1198  0.081298\n",
              "5          css       1069  0.072543\n",
              "6   bash/shell        861  0.058428\n",
              "7          php        690  0.046824\n",
              "8   typescript        688  0.046688\n",
              "9         .net        672  0.045603\n",
              "10          c#        618  0.041938\n",
              "11          go        256  0.017372\n",
              "12         c++        204  0.013844\n",
              "13           c        201  0.013640\n",
              "14         vba        189  0.012826\n",
              "15      kotlin        163  0.011061"
            ]
          },
          "metadata": {
            "tags": []
          },
          "execution_count": 326
        }
      ]
    },
    {
      "cell_type": "code",
      "metadata": {
        "colab": {
          "base_uri": "https://localhost:8080/"
        },
        "id": "eIeOcKSGMl-V",
        "outputId": "036fe978-66c8-43b5-f1ae-dccbc9eb00bd"
      },
      "source": [
        "interesting_languages  =language_count[:index]['language'].values\n",
        "interesting_languages"
      ],
      "execution_count": null,
      "outputs": [
        {
          "output_type": "execute_result",
          "data": {
            "text/plain": [
              "array(['javascript', 'sql', 'html', 'python', 'java', 'css', 'bash/shell',\n",
              "       'php', 'typescript', '.net', 'c#', 'go', 'c++', 'c', 'vba',\n",
              "       'kotlin'], dtype=object)"
            ]
          },
          "metadata": {
            "tags": []
          },
          "execution_count": 327
        }
      ]
    },
    {
      "cell_type": "code",
      "metadata": {
        "id": "DEpVptnLZUQU"
      },
      "source": [
        "# Filter out languages that we want to exclude\n",
        "# Complete here with your selected list.\n",
        "#interesting_languages = [\"python\"]\n",
        "\n",
        "def filter_intresting_languages(df_lang,intresting_languages):\n",
        "    \n",
        "    filtered_df_lang = df_lang[df_lang.programming_language.isin(interesting_languages)]\n",
        "\n",
        "    return filtered_df_lang"
      ],
      "execution_count": null,
      "outputs": []
    },
    {
      "cell_type": "code",
      "metadata": {
        "colab": {
          "base_uri": "https://localhost:8080/",
          "height": 296
        },
        "id": "L6gE4neHMl-X",
        "outputId": "700d9772-c164-4ef6-f948-8f6849371586"
      },
      "source": [
        "filtered_df_lang = filter_intresting_languages(df_lang,interesting_languages)\n",
        "filtered_df_lang[:5]\n"
      ],
      "execution_count": null,
      "outputs": [
        {
          "output_type": "execute_result",
          "data": {
            "text/html": [
              "<div>\n",
              "<style scoped>\n",
              "    .dataframe tbody tr th:only-of-type {\n",
              "        vertical-align: middle;\n",
              "    }\n",
              "\n",
              "    .dataframe tbody tr th {\n",
              "        vertical-align: top;\n",
              "    }\n",
              "\n",
              "    .dataframe thead th {\n",
              "        text-align: right;\n",
              "    }\n",
              "</style>\n",
              "<table border=\"1\" class=\"dataframe\">\n",
              "  <thead>\n",
              "    <tr style=\"text-align: right;\">\n",
              "      <th></th>\n",
              "      <th>programming_language</th>\n",
              "      <th>tools_programming_languages</th>\n",
              "      <th>salary_monthly_NETO</th>\n",
              "      <th>salary_monthly_BRUTO</th>\n",
              "      <th>work_role</th>\n",
              "      <th>cured_programming_languages</th>\n",
              "    </tr>\n",
              "  </thead>\n",
              "  <tbody>\n",
              "    <tr>\n",
              "      <th>1</th>\n",
              "      <td>html</td>\n",
              "      <td>HTML, Javascript, Python</td>\n",
              "      <td>63000.0</td>\n",
              "      <td>79000.0</td>\n",
              "      <td>Developer</td>\n",
              "      <td>[html, javascript, python]</td>\n",
              "    </tr>\n",
              "    <tr>\n",
              "      <th>1</th>\n",
              "      <td>javascript</td>\n",
              "      <td>HTML, Javascript, Python</td>\n",
              "      <td>63000.0</td>\n",
              "      <td>79000.0</td>\n",
              "      <td>Developer</td>\n",
              "      <td>[html, javascript, python]</td>\n",
              "    </tr>\n",
              "    <tr>\n",
              "      <th>1</th>\n",
              "      <td>python</td>\n",
              "      <td>HTML, Javascript, Python</td>\n",
              "      <td>63000.0</td>\n",
              "      <td>79000.0</td>\n",
              "      <td>Developer</td>\n",
              "      <td>[html, javascript, python]</td>\n",
              "    </tr>\n",
              "    <tr>\n",
              "      <th>3</th>\n",
              "      <td>bash/shell</td>\n",
              "      <td>Bash/Shell, C, CSS, HTML, Java, Javascript, PH...</td>\n",
              "      <td>102000.0</td>\n",
              "      <td>130000.0</td>\n",
              "      <td>SysAdmin / DevOps / SRE</td>\n",
              "      <td>[bash/shell, c, css, html, java, javascript, p...</td>\n",
              "    </tr>\n",
              "    <tr>\n",
              "      <th>3</th>\n",
              "      <td>c</td>\n",
              "      <td>Bash/Shell, C, CSS, HTML, Java, Javascript, PH...</td>\n",
              "      <td>102000.0</td>\n",
              "      <td>130000.0</td>\n",
              "      <td>SysAdmin / DevOps / SRE</td>\n",
              "      <td>[bash/shell, c, css, html, java, javascript, p...</td>\n",
              "    </tr>\n",
              "  </tbody>\n",
              "</table>\n",
              "</div>"
            ],
            "text/plain": [
              "  programming_language  ...                        cured_programming_languages\n",
              "1                 html  ...                         [html, javascript, python]\n",
              "1           javascript  ...                         [html, javascript, python]\n",
              "1               python  ...                         [html, javascript, python]\n",
              "3           bash/shell  ...  [bash/shell, c, css, html, java, javascript, p...\n",
              "3                    c  ...  [bash/shell, c, css, html, java, javascript, p...\n",
              "\n",
              "[5 rows x 6 columns]"
            ]
          },
          "metadata": {
            "tags": []
          },
          "execution_count": 329
        }
      ]
    },
    {
      "cell_type": "code",
      "metadata": {
        "colab": {
          "base_uri": "https://localhost:8080/",
          "height": 296
        },
        "id": "qht66yKbMl-X",
        "outputId": "af53a9a0-d6da-4537-f5ef-b3d779e77362"
      },
      "source": [
        "#Este data frame se prepara para la parte el Ejercicio 2\n",
        "filtered_df_lang_part_2 = filter_intresting_languages(df_lang_part_2,interesting_languages)\n",
        "filtered_df_lang_part_2[:5]"
      ],
      "execution_count": null,
      "outputs": [
        {
          "output_type": "execute_result",
          "data": {
            "text/html": [
              "<div>\n",
              "<style scoped>\n",
              "    .dataframe tbody tr th:only-of-type {\n",
              "        vertical-align: middle;\n",
              "    }\n",
              "\n",
              "    .dataframe tbody tr th {\n",
              "        vertical-align: top;\n",
              "    }\n",
              "\n",
              "    .dataframe thead th {\n",
              "        text-align: right;\n",
              "    }\n",
              "</style>\n",
              "<table border=\"1\" class=\"dataframe\">\n",
              "  <thead>\n",
              "    <tr style=\"text-align: right;\">\n",
              "      <th></th>\n",
              "      <th>programming_language</th>\n",
              "      <th>tools_programming_languages</th>\n",
              "      <th>salary_monthly_NETO</th>\n",
              "      <th>salary_monthly_BRUTO</th>\n",
              "      <th>work_role</th>\n",
              "      <th>cured_programming_languages</th>\n",
              "      <th>profile_studies_level_state</th>\n",
              "      <th>profile_studies_level</th>\n",
              "      <th>profile_years_experience</th>\n",
              "      <th>work_years_in_company</th>\n",
              "      <th>work_years_in_current_position</th>\n",
              "      <th>work_people_in_charge_of</th>\n",
              "      <th>profile_gender</th>\n",
              "      <th>salary_percentage_inflation_adjustment_2020</th>\n",
              "    </tr>\n",
              "  </thead>\n",
              "  <tbody>\n",
              "    <tr>\n",
              "      <th>1</th>\n",
              "      <td>html</td>\n",
              "      <td>HTML, Javascript, Python</td>\n",
              "      <td>63000.0</td>\n",
              "      <td>79000.0</td>\n",
              "      <td>Developer</td>\n",
              "      <td>[html, javascript, python]</td>\n",
              "      <td>En curso</td>\n",
              "      <td>Universitario</td>\n",
              "      <td>5.0</td>\n",
              "      <td>2.0</td>\n",
              "      <td>2.0</td>\n",
              "      <td>4</td>\n",
              "      <td>Hombre</td>\n",
              "      <td>10.0</td>\n",
              "    </tr>\n",
              "    <tr>\n",
              "      <th>1</th>\n",
              "      <td>javascript</td>\n",
              "      <td>HTML, Javascript, Python</td>\n",
              "      <td>63000.0</td>\n",
              "      <td>79000.0</td>\n",
              "      <td>Developer</td>\n",
              "      <td>[html, javascript, python]</td>\n",
              "      <td>En curso</td>\n",
              "      <td>Universitario</td>\n",
              "      <td>5.0</td>\n",
              "      <td>2.0</td>\n",
              "      <td>2.0</td>\n",
              "      <td>4</td>\n",
              "      <td>Hombre</td>\n",
              "      <td>10.0</td>\n",
              "    </tr>\n",
              "    <tr>\n",
              "      <th>1</th>\n",
              "      <td>python</td>\n",
              "      <td>HTML, Javascript, Python</td>\n",
              "      <td>63000.0</td>\n",
              "      <td>79000.0</td>\n",
              "      <td>Developer</td>\n",
              "      <td>[html, javascript, python]</td>\n",
              "      <td>En curso</td>\n",
              "      <td>Universitario</td>\n",
              "      <td>5.0</td>\n",
              "      <td>2.0</td>\n",
              "      <td>2.0</td>\n",
              "      <td>4</td>\n",
              "      <td>Hombre</td>\n",
              "      <td>10.0</td>\n",
              "    </tr>\n",
              "    <tr>\n",
              "      <th>3</th>\n",
              "      <td>bash/shell</td>\n",
              "      <td>Bash/Shell, C, CSS, HTML, Java, Javascript, PH...</td>\n",
              "      <td>102000.0</td>\n",
              "      <td>130000.0</td>\n",
              "      <td>SysAdmin / DevOps / SRE</td>\n",
              "      <td>[bash/shell, c, css, html, java, javascript, p...</td>\n",
              "      <td>Incompleto</td>\n",
              "      <td>Posgrado</td>\n",
              "      <td>15.0</td>\n",
              "      <td>15.0</td>\n",
              "      <td>13.0</td>\n",
              "      <td>5</td>\n",
              "      <td>Hombre</td>\n",
              "      <td>0.0</td>\n",
              "    </tr>\n",
              "    <tr>\n",
              "      <th>3</th>\n",
              "      <td>c</td>\n",
              "      <td>Bash/Shell, C, CSS, HTML, Java, Javascript, PH...</td>\n",
              "      <td>102000.0</td>\n",
              "      <td>130000.0</td>\n",
              "      <td>SysAdmin / DevOps / SRE</td>\n",
              "      <td>[bash/shell, c, css, html, java, javascript, p...</td>\n",
              "      <td>Incompleto</td>\n",
              "      <td>Posgrado</td>\n",
              "      <td>15.0</td>\n",
              "      <td>15.0</td>\n",
              "      <td>13.0</td>\n",
              "      <td>5</td>\n",
              "      <td>Hombre</td>\n",
              "      <td>0.0</td>\n",
              "    </tr>\n",
              "  </tbody>\n",
              "</table>\n",
              "</div>"
            ],
            "text/plain": [
              "  programming_language  ... salary_percentage_inflation_adjustment_2020\n",
              "1                 html  ...                                        10.0\n",
              "1           javascript  ...                                        10.0\n",
              "1               python  ...                                        10.0\n",
              "3           bash/shell  ...                                         0.0\n",
              "3                    c  ...                                         0.0\n",
              "\n",
              "[5 rows x 14 columns]"
            ]
          },
          "metadata": {
            "tags": []
          },
          "execution_count": 330
        }
      ]
    },
    {
      "cell_type": "markdown",
      "metadata": {
        "id": "jkjjnt5MSHnx"
      },
      "source": [
        "Sacando las métricas útiles para esta distribución:"
      ]
    },
    {
      "cell_type": "code",
      "metadata": {
        "colab": {
          "base_uri": "https://localhost:8080/",
          "height": 332
        },
        "id": "zYcMe93jMl-Y",
        "outputId": "41eab610-8f42-4dfd-f9e8-7de64fe05f05"
      },
      "source": [
        "#Media general\n",
        "df_means =df_lang.groupby(['programming_language']).agg({'salary_monthly_NETO': ['mean']}).reset_index()\n",
        "#dejamos solo 2 decimales\n",
        "df_means.describe().round(2)"
      ],
      "execution_count": null,
      "outputs": [
        {
          "output_type": "execute_result",
          "data": {
            "text/html": [
              "<div>\n",
              "<style scoped>\n",
              "    .dataframe tbody tr th:only-of-type {\n",
              "        vertical-align: middle;\n",
              "    }\n",
              "\n",
              "    .dataframe tbody tr th {\n",
              "        vertical-align: top;\n",
              "    }\n",
              "\n",
              "    .dataframe thead tr th {\n",
              "        text-align: left;\n",
              "    }\n",
              "</style>\n",
              "<table border=\"1\" class=\"dataframe\">\n",
              "  <thead>\n",
              "    <tr>\n",
              "      <th></th>\n",
              "      <th>salary_monthly_NETO</th>\n",
              "    </tr>\n",
              "    <tr>\n",
              "      <th></th>\n",
              "      <th>mean</th>\n",
              "    </tr>\n",
              "  </thead>\n",
              "  <tbody>\n",
              "    <tr>\n",
              "      <th>count</th>\n",
              "      <td>188.00</td>\n",
              "    </tr>\n",
              "    <tr>\n",
              "      <th>mean</th>\n",
              "      <td>97797.94</td>\n",
              "    </tr>\n",
              "    <tr>\n",
              "      <th>std</th>\n",
              "      <td>79604.37</td>\n",
              "    </tr>\n",
              "    <tr>\n",
              "      <th>min</th>\n",
              "      <td>12000.00</td>\n",
              "    </tr>\n",
              "    <tr>\n",
              "      <th>25%</th>\n",
              "      <td>63929.50</td>\n",
              "    </tr>\n",
              "    <tr>\n",
              "      <th>50%</th>\n",
              "      <td>83729.32</td>\n",
              "    </tr>\n",
              "    <tr>\n",
              "      <th>75%</th>\n",
              "      <td>106060.89</td>\n",
              "    </tr>\n",
              "    <tr>\n",
              "      <th>max</th>\n",
              "      <td>690000.00</td>\n",
              "    </tr>\n",
              "  </tbody>\n",
              "</table>\n",
              "</div>"
            ],
            "text/plain": [
              "      salary_monthly_NETO\n",
              "                     mean\n",
              "count              188.00\n",
              "mean             97797.94\n",
              "std              79604.37\n",
              "min              12000.00\n",
              "25%              63929.50\n",
              "50%              83729.32\n",
              "75%             106060.89\n",
              "max             690000.00"
            ]
          },
          "metadata": {
            "tags": []
          },
          "execution_count": 331
        }
      ]
    },
    {
      "cell_type": "code",
      "metadata": {
        "colab": {
          "base_uri": "https://localhost:8080/",
          "height": 276
        },
        "id": "l7AqqGvSMl-Z",
        "outputId": "27ca43ec-582b-4892-c8bf-847f89729b9d"
      },
      "source": [
        "#tamaño de bins = # de barritas\n",
        "seaborn.displot(df_means['salary_monthly_NETO'], aspect=2, bins = 100)\n",
        "## para evitar la notación científica en las etiquetas\n",
        "plt.ticklabel_format(style='plain', axis='x')\n"
      ],
      "execution_count": null,
      "outputs": [
        {
          "output_type": "display_data",
          "data": {
            "image/png": "[encoded data removed]",
            "text/plain": [
              "<Figure size 826.275x360 with 1 Axes>"
            ]
          },
          "metadata": {
            "tags": [],
            "needs_background": "light"
          }
        }
      ]
    },
    {
      "cell_type": "code",
      "metadata": {
        "colab": {
          "base_uri": "https://localhost:8080/",
          "height": 583
        },
        "id": "C0jECsqvMl-b",
        "outputId": "98e639ad-c29c-49a7-93ff-907e9e86a464"
      },
      "source": [
        "filtered_df_lang_group_by_programming_language = filtered_df_lang.groupby(['programming_language'] , as_index=False).agg({'salary_monthly_BRUTO': ['mean', 'min', 'max' , 'count']})\n",
        "filtered_df_lang_group_by_programming_language\n",
        "   "
      ],
      "execution_count": null,
      "outputs": [
        {
          "output_type": "execute_result",
          "data": {
            "text/html": [
              "<div>\n",
              "<style scoped>\n",
              "    .dataframe tbody tr th:only-of-type {\n",
              "        vertical-align: middle;\n",
              "    }\n",
              "\n",
              "    .dataframe tbody tr th {\n",
              "        vertical-align: top;\n",
              "    }\n",
              "\n",
              "    .dataframe thead tr th {\n",
              "        text-align: left;\n",
              "    }\n",
              "</style>\n",
              "<table border=\"1\" class=\"dataframe\">\n",
              "  <thead>\n",
              "    <tr>\n",
              "      <th></th>\n",
              "      <th>programming_language</th>\n",
              "      <th colspan=\"4\" halign=\"left\">salary_monthly_BRUTO</th>\n",
              "    </tr>\n",
              "    <tr>\n",
              "      <th></th>\n",
              "      <th></th>\n",
              "      <th>mean</th>\n",
              "      <th>min</th>\n",
              "      <th>max</th>\n",
              "      <th>count</th>\n",
              "    </tr>\n",
              "  </thead>\n",
              "  <tbody>\n",
              "    <tr>\n",
              "      <th>0</th>\n",
              "      <td>.net</td>\n",
              "      <td>119201.820074</td>\n",
              "      <td>17000.0</td>\n",
              "      <td>1033000.0</td>\n",
              "      <td>672</td>\n",
              "    </tr>\n",
              "    <tr>\n",
              "      <th>1</th>\n",
              "      <td>bash/shell</td>\n",
              "      <td>151782.937805</td>\n",
              "      <td>17000.0</td>\n",
              "      <td>2080000.0</td>\n",
              "      <td>861</td>\n",
              "    </tr>\n",
              "    <tr>\n",
              "      <th>2</th>\n",
              "      <td>c</td>\n",
              "      <td>152978.267463</td>\n",
              "      <td>12000.0</td>\n",
              "      <td>2080000.0</td>\n",
              "      <td>201</td>\n",
              "    </tr>\n",
              "    <tr>\n",
              "      <th>3</th>\n",
              "      <td>c#</td>\n",
              "      <td>120384.308948</td>\n",
              "      <td>12000.0</td>\n",
              "      <td>1680000.0</td>\n",
              "      <td>618</td>\n",
              "    </tr>\n",
              "    <tr>\n",
              "      <th>4</th>\n",
              "      <td>c++</td>\n",
              "      <td>138956.638529</td>\n",
              "      <td>12000.0</td>\n",
              "      <td>1680000.0</td>\n",
              "      <td>204</td>\n",
              "    </tr>\n",
              "    <tr>\n",
              "      <th>5</th>\n",
              "      <td>css</td>\n",
              "      <td>122794.197081</td>\n",
              "      <td>13300.0</td>\n",
              "      <td>2080000.0</td>\n",
              "      <td>1069</td>\n",
              "    </tr>\n",
              "    <tr>\n",
              "      <th>6</th>\n",
              "      <td>go</td>\n",
              "      <td>198974.932500</td>\n",
              "      <td>40000.0</td>\n",
              "      <td>1600000.0</td>\n",
              "      <td>256</td>\n",
              "    </tr>\n",
              "    <tr>\n",
              "      <th>7</th>\n",
              "      <td>html</td>\n",
              "      <td>121947.781407</td>\n",
              "      <td>13300.0</td>\n",
              "      <td>2080000.0</td>\n",
              "      <td>1549</td>\n",
              "    </tr>\n",
              "    <tr>\n",
              "      <th>8</th>\n",
              "      <td>java</td>\n",
              "      <td>136201.735910</td>\n",
              "      <td>20000.0</td>\n",
              "      <td>2180000.0</td>\n",
              "      <td>1198</td>\n",
              "    </tr>\n",
              "    <tr>\n",
              "      <th>9</th>\n",
              "      <td>javascript</td>\n",
              "      <td>134410.403995</td>\n",
              "      <td>13300.0</td>\n",
              "      <td>2180000.0</td>\n",
              "      <td>2125</td>\n",
              "    </tr>\n",
              "    <tr>\n",
              "      <th>10</th>\n",
              "      <td>kotlin</td>\n",
              "      <td>189830.170245</td>\n",
              "      <td>32500.0</td>\n",
              "      <td>2180000.0</td>\n",
              "      <td>163</td>\n",
              "    </tr>\n",
              "    <tr>\n",
              "      <th>11</th>\n",
              "      <td>php</td>\n",
              "      <td>119624.158797</td>\n",
              "      <td>17000.0</td>\n",
              "      <td>798000.0</td>\n",
              "      <td>690</td>\n",
              "    </tr>\n",
              "    <tr>\n",
              "      <th>12</th>\n",
              "      <td>python</td>\n",
              "      <td>147169.735352</td>\n",
              "      <td>17000.0</td>\n",
              "      <td>1680000.0</td>\n",
              "      <td>1237</td>\n",
              "    </tr>\n",
              "    <tr>\n",
              "      <th>13</th>\n",
              "      <td>sql</td>\n",
              "      <td>123227.817711</td>\n",
              "      <td>20000.0</td>\n",
              "      <td>2180000.0</td>\n",
              "      <td>1787</td>\n",
              "    </tr>\n",
              "    <tr>\n",
              "      <th>14</th>\n",
              "      <td>typescript</td>\n",
              "      <td>154638.982238</td>\n",
              "      <td>17000.0</td>\n",
              "      <td>2180000.0</td>\n",
              "      <td>688</td>\n",
              "    </tr>\n",
              "    <tr>\n",
              "      <th>15</th>\n",
              "      <td>vba</td>\n",
              "      <td>102829.005661</td>\n",
              "      <td>26890.0</td>\n",
              "      <td>750000.0</td>\n",
              "      <td>189</td>\n",
              "    </tr>\n",
              "  </tbody>\n",
              "</table>\n",
              "</div>"
            ],
            "text/plain": [
              "   programming_language salary_monthly_BRUTO                          \n",
              "                                        mean      min        max count\n",
              "0                  .net        119201.820074  17000.0  1033000.0   672\n",
              "1            bash/shell        151782.937805  17000.0  2080000.0   861\n",
              "2                     c        152978.267463  12000.0  2080000.0   201\n",
              "3                    c#        120384.308948  12000.0  1680000.0   618\n",
              "4                   c++        138956.638529  12000.0  1680000.0   204\n",
              "5                   css        122794.197081  13300.0  2080000.0  1069\n",
              "6                    go        198974.932500  40000.0  1600000.0   256\n",
              "7                  html        121947.781407  13300.0  2080000.0  1549\n",
              "8                  java        136201.735910  20000.0  2180000.0  1198\n",
              "9            javascript        134410.403995  13300.0  2180000.0  2125\n",
              "10               kotlin        189830.170245  32500.0  2180000.0   163\n",
              "11                  php        119624.158797  17000.0   798000.0   690\n",
              "12               python        147169.735352  17000.0  1680000.0  1237\n",
              "13                  sql        123227.817711  20000.0  2180000.0  1787\n",
              "14           typescript        154638.982238  17000.0  2180000.0   688\n",
              "15                  vba        102829.005661  26890.0   750000.0   189"
            ]
          },
          "metadata": {
            "tags": []
          },
          "execution_count": 333
        }
      ]
    },
    {
      "cell_type": "code",
      "metadata": {
        "colab": {
          "base_uri": "https://localhost:8080/",
          "height": 583
        },
        "id": "uKky61-WMl-c",
        "outputId": "efe7e1d5-121a-4183-e8eb-5f5504942265"
      },
      "source": [
        "filtered_df_lang_group_by_programming_language.sort_values(by=[('salary_monthly_BRUTO' , 'count')],ascending = False)[:]"
      ],
      "execution_count": null,
      "outputs": [
        {
          "output_type": "execute_result",
          "data": {
            "text/html": [
              "<div>\n",
              "<style scoped>\n",
              "    .dataframe tbody tr th:only-of-type {\n",
              "        vertical-align: middle;\n",
              "    }\n",
              "\n",
              "    .dataframe tbody tr th {\n",
              "        vertical-align: top;\n",
              "    }\n",
              "\n",
              "    .dataframe thead tr th {\n",
              "        text-align: left;\n",
              "    }\n",
              "</style>\n",
              "<table border=\"1\" class=\"dataframe\">\n",
              "  <thead>\n",
              "    <tr>\n",
              "      <th></th>\n",
              "      <th>programming_language</th>\n",
              "      <th colspan=\"4\" halign=\"left\">salary_monthly_BRUTO</th>\n",
              "    </tr>\n",
              "    <tr>\n",
              "      <th></th>\n",
              "      <th></th>\n",
              "      <th>mean</th>\n",
              "      <th>min</th>\n",
              "      <th>max</th>\n",
              "      <th>count</th>\n",
              "    </tr>\n",
              "  </thead>\n",
              "  <tbody>\n",
              "    <tr>\n",
              "      <th>9</th>\n",
              "      <td>javascript</td>\n",
              "      <td>134410.403995</td>\n",
              "      <td>13300.0</td>\n",
              "      <td>2180000.0</td>\n",
              "      <td>2125</td>\n",
              "    </tr>\n",
              "    <tr>\n",
              "      <th>13</th>\n",
              "      <td>sql</td>\n",
              "      <td>123227.817711</td>\n",
              "      <td>20000.0</td>\n",
              "      <td>2180000.0</td>\n",
              "      <td>1787</td>\n",
              "    </tr>\n",
              "    <tr>\n",
              "      <th>7</th>\n",
              "      <td>html</td>\n",
              "      <td>121947.781407</td>\n",
              "      <td>13300.0</td>\n",
              "      <td>2080000.0</td>\n",
              "      <td>1549</td>\n",
              "    </tr>\n",
              "    <tr>\n",
              "      <th>12</th>\n",
              "      <td>python</td>\n",
              "      <td>147169.735352</td>\n",
              "      <td>17000.0</td>\n",
              "      <td>1680000.0</td>\n",
              "      <td>1237</td>\n",
              "    </tr>\n",
              "    <tr>\n",
              "      <th>8</th>\n",
              "      <td>java</td>\n",
              "      <td>136201.735910</td>\n",
              "      <td>20000.0</td>\n",
              "      <td>2180000.0</td>\n",
              "      <td>1198</td>\n",
              "    </tr>\n",
              "    <tr>\n",
              "      <th>5</th>\n",
              "      <td>css</td>\n",
              "      <td>122794.197081</td>\n",
              "      <td>13300.0</td>\n",
              "      <td>2080000.0</td>\n",
              "      <td>1069</td>\n",
              "    </tr>\n",
              "    <tr>\n",
              "      <th>1</th>\n",
              "      <td>bash/shell</td>\n",
              "      <td>151782.937805</td>\n",
              "      <td>17000.0</td>\n",
              "      <td>2080000.0</td>\n",
              "      <td>861</td>\n",
              "    </tr>\n",
              "    <tr>\n",
              "      <th>11</th>\n",
              "      <td>php</td>\n",
              "      <td>119624.158797</td>\n",
              "      <td>17000.0</td>\n",
              "      <td>798000.0</td>\n",
              "      <td>690</td>\n",
              "    </tr>\n",
              "    <tr>\n",
              "      <th>14</th>\n",
              "      <td>typescript</td>\n",
              "      <td>154638.982238</td>\n",
              "      <td>17000.0</td>\n",
              "      <td>2180000.0</td>\n",
              "      <td>688</td>\n",
              "    </tr>\n",
              "    <tr>\n",
              "      <th>0</th>\n",
              "      <td>.net</td>\n",
              "      <td>119201.820074</td>\n",
              "      <td>17000.0</td>\n",
              "      <td>1033000.0</td>\n",
              "      <td>672</td>\n",
              "    </tr>\n",
              "    <tr>\n",
              "      <th>3</th>\n",
              "      <td>c#</td>\n",
              "      <td>120384.308948</td>\n",
              "      <td>12000.0</td>\n",
              "      <td>1680000.0</td>\n",
              "      <td>618</td>\n",
              "    </tr>\n",
              "    <tr>\n",
              "      <th>6</th>\n",
              "      <td>go</td>\n",
              "      <td>198974.932500</td>\n",
              "      <td>40000.0</td>\n",
              "      <td>1600000.0</td>\n",
              "      <td>256</td>\n",
              "    </tr>\n",
              "    <tr>\n",
              "      <th>4</th>\n",
              "      <td>c++</td>\n",
              "      <td>138956.638529</td>\n",
              "      <td>12000.0</td>\n",
              "      <td>1680000.0</td>\n",
              "      <td>204</td>\n",
              "    </tr>\n",
              "    <tr>\n",
              "      <th>2</th>\n",
              "      <td>c</td>\n",
              "      <td>152978.267463</td>\n",
              "      <td>12000.0</td>\n",
              "      <td>2080000.0</td>\n",
              "      <td>201</td>\n",
              "    </tr>\n",
              "    <tr>\n",
              "      <th>15</th>\n",
              "      <td>vba</td>\n",
              "      <td>102829.005661</td>\n",
              "      <td>26890.0</td>\n",
              "      <td>750000.0</td>\n",
              "      <td>189</td>\n",
              "    </tr>\n",
              "    <tr>\n",
              "      <th>10</th>\n",
              "      <td>kotlin</td>\n",
              "      <td>189830.170245</td>\n",
              "      <td>32500.0</td>\n",
              "      <td>2180000.0</td>\n",
              "      <td>163</td>\n",
              "    </tr>\n",
              "  </tbody>\n",
              "</table>\n",
              "</div>"
            ],
            "text/plain": [
              "   programming_language salary_monthly_BRUTO                          \n",
              "                                        mean      min        max count\n",
              "9            javascript        134410.403995  13300.0  2180000.0  2125\n",
              "13                  sql        123227.817711  20000.0  2180000.0  1787\n",
              "7                  html        121947.781407  13300.0  2080000.0  1549\n",
              "12               python        147169.735352  17000.0  1680000.0  1237\n",
              "8                  java        136201.735910  20000.0  2180000.0  1198\n",
              "5                   css        122794.197081  13300.0  2080000.0  1069\n",
              "1            bash/shell        151782.937805  17000.0  2080000.0   861\n",
              "11                  php        119624.158797  17000.0   798000.0   690\n",
              "14           typescript        154638.982238  17000.0  2180000.0   688\n",
              "0                  .net        119201.820074  17000.0  1033000.0   672\n",
              "3                    c#        120384.308948  12000.0  1680000.0   618\n",
              "6                    go        198974.932500  40000.0  1600000.0   256\n",
              "4                   c++        138956.638529  12000.0  1680000.0   204\n",
              "2                     c        152978.267463  12000.0  2080000.0   201\n",
              "15                  vba        102829.005661  26890.0   750000.0   189\n",
              "10               kotlin        189830.170245  32500.0  2180000.0   163"
            ]
          },
          "metadata": {
            "tags": []
          },
          "execution_count": 334
        }
      ]
    },
    {
      "cell_type": "code",
      "metadata": {
        "colab": {
          "base_uri": "https://localhost:8080/",
          "height": 583
        },
        "id": "9gj994BAMl-d",
        "outputId": "d2f91430-a04e-4915-8929-44f36ef73953"
      },
      "source": [
        "filtered_df_lang_group_by_programming_language.sort_values(by=[('salary_monthly_BRUTO' , 'mean')],ascending = False)[:]"
      ],
      "execution_count": null,
      "outputs": [
        {
          "output_type": "execute_result",
          "data": {
            "text/html": [
              "<div>\n",
              "<style scoped>\n",
              "    .dataframe tbody tr th:only-of-type {\n",
              "        vertical-align: middle;\n",
              "    }\n",
              "\n",
              "    .dataframe tbody tr th {\n",
              "        vertical-align: top;\n",
              "    }\n",
              "\n",
              "    .dataframe thead tr th {\n",
              "        text-align: left;\n",
              "    }\n",
              "</style>\n",
              "<table border=\"1\" class=\"dataframe\">\n",
              "  <thead>\n",
              "    <tr>\n",
              "      <th></th>\n",
              "      <th>programming_language</th>\n",
              "      <th colspan=\"4\" halign=\"left\">salary_monthly_BRUTO</th>\n",
              "    </tr>\n",
              "    <tr>\n",
              "      <th></th>\n",
              "      <th></th>\n",
              "      <th>mean</th>\n",
              "      <th>min</th>\n",
              "      <th>max</th>\n",
              "      <th>count</th>\n",
              "    </tr>\n",
              "  </thead>\n",
              "  <tbody>\n",
              "    <tr>\n",
              "      <th>6</th>\n",
              "      <td>go</td>\n",
              "      <td>198974.932500</td>\n",
              "      <td>40000.0</td>\n",
              "      <td>1600000.0</td>\n",
              "      <td>256</td>\n",
              "    </tr>\n",
              "    <tr>\n",
              "      <th>10</th>\n",
              "      <td>kotlin</td>\n",
              "      <td>189830.170245</td>\n",
              "      <td>32500.0</td>\n",
              "      <td>2180000.0</td>\n",
              "      <td>163</td>\n",
              "    </tr>\n",
              "    <tr>\n",
              "      <th>14</th>\n",
              "      <td>typescript</td>\n",
              "      <td>154638.982238</td>\n",
              "      <td>17000.0</td>\n",
              "      <td>2180000.0</td>\n",
              "      <td>688</td>\n",
              "    </tr>\n",
              "    <tr>\n",
              "      <th>2</th>\n",
              "      <td>c</td>\n",
              "      <td>152978.267463</td>\n",
              "      <td>12000.0</td>\n",
              "      <td>2080000.0</td>\n",
              "      <td>201</td>\n",
              "    </tr>\n",
              "    <tr>\n",
              "      <th>1</th>\n",
              "      <td>bash/shell</td>\n",
              "      <td>151782.937805</td>\n",
              "      <td>17000.0</td>\n",
              "      <td>2080000.0</td>\n",
              "      <td>861</td>\n",
              "    </tr>\n",
              "    <tr>\n",
              "      <th>12</th>\n",
              "      <td>python</td>\n",
              "      <td>147169.735352</td>\n",
              "      <td>17000.0</td>\n",
              "      <td>1680000.0</td>\n",
              "      <td>1237</td>\n",
              "    </tr>\n",
              "    <tr>\n",
              "      <th>4</th>\n",
              "      <td>c++</td>\n",
              "      <td>138956.638529</td>\n",
              "      <td>12000.0</td>\n",
              "      <td>1680000.0</td>\n",
              "      <td>204</td>\n",
              "    </tr>\n",
              "    <tr>\n",
              "      <th>8</th>\n",
              "      <td>java</td>\n",
              "      <td>136201.735910</td>\n",
              "      <td>20000.0</td>\n",
              "      <td>2180000.0</td>\n",
              "      <td>1198</td>\n",
              "    </tr>\n",
              "    <tr>\n",
              "      <th>9</th>\n",
              "      <td>javascript</td>\n",
              "      <td>134410.403995</td>\n",
              "      <td>13300.0</td>\n",
              "      <td>2180000.0</td>\n",
              "      <td>2125</td>\n",
              "    </tr>\n",
              "    <tr>\n",
              "      <th>13</th>\n",
              "      <td>sql</td>\n",
              "      <td>123227.817711</td>\n",
              "      <td>20000.0</td>\n",
              "      <td>2180000.0</td>\n",
              "      <td>1787</td>\n",
              "    </tr>\n",
              "    <tr>\n",
              "      <th>5</th>\n",
              "      <td>css</td>\n",
              "      <td>122794.197081</td>\n",
              "      <td>13300.0</td>\n",
              "      <td>2080000.0</td>\n",
              "      <td>1069</td>\n",
              "    </tr>\n",
              "    <tr>\n",
              "      <th>7</th>\n",
              "      <td>html</td>\n",
              "      <td>121947.781407</td>\n",
              "      <td>13300.0</td>\n",
              "      <td>2080000.0</td>\n",
              "      <td>1549</td>\n",
              "    </tr>\n",
              "    <tr>\n",
              "      <th>3</th>\n",
              "      <td>c#</td>\n",
              "      <td>120384.308948</td>\n",
              "      <td>12000.0</td>\n",
              "      <td>1680000.0</td>\n",
              "      <td>618</td>\n",
              "    </tr>\n",
              "    <tr>\n",
              "      <th>11</th>\n",
              "      <td>php</td>\n",
              "      <td>119624.158797</td>\n",
              "      <td>17000.0</td>\n",
              "      <td>798000.0</td>\n",
              "      <td>690</td>\n",
              "    </tr>\n",
              "    <tr>\n",
              "      <th>0</th>\n",
              "      <td>.net</td>\n",
              "      <td>119201.820074</td>\n",
              "      <td>17000.0</td>\n",
              "      <td>1033000.0</td>\n",
              "      <td>672</td>\n",
              "    </tr>\n",
              "    <tr>\n",
              "      <th>15</th>\n",
              "      <td>vba</td>\n",
              "      <td>102829.005661</td>\n",
              "      <td>26890.0</td>\n",
              "      <td>750000.0</td>\n",
              "      <td>189</td>\n",
              "    </tr>\n",
              "  </tbody>\n",
              "</table>\n",
              "</div>"
            ],
            "text/plain": [
              "   programming_language salary_monthly_BRUTO                          \n",
              "                                        mean      min        max count\n",
              "6                    go        198974.932500  40000.0  1600000.0   256\n",
              "10               kotlin        189830.170245  32500.0  2180000.0   163\n",
              "14           typescript        154638.982238  17000.0  2180000.0   688\n",
              "2                     c        152978.267463  12000.0  2080000.0   201\n",
              "1            bash/shell        151782.937805  17000.0  2080000.0   861\n",
              "12               python        147169.735352  17000.0  1680000.0  1237\n",
              "4                   c++        138956.638529  12000.0  1680000.0   204\n",
              "8                  java        136201.735910  20000.0  2180000.0  1198\n",
              "9            javascript        134410.403995  13300.0  2180000.0  2125\n",
              "13                  sql        123227.817711  20000.0  2180000.0  1787\n",
              "5                   css        122794.197081  13300.0  2080000.0  1069\n",
              "7                  html        121947.781407  13300.0  2080000.0  1549\n",
              "3                    c#        120384.308948  12000.0  1680000.0   618\n",
              "11                  php        119624.158797  17000.0   798000.0   690\n",
              "0                  .net        119201.820074  17000.0  1033000.0   672\n",
              "15                  vba        102829.005661  26890.0   750000.0   189"
            ]
          },
          "metadata": {
            "tags": []
          },
          "execution_count": 335
        }
      ]
    },
    {
      "cell_type": "code",
      "metadata": {
        "colab": {
          "base_uri": "https://localhost:8080/",
          "height": 583
        },
        "id": "EUbVEK1ZMl-e",
        "outputId": "042b0a47-44c6-466c-cb8c-10747b5e6dd9"
      },
      "source": [
        "filtered_df_lang_group_by_programming_language.sort_values(by=[('salary_monthly_BRUTO' , 'max')],ascending = False)[:]"
      ],
      "execution_count": null,
      "outputs": [
        {
          "output_type": "execute_result",
          "data": {
            "text/html": [
              "<div>\n",
              "<style scoped>\n",
              "    .dataframe tbody tr th:only-of-type {\n",
              "        vertical-align: middle;\n",
              "    }\n",
              "\n",
              "    .dataframe tbody tr th {\n",
              "        vertical-align: top;\n",
              "    }\n",
              "\n",
              "    .dataframe thead tr th {\n",
              "        text-align: left;\n",
              "    }\n",
              "</style>\n",
              "<table border=\"1\" class=\"dataframe\">\n",
              "  <thead>\n",
              "    <tr>\n",
              "      <th></th>\n",
              "      <th>programming_language</th>\n",
              "      <th colspan=\"4\" halign=\"left\">salary_monthly_BRUTO</th>\n",
              "    </tr>\n",
              "    <tr>\n",
              "      <th></th>\n",
              "      <th></th>\n",
              "      <th>mean</th>\n",
              "      <th>min</th>\n",
              "      <th>max</th>\n",
              "      <th>count</th>\n",
              "    </tr>\n",
              "  </thead>\n",
              "  <tbody>\n",
              "    <tr>\n",
              "      <th>8</th>\n",
              "      <td>java</td>\n",
              "      <td>136201.735910</td>\n",
              "      <td>20000.0</td>\n",
              "      <td>2180000.0</td>\n",
              "      <td>1198</td>\n",
              "    </tr>\n",
              "    <tr>\n",
              "      <th>9</th>\n",
              "      <td>javascript</td>\n",
              "      <td>134410.403995</td>\n",
              "      <td>13300.0</td>\n",
              "      <td>2180000.0</td>\n",
              "      <td>2125</td>\n",
              "    </tr>\n",
              "    <tr>\n",
              "      <th>10</th>\n",
              "      <td>kotlin</td>\n",
              "      <td>189830.170245</td>\n",
              "      <td>32500.0</td>\n",
              "      <td>2180000.0</td>\n",
              "      <td>163</td>\n",
              "    </tr>\n",
              "    <tr>\n",
              "      <th>13</th>\n",
              "      <td>sql</td>\n",
              "      <td>123227.817711</td>\n",
              "      <td>20000.0</td>\n",
              "      <td>2180000.0</td>\n",
              "      <td>1787</td>\n",
              "    </tr>\n",
              "    <tr>\n",
              "      <th>14</th>\n",
              "      <td>typescript</td>\n",
              "      <td>154638.982238</td>\n",
              "      <td>17000.0</td>\n",
              "      <td>2180000.0</td>\n",
              "      <td>688</td>\n",
              "    </tr>\n",
              "    <tr>\n",
              "      <th>1</th>\n",
              "      <td>bash/shell</td>\n",
              "      <td>151782.937805</td>\n",
              "      <td>17000.0</td>\n",
              "      <td>2080000.0</td>\n",
              "      <td>861</td>\n",
              "    </tr>\n",
              "    <tr>\n",
              "      <th>2</th>\n",
              "      <td>c</td>\n",
              "      <td>152978.267463</td>\n",
              "      <td>12000.0</td>\n",
              "      <td>2080000.0</td>\n",
              "      <td>201</td>\n",
              "    </tr>\n",
              "    <tr>\n",
              "      <th>5</th>\n",
              "      <td>css</td>\n",
              "      <td>122794.197081</td>\n",
              "      <td>13300.0</td>\n",
              "      <td>2080000.0</td>\n",
              "      <td>1069</td>\n",
              "    </tr>\n",
              "    <tr>\n",
              "      <th>7</th>\n",
              "      <td>html</td>\n",
              "      <td>121947.781407</td>\n",
              "      <td>13300.0</td>\n",
              "      <td>2080000.0</td>\n",
              "      <td>1549</td>\n",
              "    </tr>\n",
              "    <tr>\n",
              "      <th>3</th>\n",
              "      <td>c#</td>\n",
              "      <td>120384.308948</td>\n",
              "      <td>12000.0</td>\n",
              "      <td>1680000.0</td>\n",
              "      <td>618</td>\n",
              "    </tr>\n",
              "    <tr>\n",
              "      <th>4</th>\n",
              "      <td>c++</td>\n",
              "      <td>138956.638529</td>\n",
              "      <td>12000.0</td>\n",
              "      <td>1680000.0</td>\n",
              "      <td>204</td>\n",
              "    </tr>\n",
              "    <tr>\n",
              "      <th>12</th>\n",
              "      <td>python</td>\n",
              "      <td>147169.735352</td>\n",
              "      <td>17000.0</td>\n",
              "      <td>1680000.0</td>\n",
              "      <td>1237</td>\n",
              "    </tr>\n",
              "    <tr>\n",
              "      <th>6</th>\n",
              "      <td>go</td>\n",
              "      <td>198974.932500</td>\n",
              "      <td>40000.0</td>\n",
              "      <td>1600000.0</td>\n",
              "      <td>256</td>\n",
              "    </tr>\n",
              "    <tr>\n",
              "      <th>0</th>\n",
              "      <td>.net</td>\n",
              "      <td>119201.820074</td>\n",
              "      <td>17000.0</td>\n",
              "      <td>1033000.0</td>\n",
              "      <td>672</td>\n",
              "    </tr>\n",
              "    <tr>\n",
              "      <th>11</th>\n",
              "      <td>php</td>\n",
              "      <td>119624.158797</td>\n",
              "      <td>17000.0</td>\n",
              "      <td>798000.0</td>\n",
              "      <td>690</td>\n",
              "    </tr>\n",
              "    <tr>\n",
              "      <th>15</th>\n",
              "      <td>vba</td>\n",
              "      <td>102829.005661</td>\n",
              "      <td>26890.0</td>\n",
              "      <td>750000.0</td>\n",
              "      <td>189</td>\n",
              "    </tr>\n",
              "  </tbody>\n",
              "</table>\n",
              "</div>"
            ],
            "text/plain": [
              "   programming_language salary_monthly_BRUTO                          \n",
              "                                        mean      min        max count\n",
              "8                  java        136201.735910  20000.0  2180000.0  1198\n",
              "9            javascript        134410.403995  13300.0  2180000.0  2125\n",
              "10               kotlin        189830.170245  32500.0  2180000.0   163\n",
              "13                  sql        123227.817711  20000.0  2180000.0  1787\n",
              "14           typescript        154638.982238  17000.0  2180000.0   688\n",
              "1            bash/shell        151782.937805  17000.0  2080000.0   861\n",
              "2                     c        152978.267463  12000.0  2080000.0   201\n",
              "5                   css        122794.197081  13300.0  2080000.0  1069\n",
              "7                  html        121947.781407  13300.0  2080000.0  1549\n",
              "3                    c#        120384.308948  12000.0  1680000.0   618\n",
              "4                   c++        138956.638529  12000.0  1680000.0   204\n",
              "12               python        147169.735352  17000.0  1680000.0  1237\n",
              "6                    go        198974.932500  40000.0  1600000.0   256\n",
              "0                  .net        119201.820074  17000.0  1033000.0   672\n",
              "11                  php        119624.158797  17000.0   798000.0   690\n",
              "15                  vba        102829.005661  26890.0   750000.0   189"
            ]
          },
          "metadata": {
            "tags": []
          },
          "execution_count": 336
        }
      ]
    },
    {
      "cell_type": "code",
      "metadata": {
        "id": "iV3TPzR0Ml-g"
      },
      "source": [
        "#Esta funcion devuelve 3 dataframes \n",
        "# outliers_inferiores: Son los valores que perforan el limiter inferior \n",
        "# filtered: Son los valores que quedan dentro del rango RIC\n",
        "# outliers_superiores: Son los valores que perforan el limiete superior\n",
        "\n",
        "def remove_outliers (laguange,filtered_df_lang): \n",
        "    \n",
        "    result = filtered_df_lang[filtered_df_lang.programming_language == laguange]['salary_monthly_BRUTO'].describe()\n",
        "    RIC = result[6] - result[4]\n",
        "    Ls = result[6] + RIC * 1.5\n",
        "    Li = result[4] - RIC * 1.5\n",
        "\n",
        "    filtered = filtered_df_lang[(filtered_df_lang.programming_language == laguange ) &  (filtered_df_lang.salary_monthly_BRUTO <= Ls) &  (filtered_df_lang.salary_monthly_BRUTO >= Li) ] \n",
        "    outliers_superiores = filtered_df_lang[(filtered_df_lang.programming_language == laguange ) &  (filtered_df_lang.salary_monthly_BRUTO >= Ls)] \n",
        "    outliers_inferiores = filtered_df_lang[(filtered_df_lang.programming_language == laguange ) &  (filtered_df_lang.salary_monthly_BRUTO <= Li)] \n",
        "    \n",
        "    #print (\"Language: {0} RIC {1} Ls {2} Li {3}\".format(laguange,RIC,Ls,Li))\n",
        "    return (outliers_inferiores,filtered,outliers_inferiores)"
      ],
      "execution_count": null,
      "outputs": []
    },
    {
      "cell_type": "code",
      "metadata": {
        "id": "Pj7MPksQMl-h"
      },
      "source": [
        "# Esta funcion crea un data frame con todos los leguajes especificados en interesting_languages\n",
        "# en el data frame filtered_df_lang. El nuevo data frame generado, tiene eliminados los outliers inferiores y superiores\n",
        "\n",
        "\n",
        "def create_df_no_outliers_interesting_languages(interesting_languages , filtered_df_lang):\n",
        "    filtered_data_frames = []\n",
        "\n",
        "    for language in interesting_languages:\n",
        "        _,tmp,_ = remove_outliers (language, filtered_df_lang)\n",
        "        filtered_data_frames.append(tmp)\n",
        "\n",
        "    tmp = pd.concat(filtered_data_frames, axis=0)\n",
        "    \n",
        "    return tmp\n"
      ],
      "execution_count": null,
      "outputs": []
    },
    {
      "cell_type": "code",
      "metadata": {
        "id": "l-d1ckWDMl-h"
      },
      "source": [
        "df_no_outliers_interesting_languages = create_df_no_outliers_interesting_languages(interesting_languages , filtered_df_lang)"
      ],
      "execution_count": null,
      "outputs": []
    },
    {
      "cell_type": "code",
      "metadata": {
        "id": "dSeC0pIEMl-i"
      },
      "source": [
        "# Este dataframe se prepara para el Ejercicio 2\n",
        "df_no_outliers_interesting_languages_part_2 = create_df_no_outliers_interesting_languages(interesting_languages , filtered_df_lang_part_2)"
      ],
      "execution_count": null,
      "outputs": []
    },
    {
      "cell_type": "code",
      "metadata": {
        "colab": {
          "base_uri": "https://localhost:8080/"
        },
        "id": "eeLN_Q2mMl-j",
        "outputId": "fce36cfc-a26a-4330-9e5a-a3f827896aa0"
      },
      "source": [
        "df_no_outliers_interesting_languages.shape[0]"
      ],
      "execution_count": null,
      "outputs": [
        {
          "output_type": "execute_result",
          "data": {
            "text/plain": [
              "12560"
            ]
          },
          "metadata": {
            "tags": []
          },
          "execution_count": 341
        }
      ]
    },
    {
      "cell_type": "code",
      "metadata": {
        "colab": {
          "base_uri": "https://localhost:8080/",
          "height": 583
        },
        "id": "3-x3kz9VMl-j",
        "outputId": "840d33e6-c85b-4823-f4d6-36293356680d"
      },
      "source": [
        "df_no_outliers_interesting_languages_group_by_programming_language = df_no_outliers_interesting_languages.groupby(['programming_language'] , as_index=False).agg({'salary_monthly_BRUTO': ['mean', 'min', 'max' , 'count']})\n",
        "df_no_outliers_interesting_languages_group_by_programming_language"
      ],
      "execution_count": null,
      "outputs": [
        {
          "output_type": "execute_result",
          "data": {
            "text/html": [
              "<div>\n",
              "<style scoped>\n",
              "    .dataframe tbody tr th:only-of-type {\n",
              "        vertical-align: middle;\n",
              "    }\n",
              "\n",
              "    .dataframe tbody tr th {\n",
              "        vertical-align: top;\n",
              "    }\n",
              "\n",
              "    .dataframe thead tr th {\n",
              "        text-align: left;\n",
              "    }\n",
              "</style>\n",
              "<table border=\"1\" class=\"dataframe\">\n",
              "  <thead>\n",
              "    <tr>\n",
              "      <th></th>\n",
              "      <th>programming_language</th>\n",
              "      <th colspan=\"4\" halign=\"left\">salary_monthly_BRUTO</th>\n",
              "    </tr>\n",
              "    <tr>\n",
              "      <th></th>\n",
              "      <th></th>\n",
              "      <th>mean</th>\n",
              "      <th>min</th>\n",
              "      <th>max</th>\n",
              "      <th>count</th>\n",
              "    </tr>\n",
              "  </thead>\n",
              "  <tbody>\n",
              "    <tr>\n",
              "      <th>0</th>\n",
              "      <td>.net</td>\n",
              "      <td>100446.946260</td>\n",
              "      <td>17000.0</td>\n",
              "      <td>234000.0</td>\n",
              "      <td>631</td>\n",
              "    </tr>\n",
              "    <tr>\n",
              "      <th>1</th>\n",
              "      <td>bash/shell</td>\n",
              "      <td>120068.243095</td>\n",
              "      <td>17000.0</td>\n",
              "      <td>303689.0</td>\n",
              "      <td>798</td>\n",
              "    </tr>\n",
              "    <tr>\n",
              "      <th>2</th>\n",
              "      <td>c</td>\n",
              "      <td>110625.172609</td>\n",
              "      <td>12000.0</td>\n",
              "      <td>300000.0</td>\n",
              "      <td>184</td>\n",
              "    </tr>\n",
              "    <tr>\n",
              "      <th>3</th>\n",
              "      <td>c#</td>\n",
              "      <td>98141.034661</td>\n",
              "      <td>12000.0</td>\n",
              "      <td>230000.0</td>\n",
              "      <td>575</td>\n",
              "    </tr>\n",
              "    <tr>\n",
              "      <th>4</th>\n",
              "      <td>c++</td>\n",
              "      <td>99048.953262</td>\n",
              "      <td>12000.0</td>\n",
              "      <td>268400.0</td>\n",
              "      <td>187</td>\n",
              "    </tr>\n",
              "    <tr>\n",
              "      <th>5</th>\n",
              "      <td>css</td>\n",
              "      <td>96831.528970</td>\n",
              "      <td>13300.0</td>\n",
              "      <td>246000.0</td>\n",
              "      <td>990</td>\n",
              "    </tr>\n",
              "    <tr>\n",
              "      <th>6</th>\n",
              "      <td>go</td>\n",
              "      <td>157228.713074</td>\n",
              "      <td>40000.0</td>\n",
              "      <td>345000.0</td>\n",
              "      <td>231</td>\n",
              "    </tr>\n",
              "    <tr>\n",
              "      <th>7</th>\n",
              "      <td>html</td>\n",
              "      <td>96510.308188</td>\n",
              "      <td>13300.0</td>\n",
              "      <td>242000.0</td>\n",
              "      <td>1429</td>\n",
              "    </tr>\n",
              "    <tr>\n",
              "      <th>8</th>\n",
              "      <td>java</td>\n",
              "      <td>120147.081622</td>\n",
              "      <td>20000.0</td>\n",
              "      <td>297000.0</td>\n",
              "      <td>1147</td>\n",
              "    </tr>\n",
              "    <tr>\n",
              "      <th>9</th>\n",
              "      <td>javascript</td>\n",
              "      <td>106038.192185</td>\n",
              "      <td>13300.0</td>\n",
              "      <td>270000.0</td>\n",
              "      <td>1959</td>\n",
              "    </tr>\n",
              "    <tr>\n",
              "      <th>10</th>\n",
              "      <td>kotlin</td>\n",
              "      <td>154708.656250</td>\n",
              "      <td>32500.0</td>\n",
              "      <td>360000.0</td>\n",
              "      <td>152</td>\n",
              "    </tr>\n",
              "    <tr>\n",
              "      <th>11</th>\n",
              "      <td>php</td>\n",
              "      <td>95337.898817</td>\n",
              "      <td>17000.0</td>\n",
              "      <td>240000.0</td>\n",
              "      <td>634</td>\n",
              "    </tr>\n",
              "    <tr>\n",
              "      <th>12</th>\n",
              "      <td>python</td>\n",
              "      <td>121138.257539</td>\n",
              "      <td>17000.0</td>\n",
              "      <td>303689.0</td>\n",
              "      <td>1150</td>\n",
              "    </tr>\n",
              "    <tr>\n",
              "      <th>13</th>\n",
              "      <td>sql</td>\n",
              "      <td>101660.433133</td>\n",
              "      <td>20000.0</td>\n",
              "      <td>250000.0</td>\n",
              "      <td>1682</td>\n",
              "    </tr>\n",
              "    <tr>\n",
              "      <th>14</th>\n",
              "      <td>typescript</td>\n",
              "      <td>116853.080603</td>\n",
              "      <td>17000.0</td>\n",
              "      <td>300000.0</td>\n",
              "      <td>630</td>\n",
              "    </tr>\n",
              "    <tr>\n",
              "      <th>15</th>\n",
              "      <td>vba</td>\n",
              "      <td>90429.182707</td>\n",
              "      <td>26890.0</td>\n",
              "      <td>200000.0</td>\n",
              "      <td>181</td>\n",
              "    </tr>\n",
              "  </tbody>\n",
              "</table>\n",
              "</div>"
            ],
            "text/plain": [
              "   programming_language salary_monthly_BRUTO                         \n",
              "                                        mean      min       max count\n",
              "0                  .net        100446.946260  17000.0  234000.0   631\n",
              "1            bash/shell        120068.243095  17000.0  303689.0   798\n",
              "2                     c        110625.172609  12000.0  300000.0   184\n",
              "3                    c#         98141.034661  12000.0  230000.0   575\n",
              "4                   c++         99048.953262  12000.0  268400.0   187\n",
              "5                   css         96831.528970  13300.0  246000.0   990\n",
              "6                    go        157228.713074  40000.0  345000.0   231\n",
              "7                  html         96510.308188  13300.0  242000.0  1429\n",
              "8                  java        120147.081622  20000.0  297000.0  1147\n",
              "9            javascript        106038.192185  13300.0  270000.0  1959\n",
              "10               kotlin        154708.656250  32500.0  360000.0   152\n",
              "11                  php         95337.898817  17000.0  240000.0   634\n",
              "12               python        121138.257539  17000.0  303689.0  1150\n",
              "13                  sql        101660.433133  20000.0  250000.0  1682\n",
              "14           typescript        116853.080603  17000.0  300000.0   630\n",
              "15                  vba         90429.182707  26890.0  200000.0   181"
            ]
          },
          "metadata": {
            "tags": []
          },
          "execution_count": 342
        }
      ]
    },
    {
      "cell_type": "code",
      "metadata": {
        "colab": {
          "base_uri": "https://localhost:8080/",
          "height": 583
        },
        "id": "PVwSThyGMl-k",
        "outputId": "6b4824ea-f573-43b0-c81f-54a8bf8038b1"
      },
      "source": [
        "df_no_outliers_interesting_languages_group_by_programming_language.sort_values(by=[('salary_monthly_BRUTO' , 'count')],ascending = False)[:]"
      ],
      "execution_count": null,
      "outputs": [
        {
          "output_type": "execute_result",
          "data": {
            "text/html": [
              "<div>\n",
              "<style scoped>\n",
              "    .dataframe tbody tr th:only-of-type {\n",
              "        vertical-align: middle;\n",
              "    }\n",
              "\n",
              "    .dataframe tbody tr th {\n",
              "        vertical-align: top;\n",
              "    }\n",
              "\n",
              "    .dataframe thead tr th {\n",
              "        text-align: left;\n",
              "    }\n",
              "</style>\n",
              "<table border=\"1\" class=\"dataframe\">\n",
              "  <thead>\n",
              "    <tr>\n",
              "      <th></th>\n",
              "      <th>programming_language</th>\n",
              "      <th colspan=\"4\" halign=\"left\">salary_monthly_BRUTO</th>\n",
              "    </tr>\n",
              "    <tr>\n",
              "      <th></th>\n",
              "      <th></th>\n",
              "      <th>mean</th>\n",
              "      <th>min</th>\n",
              "      <th>max</th>\n",
              "      <th>count</th>\n",
              "    </tr>\n",
              "  </thead>\n",
              "  <tbody>\n",
              "    <tr>\n",
              "      <th>9</th>\n",
              "      <td>javascript</td>\n",
              "      <td>106038.192185</td>\n",
              "      <td>13300.0</td>\n",
              "      <td>270000.0</td>\n",
              "      <td>1959</td>\n",
              "    </tr>\n",
              "    <tr>\n",
              "      <th>13</th>\n",
              "      <td>sql</td>\n",
              "      <td>101660.433133</td>\n",
              "      <td>20000.0</td>\n",
              "      <td>250000.0</td>\n",
              "      <td>1682</td>\n",
              "    </tr>\n",
              "    <tr>\n",
              "      <th>7</th>\n",
              "      <td>html</td>\n",
              "      <td>96510.308188</td>\n",
              "      <td>13300.0</td>\n",
              "      <td>242000.0</td>\n",
              "      <td>1429</td>\n",
              "    </tr>\n",
              "    <tr>\n",
              "      <th>12</th>\n",
              "      <td>python</td>\n",
              "      <td>121138.257539</td>\n",
              "      <td>17000.0</td>\n",
              "      <td>303689.0</td>\n",
              "      <td>1150</td>\n",
              "    </tr>\n",
              "    <tr>\n",
              "      <th>8</th>\n",
              "      <td>java</td>\n",
              "      <td>120147.081622</td>\n",
              "      <td>20000.0</td>\n",
              "      <td>297000.0</td>\n",
              "      <td>1147</td>\n",
              "    </tr>\n",
              "    <tr>\n",
              "      <th>5</th>\n",
              "      <td>css</td>\n",
              "      <td>96831.528970</td>\n",
              "      <td>13300.0</td>\n",
              "      <td>246000.0</td>\n",
              "      <td>990</td>\n",
              "    </tr>\n",
              "    <tr>\n",
              "      <th>1</th>\n",
              "      <td>bash/shell</td>\n",
              "      <td>120068.243095</td>\n",
              "      <td>17000.0</td>\n",
              "      <td>303689.0</td>\n",
              "      <td>798</td>\n",
              "    </tr>\n",
              "    <tr>\n",
              "      <th>11</th>\n",
              "      <td>php</td>\n",
              "      <td>95337.898817</td>\n",
              "      <td>17000.0</td>\n",
              "      <td>240000.0</td>\n",
              "      <td>634</td>\n",
              "    </tr>\n",
              "    <tr>\n",
              "      <th>0</th>\n",
              "      <td>.net</td>\n",
              "      <td>100446.946260</td>\n",
              "      <td>17000.0</td>\n",
              "      <td>234000.0</td>\n",
              "      <td>631</td>\n",
              "    </tr>\n",
              "    <tr>\n",
              "      <th>14</th>\n",
              "      <td>typescript</td>\n",
              "      <td>116853.080603</td>\n",
              "      <td>17000.0</td>\n",
              "      <td>300000.0</td>\n",
              "      <td>630</td>\n",
              "    </tr>\n",
              "    <tr>\n",
              "      <th>3</th>\n",
              "      <td>c#</td>\n",
              "      <td>98141.034661</td>\n",
              "      <td>12000.0</td>\n",
              "      <td>230000.0</td>\n",
              "      <td>575</td>\n",
              "    </tr>\n",
              "    <tr>\n",
              "      <th>6</th>\n",
              "      <td>go</td>\n",
              "      <td>157228.713074</td>\n",
              "      <td>40000.0</td>\n",
              "      <td>345000.0</td>\n",
              "      <td>231</td>\n",
              "    </tr>\n",
              "    <tr>\n",
              "      <th>4</th>\n",
              "      <td>c++</td>\n",
              "      <td>99048.953262</td>\n",
              "      <td>12000.0</td>\n",
              "      <td>268400.0</td>\n",
              "      <td>187</td>\n",
              "    </tr>\n",
              "    <tr>\n",
              "      <th>2</th>\n",
              "      <td>c</td>\n",
              "      <td>110625.172609</td>\n",
              "      <td>12000.0</td>\n",
              "      <td>300000.0</td>\n",
              "      <td>184</td>\n",
              "    </tr>\n",
              "    <tr>\n",
              "      <th>15</th>\n",
              "      <td>vba</td>\n",
              "      <td>90429.182707</td>\n",
              "      <td>26890.0</td>\n",
              "      <td>200000.0</td>\n",
              "      <td>181</td>\n",
              "    </tr>\n",
              "    <tr>\n",
              "      <th>10</th>\n",
              "      <td>kotlin</td>\n",
              "      <td>154708.656250</td>\n",
              "      <td>32500.0</td>\n",
              "      <td>360000.0</td>\n",
              "      <td>152</td>\n",
              "    </tr>\n",
              "  </tbody>\n",
              "</table>\n",
              "</div>"
            ],
            "text/plain": [
              "   programming_language salary_monthly_BRUTO                         \n",
              "                                        mean      min       max count\n",
              "9            javascript        106038.192185  13300.0  270000.0  1959\n",
              "13                  sql        101660.433133  20000.0  250000.0  1682\n",
              "7                  html         96510.308188  13300.0  242000.0  1429\n",
              "12               python        121138.257539  17000.0  303689.0  1150\n",
              "8                  java        120147.081622  20000.0  297000.0  1147\n",
              "5                   css         96831.528970  13300.0  246000.0   990\n",
              "1            bash/shell        120068.243095  17000.0  303689.0   798\n",
              "11                  php         95337.898817  17000.0  240000.0   634\n",
              "0                  .net        100446.946260  17000.0  234000.0   631\n",
              "14           typescript        116853.080603  17000.0  300000.0   630\n",
              "3                    c#         98141.034661  12000.0  230000.0   575\n",
              "6                    go        157228.713074  40000.0  345000.0   231\n",
              "4                   c++         99048.953262  12000.0  268400.0   187\n",
              "2                     c        110625.172609  12000.0  300000.0   184\n",
              "15                  vba         90429.182707  26890.0  200000.0   181\n",
              "10               kotlin        154708.656250  32500.0  360000.0   152"
            ]
          },
          "metadata": {
            "tags": []
          },
          "execution_count": 343
        }
      ]
    },
    {
      "cell_type": "code",
      "metadata": {
        "colab": {
          "base_uri": "https://localhost:8080/",
          "height": 583
        },
        "id": "1L26zDRxMl-m",
        "outputId": "e12a42f2-840a-46c8-ff58-bf0538d940e1"
      },
      "source": [
        "df_no_outliers_interesting_languages_group_by_programming_language.sort_values(by=[('salary_monthly_BRUTO' , 'mean')],ascending = False)[:]"
      ],
      "execution_count": null,
      "outputs": [
        {
          "output_type": "execute_result",
          "data": {
            "text/html": [
              "<div>\n",
              "<style scoped>\n",
              "    .dataframe tbody tr th:only-of-type {\n",
              "        vertical-align: middle;\n",
              "    }\n",
              "\n",
              "    .dataframe tbody tr th {\n",
              "        vertical-align: top;\n",
              "    }\n",
              "\n",
              "    .dataframe thead tr th {\n",
              "        text-align: left;\n",
              "    }\n",
              "</style>\n",
              "<table border=\"1\" class=\"dataframe\">\n",
              "  <thead>\n",
              "    <tr>\n",
              "      <th></th>\n",
              "      <th>programming_language</th>\n",
              "      <th colspan=\"4\" halign=\"left\">salary_monthly_BRUTO</th>\n",
              "    </tr>\n",
              "    <tr>\n",
              "      <th></th>\n",
              "      <th></th>\n",
              "      <th>mean</th>\n",
              "      <th>min</th>\n",
              "      <th>max</th>\n",
              "      <th>count</th>\n",
              "    </tr>\n",
              "  </thead>\n",
              "  <tbody>\n",
              "    <tr>\n",
              "      <th>6</th>\n",
              "      <td>go</td>\n",
              "      <td>157228.713074</td>\n",
              "      <td>40000.0</td>\n",
              "      <td>345000.0</td>\n",
              "      <td>231</td>\n",
              "    </tr>\n",
              "    <tr>\n",
              "      <th>10</th>\n",
              "      <td>kotlin</td>\n",
              "      <td>154708.656250</td>\n",
              "      <td>32500.0</td>\n",
              "      <td>360000.0</td>\n",
              "      <td>152</td>\n",
              "    </tr>\n",
              "    <tr>\n",
              "      <th>12</th>\n",
              "      <td>python</td>\n",
              "      <td>121138.257539</td>\n",
              "      <td>17000.0</td>\n",
              "      <td>303689.0</td>\n",
              "      <td>1150</td>\n",
              "    </tr>\n",
              "    <tr>\n",
              "      <th>8</th>\n",
              "      <td>java</td>\n",
              "      <td>120147.081622</td>\n",
              "      <td>20000.0</td>\n",
              "      <td>297000.0</td>\n",
              "      <td>1147</td>\n",
              "    </tr>\n",
              "    <tr>\n",
              "      <th>1</th>\n",
              "      <td>bash/shell</td>\n",
              "      <td>120068.243095</td>\n",
              "      <td>17000.0</td>\n",
              "      <td>303689.0</td>\n",
              "      <td>798</td>\n",
              "    </tr>\n",
              "    <tr>\n",
              "      <th>14</th>\n",
              "      <td>typescript</td>\n",
              "      <td>116853.080603</td>\n",
              "      <td>17000.0</td>\n",
              "      <td>300000.0</td>\n",
              "      <td>630</td>\n",
              "    </tr>\n",
              "    <tr>\n",
              "      <th>2</th>\n",
              "      <td>c</td>\n",
              "      <td>110625.172609</td>\n",
              "      <td>12000.0</td>\n",
              "      <td>300000.0</td>\n",
              "      <td>184</td>\n",
              "    </tr>\n",
              "    <tr>\n",
              "      <th>9</th>\n",
              "      <td>javascript</td>\n",
              "      <td>106038.192185</td>\n",
              "      <td>13300.0</td>\n",
              "      <td>270000.0</td>\n",
              "      <td>1959</td>\n",
              "    </tr>\n",
              "    <tr>\n",
              "      <th>13</th>\n",
              "      <td>sql</td>\n",
              "      <td>101660.433133</td>\n",
              "      <td>20000.0</td>\n",
              "      <td>250000.0</td>\n",
              "      <td>1682</td>\n",
              "    </tr>\n",
              "    <tr>\n",
              "      <th>0</th>\n",
              "      <td>.net</td>\n",
              "      <td>100446.946260</td>\n",
              "      <td>17000.0</td>\n",
              "      <td>234000.0</td>\n",
              "      <td>631</td>\n",
              "    </tr>\n",
              "    <tr>\n",
              "      <th>4</th>\n",
              "      <td>c++</td>\n",
              "      <td>99048.953262</td>\n",
              "      <td>12000.0</td>\n",
              "      <td>268400.0</td>\n",
              "      <td>187</td>\n",
              "    </tr>\n",
              "    <tr>\n",
              "      <th>3</th>\n",
              "      <td>c#</td>\n",
              "      <td>98141.034661</td>\n",
              "      <td>12000.0</td>\n",
              "      <td>230000.0</td>\n",
              "      <td>575</td>\n",
              "    </tr>\n",
              "    <tr>\n",
              "      <th>5</th>\n",
              "      <td>css</td>\n",
              "      <td>96831.528970</td>\n",
              "      <td>13300.0</td>\n",
              "      <td>246000.0</td>\n",
              "      <td>990</td>\n",
              "    </tr>\n",
              "    <tr>\n",
              "      <th>7</th>\n",
              "      <td>html</td>\n",
              "      <td>96510.308188</td>\n",
              "      <td>13300.0</td>\n",
              "      <td>242000.0</td>\n",
              "      <td>1429</td>\n",
              "    </tr>\n",
              "    <tr>\n",
              "      <th>11</th>\n",
              "      <td>php</td>\n",
              "      <td>95337.898817</td>\n",
              "      <td>17000.0</td>\n",
              "      <td>240000.0</td>\n",
              "      <td>634</td>\n",
              "    </tr>\n",
              "    <tr>\n",
              "      <th>15</th>\n",
              "      <td>vba</td>\n",
              "      <td>90429.182707</td>\n",
              "      <td>26890.0</td>\n",
              "      <td>200000.0</td>\n",
              "      <td>181</td>\n",
              "    </tr>\n",
              "  </tbody>\n",
              "</table>\n",
              "</div>"
            ],
            "text/plain": [
              "   programming_language salary_monthly_BRUTO                         \n",
              "                                        mean      min       max count\n",
              "6                    go        157228.713074  40000.0  345000.0   231\n",
              "10               kotlin        154708.656250  32500.0  360000.0   152\n",
              "12               python        121138.257539  17000.0  303689.0  1150\n",
              "8                  java        120147.081622  20000.0  297000.0  1147\n",
              "1            bash/shell        120068.243095  17000.0  303689.0   798\n",
              "14           typescript        116853.080603  17000.0  300000.0   630\n",
              "2                     c        110625.172609  12000.0  300000.0   184\n",
              "9            javascript        106038.192185  13300.0  270000.0  1959\n",
              "13                  sql        101660.433133  20000.0  250000.0  1682\n",
              "0                  .net        100446.946260  17000.0  234000.0   631\n",
              "4                   c++         99048.953262  12000.0  268400.0   187\n",
              "3                    c#         98141.034661  12000.0  230000.0   575\n",
              "5                   css         96831.528970  13300.0  246000.0   990\n",
              "7                  html         96510.308188  13300.0  242000.0  1429\n",
              "11                  php         95337.898817  17000.0  240000.0   634\n",
              "15                  vba         90429.182707  26890.0  200000.0   181"
            ]
          },
          "metadata": {
            "tags": []
          },
          "execution_count": 344
        }
      ]
    },
    {
      "cell_type": "code",
      "metadata": {
        "colab": {
          "base_uri": "https://localhost:8080/",
          "height": 571
        },
        "id": "REZK0zzAMl-n",
        "outputId": "913de5b4-06b5-43b6-8cf7-8f378b3fb587"
      },
      "source": [
        "df_no_outliers_interesting_languages_group_by_programming_language.columns = [''.join(col).strip() for col in df_no_outliers_interesting_languages_group_by_programming_language.columns.values]\n",
        "\n",
        "df_no_outliers_interesting_languages_group_by_programming_language['proc'] = 100 * df_no_outliers_interesting_languages_group_by_programming_language['salary_monthly_BRUTOcount'] / df_no_outliers_interesting_languages_group_by_programming_language['salary_monthly_BRUTOcount'].sum()\n",
        "\n",
        "df_no_outliers_interesting_languages_group_by_programming_language"
      ],
      "execution_count": null,
      "outputs": [
        {
          "output_type": "execute_result",
          "data": {
            "text/html": [
              "<div>\n",
              "<style scoped>\n",
              "    .dataframe tbody tr th:only-of-type {\n",
              "        vertical-align: middle;\n",
              "    }\n",
              "\n",
              "    .dataframe tbody tr th {\n",
              "        vertical-align: top;\n",
              "    }\n",
              "\n",
              "    .dataframe thead th {\n",
              "        text-align: right;\n",
              "    }\n",
              "</style>\n",
              "<table border=\"1\" class=\"dataframe\">\n",
              "  <thead>\n",
              "    <tr style=\"text-align: right;\">\n",
              "      <th></th>\n",
              "      <th>programming_language</th>\n",
              "      <th>salary_monthly_BRUTOmean</th>\n",
              "      <th>salary_monthly_BRUTOmin</th>\n",
              "      <th>salary_monthly_BRUTOmax</th>\n",
              "      <th>salary_monthly_BRUTOcount</th>\n",
              "      <th>proc</th>\n",
              "    </tr>\n",
              "  </thead>\n",
              "  <tbody>\n",
              "    <tr>\n",
              "      <th>0</th>\n",
              "      <td>.net</td>\n",
              "      <td>100446.946260</td>\n",
              "      <td>17000.0</td>\n",
              "      <td>234000.0</td>\n",
              "      <td>631</td>\n",
              "      <td>5.023885</td>\n",
              "    </tr>\n",
              "    <tr>\n",
              "      <th>1</th>\n",
              "      <td>bash/shell</td>\n",
              "      <td>120068.243095</td>\n",
              "      <td>17000.0</td>\n",
              "      <td>303689.0</td>\n",
              "      <td>798</td>\n",
              "      <td>6.353503</td>\n",
              "    </tr>\n",
              "    <tr>\n",
              "      <th>2</th>\n",
              "      <td>c</td>\n",
              "      <td>110625.172609</td>\n",
              "      <td>12000.0</td>\n",
              "      <td>300000.0</td>\n",
              "      <td>184</td>\n",
              "      <td>1.464968</td>\n",
              "    </tr>\n",
              "    <tr>\n",
              "      <th>3</th>\n",
              "      <td>c#</td>\n",
              "      <td>98141.034661</td>\n",
              "      <td>12000.0</td>\n",
              "      <td>230000.0</td>\n",
              "      <td>575</td>\n",
              "      <td>4.578025</td>\n",
              "    </tr>\n",
              "    <tr>\n",
              "      <th>4</th>\n",
              "      <td>c++</td>\n",
              "      <td>99048.953262</td>\n",
              "      <td>12000.0</td>\n",
              "      <td>268400.0</td>\n",
              "      <td>187</td>\n",
              "      <td>1.488854</td>\n",
              "    </tr>\n",
              "    <tr>\n",
              "      <th>5</th>\n",
              "      <td>css</td>\n",
              "      <td>96831.528970</td>\n",
              "      <td>13300.0</td>\n",
              "      <td>246000.0</td>\n",
              "      <td>990</td>\n",
              "      <td>7.882166</td>\n",
              "    </tr>\n",
              "    <tr>\n",
              "      <th>6</th>\n",
              "      <td>go</td>\n",
              "      <td>157228.713074</td>\n",
              "      <td>40000.0</td>\n",
              "      <td>345000.0</td>\n",
              "      <td>231</td>\n",
              "      <td>1.839172</td>\n",
              "    </tr>\n",
              "    <tr>\n",
              "      <th>7</th>\n",
              "      <td>html</td>\n",
              "      <td>96510.308188</td>\n",
              "      <td>13300.0</td>\n",
              "      <td>242000.0</td>\n",
              "      <td>1429</td>\n",
              "      <td>11.377389</td>\n",
              "    </tr>\n",
              "    <tr>\n",
              "      <th>8</th>\n",
              "      <td>java</td>\n",
              "      <td>120147.081622</td>\n",
              "      <td>20000.0</td>\n",
              "      <td>297000.0</td>\n",
              "      <td>1147</td>\n",
              "      <td>9.132166</td>\n",
              "    </tr>\n",
              "    <tr>\n",
              "      <th>9</th>\n",
              "      <td>javascript</td>\n",
              "      <td>106038.192185</td>\n",
              "      <td>13300.0</td>\n",
              "      <td>270000.0</td>\n",
              "      <td>1959</td>\n",
              "      <td>15.597134</td>\n",
              "    </tr>\n",
              "    <tr>\n",
              "      <th>10</th>\n",
              "      <td>kotlin</td>\n",
              "      <td>154708.656250</td>\n",
              "      <td>32500.0</td>\n",
              "      <td>360000.0</td>\n",
              "      <td>152</td>\n",
              "      <td>1.210191</td>\n",
              "    </tr>\n",
              "    <tr>\n",
              "      <th>11</th>\n",
              "      <td>php</td>\n",
              "      <td>95337.898817</td>\n",
              "      <td>17000.0</td>\n",
              "      <td>240000.0</td>\n",
              "      <td>634</td>\n",
              "      <td>5.047771</td>\n",
              "    </tr>\n",
              "    <tr>\n",
              "      <th>12</th>\n",
              "      <td>python</td>\n",
              "      <td>121138.257539</td>\n",
              "      <td>17000.0</td>\n",
              "      <td>303689.0</td>\n",
              "      <td>1150</td>\n",
              "      <td>9.156051</td>\n",
              "    </tr>\n",
              "    <tr>\n",
              "      <th>13</th>\n",
              "      <td>sql</td>\n",
              "      <td>101660.433133</td>\n",
              "      <td>20000.0</td>\n",
              "      <td>250000.0</td>\n",
              "      <td>1682</td>\n",
              "      <td>13.391720</td>\n",
              "    </tr>\n",
              "    <tr>\n",
              "      <th>14</th>\n",
              "      <td>typescript</td>\n",
              "      <td>116853.080603</td>\n",
              "      <td>17000.0</td>\n",
              "      <td>300000.0</td>\n",
              "      <td>630</td>\n",
              "      <td>5.015924</td>\n",
              "    </tr>\n",
              "    <tr>\n",
              "      <th>15</th>\n",
              "      <td>vba</td>\n",
              "      <td>90429.182707</td>\n",
              "      <td>26890.0</td>\n",
              "      <td>200000.0</td>\n",
              "      <td>181</td>\n",
              "      <td>1.441083</td>\n",
              "    </tr>\n",
              "  </tbody>\n",
              "</table>\n",
              "</div>"
            ],
            "text/plain": [
              "   programming_language  ...       proc\n",
              "0                  .net  ...   5.023885\n",
              "1            bash/shell  ...   6.353503\n",
              "2                     c  ...   1.464968\n",
              "3                    c#  ...   4.578025\n",
              "4                   c++  ...   1.488854\n",
              "5                   css  ...   7.882166\n",
              "6                    go  ...   1.839172\n",
              "7                  html  ...  11.377389\n",
              "8                  java  ...   9.132166\n",
              "9            javascript  ...  15.597134\n",
              "10               kotlin  ...   1.210191\n",
              "11                  php  ...   5.047771\n",
              "12               python  ...   9.156051\n",
              "13                  sql  ...  13.391720\n",
              "14           typescript  ...   5.015924\n",
              "15                  vba  ...   1.441083\n",
              "\n",
              "[16 rows x 6 columns]"
            ]
          },
          "metadata": {
            "tags": []
          },
          "execution_count": 345
        }
      ]
    },
    {
      "cell_type": "code",
      "metadata": {
        "colab": {
          "base_uri": "https://localhost:8080/",
          "height": 426
        },
        "id": "u6vtVd_AMl-o",
        "outputId": "c1a75121-cd73-4579-bb28-4c1215905805"
      },
      "source": [
        "fig, axes = plt.subplots(1, 2 , figsize=(18, 10))\n",
        "\n",
        "\n",
        "\n",
        "seaborn.boxplot(ax = axes[0] , x=\"programming_language\", y=\"salary_monthly_BRUTO\", data=df_no_outliers_interesting_languages)\n",
        "axes[0].set_xticklabels(axes[0].get_xticklabels(),rotation=90)\n",
        "axes[0].set_xlabel('Lenguajes')\n",
        "axes[0].set_ylabel('Salario Bruto')\n",
        "axes[0].set_title('Salarios Brutos Promedio')\n",
        "\n",
        "\n",
        "seaborn.barplot(ax = axes[1] , x=\"programming_language\", y=\"salary_monthly_BRUTOcount\", data=df_no_outliers_interesting_languages_group_by_programming_language)\n",
        "axes[1].set_xticklabels(axes[1].get_xticklabels(),rotation=90)\n",
        "axes[1].set_xlabel('Lenguajes')\n",
        "axes[1].set_ylabel('Cantidad Encuestados')\n",
        "axes[1].set_title('Popularidad Lenguajes')\n",
        "\n",
        "\n"
      ],
      "execution_count": null,
      "outputs": [
        {
          "output_type": "execute_result",
          "data": {
            "text/plain": [
              "Text(0.5, 1.0, 'Popularidad Lenguajes')"
            ]
          },
          "metadata": {
            "tags": []
          },
          "execution_count": 346
        },
        {
          "output_type": "display_data",
          "data": {
            "image/png": "[encoded data removed]",
            "text/plain": [
              "<Figure size 1296x720 with 2 Axes>"
            ]
          },
          "metadata": {
            "tags": [],
            "needs_background": "light"
          }
        }
      ]
    },
    {
      "cell_type": "markdown",
      "metadata": {
        "id": "7abQc60vSU3a"
      },
      "source": [
        "Medias del salario promedio por lenguaje FILTRADO POR POPULARIDAD:"
      ]
    },
    {
      "cell_type": "code",
      "metadata": {
        "id": "PpV1x5nvSX5A",
        "colab": {
          "base_uri": "https://localhost:8080/",
          "height": 239
        },
        "outputId": "6a053eaa-bdab-4e72-d91e-849831530cf0"
      },
      "source": [
        "df_means_popular = popular_filtered_df_lang.groupby(['programming_language']).agg({'salary_monthly_NETO': ['mean']}).reset_index()"
      ],
      "execution_count": null,
      "outputs": [
        {
          "output_type": "error",
          "ename": "NameError",
          "evalue": "ignored",
          "traceback": [
            "\u001b[0;31m---------------------------------------------------------------------------\u001b[0m",
            "\u001b[0;31mNameError\u001b[0m                                 Traceback (most recent call last)",
            "\u001b[0;32m<ipython-input-347-a50bdb5dd23b>\u001b[0m in \u001b[0;36m<module>\u001b[0;34m()\u001b[0m\n\u001b[0;32m----> 1\u001b[0;31m \u001b[0mdf_means_popular\u001b[0m \u001b[0;34m=\u001b[0m \u001b[0mpopular_filtered_df_lang\u001b[0m\u001b[0;34m.\u001b[0m\u001b[0mgroupby\u001b[0m\u001b[0;34m(\u001b[0m\u001b[0;34m[\u001b[0m\u001b[0;34m'programming_language'\u001b[0m\u001b[0;34m]\u001b[0m\u001b[0;34m)\u001b[0m\u001b[0;34m.\u001b[0m\u001b[0magg\u001b[0m\u001b[0;34m(\u001b[0m\u001b[0;34m{\u001b[0m\u001b[0;34m'salary_monthly_NETO'\u001b[0m\u001b[0;34m:\u001b[0m \u001b[0;34m[\u001b[0m\u001b[0;34m'mean'\u001b[0m\u001b[0;34m]\u001b[0m\u001b[0;34m}\u001b[0m\u001b[0;34m)\u001b[0m\u001b[0;34m.\u001b[0m\u001b[0mreset_index\u001b[0m\u001b[0;34m(\u001b[0m\u001b[0;34m)\u001b[0m\u001b[0;34m\u001b[0m\u001b[0;34m\u001b[0m\u001b[0m\n\u001b[0m",
            "\u001b[0;31mNameError\u001b[0m: name 'popular_filtered_df_lang' is not defined"
          ]
        }
      ]
    },
    {
      "cell_type": "markdown",
      "metadata": {
        "id": "tWo8SmmC9FAk"
      },
      "source": [
        "# Ejercicio 2 - Densidades y varias varialbes\n",
        "\n",
        "Responder a la pregunta general: **¿Que herramientas (prácticas y teóricas) són útiles para explorar la base, descubrir patrones, asociaciones?**\n",
        "\n",
        "Para ello considere (igual al ejercicio Anterior):\n",
        "1. Seleccionar las columnas relevantes para analizar.\n",
        "2. Seleccionar las filas relevantes para analizar. Esto incluye la eliminación de valores extremos y erróneos, pero también puede enfocar el análisis en sub-poblaciones. "
      ]
    },
    {
      "cell_type": "code",
      "metadata": {
        "id": "RZ6cN4ZaMl-q"
      },
      "source": [
        "#Vamos a utilizar el data frame f_no_outliers_interesting_languages_part_2\n",
        "df_no_outliers_interesting_languages_part_2[:5]"
      ],
      "execution_count": null,
      "outputs": []
    },
    {
      "cell_type": "markdown",
      "metadata": {
        "id": "5baYhH0XHM3S"
      },
      "source": [
        "## a) Densidad conjunta\n",
        "\n",
        "Que herramientas visuales y modelos puede utilizar para estudiar la distribución y comportamiento de sus datos? \n",
        "\n",
        "Elija tres variables numéricas y 2 variables categóricas. Visualice la base según varias de las variables elegidas. Puede describir de alguna forma el comportamiento de sus datos? Que herramientas utilizaría? Describa\n",
        "\n",
        "\n"
      ]
    },
    {
      "cell_type": "code",
      "metadata": {
        "id": "CTzll0diMl-s"
      },
      "source": [
        "#Distribucion y comportamiento\n",
        "df_no_outliers_interesting_languages_part_2[:1]\n",
        "\n",
        "\n"
      ],
      "execution_count": null,
      "outputs": []
    },
    {
      "cell_type": "code",
      "metadata": {
        "id": "4r5Lk9YgMl-t"
      },
      "source": [
        "scale_mapper = {\"Primario\":1, \"Secundario\":2, \"Terciario\":3 , \"Universitario\":4 , \"Posgrado\":5 , \"Doctorado\": 6  , \"Posdoctorado\" : 7  }\n",
        "\n",
        "\n",
        "df_no_outliers_interesting_languages_part_2[\"profile_studies_level_ordinal\"]  = df_no_outliers_interesting_languages_part_2[\"profile_studies_level\"].replace(scale_mapper)\n",
        "\n",
        "\n"
      ],
      "execution_count": null,
      "outputs": []
    },
    {
      "cell_type": "code",
      "metadata": {
        "id": "0W1f41miMl-u"
      },
      "source": [
        "fig, axes = plt.subplots(1, 2 , figsize=(18, 10))\n",
        "\n",
        "seaborn.histplot(ax = axes[0], data = df_no_outliers_interesting_languages_part_2.sort_values(by=['profile_studies_level_ordinal']), x=\"profile_studies_level\" , hue=\"profile_gender\"  , multiple=\"dodge\")\n",
        "\n",
        "seaborn.histplot(ax = axes[1], data = df_no_outliers_interesting_languages_part_2, x=\"programming_language\" , hue=\"profile_gender\"  , multiple=\"dodge\")\n",
        "\n",
        "axes[0].set_title('Dist Estudios por sexo')\n",
        "axes[0].set_ylabel('Cantidad')\n",
        "axes[0].set_xlabel('Nivel Estudio')\n",
        "\n",
        "\n",
        "plt.draw()\n",
        "\n",
        "axes[0].set_xticklabels(axes[0].get_xticklabels(),rotation=90)\n",
        "#axes[0].legend(handles = axes[0].legend.handles() , title = 'Sexo')\n",
        "\n",
        "\n",
        "axes[1].set_xticklabels(axes[1].get_xticklabels(),rotation=90)\n",
        "\n"
      ],
      "execution_count": null,
      "outputs": []
    },
    {
      "cell_type": "markdown",
      "metadata": {
        "id": "lkuHE2aZGHMO"
      },
      "source": [
        "## b) Asociación\n",
        "\n",
        "* Necesitamos decidir si sacar o no la columna de salario bruto. Para hacer la encuesta más simple.\n",
        "¿Existe una correlación entre el salario bruto y el neto? Que abordaje y medidas usaría\n",
        "\n"
      ]
    },
    {
      "cell_type": "code",
      "metadata": {
        "id": "DsWh5Mu7Ml-w"
      },
      "source": [
        "g = seaborn.pairplot(df_no_outliers_interesting_languages_part_2[[ 'salary_monthly_BRUTO' , 'salary_monthly_NETO' ]])\n",
        "for axes in g.axes.flat:\n",
        "     axes.set_ylabel(axes.get_ylabel(), rotation=0, horizontalalignment='right')\n",
        "     axes.set_xlabel(axes.get_xlabel(), rotation=45)"
      ],
      "execution_count": null,
      "outputs": []
    },
    {
      "cell_type": "code",
      "metadata": {
        "id": "SC1DVUEZMl-x"
      },
      "source": [
        "df_no_outliers_interesting_languages_part_2[ 'salary_monthly_BRUTO'].corr(df_no_outliers_interesting_languages[ 'salary_monthly_NETO'])"
      ],
      "execution_count": null,
      "outputs": []
    },
    {
      "cell_type": "code",
      "metadata": {
        "id": "NFWdeOBMMl-y"
      },
      "source": [
        "# De lo anterior se desprende que hay una alta correralación entre el salario bruto y el neto lo cual nos permite \n",
        "# omitir alguna de las dos columnas\n"
      ],
      "execution_count": null,
      "outputs": []
    },
    {
      "cell_type": "markdown",
      "metadata": {
        "id": "7MZrbRJCm-ae"
      },
      "source": [
        "## c) Densidad condicional \n",
        "\n",
        "Estudie la distribución del salario según el nivel de estudio.\n",
        "\n",
        "Separe la población según el nivel de estudio (elija dos subpoblaciones numerosas) y grafique de manera comparativa ambos histogramas de la variable `'salary_monthly_NETO'`\n",
        "¿Considera que ambas variables son independientes?\n",
        "¿Qué analizaría al respecto?\n",
        "\n",
        "Calcule medidas de centralización y dispersión para cada subpoblación\n",
        "\n",
        "\n",
        "\n",
        "\n"
      ]
    },
    {
      "cell_type": "code",
      "metadata": {
        "id": "cPgQa9q2Ml-z"
      },
      "source": [
        "pob_terciario = df_no_outliers_interesting_languages_part_2[df_no_outliers_interesting_languages_part_2['profile_studies_level']== 'Terciario']\n",
        "pob_universitario = df_no_outliers_interesting_languages_part_2[df_no_outliers_interesting_languages_part_2['profile_studies_level']== 'Universitario']\n",
        "\n",
        "\n",
        "mean_ter = pob_terciario['salary_monthly_NETO'].mean()\n",
        "median_ter = pob_terciario['salary_monthly_NETO'].median()\n",
        "std_ter = pob_terciario['salary_monthly_NETO'].std()\n",
        "\n",
        "mean_uni = pob_universitario['salary_monthly_BRUTO'].mean()\n",
        "median_uni = pob_universitario['salary_monthly_BRUTO'].median()\n",
        "std_uni = pob_universitario['salary_monthly_BRUTO'].std()\n",
        "\n",
        "print (\"Estudios Terciarios\")\n",
        "print (f\" Media: {mean_ter} , Mediana: {median_ter} , Des: {std_ter} \")\n",
        "\n",
        "print (\"Estudios Universitarios\")\n",
        "print (f\" Media: {mean_uni} , Mediana: {median_uni} , Des: {std_uni} \")\n"
      ],
      "execution_count": null,
      "outputs": []
    },
    {
      "cell_type": "code",
      "metadata": {
        "id": "leMVB7iPMl-1"
      },
      "source": [
        "from matplotlib.lines import Line2D\n",
        "fig, axes = plt.subplots(1, 2 , figsize=(18, 10))\n",
        "\n",
        "\n",
        "\n",
        "seaborn.distplot(a = pob_terciario['salary_monthly_NETO'] ,ax = axes[0] )\n",
        "seaborn.distplot(a = pob_universitario['salary_monthly_NETO'] ,ax = axes[1] )\n",
        "\n",
        "\n",
        "\n",
        "plt.draw()\n",
        "\n",
        "axes[0].set_xticklabels(axes[0].get_xticklabels(),rotation=75)\n",
        "axes[0].set_xlabel('Salarios')\n",
        "\n",
        "axes[1].set_xticklabels(axes[0].get_xticklabels(),rotation=75)\n",
        "axes[1].set_xlabel('Salarios')\n",
        "\n",
        "\n",
        "#axes[0].set_ylabel('Salario Bruto')\n",
        "axes[0].set_title('Dist Salarios Terciarios')\n",
        "axes[0].axvline(mean_ter, color='r', linestyle='-')\n",
        "axes[0].axvline(median_ter, color='g', linestyle='-')\n",
        "\n",
        "axes[1].set_title('Dist Salarios Universitario')\n",
        "axes[1].axvline(mean_uni, color='r', linestyle='-')\n",
        "axes[1].axvline(median_uni, color='g', linestyle='-')\n",
        "\n",
        "\n",
        "\n",
        "\n",
        "custom_lines = [Line2D([0], [0], color='red', lw=2),\n",
        "            Line2D([0], [0], color='green', lw=2)]\n",
        "\n",
        "axes[0].legend(custom_lines , ['media','mediana'])\n",
        "axes[1].legend(custom_lines , ['media','mediana'])\n"
      ],
      "execution_count": null,
      "outputs": []
    },
    {
      "cell_type": "code",
      "metadata": {
        "id": "-YaXETCXMl-2"
      },
      "source": [
        "\n",
        "\n",
        "df_uni_ter = df_no_outliers_interesting_languages_part_2[df_no_outliers_interesting_languages_part_2['profile_studies_level'].isin(['Universitario' , 'Terciario'])]\n",
        "\n",
        "\n",
        "seaborn.displot(df_uni_ter , x='salary_monthly_NETO' , hue='profile_studies_level' ,ax = axes[0] )\n"
      ],
      "execution_count": null,
      "outputs": []
    },
    {
      "cell_type": "markdown",
      "metadata": {
        "id": "u8wgYxNiqVpE"
      },
      "source": [
        "## d) Densidad Conjunta condicional\n",
        "\n",
        "Elija dos variables numéricas y una categórica. \n",
        "Estudie la dispersión (scatterplot) de las dos variables discriminando en color por la variable categórica (ayuda: hue en seaborn)\n"
      ]
    },
    {
      "cell_type": "code",
      "metadata": {
        "id": "zA7wOecWMl-8"
      },
      "source": [
        "\n",
        "fig, axes = plt.subplots(1, 2 , figsize=(18, 10))\n",
        "\n",
        "\n",
        "\n",
        "\n",
        "seaborn.scatterplot(ax = axes[0] , data=df_no_outliers_interesting_languages_part_2, x=\"salary_monthly_NETO\", y=\"profile_years_experience\" , hue=\"profile_studies_level\")\n",
        "\n",
        "seaborn.scatterplot(ax = axes[1] , data=df_no_outliers_interesting_languages_part_2, x=\"salary_monthly_NETO\", y=\"work_years_in_company\" , hue=\"profile_studies_level\")"
      ],
      "execution_count": null,
      "outputs": []
    },
    {
      "cell_type": "code",
      "metadata": {
        "id": "lVXTSYITMl-9"
      },
      "source": [
        "# Se observa un outlayer importante en profile_years_experiencie. Lo eliminamos para que el diagrama no se 'compacte'"
      ],
      "execution_count": null,
      "outputs": []
    },
    {
      "cell_type": "code",
      "metadata": {
        "id": "EhoFGq-MMl--"
      },
      "source": [
        "fig, axes = plt.subplots(1, 2 , figsize=(18, 10))\n",
        "\n",
        "\n",
        "\n",
        "\n",
        "seaborn.scatterplot(ax = axes[0] , data=df_no_outliers_interesting_languages_part_2[df_no_outliers_interesting_languages_part_2.profile_years_experience < 60], x=\"salary_monthly_NETO\", y=\"profile_years_experience\" , hue=\"profile_studies_level\")\n",
        "\n",
        "seaborn.scatterplot(ax = axes[1] , data=df_no_outliers_interesting_languages_part_2[df_no_outliers_interesting_languages_part_2.profile_years_experience < 60], x=\"salary_monthly_NETO\", y=\"work_years_in_company\" , hue=\"profile_studies_level\")"
      ],
      "execution_count": null,
      "outputs": []
    },
    {
      "cell_type": "code",
      "metadata": {
        "id": "eF9PZiGdMl_A"
      },
      "source": [
        "\n",
        "fig, axes = plt.subplots(1, 2 , figsize=(18, 10))\n",
        "\n",
        "\n",
        "\n",
        "\n",
        "\n",
        "seaborn.scatterplot(ax = axes[0]  ,data=df_no_outliers_interesting_languages_part_2[df_no_outliers_interesting_languages_part_2.profile_years_experience < 60], x=\"salary_monthly_NETO\", y=\"work_people_in_charge_of\" , hue=\"profile_studies_level\")"
      ],
      "execution_count": null,
      "outputs": []
    },
    {
      "cell_type": "code",
      "metadata": {
        "id": "m4QyiOPkMl_A"
      },
      "source": [
        ""
      ],
      "execution_count": null,
      "outputs": []
    }
  ]
}