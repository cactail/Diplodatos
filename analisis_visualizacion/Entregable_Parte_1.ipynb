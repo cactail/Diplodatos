{
  "nbformat": 4,
  "nbformat_minor": 0,
  "metadata": {
    "colab": {
      "name": "Entregable_Parte_1.ipynb",
      "provenance": [],
      "collapsed_sections": [],
      "toc_visible": true
    },
    "kernelspec": {
      "display_name": "Python 3",
      "language": "python",
      "name": "python3"
    },
    "language_info": {
      "codemirror_mode": {
        "name": "ipython",
        "version": 3
      },
      "file_extension": ".py",
      "mimetype": "text/x-python",
      "name": "python",
      "nbconvert_exporter": "python",
      "pygments_lexer": "ipython3",
      "version": "3.6.13"
    }
  },
  "cells": [
    {
      "cell_type": "markdown",
      "metadata": {
        "id": "view-in-github"
      },
      "source": [
        "<a href=\"https://colab.research.google.com/github/DiploDatos/AnalisisyVisualizacion/blob/master/Entregable_Parte_1.ipynb\" target=\"_parent\"><img src=\"https://colab.research.google.com/assets/colab-badge.svg\" alt=\"Open In Colab\"/></a>"
      ]
    },
    {
      "cell_type": "markdown",
      "metadata": {
        "id": "LYvAOR2VzHmW"
      },
      "source": [
        "\n",
        "**Diplomatura en Ciencia de Datos, Aprendizaje Automático y sus Aplicaciones**\n",
        "\n",
        "**Edición 2021**\n",
        "\n",
        "---\n",
        "## Trabajo práctico entregable - Parte 1"
      ]
    },
    {
      "cell_type": "code",
      "metadata": {
        "id": "Xwdfo7z20TUK"
      },
      "source": [
        "import io\n",
        "import matplotlib\n",
        "import matplotlib.pyplot as plt\n",
        "import numpy\n",
        "import pandas as pd\n",
        "import seaborn\n",
        "\n",
        "seaborn.set_context('talk')"
      ],
      "execution_count": 1,
      "outputs": []
    },
    {
      "cell_type": "markdown",
      "metadata": {
        "id": "XY2Hl-Ma07Nn"
      },
      "source": [
        "## Lectura del dataset\n",
        "\n",
        "En la notebook 00 se explican los detalles de la siguiente sección."
      ]
    },
    {
      "cell_type": "code",
      "metadata": {
        "id": "Vviv_sqXdR5W"
      },
      "source": [
        "url = 'https://cs.famaf.unc.edu.ar/~mteruel/datasets/diplodatos/sysarmy_survey_2020_processed.csv'\n",
        "df = pd.read_csv(url)"
      ],
      "execution_count": 2,
      "outputs": []
    },
    {
      "cell_type": "code",
      "metadata": {
        "colab": {
          "base_uri": "https://localhost:8080/",
          "height": 302
        },
        "id": "gckNHXXLktJ4",
        "outputId": "3b175c77-4d26-407a-e09a-df610a952abe"
      },
      "source": [
        "df[:3]"
      ],
      "execution_count": 3,
      "outputs": [
        {
          "output_type": "execute_result",
          "data": {
            "text/html": [
              "<div>\n",
              "<style scoped>\n",
              "    .dataframe tbody tr th:only-of-type {\n",
              "        vertical-align: middle;\n",
              "    }\n",
              "\n",
              "    .dataframe tbody tr th {\n",
              "        vertical-align: top;\n",
              "    }\n",
              "\n",
              "    .dataframe thead th {\n",
              "        text-align: right;\n",
              "    }\n",
              "</style>\n",
              "<table border=\"1\" class=\"dataframe\">\n",
              "  <thead>\n",
              "    <tr style=\"text-align: right;\">\n",
              "      <th></th>\n",
              "      <th>profile_gender</th>\n",
              "      <th>profile_age</th>\n",
              "      <th>work_country</th>\n",
              "      <th>work_province</th>\n",
              "      <th>profile_years_experience</th>\n",
              "      <th>work_years_in_company</th>\n",
              "      <th>work_years_in_current_position</th>\n",
              "      <th>work_people_in_charge_of</th>\n",
              "      <th>profile_studies_level</th>\n",
              "      <th>profile_studies_level_state</th>\n",
              "      <th>profile_career</th>\n",
              "      <th>profile_university</th>\n",
              "      <th>profile_specialization_courses</th>\n",
              "      <th>profile_open_source_contributions</th>\n",
              "      <th>profile_programming_as_hobby</th>\n",
              "      <th>work_role</th>\n",
              "      <th>tools_platform</th>\n",
              "      <th>tools_programming_languages</th>\n",
              "      <th>tools_frameworks</th>\n",
              "      <th>tools_data_bases</th>\n",
              "      <th>tools_qa_testing</th>\n",
              "      <th>tools_IDEs</th>\n",
              "      <th>tools_work_pc_os</th>\n",
              "      <th>tools_cellphone_os</th>\n",
              "      <th>work_on_call_duty</th>\n",
              "      <th>salary_on_call_duty_charge</th>\n",
              "      <th>work_on_call_duty_charge_type</th>\n",
              "      <th>work_contract_type</th>\n",
              "      <th>salary_monthly_BRUTO</th>\n",
              "      <th>salary_monthly_NETO</th>\n",
              "      <th>salary_in_usd</th>\n",
              "      <th>salary_satisfaction</th>\n",
              "      <th>salary_comparison_last_semester</th>\n",
              "      <th>salary_has_bonus</th>\n",
              "      <th>salary_bonus_tied_to</th>\n",
              "      <th>salary_inflation_adjustment_2020</th>\n",
              "      <th>salary_percentage_inflation_adjustment_2020</th>\n",
              "      <th>salary_month_last_inflation_adjustment</th>\n",
              "      <th>work_has_violence_situations</th>\n",
              "      <th>profile_sexual_orientation</th>\n",
              "      <th>profile_has_disabilities</th>\n",
              "      <th>profile_has_disabilities_hiring_difficulties</th>\n",
              "      <th>company_employee_number</th>\n",
              "      <th>company_main_activity</th>\n",
              "      <th>company_recommended</th>\n",
              "      <th>company_diversity_policies</th>\n",
              "      <th>company_extra_benefits</th>\n",
              "      <th>company_best_companies_city</th>\n",
              "    </tr>\n",
              "  </thead>\n",
              "  <tbody>\n",
              "    <tr>\n",
              "      <th>0</th>\n",
              "      <td>Mujer</td>\n",
              "      <td>26</td>\n",
              "      <td>Argentina</td>\n",
              "      <td>Ciudad Autónoma de Buenos Aires</td>\n",
              "      <td>3.0</td>\n",
              "      <td>3.0</td>\n",
              "      <td>3.0</td>\n",
              "      <td>0</td>\n",
              "      <td>Universitario</td>\n",
              "      <td>En curso</td>\n",
              "      <td>Ingeniería en Sistemas de Información</td>\n",
              "      <td>UTN - Universidad Tecnológica Nacional</td>\n",
              "      <td>Sí, los pagó un empleador</td>\n",
              "      <td>No</td>\n",
              "      <td>Sí</td>\n",
              "      <td>Consultant</td>\n",
              "      <td>Ninguna</td>\n",
              "      <td>Ninguno</td>\n",
              "      <td>Ninguno</td>\n",
              "      <td>Ninguna</td>\n",
              "      <td>Ninguna</td>\n",
              "      <td>Ninguno</td>\n",
              "      <td>GNU/Linux</td>\n",
              "      <td>Android</td>\n",
              "      <td>No</td>\n",
              "      <td>0.0</td>\n",
              "      <td>Bruto</td>\n",
              "      <td>Full-Time</td>\n",
              "      <td>53000.0</td>\n",
              "      <td>43000.0</td>\n",
              "      <td>NaN</td>\n",
              "      <td>1</td>\n",
              "      <td>1</td>\n",
              "      <td>No</td>\n",
              "      <td>No recibo bono</td>\n",
              "      <td>No</td>\n",
              "      <td>0.0</td>\n",
              "      <td>0</td>\n",
              "      <td>En mi trabajo actual</td>\n",
              "      <td>Homosexual</td>\n",
              "      <td>NaN</td>\n",
              "      <td>NaN</td>\n",
              "      <td>501-1000</td>\n",
              "      <td>Servicios / Consultoría de Software / Digital</td>\n",
              "      <td>7</td>\n",
              "      <td>2</td>\n",
              "      <td>Capacitaciones y/o cursos, Comidas pagas / sub...</td>\n",
              "      <td>NaN</td>\n",
              "    </tr>\n",
              "    <tr>\n",
              "      <th>1</th>\n",
              "      <td>Hombre</td>\n",
              "      <td>29</td>\n",
              "      <td>Argentina</td>\n",
              "      <td>Corrientes</td>\n",
              "      <td>5.0</td>\n",
              "      <td>2.0</td>\n",
              "      <td>2.0</td>\n",
              "      <td>4</td>\n",
              "      <td>Universitario</td>\n",
              "      <td>En curso</td>\n",
              "      <td>Ingeniería en Sistemas de Información</td>\n",
              "      <td>UTN - Universidad Tecnológica Nacional</td>\n",
              "      <td>Sí, de forma particular, Sí, los pagó un emple...</td>\n",
              "      <td>No</td>\n",
              "      <td>Sí</td>\n",
              "      <td>Developer</td>\n",
              "      <td>Docker, Google Cloud Platform/App Engine</td>\n",
              "      <td>HTML, Javascript, Python</td>\n",
              "      <td>Django, jQuery</td>\n",
              "      <td>Informix, MySQL, PostgreSQL</td>\n",
              "      <td>Ninguna</td>\n",
              "      <td>IPython / Jupyter, Sublime Text, Visual Studio...</td>\n",
              "      <td>GNU/Linux</td>\n",
              "      <td>Android</td>\n",
              "      <td>No</td>\n",
              "      <td>0.0</td>\n",
              "      <td>Bruto</td>\n",
              "      <td>Full-Time</td>\n",
              "      <td>79000.0</td>\n",
              "      <td>63000.0</td>\n",
              "      <td>NaN</td>\n",
              "      <td>2</td>\n",
              "      <td>2</td>\n",
              "      <td>Menos de un sueldo</td>\n",
              "      <td>Performance de la compañía</td>\n",
              "      <td>Uno</td>\n",
              "      <td>10.0</td>\n",
              "      <td>1</td>\n",
              "      <td>Jamás</td>\n",
              "      <td>Heterosexual</td>\n",
              "      <td>Visual</td>\n",
              "      <td>No</td>\n",
              "      <td>201-500</td>\n",
              "      <td>Otras industrias</td>\n",
              "      <td>8</td>\n",
              "      <td>9</td>\n",
              "      <td>Horarios flexibles, Stock options / RSUs, Viát...</td>\n",
              "      <td>NaN</td>\n",
              "    </tr>\n",
              "    <tr>\n",
              "      <th>2</th>\n",
              "      <td>Mujer</td>\n",
              "      <td>22</td>\n",
              "      <td>Argentina</td>\n",
              "      <td>Ciudad Autónoma de Buenos Aires</td>\n",
              "      <td>2.0</td>\n",
              "      <td>0.0</td>\n",
              "      <td>0.0</td>\n",
              "      <td>0</td>\n",
              "      <td>Secundario</td>\n",
              "      <td>Completado</td>\n",
              "      <td>NaN</td>\n",
              "      <td>NaN</td>\n",
              "      <td>Sí, de forma particular, Sí, los pagó un emple...</td>\n",
              "      <td>No</td>\n",
              "      <td>Sí</td>\n",
              "      <td>Infosec</td>\n",
              "      <td>Linux, VMWare</td>\n",
              "      <td>Ninguno</td>\n",
              "      <td>Ninguno</td>\n",
              "      <td>Ninguna</td>\n",
              "      <td>Ninguna</td>\n",
              "      <td>Ninguno</td>\n",
              "      <td>Windows</td>\n",
              "      <td>iOS</td>\n",
              "      <td>No</td>\n",
              "      <td>0.0</td>\n",
              "      <td>Porcentaje de mi sueldo</td>\n",
              "      <td>Full-Time</td>\n",
              "      <td>160000.0</td>\n",
              "      <td>127000.0</td>\n",
              "      <td>NaN</td>\n",
              "      <td>3</td>\n",
              "      <td>3</td>\n",
              "      <td>Un sueldo</td>\n",
              "      <td>Performance individual</td>\n",
              "      <td>No</td>\n",
              "      <td>0.0</td>\n",
              "      <td>0</td>\n",
              "      <td>En un trabajo anterior</td>\n",
              "      <td>Bisexual o queer</td>\n",
              "      <td>NaN</td>\n",
              "      <td>No</td>\n",
              "      <td>2001-5000</td>\n",
              "      <td>Otras industrias</td>\n",
              "      <td>6</td>\n",
              "      <td>9</td>\n",
              "      <td>Clases de gimnasia online, Comidas pagas / sub...</td>\n",
              "      <td>NaN</td>\n",
              "    </tr>\n",
              "  </tbody>\n",
              "</table>\n",
              "</div>"
            ],
            "text/plain": [
              "  profile_gender  ...  company_best_companies_city\n",
              "0          Mujer  ...                          NaN\n",
              "1         Hombre  ...                          NaN\n",
              "2          Mujer  ...                          NaN\n",
              "\n",
              "[3 rows x 48 columns]"
            ]
          },
          "metadata": {
            "tags": []
          },
          "execution_count": 3
        }
      ]
    },
    {
      "cell_type": "code",
      "metadata": {
        "colab": {
          "base_uri": "https://localhost:8080/"
        },
        "id": "6_k2NNcpWzjN",
        "outputId": "632a4499-213c-4325-9b53-a3f954ca4b27"
      },
      "source": [
        "df.columns\n",
        "#tmp"
      ],
      "execution_count": 4,
      "outputs": [
        {
          "output_type": "execute_result",
          "data": {
            "text/plain": [
              "Index(['profile_gender', 'profile_age', 'work_country', 'work_province',\n",
              "       'profile_years_experience', 'work_years_in_company',\n",
              "       'work_years_in_current_position', 'work_people_in_charge_of',\n",
              "       'profile_studies_level', 'profile_studies_level_state',\n",
              "       'profile_career', 'profile_university',\n",
              "       'profile_specialization_courses', 'profile_open_source_contributions',\n",
              "       'profile_programming_as_hobby', 'work_role', 'tools_platform',\n",
              "       'tools_programming_languages', 'tools_frameworks', 'tools_data_bases',\n",
              "       'tools_qa_testing', 'tools_IDEs', 'tools_work_pc_os',\n",
              "       'tools_cellphone_os', 'work_on_call_duty', 'salary_on_call_duty_charge',\n",
              "       'work_on_call_duty_charge_type', 'work_contract_type',\n",
              "       'salary_monthly_BRUTO', 'salary_monthly_NETO', 'salary_in_usd',\n",
              "       'salary_satisfaction', 'salary_comparison_last_semester',\n",
              "       'salary_has_bonus', 'salary_bonus_tied_to',\n",
              "       'salary_inflation_adjustment_2020',\n",
              "       'salary_percentage_inflation_adjustment_2020',\n",
              "       'salary_month_last_inflation_adjustment',\n",
              "       'work_has_violence_situations', 'profile_sexual_orientation',\n",
              "       'profile_has_disabilities',\n",
              "       'profile_has_disabilities_hiring_difficulties',\n",
              "       'company_employee_number', 'company_main_activity',\n",
              "       'company_recommended', 'company_diversity_policies',\n",
              "       'company_extra_benefits', 'company_best_companies_city'],\n",
              "      dtype='object')"
            ]
          },
          "metadata": {
            "tags": []
          },
          "execution_count": 4
        }
      ]
    },
    {
      "cell_type": "code",
      "metadata": {
        "colab": {
          "base_uri": "https://localhost:8080/"
        },
        "id": "AynSWcynWzjN",
        "outputId": "a6dda164-c31b-4b2a-df86-adc6d91a6425"
      },
      "source": [
        "df.dtypes\n",
        "#tmp"
      ],
      "execution_count": 5,
      "outputs": [
        {
          "output_type": "execute_result",
          "data": {
            "text/plain": [
              "profile_gender                                   object\n",
              "profile_age                                       int64\n",
              "work_country                                     object\n",
              "work_province                                    object\n",
              "profile_years_experience                        float64\n",
              "work_years_in_company                           float64\n",
              "work_years_in_current_position                  float64\n",
              "work_people_in_charge_of                          int64\n",
              "profile_studies_level                            object\n",
              "profile_studies_level_state                      object\n",
              "profile_career                                   object\n",
              "profile_university                               object\n",
              "profile_specialization_courses                   object\n",
              "profile_open_source_contributions                object\n",
              "profile_programming_as_hobby                     object\n",
              "work_role                                        object\n",
              "tools_platform                                   object\n",
              "tools_programming_languages                      object\n",
              "tools_frameworks                                 object\n",
              "tools_data_bases                                 object\n",
              "tools_qa_testing                                 object\n",
              "tools_IDEs                                       object\n",
              "tools_work_pc_os                                 object\n",
              "tools_cellphone_os                               object\n",
              "work_on_call_duty                                object\n",
              "salary_on_call_duty_charge                      float64\n",
              "work_on_call_duty_charge_type                    object\n",
              "work_contract_type                               object\n",
              "salary_monthly_BRUTO                            float64\n",
              "salary_monthly_NETO                             float64\n",
              "salary_in_usd                                    object\n",
              "salary_satisfaction                               int64\n",
              "salary_comparison_last_semester                   int64\n",
              "salary_has_bonus                                 object\n",
              "salary_bonus_tied_to                             object\n",
              "salary_inflation_adjustment_2020                 object\n",
              "salary_percentage_inflation_adjustment_2020     float64\n",
              "salary_month_last_inflation_adjustment            int64\n",
              "work_has_violence_situations                     object\n",
              "profile_sexual_orientation                       object\n",
              "profile_has_disabilities                         object\n",
              "profile_has_disabilities_hiring_difficulties     object\n",
              "company_employee_number                          object\n",
              "company_main_activity                            object\n",
              "company_recommended                               int64\n",
              "company_diversity_policies                        int64\n",
              "company_extra_benefits                           object\n",
              "company_best_companies_city                      object\n",
              "dtype: object"
            ]
          },
          "metadata": {
            "tags": []
          },
          "execution_count": 5
        }
      ]
    },
    {
      "cell_type": "markdown",
      "metadata": {
        "id": "-ZSQYANFHHgV"
      },
      "source": [
        "# Ejercicio 1 - Análisis descriptivo\n",
        "\n",
        "Responder a la pregunta: **¿Cuáles son los lenguajes de programación asociados a los mejores salarios?**\n",
        "\n",
        "Para ello:\n",
        "1. Seleccionar las columnas relevantes para analizar.\n",
        "2. Seleccionar las filas relevantes para analizar. Esto incluye la eliminación de valores extremos y erróneos, pero también puede enfocar el análisis en una sub-población. Por ejemplo, se pueden limitar a personas con un salario mayor que 10000 pesos, o a las personas que trabajan sólo en \"Data Science\", pero deben justificar su elección y reformular la pregunta inicial de ser necesario.\n",
        "  * Obtener una lista de los lenguajes de programación más populares. Decidir cuántos y cuáles seleccionan para incluir en el análisis.\n",
        "  * Para cada una de las otras columnas del punto anterior, elegir los rangos o valores seleccionan para incluir en el análisis.\n",
        "3. Seleccionar métricas que ayuden a responder la pregunta, y los métodos para analizarlas. Elegir UNA de las siguientes opciones:\n",
        "  * Comparar las distribuciones de salario para cada lenguaje utilizando visualizaciones. Como la visualización es el producto final, debe ser clara y mostrar información relevante.\n",
        "  * Comparar medidas de estadística descriptiva sobre la distribución de salario para cada lenguaje. Sean creativos, la estadística descriptiva nos permite decir cosas como: \"el 10% de los mejores sueldos los ganan, en su mayoría, programadores que saben kotlin!\" (donde *mayoría* es un término medio engañoso que sólo significa más del 50%). Para comparar múltiples lenguajes, les recomendamos usar también visualizaciones.\n",
        "  * Comparar probabilidades. Por ejemplo: \"Si sabés Python o Java, tenés un 30% más de chances de ganar arriba de 100K\".\n",
        "\n",
        "Si lo consideran necesario, realicen varias iteraciones. Es decir, si encuentran que las distribuciones de los lenguajes de programación que seleccionaron inicialmente no son muy diferentes, pueden re-hacer el análisis usando sólo los lenguajes de programación que son diferentes."
      ]
    },
    {
      "cell_type": "code",
      "metadata": {
        "id": "6dqTEr7cZgvl"
      },
      "source": [
        "# complete here if you want to include more columns\n",
        "relevant_columns = ['tools_programming_languages', 'salary_monthly_NETO' , 'profile_age' , 'work_role']"
      ],
      "execution_count": 6,
      "outputs": []
    },
    {
      "cell_type": "markdown",
      "metadata": {
        "id": "OoGgzMvuEocM"
      },
      "source": [
        "### Conteo de frecuencias de los lenguajes de programación\n",
        "\n",
        "La columna que contiene información sobre los lenguajes de programación utilizados es `tools_programming_languages`. Sus valores son strings con los lenguajes seleccionados separados por comas.\n",
        "\n"
      ]
    },
    {
      "cell_type": "code",
      "metadata": {
        "colab": {
          "base_uri": "https://localhost:8080/"
        },
        "id": "J7AB2Ty8SvNl",
        "outputId": "88746479-770a-414a-9705-a1b613538cb5"
      },
      "source": [
        "df.tools_programming_languages[:3]"
      ],
      "execution_count": 7,
      "outputs": [
        {
          "output_type": "execute_result",
          "data": {
            "text/plain": [
              "0                     Ninguno\n",
              "1    HTML, Javascript, Python\n",
              "2                     Ninguno\n",
              "Name: tools_programming_languages, dtype: object"
            ]
          },
          "metadata": {
            "tags": []
          },
          "execution_count": 7
        }
      ]
    },
    {
      "cell_type": "markdown",
      "metadata": {
        "id": "l8bYmvMhSroH"
      },
      "source": [
        "Las siguientes celdas de código separan estos lenguajes de programación y cuentan la frecuencia con la que aparecen.\n",
        "\n",
        "No es necesario entender este código en profundidad, aunque sí es un buen ejercicio."
      ]
    },
    {
      "cell_type": "code",
      "metadata": {
        "colab": {
          "base_uri": "https://localhost:8080/",
          "height": 206
        },
        "id": "PAQ81x3iUP_N",
        "outputId": "d6901d90-f2a8-4c05-f09e-2ff12137f80e"
      },
      "source": [
        "# Convert the comma-separated string of languages to a list of string.\n",
        "# Remove 'ninguno de los anteriores' option, spaces and training commas.\n",
        "def split_languages(languages_str):\n",
        "  if not isinstance(languages_str, str):\n",
        "    return []\n",
        "  # Remove 'other' option\n",
        "  languages_str = languages_str.lower()\\\n",
        "    .replace('ninguno de los anteriores', '')\n",
        "  # Split string into list of items\n",
        "  # Remove spaces and commas for each item\n",
        "  return [lang.strip().replace(',', '')\n",
        "          for lang in languages_str.split()]\n",
        "\n",
        "# Create a new column with the list of languages\n",
        "df.loc[:, 'cured_programming_languages'] = df.tools_programming_languages\\\n",
        "    .apply(split_languages)\n",
        "if 'cured_programming_languages' not in relevant_columns:\n",
        "    relevant_columns.append('cured_programming_languages') \n",
        "\n",
        "# Duplicate each row of df for each programming language\n",
        "# mentioned in the response.\n",
        "# We only include in df_lang the columns we are going to analyze later, so we\n",
        "# don't duplicate innecesary information.\n",
        "df_lang = df.cured_programming_languages\\\n",
        "    .apply(pd.Series).stack()\\\n",
        "    .reset_index(level=-1, drop=True).to_frame()\\\n",
        "    .join(df[relevant_columns])\\\n",
        "    .rename(columns={0: 'programming_language'})\n",
        "# Horrible programming style! But a lot of data science code can be written with\n",
        "# as concatenations of functions (pipelines), and there's no elegant way of\n",
        "# doing that on Python.\n",
        "df_lang[:5]"
      ],
      "execution_count": 8,
      "outputs": [
        {
          "output_type": "execute_result",
          "data": {
            "text/html": [
              "<div>\n",
              "<style scoped>\n",
              "    .dataframe tbody tr th:only-of-type {\n",
              "        vertical-align: middle;\n",
              "    }\n",
              "\n",
              "    .dataframe tbody tr th {\n",
              "        vertical-align: top;\n",
              "    }\n",
              "\n",
              "    .dataframe thead th {\n",
              "        text-align: right;\n",
              "    }\n",
              "</style>\n",
              "<table border=\"1\" class=\"dataframe\">\n",
              "  <thead>\n",
              "    <tr style=\"text-align: right;\">\n",
              "      <th></th>\n",
              "      <th>programming_language</th>\n",
              "      <th>tools_programming_languages</th>\n",
              "      <th>salary_monthly_NETO</th>\n",
              "      <th>profile_age</th>\n",
              "      <th>work_role</th>\n",
              "      <th>cured_programming_languages</th>\n",
              "    </tr>\n",
              "  </thead>\n",
              "  <tbody>\n",
              "    <tr>\n",
              "      <th>0</th>\n",
              "      <td>ninguno</td>\n",
              "      <td>Ninguno</td>\n",
              "      <td>43000.0</td>\n",
              "      <td>26</td>\n",
              "      <td>Consultant</td>\n",
              "      <td>[ninguno]</td>\n",
              "    </tr>\n",
              "    <tr>\n",
              "      <th>1</th>\n",
              "      <td>html</td>\n",
              "      <td>HTML, Javascript, Python</td>\n",
              "      <td>63000.0</td>\n",
              "      <td>29</td>\n",
              "      <td>Developer</td>\n",
              "      <td>[html, javascript, python]</td>\n",
              "    </tr>\n",
              "    <tr>\n",
              "      <th>1</th>\n",
              "      <td>javascript</td>\n",
              "      <td>HTML, Javascript, Python</td>\n",
              "      <td>63000.0</td>\n",
              "      <td>29</td>\n",
              "      <td>Developer</td>\n",
              "      <td>[html, javascript, python]</td>\n",
              "    </tr>\n",
              "    <tr>\n",
              "      <th>1</th>\n",
              "      <td>python</td>\n",
              "      <td>HTML, Javascript, Python</td>\n",
              "      <td>63000.0</td>\n",
              "      <td>29</td>\n",
              "      <td>Developer</td>\n",
              "      <td>[html, javascript, python]</td>\n",
              "    </tr>\n",
              "    <tr>\n",
              "      <th>2</th>\n",
              "      <td>ninguno</td>\n",
              "      <td>Ninguno</td>\n",
              "      <td>127000.0</td>\n",
              "      <td>22</td>\n",
              "      <td>Infosec</td>\n",
              "      <td>[ninguno]</td>\n",
              "    </tr>\n",
              "  </tbody>\n",
              "</table>\n",
              "</div>"
            ],
            "text/plain": [
              "  programming_language  ... cured_programming_languages\n",
              "0              ninguno  ...                   [ninguno]\n",
              "1                 html  ...  [html, javascript, python]\n",
              "1           javascript  ...  [html, javascript, python]\n",
              "1               python  ...  [html, javascript, python]\n",
              "2              ninguno  ...                   [ninguno]\n",
              "\n",
              "[5 rows x 6 columns]"
            ]
          },
          "metadata": {
            "tags": []
          },
          "execution_count": 8
        }
      ]
    },
    {
      "cell_type": "markdown",
      "metadata": {
        "id": "qm8NUg-7UEue"
      },
      "source": [
        "En la columna `programming_language` se encuentra cada lenguaje por separado. Notar que si una respuesta contenía 3 lenguajes, como `\"HTML, Javascript, Python\"`, la fila ha sido replicada 3 veces. Por ello, hay tres filas con índice 1."
      ]
    },
    {
      "cell_type": "code",
      "metadata": {
        "colab": {
          "base_uri": "https://localhost:8080/",
          "height": 363
        },
        "id": "lNPb4tTvWCwv",
        "outputId": "900adbc8-8fb0-4436-e724-f73c5db062b3"
      },
      "source": [
        "language_count = df_lang.programming_language.value_counts()\\\n",
        "    .reset_index()\\\n",
        "    .rename(columns={'index': 'language', 'programming_language': 'frequency'})\n",
        "language_count[:10]"
      ],
      "execution_count": 9,
      "outputs": [
        {
          "output_type": "execute_result",
          "data": {
            "text/html": [
              "<div>\n",
              "<style scoped>\n",
              "    .dataframe tbody tr th:only-of-type {\n",
              "        vertical-align: middle;\n",
              "    }\n",
              "\n",
              "    .dataframe tbody tr th {\n",
              "        vertical-align: top;\n",
              "    }\n",
              "\n",
              "    .dataframe thead th {\n",
              "        text-align: right;\n",
              "    }\n",
              "</style>\n",
              "<table border=\"1\" class=\"dataframe\">\n",
              "  <thead>\n",
              "    <tr style=\"text-align: right;\">\n",
              "      <th></th>\n",
              "      <th>language</th>\n",
              "      <th>frequency</th>\n",
              "    </tr>\n",
              "  </thead>\n",
              "  <tbody>\n",
              "    <tr>\n",
              "      <th>0</th>\n",
              "      <td>javascript</td>\n",
              "      <td>2513</td>\n",
              "    </tr>\n",
              "    <tr>\n",
              "      <th>1</th>\n",
              "      <td>sql</td>\n",
              "      <td>2154</td>\n",
              "    </tr>\n",
              "    <tr>\n",
              "      <th>2</th>\n",
              "      <td>html</td>\n",
              "      <td>1861</td>\n",
              "    </tr>\n",
              "    <tr>\n",
              "      <th>3</th>\n",
              "      <td>python</td>\n",
              "      <td>1475</td>\n",
              "    </tr>\n",
              "    <tr>\n",
              "      <th>4</th>\n",
              "      <td>java</td>\n",
              "      <td>1453</td>\n",
              "    </tr>\n",
              "    <tr>\n",
              "      <th>5</th>\n",
              "      <td>css</td>\n",
              "      <td>1247</td>\n",
              "    </tr>\n",
              "    <tr>\n",
              "      <th>6</th>\n",
              "      <td>bash/shell</td>\n",
              "      <td>993</td>\n",
              "    </tr>\n",
              "    <tr>\n",
              "      <th>7</th>\n",
              "      <td>php</td>\n",
              "      <td>891</td>\n",
              "    </tr>\n",
              "    <tr>\n",
              "      <th>8</th>\n",
              "      <td>.net</td>\n",
              "      <td>823</td>\n",
              "    </tr>\n",
              "    <tr>\n",
              "      <th>9</th>\n",
              "      <td>typescript</td>\n",
              "      <td>779</td>\n",
              "    </tr>\n",
              "  </tbody>\n",
              "</table>\n",
              "</div>"
            ],
            "text/plain": [
              "     language  frequency\n",
              "0  javascript       2513\n",
              "1         sql       2154\n",
              "2        html       1861\n",
              "3      python       1475\n",
              "4        java       1453\n",
              "5         css       1247\n",
              "6  bash/shell        993\n",
              "7         php        891\n",
              "8        .net        823\n",
              "9  typescript        779"
            ]
          },
          "metadata": {
            "tags": []
          },
          "execution_count": 9
        }
      ]
    },
    {
      "cell_type": "markdown",
      "metadata": {
        "id": "nThbJ1KeUgDo"
      },
      "source": [
        "## Filtrado de lenguajes relevantes\n",
        "\n",
        "El siguiente código permite seleccionar sólo las filas donde el valor de la columna `programming_language` se encuentre en la lista `interesting_languages`."
      ]
    },
    {
      "cell_type": "markdown",
      "metadata": {
        "id": "MJhH7Xi_YSPm"
      },
      "source": [
        "Esta lista tiene un sesgo, esos lenguajes se comportan de forma parecida,esto es para elegir los que son diferentes:"
      ]
    },
    {
      "cell_type": "code",
      "metadata": {
        "id": "ehMz-ctqWzjR"
      },
      "source": [
        "\n",
        "interesting_languages = ['javascript','sql','html','python', 'elm', 'haskell', 'hcl', 'nim']"
      ],
      "execution_count": 10,
      "outputs": []
    },
    {
      "cell_type": "code",
      "metadata": {
        "colab": {
          "base_uri": "https://localhost:8080/",
          "height": 206
        },
        "id": "DEpVptnLZUQU",
        "outputId": "b280392d-2aea-4775-cb5f-c7e8390861ab"
      },
      "source": [
        "# Filter out languages that we want to exclude\n",
        "# Complete here with your selected list.\n",
        "#interesting_languages = [\"Python\"]\n",
        "filtered_df_lang = df_lang[df_lang.programming_language.isin(interesting_languages)]\n",
        "filtered_df_lang[:5]"
      ],
      "execution_count": 11,
      "outputs": [
        {
          "output_type": "execute_result",
          "data": {
            "text/html": [
              "<div>\n",
              "<style scoped>\n",
              "    .dataframe tbody tr th:only-of-type {\n",
              "        vertical-align: middle;\n",
              "    }\n",
              "\n",
              "    .dataframe tbody tr th {\n",
              "        vertical-align: top;\n",
              "    }\n",
              "\n",
              "    .dataframe thead th {\n",
              "        text-align: right;\n",
              "    }\n",
              "</style>\n",
              "<table border=\"1\" class=\"dataframe\">\n",
              "  <thead>\n",
              "    <tr style=\"text-align: right;\">\n",
              "      <th></th>\n",
              "      <th>programming_language</th>\n",
              "      <th>tools_programming_languages</th>\n",
              "      <th>salary_monthly_NETO</th>\n",
              "      <th>profile_age</th>\n",
              "      <th>work_role</th>\n",
              "      <th>cured_programming_languages</th>\n",
              "    </tr>\n",
              "  </thead>\n",
              "  <tbody>\n",
              "    <tr>\n",
              "      <th>1</th>\n",
              "      <td>html</td>\n",
              "      <td>HTML, Javascript, Python</td>\n",
              "      <td>63000.0</td>\n",
              "      <td>29</td>\n",
              "      <td>Developer</td>\n",
              "      <td>[html, javascript, python]</td>\n",
              "    </tr>\n",
              "    <tr>\n",
              "      <th>1</th>\n",
              "      <td>javascript</td>\n",
              "      <td>HTML, Javascript, Python</td>\n",
              "      <td>63000.0</td>\n",
              "      <td>29</td>\n",
              "      <td>Developer</td>\n",
              "      <td>[html, javascript, python]</td>\n",
              "    </tr>\n",
              "    <tr>\n",
              "      <th>1</th>\n",
              "      <td>python</td>\n",
              "      <td>HTML, Javascript, Python</td>\n",
              "      <td>63000.0</td>\n",
              "      <td>29</td>\n",
              "      <td>Developer</td>\n",
              "      <td>[html, javascript, python]</td>\n",
              "    </tr>\n",
              "    <tr>\n",
              "      <th>3</th>\n",
              "      <td>html</td>\n",
              "      <td>Bash/Shell, C, CSS, HTML, Java, Javascript, PH...</td>\n",
              "      <td>102000.0</td>\n",
              "      <td>39</td>\n",
              "      <td>SysAdmin / DevOps / SRE</td>\n",
              "      <td>[bash/shell, c, css, html, java, javascript, p...</td>\n",
              "    </tr>\n",
              "    <tr>\n",
              "      <th>3</th>\n",
              "      <td>javascript</td>\n",
              "      <td>Bash/Shell, C, CSS, HTML, Java, Javascript, PH...</td>\n",
              "      <td>102000.0</td>\n",
              "      <td>39</td>\n",
              "      <td>SysAdmin / DevOps / SRE</td>\n",
              "      <td>[bash/shell, c, css, html, java, javascript, p...</td>\n",
              "    </tr>\n",
              "  </tbody>\n",
              "</table>\n",
              "</div>"
            ],
            "text/plain": [
              "  programming_language  ...                        cured_programming_languages\n",
              "1                 html  ...                         [html, javascript, python]\n",
              "1           javascript  ...                         [html, javascript, python]\n",
              "1               python  ...                         [html, javascript, python]\n",
              "3                 html  ...  [bash/shell, c, css, html, java, javascript, p...\n",
              "3           javascript  ...  [bash/shell, c, css, html, java, javascript, p...\n",
              "\n",
              "[5 rows x 6 columns]"
            ]
          },
          "metadata": {
            "tags": []
          },
          "execution_count": 11
        }
      ]
    },
    {
      "cell_type": "code",
      "metadata": {
        "colab": {
          "base_uri": "https://localhost:8080/"
        },
        "id": "nMgjpiPAWzjS",
        "outputId": "66ea5910-2a20-477f-9302-51f53f44c165"
      },
      "source": [
        "df_lang.isna().sum()"
      ],
      "execution_count": 12,
      "outputs": [
        {
          "output_type": "execute_result",
          "data": {
            "text/plain": [
              "programming_language             0\n",
              "tools_programming_languages      0\n",
              "salary_monthly_NETO            647\n",
              "profile_age                      0\n",
              "work_role                        0\n",
              "cured_programming_languages      0\n",
              "dtype: int64"
            ]
          },
          "metadata": {
            "tags": []
          },
          "execution_count": 12
        }
      ]
    },
    {
      "cell_type": "code",
      "metadata": {
        "id": "FLH6g_XgWzjT"
      },
      "source": [
        "rows_to_delete = df[(df.profile_age < 19) | (df.profile_age > 70 ) ].index\n",
        "df_age_cleaned = df.drop(rows_to_delete)"
      ],
      "execution_count": 13,
      "outputs": []
    },
    {
      "cell_type": "code",
      "metadata": {
        "colab": {
          "base_uri": "https://localhost:8080/",
          "height": 509
        },
        "id": "aYrCrDXLWzjT",
        "outputId": "ab2b6102-05b0-4664-d94e-027a3ed98ba5"
      },
      "source": [
        "df_age_cleaned.corr(method='pearson')"
      ],
      "execution_count": 14,
      "outputs": [
        {
          "output_type": "execute_result",
          "data": {
            "text/html": [
              "<div>\n",
              "<style scoped>\n",
              "    .dataframe tbody tr th:only-of-type {\n",
              "        vertical-align: middle;\n",
              "    }\n",
              "\n",
              "    .dataframe tbody tr th {\n",
              "        vertical-align: top;\n",
              "    }\n",
              "\n",
              "    .dataframe thead th {\n",
              "        text-align: right;\n",
              "    }\n",
              "</style>\n",
              "<table border=\"1\" class=\"dataframe\">\n",
              "  <thead>\n",
              "    <tr style=\"text-align: right;\">\n",
              "      <th></th>\n",
              "      <th>profile_age</th>\n",
              "      <th>profile_years_experience</th>\n",
              "      <th>work_years_in_company</th>\n",
              "      <th>work_years_in_current_position</th>\n",
              "      <th>work_people_in_charge_of</th>\n",
              "      <th>salary_on_call_duty_charge</th>\n",
              "      <th>salary_monthly_BRUTO</th>\n",
              "      <th>salary_monthly_NETO</th>\n",
              "      <th>salary_satisfaction</th>\n",
              "      <th>salary_comparison_last_semester</th>\n",
              "      <th>salary_percentage_inflation_adjustment_2020</th>\n",
              "      <th>salary_month_last_inflation_adjustment</th>\n",
              "      <th>company_recommended</th>\n",
              "      <th>company_diversity_policies</th>\n",
              "    </tr>\n",
              "  </thead>\n",
              "  <tbody>\n",
              "    <tr>\n",
              "      <th>profile_age</th>\n",
              "      <td>1.000000</td>\n",
              "      <td>0.825719</td>\n",
              "      <td>0.472970</td>\n",
              "      <td>0.439768</td>\n",
              "      <td>0.076516</td>\n",
              "      <td>0.025178</td>\n",
              "      <td>0.183569</td>\n",
              "      <td>0.173576</td>\n",
              "      <td>-0.026117</td>\n",
              "      <td>-0.070388</td>\n",
              "      <td>-0.039949</td>\n",
              "      <td>-0.023505</td>\n",
              "      <td>-0.082518</td>\n",
              "      <td>-0.049740</td>\n",
              "    </tr>\n",
              "    <tr>\n",
              "      <th>profile_years_experience</th>\n",
              "      <td>0.825719</td>\n",
              "      <td>1.000000</td>\n",
              "      <td>0.511949</td>\n",
              "      <td>0.485675</td>\n",
              "      <td>0.096215</td>\n",
              "      <td>0.045972</td>\n",
              "      <td>0.250393</td>\n",
              "      <td>0.234317</td>\n",
              "      <td>-0.003171</td>\n",
              "      <td>-0.050409</td>\n",
              "      <td>-0.026322</td>\n",
              "      <td>-0.026085</td>\n",
              "      <td>-0.063429</td>\n",
              "      <td>-0.026655</td>\n",
              "    </tr>\n",
              "    <tr>\n",
              "      <th>work_years_in_company</th>\n",
              "      <td>0.472970</td>\n",
              "      <td>0.511949</td>\n",
              "      <td>1.000000</td>\n",
              "      <td>0.579295</td>\n",
              "      <td>0.116959</td>\n",
              "      <td>0.054488</td>\n",
              "      <td>0.019144</td>\n",
              "      <td>0.018145</td>\n",
              "      <td>-0.121203</td>\n",
              "      <td>-0.179721</td>\n",
              "      <td>-0.030597</td>\n",
              "      <td>-0.018507</td>\n",
              "      <td>-0.178046</td>\n",
              "      <td>-0.136052</td>\n",
              "    </tr>\n",
              "    <tr>\n",
              "      <th>work_years_in_current_position</th>\n",
              "      <td>0.439768</td>\n",
              "      <td>0.485675</td>\n",
              "      <td>0.579295</td>\n",
              "      <td>1.000000</td>\n",
              "      <td>0.029364</td>\n",
              "      <td>0.016432</td>\n",
              "      <td>0.039392</td>\n",
              "      <td>0.045076</td>\n",
              "      <td>-0.085266</td>\n",
              "      <td>-0.124420</td>\n",
              "      <td>-0.024399</td>\n",
              "      <td>-0.026811</td>\n",
              "      <td>-0.142244</td>\n",
              "      <td>-0.098990</td>\n",
              "    </tr>\n",
              "    <tr>\n",
              "      <th>work_people_in_charge_of</th>\n",
              "      <td>0.076516</td>\n",
              "      <td>0.096215</td>\n",
              "      <td>0.116959</td>\n",
              "      <td>0.029364</td>\n",
              "      <td>1.000000</td>\n",
              "      <td>0.003338</td>\n",
              "      <td>0.101176</td>\n",
              "      <td>0.077908</td>\n",
              "      <td>0.026434</td>\n",
              "      <td>0.024346</td>\n",
              "      <td>0.015546</td>\n",
              "      <td>0.023247</td>\n",
              "      <td>-0.000343</td>\n",
              "      <td>-0.009388</td>\n",
              "    </tr>\n",
              "    <tr>\n",
              "      <th>salary_on_call_duty_charge</th>\n",
              "      <td>0.025178</td>\n",
              "      <td>0.045972</td>\n",
              "      <td>0.054488</td>\n",
              "      <td>0.016432</td>\n",
              "      <td>0.003338</td>\n",
              "      <td>1.000000</td>\n",
              "      <td>0.149794</td>\n",
              "      <td>0.169135</td>\n",
              "      <td>-0.000015</td>\n",
              "      <td>0.002614</td>\n",
              "      <td>0.007789</td>\n",
              "      <td>0.011837</td>\n",
              "      <td>-0.000035</td>\n",
              "      <td>-0.020994</td>\n",
              "    </tr>\n",
              "    <tr>\n",
              "      <th>salary_monthly_BRUTO</th>\n",
              "      <td>0.183569</td>\n",
              "      <td>0.250393</td>\n",
              "      <td>0.019144</td>\n",
              "      <td>0.039392</td>\n",
              "      <td>0.101176</td>\n",
              "      <td>0.149794</td>\n",
              "      <td>1.000000</td>\n",
              "      <td>0.833299</td>\n",
              "      <td>0.344745</td>\n",
              "      <td>0.331585</td>\n",
              "      <td>0.010646</td>\n",
              "      <td>-0.009703</td>\n",
              "      <td>0.196706</td>\n",
              "      <td>0.116073</td>\n",
              "    </tr>\n",
              "    <tr>\n",
              "      <th>salary_monthly_NETO</th>\n",
              "      <td>0.173576</td>\n",
              "      <td>0.234317</td>\n",
              "      <td>0.018145</td>\n",
              "      <td>0.045076</td>\n",
              "      <td>0.077908</td>\n",
              "      <td>0.169135</td>\n",
              "      <td>0.833299</td>\n",
              "      <td>1.000000</td>\n",
              "      <td>0.339348</td>\n",
              "      <td>0.324948</td>\n",
              "      <td>-0.018994</td>\n",
              "      <td>-0.043275</td>\n",
              "      <td>0.192691</td>\n",
              "      <td>0.095789</td>\n",
              "    </tr>\n",
              "    <tr>\n",
              "      <th>salary_satisfaction</th>\n",
              "      <td>-0.026117</td>\n",
              "      <td>-0.003171</td>\n",
              "      <td>-0.121203</td>\n",
              "      <td>-0.085266</td>\n",
              "      <td>0.026434</td>\n",
              "      <td>-0.000015</td>\n",
              "      <td>0.344745</td>\n",
              "      <td>0.339348</td>\n",
              "      <td>1.000000</td>\n",
              "      <td>0.726474</td>\n",
              "      <td>0.135836</td>\n",
              "      <td>0.132727</td>\n",
              "      <td>0.512083</td>\n",
              "      <td>0.227055</td>\n",
              "    </tr>\n",
              "    <tr>\n",
              "      <th>salary_comparison_last_semester</th>\n",
              "      <td>-0.070388</td>\n",
              "      <td>-0.050409</td>\n",
              "      <td>-0.179721</td>\n",
              "      <td>-0.124420</td>\n",
              "      <td>0.024346</td>\n",
              "      <td>0.002614</td>\n",
              "      <td>0.331585</td>\n",
              "      <td>0.324948</td>\n",
              "      <td>0.726474</td>\n",
              "      <td>1.000000</td>\n",
              "      <td>0.210295</td>\n",
              "      <td>0.180581</td>\n",
              "      <td>0.464789</td>\n",
              "      <td>0.206838</td>\n",
              "    </tr>\n",
              "    <tr>\n",
              "      <th>salary_percentage_inflation_adjustment_2020</th>\n",
              "      <td>-0.039949</td>\n",
              "      <td>-0.026322</td>\n",
              "      <td>-0.030597</td>\n",
              "      <td>-0.024399</td>\n",
              "      <td>0.015546</td>\n",
              "      <td>0.007789</td>\n",
              "      <td>0.010646</td>\n",
              "      <td>-0.018994</td>\n",
              "      <td>0.135836</td>\n",
              "      <td>0.210295</td>\n",
              "      <td>1.000000</td>\n",
              "      <td>0.621938</td>\n",
              "      <td>0.163548</td>\n",
              "      <td>0.077273</td>\n",
              "    </tr>\n",
              "    <tr>\n",
              "      <th>salary_month_last_inflation_adjustment</th>\n",
              "      <td>-0.023505</td>\n",
              "      <td>-0.026085</td>\n",
              "      <td>-0.018507</td>\n",
              "      <td>-0.026811</td>\n",
              "      <td>0.023247</td>\n",
              "      <td>0.011837</td>\n",
              "      <td>-0.009703</td>\n",
              "      <td>-0.043275</td>\n",
              "      <td>0.132727</td>\n",
              "      <td>0.180581</td>\n",
              "      <td>0.621938</td>\n",
              "      <td>1.000000</td>\n",
              "      <td>0.168007</td>\n",
              "      <td>0.084419</td>\n",
              "    </tr>\n",
              "    <tr>\n",
              "      <th>company_recommended</th>\n",
              "      <td>-0.082518</td>\n",
              "      <td>-0.063429</td>\n",
              "      <td>-0.178046</td>\n",
              "      <td>-0.142244</td>\n",
              "      <td>-0.000343</td>\n",
              "      <td>-0.000035</td>\n",
              "      <td>0.196706</td>\n",
              "      <td>0.192691</td>\n",
              "      <td>0.512083</td>\n",
              "      <td>0.464789</td>\n",
              "      <td>0.163548</td>\n",
              "      <td>0.168007</td>\n",
              "      <td>1.000000</td>\n",
              "      <td>0.563550</td>\n",
              "    </tr>\n",
              "    <tr>\n",
              "      <th>company_diversity_policies</th>\n",
              "      <td>-0.049740</td>\n",
              "      <td>-0.026655</td>\n",
              "      <td>-0.136052</td>\n",
              "      <td>-0.098990</td>\n",
              "      <td>-0.009388</td>\n",
              "      <td>-0.020994</td>\n",
              "      <td>0.116073</td>\n",
              "      <td>0.095789</td>\n",
              "      <td>0.227055</td>\n",
              "      <td>0.206838</td>\n",
              "      <td>0.077273</td>\n",
              "      <td>0.084419</td>\n",
              "      <td>0.563550</td>\n",
              "      <td>1.000000</td>\n",
              "    </tr>\n",
              "  </tbody>\n",
              "</table>\n",
              "</div>"
            ],
            "text/plain": [
              "                                             profile_age  ...  company_diversity_policies\n",
              "profile_age                                     1.000000  ...                   -0.049740\n",
              "profile_years_experience                        0.825719  ...                   -0.026655\n",
              "work_years_in_company                           0.472970  ...                   -0.136052\n",
              "work_years_in_current_position                  0.439768  ...                   -0.098990\n",
              "work_people_in_charge_of                        0.076516  ...                   -0.009388\n",
              "salary_on_call_duty_charge                      0.025178  ...                   -0.020994\n",
              "salary_monthly_BRUTO                            0.183569  ...                    0.116073\n",
              "salary_monthly_NETO                             0.173576  ...                    0.095789\n",
              "salary_satisfaction                            -0.026117  ...                    0.227055\n",
              "salary_comparison_last_semester                -0.070388  ...                    0.206838\n",
              "salary_percentage_inflation_adjustment_2020    -0.039949  ...                    0.077273\n",
              "salary_month_last_inflation_adjustment         -0.023505  ...                    0.084419\n",
              "company_recommended                            -0.082518  ...                    0.563550\n",
              "company_diversity_policies                     -0.049740  ...                    1.000000\n",
              "\n",
              "[14 rows x 14 columns]"
            ]
          },
          "metadata": {
            "tags": []
          },
          "execution_count": 14
        }
      ]
    },
    {
      "cell_type": "markdown",
      "metadata": {
        "id": "xOUoGq_sWzjT"
      },
      "source": [
        "En el data frame **df_age_cleanded** no se observan correlaciones entre las variables salary y otras variables numericas"
      ]
    },
    {
      "cell_type": "code",
      "metadata": {
        "colab": {
          "base_uri": "https://localhost:8080/",
          "height": 509
        },
        "id": "CXY3NuBXWzjT",
        "outputId": "2389e7ff-f274-4555-875c-87558201feda"
      },
      "source": [
        "df.corr(method='pearson')"
      ],
      "execution_count": 15,
      "outputs": [
        {
          "output_type": "execute_result",
          "data": {
            "text/html": [
              "<div>\n",
              "<style scoped>\n",
              "    .dataframe tbody tr th:only-of-type {\n",
              "        vertical-align: middle;\n",
              "    }\n",
              "\n",
              "    .dataframe tbody tr th {\n",
              "        vertical-align: top;\n",
              "    }\n",
              "\n",
              "    .dataframe thead th {\n",
              "        text-align: right;\n",
              "    }\n",
              "</style>\n",
              "<table border=\"1\" class=\"dataframe\">\n",
              "  <thead>\n",
              "    <tr style=\"text-align: right;\">\n",
              "      <th></th>\n",
              "      <th>profile_age</th>\n",
              "      <th>profile_years_experience</th>\n",
              "      <th>work_years_in_company</th>\n",
              "      <th>work_years_in_current_position</th>\n",
              "      <th>work_people_in_charge_of</th>\n",
              "      <th>salary_on_call_duty_charge</th>\n",
              "      <th>salary_monthly_BRUTO</th>\n",
              "      <th>salary_monthly_NETO</th>\n",
              "      <th>salary_satisfaction</th>\n",
              "      <th>salary_comparison_last_semester</th>\n",
              "      <th>salary_percentage_inflation_adjustment_2020</th>\n",
              "      <th>salary_month_last_inflation_adjustment</th>\n",
              "      <th>company_recommended</th>\n",
              "      <th>company_diversity_policies</th>\n",
              "    </tr>\n",
              "  </thead>\n",
              "  <tbody>\n",
              "    <tr>\n",
              "      <th>profile_age</th>\n",
              "      <td>1.000000</td>\n",
              "      <td>0.009316</td>\n",
              "      <td>0.022181</td>\n",
              "      <td>0.027657</td>\n",
              "      <td>0.001154</td>\n",
              "      <td>-0.000541</td>\n",
              "      <td>-0.006752</td>\n",
              "      <td>-0.003909</td>\n",
              "      <td>0.005452</td>\n",
              "      <td>0.007943</td>\n",
              "      <td>0.013962</td>\n",
              "      <td>0.018650</td>\n",
              "      <td>0.002991</td>\n",
              "      <td>0.001167</td>\n",
              "    </tr>\n",
              "    <tr>\n",
              "      <th>profile_years_experience</th>\n",
              "      <td>0.009316</td>\n",
              "      <td>1.000000</td>\n",
              "      <td>0.512288</td>\n",
              "      <td>0.485628</td>\n",
              "      <td>0.096228</td>\n",
              "      <td>0.045961</td>\n",
              "      <td>0.250545</td>\n",
              "      <td>0.234471</td>\n",
              "      <td>-0.002998</td>\n",
              "      <td>-0.050249</td>\n",
              "      <td>-0.026175</td>\n",
              "      <td>-0.025907</td>\n",
              "      <td>-0.064246</td>\n",
              "      <td>-0.027675</td>\n",
              "    </tr>\n",
              "    <tr>\n",
              "      <th>work_years_in_company</th>\n",
              "      <td>0.022181</td>\n",
              "      <td>0.512288</td>\n",
              "      <td>1.000000</td>\n",
              "      <td>0.579205</td>\n",
              "      <td>0.116935</td>\n",
              "      <td>0.054418</td>\n",
              "      <td>0.019175</td>\n",
              "      <td>0.018223</td>\n",
              "      <td>-0.120715</td>\n",
              "      <td>-0.179082</td>\n",
              "      <td>-0.030476</td>\n",
              "      <td>-0.018353</td>\n",
              "      <td>-0.178880</td>\n",
              "      <td>-0.137251</td>\n",
              "    </tr>\n",
              "    <tr>\n",
              "      <th>work_years_in_current_position</th>\n",
              "      <td>0.027657</td>\n",
              "      <td>0.485628</td>\n",
              "      <td>0.579205</td>\n",
              "      <td>1.000000</td>\n",
              "      <td>0.029379</td>\n",
              "      <td>0.016424</td>\n",
              "      <td>0.039366</td>\n",
              "      <td>0.045107</td>\n",
              "      <td>-0.085018</td>\n",
              "      <td>-0.124151</td>\n",
              "      <td>-0.023831</td>\n",
              "      <td>-0.026088</td>\n",
              "      <td>-0.142257</td>\n",
              "      <td>-0.099066</td>\n",
              "    </tr>\n",
              "    <tr>\n",
              "      <th>work_people_in_charge_of</th>\n",
              "      <td>0.001154</td>\n",
              "      <td>0.096228</td>\n",
              "      <td>0.116935</td>\n",
              "      <td>0.029379</td>\n",
              "      <td>1.000000</td>\n",
              "      <td>0.003338</td>\n",
              "      <td>0.101176</td>\n",
              "      <td>0.077913</td>\n",
              "      <td>0.026433</td>\n",
              "      <td>0.024346</td>\n",
              "      <td>0.015548</td>\n",
              "      <td>0.023246</td>\n",
              "      <td>-0.000400</td>\n",
              "      <td>-0.009451</td>\n",
              "    </tr>\n",
              "    <tr>\n",
              "      <th>salary_on_call_duty_charge</th>\n",
              "      <td>-0.000541</td>\n",
              "      <td>0.045961</td>\n",
              "      <td>0.054418</td>\n",
              "      <td>0.016424</td>\n",
              "      <td>0.003338</td>\n",
              "      <td>1.000000</td>\n",
              "      <td>0.149794</td>\n",
              "      <td>0.169135</td>\n",
              "      <td>-0.000021</td>\n",
              "      <td>0.002596</td>\n",
              "      <td>0.007800</td>\n",
              "      <td>0.011848</td>\n",
              "      <td>-0.000033</td>\n",
              "      <td>-0.020966</td>\n",
              "    </tr>\n",
              "    <tr>\n",
              "      <th>salary_monthly_BRUTO</th>\n",
              "      <td>-0.006752</td>\n",
              "      <td>0.250545</td>\n",
              "      <td>0.019175</td>\n",
              "      <td>0.039366</td>\n",
              "      <td>0.101176</td>\n",
              "      <td>0.149794</td>\n",
              "      <td>1.000000</td>\n",
              "      <td>0.833335</td>\n",
              "      <td>0.344676</td>\n",
              "      <td>0.331435</td>\n",
              "      <td>0.010695</td>\n",
              "      <td>-0.009646</td>\n",
              "      <td>0.196381</td>\n",
              "      <td>0.115718</td>\n",
              "    </tr>\n",
              "    <tr>\n",
              "      <th>salary_monthly_NETO</th>\n",
              "      <td>-0.003909</td>\n",
              "      <td>0.234471</td>\n",
              "      <td>0.018223</td>\n",
              "      <td>0.045107</td>\n",
              "      <td>0.077913</td>\n",
              "      <td>0.169135</td>\n",
              "      <td>0.833335</td>\n",
              "      <td>1.000000</td>\n",
              "      <td>0.339314</td>\n",
              "      <td>0.324840</td>\n",
              "      <td>-0.018899</td>\n",
              "      <td>-0.043154</td>\n",
              "      <td>0.192391</td>\n",
              "      <td>0.095460</td>\n",
              "    </tr>\n",
              "    <tr>\n",
              "      <th>salary_satisfaction</th>\n",
              "      <td>0.005452</td>\n",
              "      <td>-0.002998</td>\n",
              "      <td>-0.120715</td>\n",
              "      <td>-0.085018</td>\n",
              "      <td>0.026433</td>\n",
              "      <td>-0.000021</td>\n",
              "      <td>0.344676</td>\n",
              "      <td>0.339314</td>\n",
              "      <td>1.000000</td>\n",
              "      <td>0.726729</td>\n",
              "      <td>0.135787</td>\n",
              "      <td>0.132682</td>\n",
              "      <td>0.511647</td>\n",
              "      <td>0.226400</td>\n",
              "    </tr>\n",
              "    <tr>\n",
              "      <th>salary_comparison_last_semester</th>\n",
              "      <td>0.007943</td>\n",
              "      <td>-0.050249</td>\n",
              "      <td>-0.179082</td>\n",
              "      <td>-0.124151</td>\n",
              "      <td>0.024346</td>\n",
              "      <td>0.002596</td>\n",
              "      <td>0.331435</td>\n",
              "      <td>0.324840</td>\n",
              "      <td>0.726729</td>\n",
              "      <td>1.000000</td>\n",
              "      <td>0.210132</td>\n",
              "      <td>0.180426</td>\n",
              "      <td>0.464407</td>\n",
              "      <td>0.206204</td>\n",
              "    </tr>\n",
              "    <tr>\n",
              "      <th>salary_percentage_inflation_adjustment_2020</th>\n",
              "      <td>0.013962</td>\n",
              "      <td>-0.026175</td>\n",
              "      <td>-0.030476</td>\n",
              "      <td>-0.023831</td>\n",
              "      <td>0.015548</td>\n",
              "      <td>0.007800</td>\n",
              "      <td>0.010695</td>\n",
              "      <td>-0.018899</td>\n",
              "      <td>0.135787</td>\n",
              "      <td>0.210132</td>\n",
              "      <td>1.000000</td>\n",
              "      <td>0.622180</td>\n",
              "      <td>0.163545</td>\n",
              "      <td>0.077387</td>\n",
              "    </tr>\n",
              "    <tr>\n",
              "      <th>salary_month_last_inflation_adjustment</th>\n",
              "      <td>0.018650</td>\n",
              "      <td>-0.025907</td>\n",
              "      <td>-0.018353</td>\n",
              "      <td>-0.026088</td>\n",
              "      <td>0.023246</td>\n",
              "      <td>0.011848</td>\n",
              "      <td>-0.009646</td>\n",
              "      <td>-0.043154</td>\n",
              "      <td>0.132682</td>\n",
              "      <td>0.180426</td>\n",
              "      <td>0.622180</td>\n",
              "      <td>1.000000</td>\n",
              "      <td>0.168007</td>\n",
              "      <td>0.084556</td>\n",
              "    </tr>\n",
              "    <tr>\n",
              "      <th>company_recommended</th>\n",
              "      <td>0.002991</td>\n",
              "      <td>-0.064246</td>\n",
              "      <td>-0.178880</td>\n",
              "      <td>-0.142257</td>\n",
              "      <td>-0.000400</td>\n",
              "      <td>-0.000033</td>\n",
              "      <td>0.196381</td>\n",
              "      <td>0.192391</td>\n",
              "      <td>0.511647</td>\n",
              "      <td>0.464407</td>\n",
              "      <td>0.163545</td>\n",
              "      <td>0.168007</td>\n",
              "      <td>1.000000</td>\n",
              "      <td>0.564001</td>\n",
              "    </tr>\n",
              "    <tr>\n",
              "      <th>company_diversity_policies</th>\n",
              "      <td>0.001167</td>\n",
              "      <td>-0.027675</td>\n",
              "      <td>-0.137251</td>\n",
              "      <td>-0.099066</td>\n",
              "      <td>-0.009451</td>\n",
              "      <td>-0.020966</td>\n",
              "      <td>0.115718</td>\n",
              "      <td>0.095460</td>\n",
              "      <td>0.226400</td>\n",
              "      <td>0.206204</td>\n",
              "      <td>0.077387</td>\n",
              "      <td>0.084556</td>\n",
              "      <td>0.564001</td>\n",
              "      <td>1.000000</td>\n",
              "    </tr>\n",
              "  </tbody>\n",
              "</table>\n",
              "</div>"
            ],
            "text/plain": [
              "                                             profile_age  ...  company_diversity_policies\n",
              "profile_age                                     1.000000  ...                    0.001167\n",
              "profile_years_experience                        0.009316  ...                   -0.027675\n",
              "work_years_in_company                           0.022181  ...                   -0.137251\n",
              "work_years_in_current_position                  0.027657  ...                   -0.099066\n",
              "work_people_in_charge_of                        0.001154  ...                   -0.009451\n",
              "salary_on_call_duty_charge                     -0.000541  ...                   -0.020966\n",
              "salary_monthly_BRUTO                           -0.006752  ...                    0.115718\n",
              "salary_monthly_NETO                            -0.003909  ...                    0.095460\n",
              "salary_satisfaction                             0.005452  ...                    0.226400\n",
              "salary_comparison_last_semester                 0.007943  ...                    0.206204\n",
              "salary_percentage_inflation_adjustment_2020     0.013962  ...                    0.077387\n",
              "salary_month_last_inflation_adjustment          0.018650  ...                    0.084556\n",
              "company_recommended                             0.002991  ...                    0.564001\n",
              "company_diversity_policies                      0.001167  ...                    1.000000\n",
              "\n",
              "[14 rows x 14 columns]"
            ]
          },
          "metadata": {
            "tags": []
          },
          "execution_count": 15
        }
      ]
    },
    {
      "cell_type": "markdown",
      "metadata": {
        "id": "qWSMQH8rWzjU"
      },
      "source": [
        "En el data frame **df** no se observarn correlaciones entre las variables salary y otras variables numércias"
      ]
    },
    {
      "cell_type": "code",
      "metadata": {
        "colab": {
          "base_uri": "https://localhost:8080/",
          "height": 813
        },
        "id": "bIna5h2HWzjU",
        "outputId": "e274e4bd-8799-4e60-b931-b8536d060720"
      },
      "source": [
        "\n",
        "g = seaborn.pairplot(df_age_cleaned[['work_people_in_charge_of' , 'salary_monthly_BRUTO' , 'salary_monthly_NETO' , 'profile_age' ]])\n",
        "for axes in g.axes.flat:\n",
        "     axes.set_ylabel(axes.get_ylabel(), rotation=0, horizontalalignment='right')\n",
        "     axes.set_xlabel(axes.get_xlabel(), rotation=45)\n",
        "#df.drop(rows_to_delete )"
      ],
      "execution_count": 16,
      "outputs": [
        {
          "output_type": "display_data",
          "data": {
            "image/png": "[encoded data removed]",
            "text/plain": [
              "<Figure size 720x720 with 20 Axes>"
            ]
          },
          "metadata": {
            "tags": [],
            "needs_background": "light"
          }
        }
      ]
    },
    {
      "cell_type": "markdown",
      "metadata": {
        "id": "KY3CFDuhWzjU"
      },
      "source": [
        "Como no se encuentra correlaciones entre variables, vamos a revisar la variable discreta **programming language**"
      ]
    },
    {
      "cell_type": "code",
      "metadata": {
        "colab": {
          "base_uri": "https://localhost:8080/"
        },
        "id": "lfaFgKEaWzjV",
        "outputId": "aac3edc4-eef0-4e33-87f5-c5d7c8187a67"
      },
      "source": [
        "#df_age_cleaned.groupby(['cured_programming_languages']).agg(['count'])\n",
        "df_lang[['cured_programming_languages']].isnull().sum()"
      ],
      "execution_count": 17,
      "outputs": [
        {
          "output_type": "execute_result",
          "data": {
            "text/plain": [
              "cured_programming_languages    0\n",
              "dtype: int64"
            ]
          },
          "metadata": {
            "tags": []
          },
          "execution_count": 17
        }
      ]
    },
    {
      "cell_type": "code",
      "metadata": {
        "colab": {
          "base_uri": "https://localhost:8080/",
          "height": 424
        },
        "id": "t3xtMaOAWzjV",
        "outputId": "930d492b-c134-48dd-e12f-237b85915b60"
      },
      "source": [
        "df_lang[['programming_language']]"
      ],
      "execution_count": 18,
      "outputs": [
        {
          "output_type": "execute_result",
          "data": {
            "text/html": [
              "<div>\n",
              "<style scoped>\n",
              "    .dataframe tbody tr th:only-of-type {\n",
              "        vertical-align: middle;\n",
              "    }\n",
              "\n",
              "    .dataframe tbody tr th {\n",
              "        vertical-align: top;\n",
              "    }\n",
              "\n",
              "    .dataframe thead th {\n",
              "        text-align: right;\n",
              "    }\n",
              "</style>\n",
              "<table border=\"1\" class=\"dataframe\">\n",
              "  <thead>\n",
              "    <tr style=\"text-align: right;\">\n",
              "      <th></th>\n",
              "      <th>programming_language</th>\n",
              "    </tr>\n",
              "  </thead>\n",
              "  <tbody>\n",
              "    <tr>\n",
              "      <th>0</th>\n",
              "      <td>ninguno</td>\n",
              "    </tr>\n",
              "    <tr>\n",
              "      <th>1</th>\n",
              "      <td>html</td>\n",
              "    </tr>\n",
              "    <tr>\n",
              "      <th>1</th>\n",
              "      <td>javascript</td>\n",
              "    </tr>\n",
              "    <tr>\n",
              "      <th>1</th>\n",
              "      <td>python</td>\n",
              "    </tr>\n",
              "    <tr>\n",
              "      <th>2</th>\n",
              "      <td>ninguno</td>\n",
              "    </tr>\n",
              "    <tr>\n",
              "      <th>...</th>\n",
              "      <td>...</td>\n",
              "    </tr>\n",
              "    <tr>\n",
              "      <th>6093</th>\n",
              "      <td>java</td>\n",
              "    </tr>\n",
              "    <tr>\n",
              "      <th>6093</th>\n",
              "      <td>javascript</td>\n",
              "    </tr>\n",
              "    <tr>\n",
              "      <th>6093</th>\n",
              "      <td>php</td>\n",
              "    </tr>\n",
              "    <tr>\n",
              "      <th>6093</th>\n",
              "      <td>python</td>\n",
              "    </tr>\n",
              "    <tr>\n",
              "      <th>6093</th>\n",
              "      <td>sql</td>\n",
              "    </tr>\n",
              "  </tbody>\n",
              "</table>\n",
              "<p>18000 rows × 1 columns</p>\n",
              "</div>"
            ],
            "text/plain": [
              "     programming_language\n",
              "0                 ninguno\n",
              "1                    html\n",
              "1              javascript\n",
              "1                  python\n",
              "2                 ninguno\n",
              "...                   ...\n",
              "6093                 java\n",
              "6093           javascript\n",
              "6093                  php\n",
              "6093               python\n",
              "6093                  sql\n",
              "\n",
              "[18000 rows x 1 columns]"
            ]
          },
          "metadata": {
            "tags": []
          },
          "execution_count": 18
        }
      ]
    },
    {
      "cell_type": "code",
      "metadata": {
        "colab": {
          "base_uri": "https://localhost:8080/",
          "height": 708
        },
        "id": "wyZnm99dWzjV",
        "outputId": "d5aa2beb-9be8-451c-a8a4-824605fc2456"
      },
      "source": [
        "df_lang.groupby(['programming_language'])[[ 'salary_monthly_NETO'  ]].max().sort_values(by=['salary_monthly_NETO'],ascending = False)[:20]"
      ],
      "execution_count": 19,
      "outputs": [
        {
          "output_type": "execute_result",
          "data": {
            "text/html": [
              "<div>\n",
              "<style scoped>\n",
              "    .dataframe tbody tr th:only-of-type {\n",
              "        vertical-align: middle;\n",
              "    }\n",
              "\n",
              "    .dataframe tbody tr th {\n",
              "        vertical-align: top;\n",
              "    }\n",
              "\n",
              "    .dataframe thead th {\n",
              "        text-align: right;\n",
              "    }\n",
              "</style>\n",
              "<table border=\"1\" class=\"dataframe\">\n",
              "  <thead>\n",
              "    <tr style=\"text-align: right;\">\n",
              "      <th></th>\n",
              "      <th>salary_monthly_NETO</th>\n",
              "    </tr>\n",
              "    <tr>\n",
              "      <th>programming_language</th>\n",
              "      <th></th>\n",
              "    </tr>\n",
              "  </thead>\n",
              "  <tbody>\n",
              "    <tr>\n",
              "      <th>html</th>\n",
              "      <td>2080000.0</td>\n",
              "    </tr>\n",
              "    <tr>\n",
              "      <th>c</th>\n",
              "      <td>2080000.0</td>\n",
              "    </tr>\n",
              "    <tr>\n",
              "      <th>javascript</th>\n",
              "      <td>2080000.0</td>\n",
              "    </tr>\n",
              "    <tr>\n",
              "      <th>typescript</th>\n",
              "      <td>2080000.0</td>\n",
              "    </tr>\n",
              "    <tr>\n",
              "      <th>java</th>\n",
              "      <td>2080000.0</td>\n",
              "    </tr>\n",
              "    <tr>\n",
              "      <th>ruby</th>\n",
              "      <td>2080000.0</td>\n",
              "    </tr>\n",
              "    <tr>\n",
              "      <th>css</th>\n",
              "      <td>2080000.0</td>\n",
              "    </tr>\n",
              "    <tr>\n",
              "      <th>sql</th>\n",
              "      <td>2080000.0</td>\n",
              "    </tr>\n",
              "    <tr>\n",
              "      <th>bash/shell</th>\n",
              "      <td>2080000.0</td>\n",
              "    </tr>\n",
              "    <tr>\n",
              "      <th>go</th>\n",
              "      <td>1600000.0</td>\n",
              "    </tr>\n",
              "    <tr>\n",
              "      <th>python</th>\n",
              "      <td>1500000.0</td>\n",
              "    </tr>\n",
              "    <tr>\n",
              "      <th>c#</th>\n",
              "      <td>1500000.0</td>\n",
              "    </tr>\n",
              "    <tr>\n",
              "      <th>c++</th>\n",
              "      <td>1500000.0</td>\n",
              "    </tr>\n",
              "    <tr>\n",
              "      <th>r</th>\n",
              "      <td>1000000.0</td>\n",
              "    </tr>\n",
              "    <tr>\n",
              "      <th>scala</th>\n",
              "      <td>1000000.0</td>\n",
              "    </tr>\n",
              "    <tr>\n",
              "      <th>php</th>\n",
              "      <td>900000.0</td>\n",
              "    </tr>\n",
              "    <tr>\n",
              "      <th>smalltalk</th>\n",
              "      <td>870000.0</td>\n",
              "    </tr>\n",
              "    <tr>\n",
              "      <th>perl</th>\n",
              "      <td>800000.0</td>\n",
              "    </tr>\n",
              "    <tr>\n",
              "      <th>.net</th>\n",
              "      <td>740000.0</td>\n",
              "    </tr>\n",
              "    <tr>\n",
              "      <th>actionscript</th>\n",
              "      <td>740000.0</td>\n",
              "    </tr>\n",
              "  </tbody>\n",
              "</table>\n",
              "</div>"
            ],
            "text/plain": [
              "                      salary_monthly_NETO\n",
              "programming_language                     \n",
              "html                            2080000.0\n",
              "c                               2080000.0\n",
              "javascript                      2080000.0\n",
              "typescript                      2080000.0\n",
              "java                            2080000.0\n",
              "ruby                            2080000.0\n",
              "css                             2080000.0\n",
              "sql                             2080000.0\n",
              "bash/shell                      2080000.0\n",
              "go                              1600000.0\n",
              "python                          1500000.0\n",
              "c#                              1500000.0\n",
              "c++                             1500000.0\n",
              "r                               1000000.0\n",
              "scala                           1000000.0\n",
              "php                              900000.0\n",
              "smalltalk                        870000.0\n",
              "perl                             800000.0\n",
              ".net                             740000.0\n",
              "actionscript                     740000.0"
            ]
          },
          "metadata": {
            "tags": []
          },
          "execution_count": 19
        }
      ]
    },
    {
      "cell_type": "code",
      "metadata": {
        "id": "iCisAMi4WzjV"
      },
      "source": [
        "#df_lang.groupby(['programming_language'])[[ 'salary_monthly_NETO'  ]].max().sort_values(by=['salary_monthly_NETO'],ascending = False)[:20]"
      ],
      "execution_count": 20,
      "outputs": []
    },
    {
      "cell_type": "code",
      "metadata": {
        "colab": {
          "base_uri": "https://localhost:8080/",
          "height": 739
        },
        "id": "Ft7HHJEdWzjW",
        "outputId": "8b544b7c-9da8-4ec6-b957-e39116b073f4"
      },
      "source": [
        "df_lang.groupby(['work_role']).agg({'salary_monthly_NETO': ['mean', 'min', 'max' , 'count']}).sort_values(by=[('salary_monthly_NETO' , 'count')],ascending = False)[:20]"
      ],
      "execution_count": 21,
      "outputs": [
        {
          "output_type": "execute_result",
          "data": {
            "text/html": [
              "<div>\n",
              "<style scoped>\n",
              "    .dataframe tbody tr th:only-of-type {\n",
              "        vertical-align: middle;\n",
              "    }\n",
              "\n",
              "    .dataframe tbody tr th {\n",
              "        vertical-align: top;\n",
              "    }\n",
              "\n",
              "    .dataframe thead tr th {\n",
              "        text-align: left;\n",
              "    }\n",
              "\n",
              "    .dataframe thead tr:last-of-type th {\n",
              "        text-align: right;\n",
              "    }\n",
              "</style>\n",
              "<table border=\"1\" class=\"dataframe\">\n",
              "  <thead>\n",
              "    <tr>\n",
              "      <th></th>\n",
              "      <th colspan=\"4\" halign=\"left\">salary_monthly_NETO</th>\n",
              "    </tr>\n",
              "    <tr>\n",
              "      <th></th>\n",
              "      <th>mean</th>\n",
              "      <th>min</th>\n",
              "      <th>max</th>\n",
              "      <th>count</th>\n",
              "    </tr>\n",
              "    <tr>\n",
              "      <th>work_role</th>\n",
              "      <th></th>\n",
              "      <th></th>\n",
              "      <th></th>\n",
              "      <th></th>\n",
              "    </tr>\n",
              "  </thead>\n",
              "  <tbody>\n",
              "    <tr>\n",
              "      <th>Developer</th>\n",
              "      <td>86430.340851</td>\n",
              "      <td>1.000</td>\n",
              "      <td>1030000.0</td>\n",
              "      <td>8503</td>\n",
              "    </tr>\n",
              "    <tr>\n",
              "      <th>SysAdmin / DevOps / SRE</th>\n",
              "      <td>102666.899695</td>\n",
              "      <td>37.250</td>\n",
              "      <td>1500000.0</td>\n",
              "      <td>1819</td>\n",
              "    </tr>\n",
              "    <tr>\n",
              "      <th>Technical Leader</th>\n",
              "      <td>148846.559362</td>\n",
              "      <td>65.000</td>\n",
              "      <td>2080000.0</td>\n",
              "      <td>1380</td>\n",
              "    </tr>\n",
              "    <tr>\n",
              "      <th>Architect</th>\n",
              "      <td>148129.111446</td>\n",
              "      <td>40.000</td>\n",
              "      <td>1066000.0</td>\n",
              "      <td>664</td>\n",
              "    </tr>\n",
              "    <tr>\n",
              "      <th>Manager / Director</th>\n",
              "      <td>153591.038285</td>\n",
              "      <td>72.000</td>\n",
              "      <td>480000.0</td>\n",
              "      <td>653</td>\n",
              "    </tr>\n",
              "    <tr>\n",
              "      <th>QA / Tester</th>\n",
              "      <td>79579.658569</td>\n",
              "      <td>36.000</td>\n",
              "      <td>560000.0</td>\n",
              "      <td>531</td>\n",
              "    </tr>\n",
              "    <tr>\n",
              "      <th>Project Manager</th>\n",
              "      <td>102391.666968</td>\n",
              "      <td>86.877</td>\n",
              "      <td>418000.0</td>\n",
              "      <td>435</td>\n",
              "    </tr>\n",
              "    <tr>\n",
              "      <th>Data Scientist / Data Engineer</th>\n",
              "      <td>124911.792916</td>\n",
              "      <td>64.000</td>\n",
              "      <td>1190000.0</td>\n",
              "      <td>367</td>\n",
              "    </tr>\n",
              "    <tr>\n",
              "      <th>BI Analyst / Data Analyst</th>\n",
              "      <td>72766.434197</td>\n",
              "      <td>2.000</td>\n",
              "      <td>200000.0</td>\n",
              "      <td>284</td>\n",
              "    </tr>\n",
              "    <tr>\n",
              "      <th>Consultant</th>\n",
              "      <td>75059.748939</td>\n",
              "      <td>51.000</td>\n",
              "      <td>200000.0</td>\n",
              "      <td>264</td>\n",
              "    </tr>\n",
              "    <tr>\n",
              "      <th>HelpDesk</th>\n",
              "      <td>72110.308193</td>\n",
              "      <td>36.000</td>\n",
              "      <td>836400.0</td>\n",
              "      <td>238</td>\n",
              "    </tr>\n",
              "    <tr>\n",
              "      <th>Business Analyst</th>\n",
              "      <td>80994.429646</td>\n",
              "      <td>17.300</td>\n",
              "      <td>340000.0</td>\n",
              "      <td>198</td>\n",
              "    </tr>\n",
              "    <tr>\n",
              "      <th>Infosec</th>\n",
              "      <td>100156.740541</td>\n",
              "      <td>95.000</td>\n",
              "      <td>240000.0</td>\n",
              "      <td>185</td>\n",
              "    </tr>\n",
              "    <tr>\n",
              "      <th>Networking</th>\n",
              "      <td>63289.735537</td>\n",
              "      <td>37.900</td>\n",
              "      <td>150000.0</td>\n",
              "      <td>177</td>\n",
              "    </tr>\n",
              "    <tr>\n",
              "      <th>DBA</th>\n",
              "      <td>131492.822695</td>\n",
              "      <td>27.000</td>\n",
              "      <td>1250000.0</td>\n",
              "      <td>141</td>\n",
              "    </tr>\n",
              "    <tr>\n",
              "      <th>VP / C-Level</th>\n",
              "      <td>253477.919708</td>\n",
              "      <td>35000.000</td>\n",
              "      <td>964320.0</td>\n",
              "      <td>137</td>\n",
              "    </tr>\n",
              "    <tr>\n",
              "      <th>UX</th>\n",
              "      <td>58557.976923</td>\n",
              "      <td>15.000</td>\n",
              "      <td>200000.0</td>\n",
              "      <td>130</td>\n",
              "    </tr>\n",
              "    <tr>\n",
              "      <th>Designer</th>\n",
              "      <td>55826.436320</td>\n",
              "      <td>9.000</td>\n",
              "      <td>130000.0</td>\n",
              "      <td>125</td>\n",
              "    </tr>\n",
              "    <tr>\n",
              "      <th>Scrum Master</th>\n",
              "      <td>90929.174312</td>\n",
              "      <td>11000.000</td>\n",
              "      <td>220000.0</td>\n",
              "      <td>109</td>\n",
              "    </tr>\n",
              "    <tr>\n",
              "      <th>Product Manager</th>\n",
              "      <td>183736.663158</td>\n",
              "      <td>4000.000</td>\n",
              "      <td>900000.0</td>\n",
              "      <td>95</td>\n",
              "    </tr>\n",
              "  </tbody>\n",
              "</table>\n",
              "</div>"
            ],
            "text/plain": [
              "                               salary_monthly_NETO                            \n",
              "                                              mean        min        max count\n",
              "work_role                                                                     \n",
              "Developer                             86430.340851      1.000  1030000.0  8503\n",
              "SysAdmin / DevOps / SRE              102666.899695     37.250  1500000.0  1819\n",
              "Technical Leader                     148846.559362     65.000  2080000.0  1380\n",
              "Architect                            148129.111446     40.000  1066000.0   664\n",
              "Manager / Director                   153591.038285     72.000   480000.0   653\n",
              "QA / Tester                           79579.658569     36.000   560000.0   531\n",
              "Project Manager                      102391.666968     86.877   418000.0   435\n",
              "Data Scientist / Data Engineer       124911.792916     64.000  1190000.0   367\n",
              "BI Analyst / Data Analyst             72766.434197      2.000   200000.0   284\n",
              "Consultant                            75059.748939     51.000   200000.0   264\n",
              "HelpDesk                              72110.308193     36.000   836400.0   238\n",
              "Business Analyst                      80994.429646     17.300   340000.0   198\n",
              "Infosec                              100156.740541     95.000   240000.0   185\n",
              "Networking                            63289.735537     37.900   150000.0   177\n",
              "DBA                                  131492.822695     27.000  1250000.0   141\n",
              "VP / C-Level                         253477.919708  35000.000   964320.0   137\n",
              "UX                                    58557.976923     15.000   200000.0   130\n",
              "Designer                              55826.436320      9.000   130000.0   125\n",
              "Scrum Master                          90929.174312  11000.000   220000.0   109\n",
              "Product Manager                      183736.663158   4000.000   900000.0    95"
            ]
          },
          "metadata": {
            "tags": []
          },
          "execution_count": 21
        }
      ]
    },
    {
      "cell_type": "code",
      "metadata": {
        "colab": {
          "base_uri": "https://localhost:8080/",
          "height": 301
        },
        "id": "nXate66lWzjW",
        "outputId": "690c794d-b8e4-4a44-d6a6-fae025509ee7"
      },
      "source": [
        "plt.figure(figsize=(12, 4))\n",
        "seaborn.boxplot(x=df_lang[df_lang['work_role'] == 'Developer']['salary_monthly_NETO'])\n",
        "seaborn.despine()"
      ],
      "execution_count": 22,
      "outputs": [
        {
          "output_type": "display_data",
          "data": {
            "image/png": "[encoded data removed]",
            "text/plain": [
              "<Figure size 864x288 with 1 Axes>"
            ]
          },
          "metadata": {
            "tags": [],
            "needs_background": "light"
          }
        }
      ]
    },
    {
      "cell_type": "code",
      "metadata": {
        "colab": {
          "base_uri": "https://localhost:8080/"
        },
        "id": "jEBw7QNZWzjW",
        "outputId": "71169c7e-05ae-48e7-a0b0-b4d6a8873484"
      },
      "source": [
        "df_lang[df_lang['work_role'] == 'Developer']['salary_monthly_NETO'].describe()"
      ],
      "execution_count": 23,
      "outputs": [
        {
          "output_type": "execute_result",
          "data": {
            "text/plain": [
              "count    8.503000e+03\n",
              "mean     8.643034e+04\n",
              "std      8.009101e+04\n",
              "min      1.000000e+00\n",
              "25%      4.995000e+04\n",
              "50%      7.200000e+04\n",
              "75%      9.800000e+04\n",
              "max      1.030000e+06\n",
              "Name: salary_monthly_NETO, dtype: float64"
            ]
          },
          "metadata": {
            "tags": []
          },
          "execution_count": 23
        }
      ]
    },
    {
      "cell_type": "code",
      "metadata": {
        "colab": {
          "base_uri": "https://localhost:8080/"
        },
        "id": "Zgilcz-sWzjX",
        "outputId": "57c25db3-e373-40ed-bc9a-6a5718468738"
      },
      "source": [
        "df_lang[df_lang['work_role'] == 'Developer']['salary_monthly_NETO'].quantile([0.25,0.5,0.75])"
      ],
      "execution_count": 24,
      "outputs": [
        {
          "output_type": "execute_result",
          "data": {
            "text/plain": [
              "0.25    49950.0\n",
              "0.50    72000.0\n",
              "0.75    98000.0\n",
              "Name: salary_monthly_NETO, dtype: float64"
            ]
          },
          "metadata": {
            "tags": []
          },
          "execution_count": 24
        }
      ]
    },
    {
      "cell_type": "code",
      "metadata": {
        "id": "NIy8q5DxWzjX"
      },
      "source": [
        "RIC = df_lang[df_lang['work_role'] == 'Developer']['salary_monthly_NETO'].quantile([0.75]).values[0] - df_lang[df_lang['work_role'] == 'Developer']['salary_monthly_NETO'].quantile([0.25]).values[0]"
      ],
      "execution_count": 25,
      "outputs": []
    },
    {
      "cell_type": "code",
      "metadata": {
        "colab": {
          "base_uri": "https://localhost:8080/"
        },
        "id": "az6yej6tWzjX",
        "outputId": "ba065cd3-8eff-4119-f7e8-9b3befa93ab4"
      },
      "source": [
        "RIC"
      ],
      "execution_count": 26,
      "outputs": [
        {
          "output_type": "execute_result",
          "data": {
            "text/plain": [
              "48050.0"
            ]
          },
          "metadata": {
            "tags": []
          },
          "execution_count": 26
        }
      ]
    },
    {
      "cell_type": "code",
      "metadata": {
        "id": "E1q8EtAZWzjY"
      },
      "source": [
        "Ls = df_lang[df_lang['work_role'] == 'Developer']['salary_monthly_NETO'].quantile([0.75]).values[0] + RIC * 1.5\n",
        "Li = df_lang[df_lang['work_role'] == 'Developer']['salary_monthly_NETO'].quantile([0.25]).values[0] - RIC * 1.5"
      ],
      "execution_count": 27,
      "outputs": []
    },
    {
      "cell_type": "code",
      "metadata": {
        "colab": {
          "base_uri": "https://localhost:8080/"
        },
        "id": "DyEowrGZWzjY",
        "outputId": "1e67e437-f143-4079-ea16-eeadafb6345a"
      },
      "source": [
        "Ls , Li"
      ],
      "execution_count": 28,
      "outputs": [
        {
          "output_type": "execute_result",
          "data": {
            "text/plain": [
              "(170075.0, -22125.0)"
            ]
          },
          "metadata": {
            "tags": []
          },
          "execution_count": 28
        }
      ]
    },
    {
      "cell_type": "code",
      "metadata": {
        "colab": {
          "base_uri": "https://localhost:8080/",
          "height": 424
        },
        "id": "izvNTatWWzjY",
        "outputId": "377d2b24-afd1-4fb4-e8f1-59adcb2c17b8"
      },
      "source": [
        "df_lang[(df_lang['work_role'] == 'Developer') & (df_lang['salary_monthly_NETO'] >= Ls)]"
      ],
      "execution_count": 29,
      "outputs": [
        {
          "output_type": "execute_result",
          "data": {
            "text/html": [
              "<div>\n",
              "<style scoped>\n",
              "    .dataframe tbody tr th:only-of-type {\n",
              "        vertical-align: middle;\n",
              "    }\n",
              "\n",
              "    .dataframe tbody tr th {\n",
              "        vertical-align: top;\n",
              "    }\n",
              "\n",
              "    .dataframe thead th {\n",
              "        text-align: right;\n",
              "    }\n",
              "</style>\n",
              "<table border=\"1\" class=\"dataframe\">\n",
              "  <thead>\n",
              "    <tr style=\"text-align: right;\">\n",
              "      <th></th>\n",
              "      <th>programming_language</th>\n",
              "      <th>tools_programming_languages</th>\n",
              "      <th>salary_monthly_NETO</th>\n",
              "      <th>profile_age</th>\n",
              "      <th>work_role</th>\n",
              "      <th>cured_programming_languages</th>\n",
              "    </tr>\n",
              "  </thead>\n",
              "  <tbody>\n",
              "    <tr>\n",
              "      <th>26</th>\n",
              "      <td>java</td>\n",
              "      <td>Java, Javascript, Objective-C, TypeScript</td>\n",
              "      <td>200000.0</td>\n",
              "      <td>24</td>\n",
              "      <td>Developer</td>\n",
              "      <td>[java, javascript, objective-c, typescript]</td>\n",
              "    </tr>\n",
              "    <tr>\n",
              "      <th>26</th>\n",
              "      <td>javascript</td>\n",
              "      <td>Java, Javascript, Objective-C, TypeScript</td>\n",
              "      <td>200000.0</td>\n",
              "      <td>24</td>\n",
              "      <td>Developer</td>\n",
              "      <td>[java, javascript, objective-c, typescript]</td>\n",
              "    </tr>\n",
              "    <tr>\n",
              "      <th>26</th>\n",
              "      <td>objective-c</td>\n",
              "      <td>Java, Javascript, Objective-C, TypeScript</td>\n",
              "      <td>200000.0</td>\n",
              "      <td>24</td>\n",
              "      <td>Developer</td>\n",
              "      <td>[java, javascript, objective-c, typescript]</td>\n",
              "    </tr>\n",
              "    <tr>\n",
              "      <th>26</th>\n",
              "      <td>typescript</td>\n",
              "      <td>Java, Javascript, Objective-C, TypeScript</td>\n",
              "      <td>200000.0</td>\n",
              "      <td>24</td>\n",
              "      <td>Developer</td>\n",
              "      <td>[java, javascript, objective-c, typescript]</td>\n",
              "    </tr>\n",
              "    <tr>\n",
              "      <th>66</th>\n",
              "      <td>css</td>\n",
              "      <td>CSS, Elixir, HTML, Javascript, Ruby, SQL, Type...</td>\n",
              "      <td>265000.0</td>\n",
              "      <td>30</td>\n",
              "      <td>Developer</td>\n",
              "      <td>[css, elixir, html, javascript, ruby, sql, typ...</td>\n",
              "    </tr>\n",
              "    <tr>\n",
              "      <th>...</th>\n",
              "      <td>...</td>\n",
              "      <td>...</td>\n",
              "      <td>...</td>\n",
              "      <td>...</td>\n",
              "      <td>...</td>\n",
              "      <td>...</td>\n",
              "    </tr>\n",
              "    <tr>\n",
              "      <th>5851</th>\n",
              "      <td>typescript</td>\n",
              "      <td>Bash/Shell, CSS, Groovy, Java, Javascript, Kot...</td>\n",
              "      <td>180000.0</td>\n",
              "      <td>36</td>\n",
              "      <td>Developer</td>\n",
              "      <td>[bash/shell, css, groovy, java, javascript, ko...</td>\n",
              "    </tr>\n",
              "    <tr>\n",
              "      <th>6004</th>\n",
              "      <td>javascript</td>\n",
              "      <td>Javascript, PHP, SQL</td>\n",
              "      <td>360000.0</td>\n",
              "      <td>29</td>\n",
              "      <td>Developer</td>\n",
              "      <td>[javascript, php, sql]</td>\n",
              "    </tr>\n",
              "    <tr>\n",
              "      <th>6004</th>\n",
              "      <td>php</td>\n",
              "      <td>Javascript, PHP, SQL</td>\n",
              "      <td>360000.0</td>\n",
              "      <td>29</td>\n",
              "      <td>Developer</td>\n",
              "      <td>[javascript, php, sql]</td>\n",
              "    </tr>\n",
              "    <tr>\n",
              "      <th>6004</th>\n",
              "      <td>sql</td>\n",
              "      <td>Javascript, PHP, SQL</td>\n",
              "      <td>360000.0</td>\n",
              "      <td>29</td>\n",
              "      <td>Developer</td>\n",
              "      <td>[javascript, php, sql]</td>\n",
              "    </tr>\n",
              "    <tr>\n",
              "      <th>6021</th>\n",
              "      <td>java</td>\n",
              "      <td>Java</td>\n",
              "      <td>210000.0</td>\n",
              "      <td>35</td>\n",
              "      <td>Developer</td>\n",
              "      <td>[java]</td>\n",
              "    </tr>\n",
              "  </tbody>\n",
              "</table>\n",
              "<p>483 rows × 6 columns</p>\n",
              "</div>"
            ],
            "text/plain": [
              "     programming_language  ...                        cured_programming_languages\n",
              "26                   java  ...        [java, javascript, objective-c, typescript]\n",
              "26             javascript  ...        [java, javascript, objective-c, typescript]\n",
              "26            objective-c  ...        [java, javascript, objective-c, typescript]\n",
              "26             typescript  ...        [java, javascript, objective-c, typescript]\n",
              "66                    css  ...  [css, elixir, html, javascript, ruby, sql, typ...\n",
              "...                   ...  ...                                                ...\n",
              "5851           typescript  ...  [bash/shell, css, groovy, java, javascript, ko...\n",
              "6004           javascript  ...                             [javascript, php, sql]\n",
              "6004                  php  ...                             [javascript, php, sql]\n",
              "6004                  sql  ...                             [javascript, php, sql]\n",
              "6021                 java  ...                                             [java]\n",
              "\n",
              "[483 rows x 6 columns]"
            ]
          },
          "metadata": {
            "tags": []
          },
          "execution_count": 29
        }
      ]
    },
    {
      "cell_type": "code",
      "metadata": {
        "colab": {
          "base_uri": "https://localhost:8080/",
          "height": 301
        },
        "id": "EpzAe0EfWzjY",
        "outputId": "07c816a4-2fa9-4994-a78d-8aba8e65eeaf"
      },
      "source": [
        "\n",
        "\n",
        "plt.figure(figsize=(12, 4))\n",
        "seaborn.boxplot(x=df_lang[(df_lang['work_role'] == 'Developer') & (df_lang['salary_monthly_NETO'] >= Ls)]['salary_monthly_NETO'])\n",
        "seaborn.despine()"
      ],
      "execution_count": 30,
      "outputs": [
        {
          "output_type": "display_data",
          "data": {
            "image/png": "[encoded data removed]",
            "text/plain": [
              "<Figure size 864x288 with 1 Axes>"
            ]
          },
          "metadata": {
            "tags": [],
            "needs_background": "light"
          }
        }
      ]
    },
    {
      "cell_type": "code",
      "metadata": {
        "colab": {
          "base_uri": "https://localhost:8080/",
          "height": 301
        },
        "id": "NCzEgiX5WzjZ",
        "outputId": "df9da4ed-11c1-4a23-f9a8-d7f9bb03c0f9"
      },
      "source": [
        "plt.figure(figsize=(12, 4))\n",
        "seaborn.boxplot(x=df_lang[df_lang['work_role'] == 'Technical Leader']['salary_monthly_NETO'])\n",
        "seaborn.despine()"
      ],
      "execution_count": 31,
      "outputs": [
        {
          "output_type": "display_data",
          "data": {
            "image/png": "[encoded data removed]",
            "text/plain": [
              "<Figure size 864x288 with 1 Axes>"
            ]
          },
          "metadata": {
            "tags": [],
            "needs_background": "light"
          }
        }
      ]
    },
    {
      "cell_type": "code",
      "metadata": {
        "colab": {
          "base_uri": "https://localhost:8080/"
        },
        "id": "TMi_1C4OWzjZ",
        "outputId": "075559c3-77ed-4156-d3fb-0bea51d72ebd"
      },
      "source": [
        "df_lang[df_lang['work_role'] == 'Technical Leader']['salary_monthly_NETO'].quantile([0.25,0.5,0.75])"
      ],
      "execution_count": 32,
      "outputs": [
        {
          "output_type": "execute_result",
          "data": {
            "text/plain": [
              "0.25     86500.0\n",
              "0.50    115000.0\n",
              "0.75    165000.0\n",
              "Name: salary_monthly_NETO, dtype: float64"
            ]
          },
          "metadata": {
            "tags": []
          },
          "execution_count": 32
        }
      ]
    },
    {
      "cell_type": "code",
      "metadata": {
        "colab": {
          "base_uri": "https://localhost:8080/",
          "height": 332
        },
        "id": "-py8ebJUWzjZ",
        "outputId": "456a42e7-640f-4d9c-cc5b-15034beb8403"
      },
      "source": [
        "df_lang[df_lang.salary_monthly_NETO > 2000000]"
      ],
      "execution_count": 33,
      "outputs": [
        {
          "output_type": "execute_result",
          "data": {
            "text/html": [
              "<div>\n",
              "<style scoped>\n",
              "    .dataframe tbody tr th:only-of-type {\n",
              "        vertical-align: middle;\n",
              "    }\n",
              "\n",
              "    .dataframe tbody tr th {\n",
              "        vertical-align: top;\n",
              "    }\n",
              "\n",
              "    .dataframe thead th {\n",
              "        text-align: right;\n",
              "    }\n",
              "</style>\n",
              "<table border=\"1\" class=\"dataframe\">\n",
              "  <thead>\n",
              "    <tr style=\"text-align: right;\">\n",
              "      <th></th>\n",
              "      <th>programming_language</th>\n",
              "      <th>tools_programming_languages</th>\n",
              "      <th>salary_monthly_NETO</th>\n",
              "      <th>profile_age</th>\n",
              "      <th>work_role</th>\n",
              "      <th>cured_programming_languages</th>\n",
              "    </tr>\n",
              "  </thead>\n",
              "  <tbody>\n",
              "    <tr>\n",
              "      <th>4486</th>\n",
              "      <td>bash/shell</td>\n",
              "      <td>Bash/Shell, C, CSS, HTML, Java, Javascript, Ru...</td>\n",
              "      <td>2080000.0</td>\n",
              "      <td>40</td>\n",
              "      <td>Technical Leader</td>\n",
              "      <td>[bash/shell, c, css, html, java, javascript, r...</td>\n",
              "    </tr>\n",
              "    <tr>\n",
              "      <th>4486</th>\n",
              "      <td>c</td>\n",
              "      <td>Bash/Shell, C, CSS, HTML, Java, Javascript, Ru...</td>\n",
              "      <td>2080000.0</td>\n",
              "      <td>40</td>\n",
              "      <td>Technical Leader</td>\n",
              "      <td>[bash/shell, c, css, html, java, javascript, r...</td>\n",
              "    </tr>\n",
              "    <tr>\n",
              "      <th>4486</th>\n",
              "      <td>css</td>\n",
              "      <td>Bash/Shell, C, CSS, HTML, Java, Javascript, Ru...</td>\n",
              "      <td>2080000.0</td>\n",
              "      <td>40</td>\n",
              "      <td>Technical Leader</td>\n",
              "      <td>[bash/shell, c, css, html, java, javascript, r...</td>\n",
              "    </tr>\n",
              "    <tr>\n",
              "      <th>4486</th>\n",
              "      <td>html</td>\n",
              "      <td>Bash/Shell, C, CSS, HTML, Java, Javascript, Ru...</td>\n",
              "      <td>2080000.0</td>\n",
              "      <td>40</td>\n",
              "      <td>Technical Leader</td>\n",
              "      <td>[bash/shell, c, css, html, java, javascript, r...</td>\n",
              "    </tr>\n",
              "    <tr>\n",
              "      <th>4486</th>\n",
              "      <td>java</td>\n",
              "      <td>Bash/Shell, C, CSS, HTML, Java, Javascript, Ru...</td>\n",
              "      <td>2080000.0</td>\n",
              "      <td>40</td>\n",
              "      <td>Technical Leader</td>\n",
              "      <td>[bash/shell, c, css, html, java, javascript, r...</td>\n",
              "    </tr>\n",
              "    <tr>\n",
              "      <th>4486</th>\n",
              "      <td>javascript</td>\n",
              "      <td>Bash/Shell, C, CSS, HTML, Java, Javascript, Ru...</td>\n",
              "      <td>2080000.0</td>\n",
              "      <td>40</td>\n",
              "      <td>Technical Leader</td>\n",
              "      <td>[bash/shell, c, css, html, java, javascript, r...</td>\n",
              "    </tr>\n",
              "    <tr>\n",
              "      <th>4486</th>\n",
              "      <td>ruby</td>\n",
              "      <td>Bash/Shell, C, CSS, HTML, Java, Javascript, Ru...</td>\n",
              "      <td>2080000.0</td>\n",
              "      <td>40</td>\n",
              "      <td>Technical Leader</td>\n",
              "      <td>[bash/shell, c, css, html, java, javascript, r...</td>\n",
              "    </tr>\n",
              "    <tr>\n",
              "      <th>4486</th>\n",
              "      <td>sql</td>\n",
              "      <td>Bash/Shell, C, CSS, HTML, Java, Javascript, Ru...</td>\n",
              "      <td>2080000.0</td>\n",
              "      <td>40</td>\n",
              "      <td>Technical Leader</td>\n",
              "      <td>[bash/shell, c, css, html, java, javascript, r...</td>\n",
              "    </tr>\n",
              "    <tr>\n",
              "      <th>4486</th>\n",
              "      <td>typescript</td>\n",
              "      <td>Bash/Shell, C, CSS, HTML, Java, Javascript, Ru...</td>\n",
              "      <td>2080000.0</td>\n",
              "      <td>40</td>\n",
              "      <td>Technical Leader</td>\n",
              "      <td>[bash/shell, c, css, html, java, javascript, r...</td>\n",
              "    </tr>\n",
              "  </tbody>\n",
              "</table>\n",
              "</div>"
            ],
            "text/plain": [
              "     programming_language  ...                        cured_programming_languages\n",
              "4486           bash/shell  ...  [bash/shell, c, css, html, java, javascript, r...\n",
              "4486                    c  ...  [bash/shell, c, css, html, java, javascript, r...\n",
              "4486                  css  ...  [bash/shell, c, css, html, java, javascript, r...\n",
              "4486                 html  ...  [bash/shell, c, css, html, java, javascript, r...\n",
              "4486                 java  ...  [bash/shell, c, css, html, java, javascript, r...\n",
              "4486           javascript  ...  [bash/shell, c, css, html, java, javascript, r...\n",
              "4486                 ruby  ...  [bash/shell, c, css, html, java, javascript, r...\n",
              "4486                  sql  ...  [bash/shell, c, css, html, java, javascript, r...\n",
              "4486           typescript  ...  [bash/shell, c, css, html, java, javascript, r...\n",
              "\n",
              "[9 rows x 6 columns]"
            ]
          },
          "metadata": {
            "tags": []
          },
          "execution_count": 33
        }
      ]
    },
    {
      "cell_type": "code",
      "metadata": {
        "id": "zC9VrbdnWzja"
      },
      "source": [
        "result = df_lang.groupby(['programming_language']).agg({'salary_monthly_NETO': ['mean', 'min', 'max' , 'count']})"
      ],
      "execution_count": 34,
      "outputs": []
    },
    {
      "cell_type": "code",
      "metadata": {
        "colab": {
          "base_uri": "https://localhost:8080/"
        },
        "id": "7KMPDiQqWzja",
        "outputId": "075060b8-f848-4025-d168-1e6eee129aea"
      },
      "source": [
        "result.columns\n"
      ],
      "execution_count": 35,
      "outputs": [
        {
          "output_type": "execute_result",
          "data": {
            "text/plain": [
              "MultiIndex([('salary_monthly_NETO',  'mean'),\n",
              "            ('salary_monthly_NETO',   'min'),\n",
              "            ('salary_monthly_NETO',   'max'),\n",
              "            ('salary_monthly_NETO', 'count')],\n",
              "           )"
            ]
          },
          "metadata": {
            "tags": []
          },
          "execution_count": 35
        }
      ]
    },
    {
      "cell_type": "code",
      "metadata": {
        "colab": {
          "base_uri": "https://localhost:8080/",
          "height": 739
        },
        "id": "KLxpxLusWzja",
        "outputId": "b9fccbbb-b133-4036-d114-43a8190e5d32"
      },
      "source": [
        "result.sort_values(by=[('salary_monthly_NETO' , 'count')],ascending = False)[:20]"
      ],
      "execution_count": 36,
      "outputs": [
        {
          "output_type": "execute_result",
          "data": {
            "text/html": [
              "<div>\n",
              "<style scoped>\n",
              "    .dataframe tbody tr th:only-of-type {\n",
              "        vertical-align: middle;\n",
              "    }\n",
              "\n",
              "    .dataframe tbody tr th {\n",
              "        vertical-align: top;\n",
              "    }\n",
              "\n",
              "    .dataframe thead tr th {\n",
              "        text-align: left;\n",
              "    }\n",
              "\n",
              "    .dataframe thead tr:last-of-type th {\n",
              "        text-align: right;\n",
              "    }\n",
              "</style>\n",
              "<table border=\"1\" class=\"dataframe\">\n",
              "  <thead>\n",
              "    <tr>\n",
              "      <th></th>\n",
              "      <th colspan=\"4\" halign=\"left\">salary_monthly_NETO</th>\n",
              "    </tr>\n",
              "    <tr>\n",
              "      <th></th>\n",
              "      <th>mean</th>\n",
              "      <th>min</th>\n",
              "      <th>max</th>\n",
              "      <th>count</th>\n",
              "    </tr>\n",
              "    <tr>\n",
              "      <th>programming_language</th>\n",
              "      <th></th>\n",
              "      <th></th>\n",
              "      <th></th>\n",
              "      <th></th>\n",
              "    </tr>\n",
              "  </thead>\n",
              "  <tbody>\n",
              "    <tr>\n",
              "      <th>javascript</th>\n",
              "      <td>100349.853843</td>\n",
              "      <td>1.000</td>\n",
              "      <td>2080000.0</td>\n",
              "      <td>2409</td>\n",
              "    </tr>\n",
              "    <tr>\n",
              "      <th>sql</th>\n",
              "      <td>92165.221091</td>\n",
              "      <td>1.000</td>\n",
              "      <td>2080000.0</td>\n",
              "      <td>2088</td>\n",
              "    </tr>\n",
              "    <tr>\n",
              "      <th>html</th>\n",
              "      <td>91807.318308</td>\n",
              "      <td>1.000</td>\n",
              "      <td>2080000.0</td>\n",
              "      <td>1793</td>\n",
              "    </tr>\n",
              "    <tr>\n",
              "      <th>python</th>\n",
              "      <td>110805.045791</td>\n",
              "      <td>1.000</td>\n",
              "      <td>1500000.0</td>\n",
              "      <td>1417</td>\n",
              "    </tr>\n",
              "    <tr>\n",
              "      <th>java</th>\n",
              "      <td>99769.704651</td>\n",
              "      <td>1.000</td>\n",
              "      <td>2080000.0</td>\n",
              "      <td>1405</td>\n",
              "    </tr>\n",
              "    <tr>\n",
              "      <th>css</th>\n",
              "      <td>92221.523950</td>\n",
              "      <td>1.000</td>\n",
              "      <td>2080000.0</td>\n",
              "      <td>1199</td>\n",
              "    </tr>\n",
              "    <tr>\n",
              "      <th>bash/shell</th>\n",
              "      <td>110882.139431</td>\n",
              "      <td>37.250</td>\n",
              "      <td>2080000.0</td>\n",
              "      <td>961</td>\n",
              "    </tr>\n",
              "    <tr>\n",
              "      <th>php</th>\n",
              "      <td>94281.415584</td>\n",
              "      <td>1.000</td>\n",
              "      <td>900000.0</td>\n",
              "      <td>853</td>\n",
              "    </tr>\n",
              "    <tr>\n",
              "      <th>.net</th>\n",
              "      <td>89489.067340</td>\n",
              "      <td>1.000</td>\n",
              "      <td>740000.0</td>\n",
              "      <td>802</td>\n",
              "    </tr>\n",
              "    <tr>\n",
              "      <th>typescript</th>\n",
              "      <td>111012.616366</td>\n",
              "      <td>13.000</td>\n",
              "      <td>2080000.0</td>\n",
              "      <td>743</td>\n",
              "    </tr>\n",
              "    <tr>\n",
              "      <th>c#</th>\n",
              "      <td>92195.413123</td>\n",
              "      <td>1.000</td>\n",
              "      <td>1500000.0</td>\n",
              "      <td>714</td>\n",
              "    </tr>\n",
              "    <tr>\n",
              "      <th>ninguno</th>\n",
              "      <td>82276.403040</td>\n",
              "      <td>1.000</td>\n",
              "      <td>440000.0</td>\n",
              "      <td>322</td>\n",
              "    </tr>\n",
              "    <tr>\n",
              "      <th>go</th>\n",
              "      <td>140309.642509</td>\n",
              "      <td>34.030</td>\n",
              "      <td>1600000.0</td>\n",
              "      <td>291</td>\n",
              "    </tr>\n",
              "    <tr>\n",
              "      <th>c++</th>\n",
              "      <td>101538.733132</td>\n",
              "      <td>1.000</td>\n",
              "      <td>1500000.0</td>\n",
              "      <td>265</td>\n",
              "    </tr>\n",
              "    <tr>\n",
              "      <th>c</th>\n",
              "      <td>121209.941082</td>\n",
              "      <td>1.000</td>\n",
              "      <td>2080000.0</td>\n",
              "      <td>233</td>\n",
              "    </tr>\n",
              "    <tr>\n",
              "      <th>vba</th>\n",
              "      <td>77274.997149</td>\n",
              "      <td>27.000</td>\n",
              "      <td>391000.0</td>\n",
              "      <td>221</td>\n",
              "    </tr>\n",
              "    <tr>\n",
              "      <th>kotlin</th>\n",
              "      <td>114617.860456</td>\n",
              "      <td>1.000</td>\n",
              "      <td>535000.0</td>\n",
              "      <td>180</td>\n",
              "    </tr>\n",
              "    <tr>\n",
              "      <th>groovy</th>\n",
              "      <td>109747.354623</td>\n",
              "      <td>63.000</td>\n",
              "      <td>360000.0</td>\n",
              "      <td>162</td>\n",
              "    </tr>\n",
              "    <tr>\n",
              "      <th>ruby</th>\n",
              "      <td>162600.003444</td>\n",
              "      <td>27.342</td>\n",
              "      <td>2080000.0</td>\n",
              "      <td>144</td>\n",
              "    </tr>\n",
              "    <tr>\n",
              "      <th>scala</th>\n",
              "      <td>165968.641027</td>\n",
              "      <td>60.000</td>\n",
              "      <td>1000000.0</td>\n",
              "      <td>111</td>\n",
              "    </tr>\n",
              "  </tbody>\n",
              "</table>\n",
              "</div>"
            ],
            "text/plain": [
              "                     salary_monthly_NETO                         \n",
              "                                    mean     min        max count\n",
              "programming_language                                             \n",
              "javascript                 100349.853843   1.000  2080000.0  2409\n",
              "sql                         92165.221091   1.000  2080000.0  2088\n",
              "html                        91807.318308   1.000  2080000.0  1793\n",
              "python                     110805.045791   1.000  1500000.0  1417\n",
              "java                        99769.704651   1.000  2080000.0  1405\n",
              "css                         92221.523950   1.000  2080000.0  1199\n",
              "bash/shell                 110882.139431  37.250  2080000.0   961\n",
              "php                         94281.415584   1.000   900000.0   853\n",
              ".net                        89489.067340   1.000   740000.0   802\n",
              "typescript                 111012.616366  13.000  2080000.0   743\n",
              "c#                          92195.413123   1.000  1500000.0   714\n",
              "ninguno                     82276.403040   1.000   440000.0   322\n",
              "go                         140309.642509  34.030  1600000.0   291\n",
              "c++                        101538.733132   1.000  1500000.0   265\n",
              "c                          121209.941082   1.000  2080000.0   233\n",
              "vba                         77274.997149  27.000   391000.0   221\n",
              "kotlin                     114617.860456   1.000   535000.0   180\n",
              "groovy                     109747.354623  63.000   360000.0   162\n",
              "ruby                       162600.003444  27.342  2080000.0   144\n",
              "scala                      165968.641027  60.000  1000000.0   111"
            ]
          },
          "metadata": {
            "tags": []
          },
          "execution_count": 36
        }
      ]
    },
    {
      "cell_type": "code",
      "metadata": {
        "id": "XjpwIIPzWzja"
      },
      "source": [
        "result_programming_language_work_role = df_lang.groupby(['programming_language' , 'work_role']).agg({'salary_monthly_NETO': ['mean', 'min', 'max' , 'count']})"
      ],
      "execution_count": 37,
      "outputs": []
    },
    {
      "cell_type": "code",
      "metadata": {
        "colab": {
          "base_uri": "https://localhost:8080/",
          "height": 739
        },
        "id": "8bqzsB_nWzjb",
        "outputId": "f3156018-668d-47fc-a217-bba6d3fe0c4d"
      },
      "source": [
        "result_programming_language_work_role.sort_values(by=[('salary_monthly_NETO' , 'mean') , ('salary_monthly_NETO' , 'count')  ],ascending = False)[:20]"
      ],
      "execution_count": 38,
      "outputs": [
        {
          "output_type": "execute_result",
          "data": {
            "text/html": [
              "<div>\n",
              "<style scoped>\n",
              "    .dataframe tbody tr th:only-of-type {\n",
              "        vertical-align: middle;\n",
              "    }\n",
              "\n",
              "    .dataframe tbody tr th {\n",
              "        vertical-align: top;\n",
              "    }\n",
              "\n",
              "    .dataframe thead tr th {\n",
              "        text-align: left;\n",
              "    }\n",
              "\n",
              "    .dataframe thead tr:last-of-type th {\n",
              "        text-align: right;\n",
              "    }\n",
              "</style>\n",
              "<table border=\"1\" class=\"dataframe\">\n",
              "  <thead>\n",
              "    <tr>\n",
              "      <th></th>\n",
              "      <th></th>\n",
              "      <th colspan=\"4\" halign=\"left\">salary_monthly_NETO</th>\n",
              "    </tr>\n",
              "    <tr>\n",
              "      <th></th>\n",
              "      <th></th>\n",
              "      <th>mean</th>\n",
              "      <th>min</th>\n",
              "      <th>max</th>\n",
              "      <th>count</th>\n",
              "    </tr>\n",
              "    <tr>\n",
              "      <th>programming_language</th>\n",
              "      <th>work_role</th>\n",
              "      <th></th>\n",
              "      <th></th>\n",
              "      <th></th>\n",
              "      <th></th>\n",
              "    </tr>\n",
              "  </thead>\n",
              "  <tbody>\n",
              "    <tr>\n",
              "      <th>css</th>\n",
              "      <th>Software engeniering</th>\n",
              "      <td>850000.000000</td>\n",
              "      <td>850000.0</td>\n",
              "      <td>850000.0</td>\n",
              "      <td>1</td>\n",
              "    </tr>\n",
              "    <tr>\n",
              "      <th>html</th>\n",
              "      <th>Software engeniering</th>\n",
              "      <td>850000.000000</td>\n",
              "      <td>850000.0</td>\n",
              "      <td>850000.0</td>\n",
              "      <td>1</td>\n",
              "    </tr>\n",
              "    <tr>\n",
              "      <th>javascript</th>\n",
              "      <th>Software engeniering</th>\n",
              "      <td>850000.000000</td>\n",
              "      <td>850000.0</td>\n",
              "      <td>850000.0</td>\n",
              "      <td>1</td>\n",
              "    </tr>\n",
              "    <tr>\n",
              "      <th>ruby</th>\n",
              "      <th>Software engeniering</th>\n",
              "      <td>850000.000000</td>\n",
              "      <td>850000.0</td>\n",
              "      <td>850000.0</td>\n",
              "      <td>1</td>\n",
              "    </tr>\n",
              "    <tr>\n",
              "      <th>sql</th>\n",
              "      <th>Software engeniering</th>\n",
              "      <td>850000.000000</td>\n",
              "      <td>850000.0</td>\n",
              "      <td>850000.0</td>\n",
              "      <td>1</td>\n",
              "    </tr>\n",
              "    <tr>\n",
              "      <th>typescript</th>\n",
              "      <th>Software engeniering</th>\n",
              "      <td>850000.000000</td>\n",
              "      <td>850000.0</td>\n",
              "      <td>850000.0</td>\n",
              "      <td>1</td>\n",
              "    </tr>\n",
              "    <tr>\n",
              "      <th>html</th>\n",
              "      <th>Manager</th>\n",
              "      <td>800000.000000</td>\n",
              "      <td>800000.0</td>\n",
              "      <td>800000.0</td>\n",
              "      <td>1</td>\n",
              "    </tr>\n",
              "    <tr>\n",
              "      <th>php</th>\n",
              "      <th>Manager</th>\n",
              "      <td>800000.000000</td>\n",
              "      <td>800000.0</td>\n",
              "      <td>800000.0</td>\n",
              "      <td>1</td>\n",
              "    </tr>\n",
              "    <tr>\n",
              "      <th>elm</th>\n",
              "      <th>Developer</th>\n",
              "      <td>690000.000000</td>\n",
              "      <td>690000.0</td>\n",
              "      <td>690000.0</td>\n",
              "      <td>1</td>\n",
              "    </tr>\n",
              "    <tr>\n",
              "      <th>haskell</th>\n",
              "      <th>Developer</th>\n",
              "      <td>690000.000000</td>\n",
              "      <td>690000.0</td>\n",
              "      <td>690000.0</td>\n",
              "      <td>1</td>\n",
              "    </tr>\n",
              "    <tr>\n",
              "      <th>bash/shell</th>\n",
              "      <th>Product Manager</th>\n",
              "      <td>493000.000000</td>\n",
              "      <td>86000.0</td>\n",
              "      <td>900000.0</td>\n",
              "      <td>2</td>\n",
              "    </tr>\n",
              "    <tr>\n",
              "      <th>c</th>\n",
              "      <th>Product Manager</th>\n",
              "      <td>490000.000000</td>\n",
              "      <td>80000.0</td>\n",
              "      <td>900000.0</td>\n",
              "      <td>2</td>\n",
              "    </tr>\n",
              "    <tr>\n",
              "      <th>scala</th>\n",
              "      <th>VP / C-Level</th>\n",
              "      <td>488106.666667</td>\n",
              "      <td>200000.0</td>\n",
              "      <td>964320.0</td>\n",
              "      <td>3</td>\n",
              "    </tr>\n",
              "    <tr>\n",
              "      <th>hcl</th>\n",
              "      <th>SysAdmin / DevOps / SRE</th>\n",
              "      <td>480000.000000</td>\n",
              "      <td>480000.0</td>\n",
              "      <td>480000.0</td>\n",
              "      <td>1</td>\n",
              "    </tr>\n",
              "    <tr>\n",
              "      <th>smalltalk</th>\n",
              "      <th>SysAdmin / DevOps / SRE</th>\n",
              "      <td>477500.000000</td>\n",
              "      <td>85000.0</td>\n",
              "      <td>870000.0</td>\n",
              "      <td>2</td>\n",
              "    </tr>\n",
              "    <tr>\n",
              "      <th>elixir</th>\n",
              "      <th>VP / C-Level</th>\n",
              "      <td>450000.000000</td>\n",
              "      <td>450000.0</td>\n",
              "      <td>450000.0</td>\n",
              "      <td>1</td>\n",
              "    </tr>\n",
              "    <tr>\n",
              "      <th>perl</th>\n",
              "      <th>VP / C-Level</th>\n",
              "      <td>400000.000000</td>\n",
              "      <td>300000.0</td>\n",
              "      <td>500000.0</td>\n",
              "      <td>2</td>\n",
              "    </tr>\n",
              "    <tr>\n",
              "      <th>hcl</th>\n",
              "      <th>Manager / Director</th>\n",
              "      <td>348585.000000</td>\n",
              "      <td>348585.0</td>\n",
              "      <td>348585.0</td>\n",
              "      <td>1</td>\n",
              "    </tr>\n",
              "    <tr>\n",
              "      <th>c</th>\n",
              "      <th>VP / C-Level</th>\n",
              "      <td>345420.000000</td>\n",
              "      <td>345420.0</td>\n",
              "      <td>345420.0</td>\n",
              "      <td>1</td>\n",
              "    </tr>\n",
              "    <tr>\n",
              "      <th>python</th>\n",
              "      <th>VP / C-Level</th>\n",
              "      <td>340978.333333</td>\n",
              "      <td>125000.0</td>\n",
              "      <td>964320.0</td>\n",
              "      <td>12</td>\n",
              "    </tr>\n",
              "  </tbody>\n",
              "</table>\n",
              "</div>"
            ],
            "text/plain": [
              "                                             salary_monthly_NETO  ...      \n",
              "                                                            mean  ... count\n",
              "programming_language work_role                                    ...      \n",
              "css                  Software engeniering          850000.000000  ...     1\n",
              "html                 Software engeniering          850000.000000  ...     1\n",
              "javascript           Software engeniering          850000.000000  ...     1\n",
              "ruby                 Software engeniering          850000.000000  ...     1\n",
              "sql                  Software engeniering          850000.000000  ...     1\n",
              "typescript           Software engeniering          850000.000000  ...     1\n",
              "html                 Manager                       800000.000000  ...     1\n",
              "php                  Manager                       800000.000000  ...     1\n",
              "elm                  Developer                     690000.000000  ...     1\n",
              "haskell              Developer                     690000.000000  ...     1\n",
              "bash/shell           Product Manager               493000.000000  ...     2\n",
              "c                    Product Manager               490000.000000  ...     2\n",
              "scala                VP / C-Level                  488106.666667  ...     3\n",
              "hcl                  SysAdmin / DevOps / SRE       480000.000000  ...     1\n",
              "smalltalk            SysAdmin / DevOps / SRE       477500.000000  ...     2\n",
              "elixir               VP / C-Level                  450000.000000  ...     1\n",
              "perl                 VP / C-Level                  400000.000000  ...     2\n",
              "hcl                  Manager / Director            348585.000000  ...     1\n",
              "c                    VP / C-Level                  345420.000000  ...     1\n",
              "python               VP / C-Level                  340978.333333  ...    12\n",
              "\n",
              "[20 rows x 4 columns]"
            ]
          },
          "metadata": {
            "tags": []
          },
          "execution_count": 38
        }
      ]
    },
    {
      "cell_type": "code",
      "metadata": {
        "colab": {
          "base_uri": "https://localhost:8080/",
          "height": 739
        },
        "id": "BHe0esp8Wzjb",
        "outputId": "51473dec-b785-42bc-f3b9-10f6edc40629"
      },
      "source": [
        "result.sort_values(by=[('salary_monthly_NETO' , 'mean') , ('salary_monthly_NETO' , 'count')  ],ascending = False)[:20]"
      ],
      "execution_count": 39,
      "outputs": [
        {
          "output_type": "execute_result",
          "data": {
            "text/html": [
              "<div>\n",
              "<style scoped>\n",
              "    .dataframe tbody tr th:only-of-type {\n",
              "        vertical-align: middle;\n",
              "    }\n",
              "\n",
              "    .dataframe tbody tr th {\n",
              "        vertical-align: top;\n",
              "    }\n",
              "\n",
              "    .dataframe thead tr th {\n",
              "        text-align: left;\n",
              "    }\n",
              "\n",
              "    .dataframe thead tr:last-of-type th {\n",
              "        text-align: right;\n",
              "    }\n",
              "</style>\n",
              "<table border=\"1\" class=\"dataframe\">\n",
              "  <thead>\n",
              "    <tr>\n",
              "      <th></th>\n",
              "      <th colspan=\"4\" halign=\"left\">salary_monthly_NETO</th>\n",
              "    </tr>\n",
              "    <tr>\n",
              "      <th></th>\n",
              "      <th>mean</th>\n",
              "      <th>min</th>\n",
              "      <th>max</th>\n",
              "      <th>count</th>\n",
              "    </tr>\n",
              "    <tr>\n",
              "      <th>programming_language</th>\n",
              "      <th></th>\n",
              "      <th></th>\n",
              "      <th></th>\n",
              "      <th></th>\n",
              "    </tr>\n",
              "  </thead>\n",
              "  <tbody>\n",
              "    <tr>\n",
              "      <th>elm</th>\n",
              "      <td>690000.000000</td>\n",
              "      <td>690000.000</td>\n",
              "      <td>690000.0</td>\n",
              "      <td>1</td>\n",
              "    </tr>\n",
              "    <tr>\n",
              "      <th>haskell</th>\n",
              "      <td>690000.000000</td>\n",
              "      <td>690000.000</td>\n",
              "      <td>690000.0</td>\n",
              "      <td>1</td>\n",
              "    </tr>\n",
              "    <tr>\n",
              "      <th>hcl</th>\n",
              "      <td>414292.500000</td>\n",
              "      <td>348585.000</td>\n",
              "      <td>480000.0</td>\n",
              "      <td>2</td>\n",
              "    </tr>\n",
              "    <tr>\n",
              "      <th>nim</th>\n",
              "      <td>277000.000000</td>\n",
              "      <td>277000.000</td>\n",
              "      <td>277000.0</td>\n",
              "      <td>1</td>\n",
              "    </tr>\n",
              "    <tr>\n",
              "      <th>cliente</th>\n",
              "      <td>215000.000000</td>\n",
              "      <td>215000.000</td>\n",
              "      <td>215000.0</td>\n",
              "      <td>1</td>\n",
              "    </tr>\n",
              "    <tr>\n",
              "      <th>del</th>\n",
              "      <td>215000.000000</td>\n",
              "      <td>215000.000</td>\n",
              "      <td>215000.0</td>\n",
              "      <td>1</td>\n",
              "    </tr>\n",
              "    <tr>\n",
              "      <th>plataforma</th>\n",
              "      <td>215000.000000</td>\n",
              "      <td>215000.000</td>\n",
              "      <td>215000.0</td>\n",
              "      <td>1</td>\n",
              "    </tr>\n",
              "    <tr>\n",
              "      <th>react</th>\n",
              "      <td>200000.000000</td>\n",
              "      <td>200000.000</td>\n",
              "      <td>200000.0</td>\n",
              "      <td>1</td>\n",
              "    </tr>\n",
              "    <tr>\n",
              "      <th>elixir</th>\n",
              "      <td>193226.875000</td>\n",
              "      <td>48000.000</td>\n",
              "      <td>450000.0</td>\n",
              "      <td>8</td>\n",
              "    </tr>\n",
              "    <tr>\n",
              "      <th>terraform</th>\n",
              "      <td>186750.000000</td>\n",
              "      <td>72000.000</td>\n",
              "      <td>480000.0</td>\n",
              "      <td>4</td>\n",
              "    </tr>\n",
              "    <tr>\n",
              "      <th>scala</th>\n",
              "      <td>165968.641027</td>\n",
              "      <td>60.000</td>\n",
              "      <td>1000000.0</td>\n",
              "      <td>111</td>\n",
              "    </tr>\n",
              "    <tr>\n",
              "      <th>ruby</th>\n",
              "      <td>162600.003444</td>\n",
              "      <td>27.342</td>\n",
              "      <td>2080000.0</td>\n",
              "      <td>144</td>\n",
              "    </tr>\n",
              "    <tr>\n",
              "      <th>smalltalk</th>\n",
              "      <td>155238.611111</td>\n",
              "      <td>95.000</td>\n",
              "      <td>870000.0</td>\n",
              "      <td>18</td>\n",
              "    </tr>\n",
              "    <tr>\n",
              "      <th>mongodb</th>\n",
              "      <td>150000.000000</td>\n",
              "      <td>150000.000</td>\n",
              "      <td>150000.0</td>\n",
              "      <td>1</td>\n",
              "    </tr>\n",
              "    <tr>\n",
              "      <th>recruiter</th>\n",
              "      <td>150000.000000</td>\n",
              "      <td>150000.000</td>\n",
              "      <td>150000.0</td>\n",
              "      <td>1</td>\n",
              "    </tr>\n",
              "    <tr>\n",
              "      <th>rexx</th>\n",
              "      <td>150000.000000</td>\n",
              "      <td>150000.000</td>\n",
              "      <td>150000.0</td>\n",
              "      <td>1</td>\n",
              "    </tr>\n",
              "    <tr>\n",
              "      <th>soy</th>\n",
              "      <td>150000.000000</td>\n",
              "      <td>150000.000</td>\n",
              "      <td>150000.0</td>\n",
              "      <td>1</td>\n",
              "    </tr>\n",
              "    <tr>\n",
              "      <th>verilog</th>\n",
              "      <td>150000.000000</td>\n",
              "      <td>150000.000</td>\n",
              "      <td>150000.0</td>\n",
              "      <td>1</td>\n",
              "    </tr>\n",
              "    <tr>\n",
              "      <th>rust</th>\n",
              "      <td>149211.845750</td>\n",
              "      <td>48.972</td>\n",
              "      <td>265000.0</td>\n",
              "      <td>16</td>\n",
              "    </tr>\n",
              "    <tr>\n",
              "      <th>go</th>\n",
              "      <td>140309.642509</td>\n",
              "      <td>34.030</td>\n",
              "      <td>1600000.0</td>\n",
              "      <td>291</td>\n",
              "    </tr>\n",
              "  </tbody>\n",
              "</table>\n",
              "</div>"
            ],
            "text/plain": [
              "                     salary_monthly_NETO                             \n",
              "                                    mean         min        max count\n",
              "programming_language                                                 \n",
              "elm                        690000.000000  690000.000   690000.0     1\n",
              "haskell                    690000.000000  690000.000   690000.0     1\n",
              "hcl                        414292.500000  348585.000   480000.0     2\n",
              "nim                        277000.000000  277000.000   277000.0     1\n",
              "cliente                    215000.000000  215000.000   215000.0     1\n",
              "del                        215000.000000  215000.000   215000.0     1\n",
              "plataforma                 215000.000000  215000.000   215000.0     1\n",
              "react                      200000.000000  200000.000   200000.0     1\n",
              "elixir                     193226.875000   48000.000   450000.0     8\n",
              "terraform                  186750.000000   72000.000   480000.0     4\n",
              "scala                      165968.641027      60.000  1000000.0   111\n",
              "ruby                       162600.003444      27.342  2080000.0   144\n",
              "smalltalk                  155238.611111      95.000   870000.0    18\n",
              "mongodb                    150000.000000  150000.000   150000.0     1\n",
              "recruiter                  150000.000000  150000.000   150000.0     1\n",
              "rexx                       150000.000000  150000.000   150000.0     1\n",
              "soy                        150000.000000  150000.000   150000.0     1\n",
              "verilog                    150000.000000  150000.000   150000.0     1\n",
              "rust                       149211.845750      48.972   265000.0    16\n",
              "go                         140309.642509      34.030  1600000.0   291"
            ]
          },
          "metadata": {
            "tags": []
          },
          "execution_count": 39
        }
      ]
    },
    {
      "cell_type": "code",
      "metadata": {
        "colab": {
          "base_uri": "https://localhost:8080/"
        },
        "id": "SLjIqAV_Wzjc",
        "outputId": "ad4e0434-8633-4597-a881-9f3c59774e0b"
      },
      "source": [
        "df_lang.programming_language.value_counts()"
      ],
      "execution_count": 40,
      "outputs": [
        {
          "output_type": "execute_result",
          "data": {
            "text/plain": [
              "javascript    2513\n",
              "sql           2154\n",
              "html          1861\n",
              "python        1475\n",
              "java          1453\n",
              "              ... \n",
              "usar             1\n",
              "arduino          1\n",
              "dell             1\n",
              "acl              1\n",
              "appeon           1\n",
              "Name: programming_language, Length: 205, dtype: int64"
            ]
          },
          "metadata": {
            "tags": []
          },
          "execution_count": 40
        }
      ]
    },
    {
      "cell_type": "code",
      "metadata": {
        "colab": {
          "base_uri": "https://localhost:8080/"
        },
        "id": "g7zl6yS6Wzjc",
        "outputId": "b1d94c2c-d8b9-4abd-891c-8213fe3a631b"
      },
      "source": [
        "df_lang.work_role.unique()"
      ],
      "execution_count": 41,
      "outputs": [
        {
          "output_type": "execute_result",
          "data": {
            "text/plain": [
              "array(['Consultant', 'Developer', 'Infosec', 'SysAdmin / DevOps / SRE',\n",
              "       'Manager / Director', 'Technical Leader',\n",
              "       'Data Scientist / Data Engineer', 'DBA', 'Project Manager',\n",
              "       'Business Analyst', 'QA / Tester', 'Architect', 'Product Manager',\n",
              "       'Designer', 'BI Analyst / Data Analyst', 'Middleware',\n",
              "       'VP / C-Level', 'Storage / Backup', 'Networking', 'HelpDesk', 'UX',\n",
              "       'Ux User Research Analyst', 'Jefe de infraestructura ',\n",
              "       'Scrum Master', 'Sales / Pre-Sales', 'Team leader',\n",
              "       'Microinformatica', 'Technical Writer',\n",
              "       'Implementadora de software ', 'Desarrollador BI',\n",
              "       'Martech Specialist', 'Software Configuration Management',\n",
              "       'Maquetador/Diseño UI', 'Service manager', 'Release Manager',\n",
              "       'Access Management Analyst', 'DevOps Cloud Engineer',\n",
              "       'Soporte e Infraestructura', 'Recruiter / HR', 'tecnico',\n",
              "       'Finance', 'Data Visualization', 'Implementador de Software',\n",
              "       'back end', 'Software Engineer', 'NLP', 'Presales architect',\n",
              "       'NOC', 'QA automation Technical Leader', 'SOC', 'Account manager',\n",
              "       'Telecomunicaciones', 'Cto',\n",
              "       'Instalación, puesta en marcha y servicio técnico de equipos electrónicos en la industria naval.',\n",
              "       'Networking / SysAdmin', 'Responsable BI', 'Data Quality Analyst',\n",
              "       'Technical Owner', 'DevOps', 'Analista Programador', 'Tecnico',\n",
              "       'soporte it', 'Fullstack', 'Frontend dev Jr ', 'Soporte Tecnico',\n",
              "       'Head of Engineering', 'Coordinadora proyectos educativos tech',\n",
              "       'Infrastructure Administrator', 'VERIFICADOR DE CUENTAS',\n",
              "       'Analista técnico funcional/arquitecta', 'Technical support',\n",
              "       'Integration Engineer',\n",
              "       'trabajo como desarrollador back, pero también tengo que estar haciendo de analista , DBA, dev frontend y a veces de helpdesk',\n",
              "       'devops', 'BRM', 'coordinador de soporte', 'Implementador IAM',\n",
              "       'Arquitecto de Seguridad', 'Business Partner IT',\n",
              "       'Lead Product Artist', 'IT Leader',\n",
              "       'Help Desk/software architect/developer', 'Account manager ',\n",
              "       'Analista Funcional', 'Gerente Operativo de Seguridad Informatica',\n",
              "       'Secretaria', 'Server admin', 'Asistente Direccion',\n",
              "       'openstack SME', 'Blockchain Team', 'generalista',\n",
              "       'Administrador de sistemas', 'Comunicación', 'Production support',\n",
              "       'Hombre orquesta', 'Customer service',\n",
              "       'Frond-end coder / UI Designer', 'SOPORTE DE APP', 'frontend',\n",
              "       'Customer Advocate', 'Area de educacion', 'UI',\n",
              "       'Analista de producto digital', 'Administrador Wintel',\n",
              "       'Fashion Account Manager', 'Investigador',\n",
              "       'Programo y lidero al mismo tiempo', 'Mobile Engineer',\n",
              "       'Technical Account Manager',\n",
              "       'Un poco de todo, web, programación, Diseño, email marketing y redes 🤷🏻\\u200d♂️',\n",
              "       'Principal Engineer', 'UI / UX Designer', 'full developer',\n",
              "       'Program Manager', 'Jefe de Sistemas / CIO / CTO',\n",
              "       'Onsite Support', 'Product Owner', 'Security Researcher',\n",
              "       'Product Designer', 'Cloud Engineer', 'Team Lead',\n",
              "       'Technical Support (Level 2)', 'Analista programador',\n",
              "       'Lider de Proyecto', 'Marketing Team Lead', 'Growth ',\n",
              "       'IT Responsible', 'front-end dev',\n",
              "       'Subject Matter Expert (simil a director pero sin el management)',\n",
              "       'Analista Técnico Funcional', 'IT', 'Community Manager y Analista',\n",
              "       'QA Lead', 'Tecnico instalador ', 'Functional Analyst',\n",
              "       'Reasercher', 'System Engineer', 'AV Technical Leader - Support',\n",
              "       'Technical Lead Devops', 'SAP BASIS',\n",
              "       'Dewigb + sales +customer care', 'Application Analyst',\n",
              "       'Software Development Coordinator', 'Principal Software Engineer',\n",
              "       'servicio técnico', 'Maquetador', 'Técnico en automatización',\n",
              "       'Responsable de Marketing y Diseño', 'Analista de sistemas',\n",
              "       'Software engeniering', 'Implementador de software y dba',\n",
              "       'Analista de Monitoreo', 'Maxirest', 'Machine Learning Engineer',\n",
              "       'full stack developer y growth hacker', 'Field Support',\n",
              "       'Analista Tecnico', 'CTO',\n",
              "       'Gestora Particular y Data analyst, Administrativa',\n",
              "       'Project leader', 'Cibersecurity & Compliance Engineer',\n",
              "       'Security ', 'DevSecOps', 'Developer QA - Ambos roles',\n",
              "       'Administrativo', 'Jefe de desarrollo', 'Software engineer',\n",
              "       'Firmware Developer', 'R&D Engineer',\n",
              "       'Software Developer- computer vision full stack', 'QA Automation',\n",
              "       'Service Management IT GRC', 'Senior software Developer',\n",
              "       'Sysadmin', 'Auditoría', 'application support',\n",
              "       'Technical Support Analyst', 'Analista funcional ',\n",
              "       'Gerente de Sistemas', 'Security Admin', 'Jefe HR', 'Data QA',\n",
              "       'Resiliencia', 'Informatica forense', 'Project Lead',\n",
              "       'PLC, HMI y Scada', 'Técnico, armador, reparador',\n",
              "       'Consultor de sistemas ', 'Project Leader', 'Teaching', 'Mobile ',\n",
              "       'Principal of Engineering', 'Becario', 'Internal Auditor',\n",
              "       'Infrastructure Specialist', 'Data Visualization Engineer', 'RPA',\n",
              "       'Network Architect', 'Operador Datacenter', 'Seguridad IT',\n",
              "       'Seguridad',\n",
              "       'Founder/CEO/Developer/Designer/Product Manager... TODO',\n",
              "       'Digital Transformation Manager + KAM VIP',\n",
              "       'operario de kits de biomedicina', 'seguridad',\n",
              "       'Encargado tecnico', 'Manager', 'servicios', 'Gerente de sistemas',\n",
              "       'Analista funcional', 'Project Analyst', 'Job streaming',\n",
              "       'Auditor', 'Mnt', 'Soporte de aplicaciones niv 1, 2 y 3',\n",
              "       'Job Streamer', 'Soporte Técnico', 'Analista',\n",
              "       'Production support ', 'Game developer', 'Devops',\n",
              "       'Analista de arquitectura y ciberseguridad', 'Hardware Engineer',\n",
              "       'Técnico de Desktop', 'Soporte tecnico, redes y programación',\n",
              "       'Coordinador helpdesk', 'Soporte tecnico', 'Funcional',\n",
              "       'system engineer', 'todos los de arriba', 'Help Desk', 'Pasante',\n",
              "       'Soporte / Mantenimiento',\n",
              "       'Dirección General de informática y Telecomunicaciones',\n",
              "       'Seguridad informática ', 'Helpdesk sysadmin networking', 'Other',\n",
              "       'Repartidor, Construcción y atendedor', 'Engineer', 'full stack',\n",
              "       'Sap', 'Front end',\n",
              "       'Varias opciones: data scientist, project manager, sysadmin.',\n",
              "       'Implementador', 'comunicación, redes sociales, otros',\n",
              "       'Soporte técnico. Redes. ', 'Analista/desarrollador',\n",
              "       'analista programafor', 'Networking, Storage / Backup, SysAdmin',\n",
              "       'Trading', 'Security researcher',\n",
              "       'Infraestructura, Networking, SysAdmin, DBManager', 'Admin',\n",
              "       'Application Support', 'It, desarrollo, sysadmin', 'Automation',\n",
              "       'Desarrollador  / Líder Técnico / Analista Técnico Funcional'],\n",
              "      dtype=object)"
            ]
          },
          "metadata": {
            "tags": []
          },
          "execution_count": 41
        }
      ]
    },
    {
      "cell_type": "code",
      "metadata": {
        "colab": {
          "base_uri": "https://localhost:8080/",
          "height": 708
        },
        "id": "qb2TjloPWzjc",
        "outputId": "f4106f0c-042e-4a3b-e2e5-63c5a3c01f1e"
      },
      "source": [
        "df_lang.groupby(['work_role'])[[ 'salary_monthly_NETO'  ]].mean().sort_values(by=['salary_monthly_NETO'],ascending = False)[:20]"
      ],
      "execution_count": 42,
      "outputs": [
        {
          "output_type": "execute_result",
          "data": {
            "text/html": [
              "<div>\n",
              "<style scoped>\n",
              "    .dataframe tbody tr th:only-of-type {\n",
              "        vertical-align: middle;\n",
              "    }\n",
              "\n",
              "    .dataframe tbody tr th {\n",
              "        vertical-align: top;\n",
              "    }\n",
              "\n",
              "    .dataframe thead th {\n",
              "        text-align: right;\n",
              "    }\n",
              "</style>\n",
              "<table border=\"1\" class=\"dataframe\">\n",
              "  <thead>\n",
              "    <tr style=\"text-align: right;\">\n",
              "      <th></th>\n",
              "      <th>salary_monthly_NETO</th>\n",
              "    </tr>\n",
              "    <tr>\n",
              "      <th>work_role</th>\n",
              "      <th></th>\n",
              "    </tr>\n",
              "  </thead>\n",
              "  <tbody>\n",
              "    <tr>\n",
              "      <th>Software engeniering</th>\n",
              "      <td>850000.000000</td>\n",
              "    </tr>\n",
              "    <tr>\n",
              "      <th>Manager</th>\n",
              "      <td>800000.000000</td>\n",
              "    </tr>\n",
              "    <tr>\n",
              "      <th>Principal of Engineering</th>\n",
              "      <td>324075.000000</td>\n",
              "    </tr>\n",
              "    <tr>\n",
              "      <th>Technical Lead Devops</th>\n",
              "      <td>320000.000000</td>\n",
              "    </tr>\n",
              "    <tr>\n",
              "      <th>Head of Engineering</th>\n",
              "      <td>260000.000000</td>\n",
              "    </tr>\n",
              "    <tr>\n",
              "      <th>Founder/CEO/Developer/Designer/Product Manager... TODO</th>\n",
              "      <td>257000.000000</td>\n",
              "    </tr>\n",
              "    <tr>\n",
              "      <th>VP / C-Level</th>\n",
              "      <td>253477.919708</td>\n",
              "    </tr>\n",
              "    <tr>\n",
              "      <th>Subject Matter Expert (simil a director pero sin el management)</th>\n",
              "      <td>230000.000000</td>\n",
              "    </tr>\n",
              "    <tr>\n",
              "      <th>Program Manager</th>\n",
              "      <td>230000.000000</td>\n",
              "    </tr>\n",
              "    <tr>\n",
              "      <th>Principal Software Engineer</th>\n",
              "      <td>215000.000000</td>\n",
              "    </tr>\n",
              "    <tr>\n",
              "      <th>Release Manager</th>\n",
              "      <td>210000.000000</td>\n",
              "    </tr>\n",
              "    <tr>\n",
              "      <th>Principal Engineer</th>\n",
              "      <td>200000.000000</td>\n",
              "    </tr>\n",
              "    <tr>\n",
              "      <th>Machine Learning Engineer</th>\n",
              "      <td>199000.000000</td>\n",
              "    </tr>\n",
              "    <tr>\n",
              "      <th>DevOps</th>\n",
              "      <td>192000.000000</td>\n",
              "    </tr>\n",
              "    <tr>\n",
              "      <th>Jefe de desarrollo</th>\n",
              "      <td>185000.000000</td>\n",
              "    </tr>\n",
              "    <tr>\n",
              "      <th>Product Manager</th>\n",
              "      <td>183736.663158</td>\n",
              "    </tr>\n",
              "    <tr>\n",
              "      <th>Data Visualization Engineer</th>\n",
              "      <td>175000.000000</td>\n",
              "    </tr>\n",
              "    <tr>\n",
              "      <th>Data Visualization</th>\n",
              "      <td>165000.000000</td>\n",
              "    </tr>\n",
              "    <tr>\n",
              "      <th>Network Architect</th>\n",
              "      <td>162000.000000</td>\n",
              "    </tr>\n",
              "    <tr>\n",
              "      <th>servicios</th>\n",
              "      <td>160000.000000</td>\n",
              "    </tr>\n",
              "  </tbody>\n",
              "</table>\n",
              "</div>"
            ],
            "text/plain": [
              "                                                    salary_monthly_NETO\n",
              "work_role                                                              \n",
              "Software engeniering                                      850000.000000\n",
              "Manager                                                   800000.000000\n",
              "Principal of Engineering                                  324075.000000\n",
              "Technical Lead Devops                                     320000.000000\n",
              "Head of Engineering                                       260000.000000\n",
              "Founder/CEO/Developer/Designer/Product Manager....        257000.000000\n",
              "VP / C-Level                                              253477.919708\n",
              "Subject Matter Expert (simil a director pero si...        230000.000000\n",
              "Program Manager                                           230000.000000\n",
              "Principal Software Engineer                               215000.000000\n",
              "Release Manager                                           210000.000000\n",
              "Principal Engineer                                        200000.000000\n",
              "Machine Learning Engineer                                 199000.000000\n",
              "DevOps                                                    192000.000000\n",
              "Jefe de desarrollo                                        185000.000000\n",
              "Product Manager                                           183736.663158\n",
              "Data Visualization Engineer                               175000.000000\n",
              "Data Visualization                                        165000.000000\n",
              "Network Architect                                         162000.000000\n",
              "servicios                                                 160000.000000"
            ]
          },
          "metadata": {
            "tags": []
          },
          "execution_count": 42
        }
      ]
    },
    {
      "cell_type": "code",
      "metadata": {
        "colab": {
          "base_uri": "https://localhost:8080/"
        },
        "id": "3wpR-VZFWzjd",
        "outputId": "44f9f12f-9667-43fb-fa8b-390415a6141a"
      },
      "source": [
        "df_age_cleaned.columns"
      ],
      "execution_count": 43,
      "outputs": [
        {
          "output_type": "execute_result",
          "data": {
            "text/plain": [
              "Index(['profile_gender', 'profile_age', 'work_country', 'work_province',\n",
              "       'profile_years_experience', 'work_years_in_company',\n",
              "       'work_years_in_current_position', 'work_people_in_charge_of',\n",
              "       'profile_studies_level', 'profile_studies_level_state',\n",
              "       'profile_career', 'profile_university',\n",
              "       'profile_specialization_courses', 'profile_open_source_contributions',\n",
              "       'profile_programming_as_hobby', 'work_role', 'tools_platform',\n",
              "       'tools_programming_languages', 'tools_frameworks', 'tools_data_bases',\n",
              "       'tools_qa_testing', 'tools_IDEs', 'tools_work_pc_os',\n",
              "       'tools_cellphone_os', 'work_on_call_duty', 'salary_on_call_duty_charge',\n",
              "       'work_on_call_duty_charge_type', 'work_contract_type',\n",
              "       'salary_monthly_BRUTO', 'salary_monthly_NETO', 'salary_in_usd',\n",
              "       'salary_satisfaction', 'salary_comparison_last_semester',\n",
              "       'salary_has_bonus', 'salary_bonus_tied_to',\n",
              "       'salary_inflation_adjustment_2020',\n",
              "       'salary_percentage_inflation_adjustment_2020',\n",
              "       'salary_month_last_inflation_adjustment',\n",
              "       'work_has_violence_situations', 'profile_sexual_orientation',\n",
              "       'profile_has_disabilities',\n",
              "       'profile_has_disabilities_hiring_difficulties',\n",
              "       'company_employee_number', 'company_main_activity',\n",
              "       'company_recommended', 'company_diversity_policies',\n",
              "       'company_extra_benefits', 'company_best_companies_city',\n",
              "       'cured_programming_languages'],\n",
              "      dtype='object')"
            ]
          },
          "metadata": {
            "tags": []
          },
          "execution_count": 43
        }
      ]
    },
    {
      "cell_type": "code",
      "metadata": {
        "colab": {
          "base_uri": "https://localhost:8080/",
          "height": 541
        },
        "id": "DlaPO-UKWzjd",
        "outputId": "4788598c-cdb1-4594-b6e9-0c95cd0564e7"
      },
      "source": [
        "fig, ax = plt.subplots()\n",
        "seaborn.distplot(df_lang.profile_age[df_lang.profile_age < 100], bins=25)\n",
        "ax.set_xlim(10,65)\n",
        "ax.set_xticks( range(15,65,5))"
      ],
      "execution_count": 44,
      "outputs": [
        {
          "output_type": "stream",
          "text": [
            "/usr/local/lib/python3.7/dist-packages/seaborn/distributions.py:2557: FutureWarning: `distplot` is a deprecated function and will be removed in a future version. Please adapt your code to use either `displot` (a figure-level function with similar flexibility) or `histplot` (an axes-level function for histograms).\n",
            "  warnings.warn(msg, FutureWarning)\n"
          ],
          "name": "stderr"
        },
        {
          "output_type": "execute_result",
          "data": {
            "text/plain": [
              "[<matplotlib.axis.XTick at 0x7f4104659b90>,\n",
              " <matplotlib.axis.XTick at 0x7f4104659a90>,\n",
              " <matplotlib.axis.XTick at 0x7f41045a1c50>,\n",
              " <matplotlib.axis.XTick at 0x7f41045412d0>,\n",
              " <matplotlib.axis.XTick at 0x7f41045418d0>,\n",
              " <matplotlib.axis.XTick at 0x7f4104659190>,\n",
              " <matplotlib.axis.XTick at 0x7f4104537450>,\n",
              " <matplotlib.axis.XTick at 0x7f4104548d10>,\n",
              " <matplotlib.axis.XTick at 0x7f4104548310>,\n",
              " <matplotlib.axis.XTick at 0x7f410456a210>]"
            ]
          },
          "metadata": {
            "tags": []
          },
          "execution_count": 44
        },
        {
          "output_type": "display_data",
          "data": {
            "image/png": "[encoded data removed]",
            "text/plain": [
              "<Figure size 432x288 with 1 Axes>"
            ]
          },
          "metadata": {
            "tags": [],
            "needs_background": "light"
          }
        }
      ]
    },
    {
      "cell_type": "code",
      "metadata": {
        "colab": {
          "base_uri": "https://localhost:8080/"
        },
        "id": "8hnigCx6Wzjd",
        "outputId": "6d844025-4e3c-4fc5-a475-906ef229cedc"
      },
      "source": [
        "df.salary_monthly_NETO[df.profile_age > 100]"
      ],
      "execution_count": 45,
      "outputs": [
        {
          "output_type": "execute_result",
          "data": {
            "text/plain": [
              "1659    100000.0\n",
              "5752     52000.0\n",
              "Name: salary_monthly_NETO, dtype: float64"
            ]
          },
          "metadata": {
            "tags": []
          },
          "execution_count": 45
        }
      ]
    },
    {
      "cell_type": "markdown",
      "metadata": {
        "id": "tWo8SmmC9FAk"
      },
      "source": [
        "# Ejercicio 2 - Densidades y varias varialbes\n",
        "\n",
        "Responder a la pregunta general: **¿Que herramientas (prácticas y teóricas) són útiles para explorar la base, descubrir patrones, asociaciones?**\n",
        "\n",
        "Para ello considere (igual al ejercicio Anterior):\n",
        "1. Seleccionar las columnas relevantes para analizar.\n",
        "2. Seleccionar las filas relevantes para analizar. Esto incluye la eliminación de valores extremos y erróneos, pero también puede enfocar el análisis en sub-poblaciones. "
      ]
    },
    {
      "cell_type": "markdown",
      "metadata": {
        "id": "5baYhH0XHM3S"
      },
      "source": [
        "## a) Densidad conjunta\n",
        "\n",
        "Que herramientas visuales y modelos puede utilizar para estudiar la distribución y comportamiento de sus datos? \n",
        "\n",
        "Elija tres variables numéricas y 2 variables categóricas. Visualice la base según varias de las variables elegidas. Puede describir de alguna forma el comportamiento de sus datos? Que herramientas utilizaría? Describa\n",
        "\n",
        "\n"
      ]
    },
    {
      "cell_type": "markdown",
      "metadata": {
        "id": "lkuHE2aZGHMO"
      },
      "source": [
        "## b) Asociación\n",
        "\n",
        "* Necesitamos decidir si sacar o no la columna de salario bruto. Para hacer la encuesta más simple.\n",
        "¿Existe una correlación entre el salario bruto y el neto? Que abordaje y medidas usaría\n",
        "\n"
      ]
    },
    {
      "cell_type": "markdown",
      "metadata": {
        "id": "7MZrbRJCm-ae"
      },
      "source": [
        "## c) Densidad condicional \n",
        "\n",
        "Estudie la distribución del salario según el nivel de estudio.\n",
        "\n",
        "Separe la población según el nivel de estudio (elija dos subpoblaciones numerosas) y grafique de manera comparativa ambos histogramas de la variable `'salary_monthly_NETO'`\n",
        "¿Considera que ambas variables son independientes?\n",
        "¿Qué analizaría al respecto?\n",
        "\n",
        "Calcule medidas de centralización y dispersión para cada subpoblación\n",
        "\n",
        "\n",
        "\n",
        "\n"
      ]
    },
    {
      "cell_type": "markdown",
      "metadata": {
        "id": "u8wgYxNiqVpE"
      },
      "source": [
        "## d) Densidad Conjunta condicional\n",
        "\n",
        "Elija dos variables numéricas y una categórica. \n",
        "Estudie la dispersión (scatterplot) de las dos variables discriminando en color por la variable categórica (ayuda: hue en seaborn)\n"
      ]
    }
  ]
}